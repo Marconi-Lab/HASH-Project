{
  "cells": [
    {
      "cell_type": "code",
      "execution_count": null,
      "metadata": {
        "id": "1MotevNau5PR",
        "colab": {
          "base_uri": "https://localhost:8080/"
        },
        "outputId": "7daec24d-7ba9-4822-ba0f-11b981315113"
      },
      "outputs": [
        {
          "output_type": "stream",
          "name": "stdout",
          "text": [
            "Mounted at /content/drive\n"
          ]
        }
      ],
      "source": [
        "# Mount Drive\n",
        "from google.colab import drive\n",
        "drive.mount('/content/drive')"
      ]
    },
    {
      "cell_type": "markdown",
      "metadata": {
        "id": "JxfCnYu7NeNn"
      },
      "source": [
        "## Preparing Requirements"
      ]
    },
    {
      "cell_type": "code",
      "execution_count": null,
      "metadata": {
        "id": "QuMr8CZqvDsz",
        "colab": {
          "base_uri": "https://localhost:8080/"
        },
        "outputId": "1e9db4ad-05d9-4efd-9011-e0bccd0bca31"
      },
      "outputs": [
        {
          "output_type": "stream",
          "name": "stdout",
          "text": [
            "Collecting wandb\n",
            "  Downloading wandb-0.15.5-py3-none-any.whl (2.1 MB)\n",
            "\u001b[2K     \u001b[90m━━━━━━━━━━━━━━━━━━━━━━━━━━━━━━━━━━━━━━━━\u001b[0m \u001b[32m2.1/2.1 MB\u001b[0m \u001b[31m53.7 MB/s\u001b[0m eta \u001b[36m0:00:00\u001b[0m\n",
            "\u001b[?25hRequirement already satisfied: Click!=8.0.0,>=7.1 in /usr/local/lib/python3.10/dist-packages (from wandb) (8.1.3)\n",
            "Collecting GitPython!=3.1.29,>=1.0.0 (from wandb)\n",
            "  Downloading GitPython-3.1.31-py3-none-any.whl (184 kB)\n",
            "\u001b[2K     \u001b[90m━━━━━━━━━━━━━━━━━━━━━━━━━━━━━━━━━━━━━━\u001b[0m \u001b[32m184.3/184.3 kB\u001b[0m \u001b[31m23.4 MB/s\u001b[0m eta \u001b[36m0:00:00\u001b[0m\n",
            "\u001b[?25hRequirement already satisfied: requests<3,>=2.0.0 in /usr/local/lib/python3.10/dist-packages (from wandb) (2.27.1)\n",
            "Requirement already satisfied: psutil>=5.0.0 in /usr/local/lib/python3.10/dist-packages (from wandb) (5.9.5)\n",
            "Collecting sentry-sdk>=1.0.0 (from wandb)\n",
            "  Downloading sentry_sdk-1.27.0-py2.py3-none-any.whl (211 kB)\n",
            "\u001b[2K     \u001b[90m━━━━━━━━━━━━━━━━━━━━━━━━━━━━━━━━━━━━━━\u001b[0m \u001b[32m211.3/211.3 kB\u001b[0m \u001b[31m25.2 MB/s\u001b[0m eta \u001b[36m0:00:00\u001b[0m\n",
            "\u001b[?25hCollecting docker-pycreds>=0.4.0 (from wandb)\n",
            "  Downloading docker_pycreds-0.4.0-py2.py3-none-any.whl (9.0 kB)\n",
            "Requirement already satisfied: PyYAML in /usr/local/lib/python3.10/dist-packages (from wandb) (6.0)\n",
            "Collecting pathtools (from wandb)\n",
            "  Downloading pathtools-0.1.2.tar.gz (11 kB)\n",
            "  Preparing metadata (setup.py) ... \u001b[?25l\u001b[?25hdone\n",
            "Collecting setproctitle (from wandb)\n",
            "  Downloading setproctitle-1.3.2-cp310-cp310-manylinux_2_5_x86_64.manylinux1_x86_64.manylinux_2_17_x86_64.manylinux2014_x86_64.whl (30 kB)\n",
            "Requirement already satisfied: setuptools in /usr/local/lib/python3.10/dist-packages (from wandb) (67.7.2)\n",
            "Requirement already satisfied: appdirs>=1.4.3 in /usr/local/lib/python3.10/dist-packages (from wandb) (1.4.4)\n",
            "Requirement already satisfied: protobuf!=4.21.0,<5,>=3.19.0 in /usr/local/lib/python3.10/dist-packages (from wandb) (3.20.3)\n",
            "Requirement already satisfied: six>=1.4.0 in /usr/local/lib/python3.10/dist-packages (from docker-pycreds>=0.4.0->wandb) (1.16.0)\n",
            "Collecting gitdb<5,>=4.0.1 (from GitPython!=3.1.29,>=1.0.0->wandb)\n",
            "  Downloading gitdb-4.0.10-py3-none-any.whl (62 kB)\n",
            "\u001b[2K     \u001b[90m━━━━━━━━━━━━━━━━━━━━━━━━━━━━━━━━━━━━━━━━\u001b[0m \u001b[32m62.7/62.7 kB\u001b[0m \u001b[31m8.8 MB/s\u001b[0m eta \u001b[36m0:00:00\u001b[0m\n",
            "\u001b[?25hRequirement already satisfied: urllib3<1.27,>=1.21.1 in /usr/local/lib/python3.10/dist-packages (from requests<3,>=2.0.0->wandb) (1.26.16)\n",
            "Requirement already satisfied: certifi>=2017.4.17 in /usr/local/lib/python3.10/dist-packages (from requests<3,>=2.0.0->wandb) (2023.5.7)\n",
            "Requirement already satisfied: charset-normalizer~=2.0.0 in /usr/local/lib/python3.10/dist-packages (from requests<3,>=2.0.0->wandb) (2.0.12)\n",
            "Requirement already satisfied: idna<4,>=2.5 in /usr/local/lib/python3.10/dist-packages (from requests<3,>=2.0.0->wandb) (3.4)\n",
            "Collecting smmap<6,>=3.0.1 (from gitdb<5,>=4.0.1->GitPython!=3.1.29,>=1.0.0->wandb)\n",
            "  Downloading smmap-5.0.0-py3-none-any.whl (24 kB)\n",
            "Building wheels for collected packages: pathtools\n",
            "  Building wheel for pathtools (setup.py) ... \u001b[?25l\u001b[?25hdone\n",
            "  Created wheel for pathtools: filename=pathtools-0.1.2-py3-none-any.whl size=8791 sha256=b67d1e957c361e90bcaee4eb2186ddd3a5b67d4580b458fc5d7a1201e424b82c\n",
            "  Stored in directory: /root/.cache/pip/wheels/e7/f3/22/152153d6eb222ee7a56ff8617d80ee5207207a8c00a7aab794\n",
            "Successfully built pathtools\n",
            "Installing collected packages: pathtools, smmap, setproctitle, sentry-sdk, docker-pycreds, gitdb, GitPython, wandb\n",
            "Successfully installed GitPython-3.1.31 docker-pycreds-0.4.0 gitdb-4.0.10 pathtools-0.1.2 sentry-sdk-1.27.0 setproctitle-1.3.2 smmap-5.0.0 wandb-0.15.5\n"
          ]
        }
      ],
      "source": [
        "!pip install wandb"
      ]
    },
    {
      "cell_type": "code",
      "execution_count": null,
      "metadata": {
        "colab": {
          "base_uri": "https://localhost:8080/"
        },
        "id": "1oALCUo3vDwS",
        "outputId": "e0fd1f0f-d381-401d-ce3b-fff3ad4e0905"
      },
      "outputs": [
        {
          "output_type": "stream",
          "name": "stdout",
          "text": [
            "Collecting split-folders[full]\n",
            "  Downloading split_folders-0.5.1-py3-none-any.whl (8.4 kB)\n",
            "Requirement already satisfied: tqdm in /usr/local/lib/python3.10/dist-packages (from split-folders[full]) (4.65.0)\n",
            "Installing collected packages: split-folders\n",
            "Successfully installed split-folders-0.5.1\n"
          ]
        }
      ],
      "source": [
        "!pip install split-folders[full]"
      ]
    },
    {
      "cell_type": "code",
      "execution_count": null,
      "metadata": {
        "colab": {
          "base_uri": "https://localhost:8080/"
        },
        "id": "75RhBUqDvD0a",
        "outputId": "87055467-0e6a-4da3-8d6e-698ba752d8b5"
      },
      "outputs": [
        {
          "output_type": "stream",
          "name": "stdout",
          "text": [
            "Collecting unzip\n",
            "  Downloading unzip-1.0.0.tar.gz (704 bytes)\n",
            "  Preparing metadata (setup.py) ... \u001b[?25l\u001b[?25hdone\n",
            "Building wheels for collected packages: unzip\n",
            "  Building wheel for unzip (setup.py) ... \u001b[?25l\u001b[?25hdone\n",
            "  Created wheel for unzip: filename=unzip-1.0.0-py3-none-any.whl size=1279 sha256=93e5d79123171dd43c30796715c0b6646533a74cc25956a20543d663199c30bb\n",
            "  Stored in directory: /root/.cache/pip/wheels/80/dc/7a/f8af45bc239e7933509183f038ea8d46f3610aab82b35369f4\n",
            "Successfully built unzip\n",
            "Installing collected packages: unzip\n",
            "Successfully installed unzip-1.0.0\n"
          ]
        }
      ],
      "source": [
        "!pip install unzip"
      ]
    },
    {
      "cell_type": "code",
      "source": [
        "!pip install codecarbon"
      ],
      "metadata": {
        "colab": {
          "base_uri": "https://localhost:8080/"
        },
        "id": "FAeR1auLFLzq",
        "outputId": "1f2b61c5-c986-4f0f-b1e3-88e637034843"
      },
      "execution_count": null,
      "outputs": [
        {
          "output_type": "stream",
          "name": "stdout",
          "text": [
            "Collecting codecarbon\n",
            "  Downloading codecarbon-2.2.4-py3-none-any.whl (176 kB)\n",
            "\u001b[2K     \u001b[90m━━━━━━━━━━━━━━━━━━━━━━━━━━━━━━━━━━━━━━\u001b[0m \u001b[32m176.0/176.0 kB\u001b[0m \u001b[31m10.4 MB/s\u001b[0m eta \u001b[36m0:00:00\u001b[0m\n",
            "\u001b[?25hCollecting arrow (from codecarbon)\n",
            "  Downloading arrow-1.2.3-py3-none-any.whl (66 kB)\n",
            "\u001b[2K     \u001b[90m━━━━━━━━━━━━━━━━━━━━━━━━━━━━━━━━━━━━━━━━\u001b[0m \u001b[32m66.4/66.4 kB\u001b[0m \u001b[31m8.4 MB/s\u001b[0m eta \u001b[36m0:00:00\u001b[0m\n",
            "\u001b[?25hRequirement already satisfied: pandas in /usr/local/lib/python3.10/dist-packages (from codecarbon) (1.5.3)\n",
            "Collecting pynvml (from codecarbon)\n",
            "  Downloading pynvml-11.5.0-py3-none-any.whl (53 kB)\n",
            "\u001b[2K     \u001b[90m━━━━━━━━━━━━━━━━━━━━━━━━━━━━━━━━━━━━━━━━\u001b[0m \u001b[32m53.1/53.1 kB\u001b[0m \u001b[31m7.6 MB/s\u001b[0m eta \u001b[36m0:00:00\u001b[0m\n",
            "\u001b[?25hRequirement already satisfied: requests in /usr/local/lib/python3.10/dist-packages (from codecarbon) (2.27.1)\n",
            "Requirement already satisfied: psutil in /usr/local/lib/python3.10/dist-packages (from codecarbon) (5.9.5)\n",
            "Requirement already satisfied: py-cpuinfo in /usr/local/lib/python3.10/dist-packages (from codecarbon) (9.0.0)\n",
            "Collecting fuzzywuzzy (from codecarbon)\n",
            "  Downloading fuzzywuzzy-0.18.0-py2.py3-none-any.whl (18 kB)\n",
            "Requirement already satisfied: click in /usr/local/lib/python3.10/dist-packages (from codecarbon) (8.1.3)\n",
            "Requirement already satisfied: python-dateutil>=2.7.0 in /usr/local/lib/python3.10/dist-packages (from arrow->codecarbon) (2.8.2)\n",
            "Requirement already satisfied: pytz>=2020.1 in /usr/local/lib/python3.10/dist-packages (from pandas->codecarbon) (2022.7.1)\n",
            "Requirement already satisfied: numpy>=1.21.0 in /usr/local/lib/python3.10/dist-packages (from pandas->codecarbon) (1.22.4)\n",
            "Requirement already satisfied: urllib3<1.27,>=1.21.1 in /usr/local/lib/python3.10/dist-packages (from requests->codecarbon) (1.26.16)\n",
            "Requirement already satisfied: certifi>=2017.4.17 in /usr/local/lib/python3.10/dist-packages (from requests->codecarbon) (2023.5.7)\n",
            "Requirement already satisfied: charset-normalizer~=2.0.0 in /usr/local/lib/python3.10/dist-packages (from requests->codecarbon) (2.0.12)\n",
            "Requirement already satisfied: idna<4,>=2.5 in /usr/local/lib/python3.10/dist-packages (from requests->codecarbon) (3.4)\n",
            "Requirement already satisfied: six>=1.5 in /usr/local/lib/python3.10/dist-packages (from python-dateutil>=2.7.0->arrow->codecarbon) (1.16.0)\n",
            "Installing collected packages: fuzzywuzzy, pynvml, arrow, codecarbon\n",
            "Successfully installed arrow-1.2.3 codecarbon-2.2.4 fuzzywuzzy-0.18.0 pynvml-11.5.0\n"
          ]
        }
      ]
    },
    {
      "cell_type": "code",
      "execution_count": null,
      "metadata": {
        "id": "Eh4gyqo-vD4R"
      },
      "outputs": [],
      "source": [
        "# Loading libraries\n",
        "import matplotlib.pyplot as plt\n",
        "from matplotlib.image import imread\n",
        "import matplotlib.cm as cm\n",
        "from IPython.display import Image, display\n",
        "\n",
        "import numpy as np\n",
        "import seaborn as sns\n",
        "import pandas as pd\n",
        "import random\n",
        "import splitfolders\n",
        "\n",
        "import os\n",
        "import cv2\n",
        "import PIL\n",
        "\n",
        "import tensorflow\n",
        "import datetime\n",
        "from keras import callbacks\n",
        "from keras.preprocessing.image import ImageDataGenerator\n",
        "from tensorflow.keras.applications.vgg16 import preprocess_input\n",
        "from tensorflow.keras.layers import Input, Conv2D, MaxPooling2D, BatchNormalization, Activation, Dense, Flatten, Dropout\n",
        "from tensorflow.keras.models import Sequential, Model, load_model\n",
        "from tensorflow.keras.optimizers import Adam\n",
        "from keras.callbacks import LearningRateScheduler\n",
        "\n",
        "from codecarbon import EmissionsTracker\n",
        "\n",
        "from sklearn.metrics import classification_report, confusion_matrix"
      ]
    },
    {
      "cell_type": "markdown",
      "metadata": {
        "id": "-GUxjHBlIBYV"
      },
      "source": [
        "## Loading Dataset"
      ]
    },
    {
      "cell_type": "code",
      "execution_count": null,
      "metadata": {
        "id": "is4LsWmlvVws"
      },
      "outputs": [],
      "source": [
        "# Copying data to Colab\n",
        "!unzip -q '/content/drive/MyDrive/US Project/Cleaned.zip'"
      ]
    },
    {
      "cell_type": "code",
      "execution_count": null,
      "metadata": {
        "colab": {
          "base_uri": "https://localhost:8080/"
        },
        "id": "SCvc47k_vzvQ",
        "outputId": "db87e959-44e1-42e3-f9bb-6008d93f2dcc"
      },
      "outputs": [
        {
          "output_type": "stream",
          "name": "stderr",
          "text": [
            "Copying files: 14414 files [01:02, 232.37 files/s]\n"
          ]
        }
      ],
      "source": [
        "# Splitting dataset into train, val and test set\n",
        "splitfolders.ratio('Cleaned',output='plane',seed=24,ratio=(0.8,0.1,0.1))"
      ]
    },
    {
      "cell_type": "code",
      "execution_count": null,
      "metadata": {
        "id": "OZPe58O5v4E8"
      },
      "outputs": [],
      "source": [
        "# File directories\n",
        "train_data_dir = 'plane/train'\n",
        "val_data_dir = 'plane/val'\n",
        "test_data_dir = 'plane/test'"
      ]
    },
    {
      "cell_type": "code",
      "execution_count": null,
      "metadata": {
        "id": "Mz1faXR9v-0v"
      },
      "outputs": [],
      "source": [
        "target_size = (224,224)\n",
        "input_shape = (224,224,3)\n",
        "learning_rate = 0.00001\n",
        "epochs = 20\n",
        "batch_size = 16\n",
        "dropout = 0.2"
      ]
    },
    {
      "cell_type": "code",
      "execution_count": null,
      "metadata": {
        "id": "XsgValPWAC0D"
      },
      "outputs": [],
      "source": [
        "# Creating image generator for augmentation of train set\n",
        "train_image_gen  = ImageDataGenerator(preprocessing_function=preprocess_input,\n",
        "                                      rotation_range=20,\n",
        "                                      width_shift_range=0.1,\n",
        "                                      height_shift_range=0.1,\n",
        "                                      fill_mode='constant'\n",
        "                                    )\n",
        "# Creating image generator for test set\n",
        "test_image_gen = ImageDataGenerator(preprocessing_function=preprocess_input)"
      ]
    },
    {
      "cell_type": "code",
      "execution_count": null,
      "metadata": {
        "id": "VjpxrzxLAFjr",
        "colab": {
          "base_uri": "https://localhost:8080/"
        },
        "outputId": "90f24e9a-f5f1-487c-da35-150226e00958"
      },
      "outputs": [
        {
          "output_type": "stream",
          "name": "stdout",
          "text": [
            ".... Train set ....\n",
            "Found 11528 images belonging to 7 classes.\n",
            ".... Test set ....\n",
            "Found 1447 images belonging to 7 classes.\n",
            ".... Validation set ....\n",
            "Found 1439 images belonging to 7 classes.\n"
          ]
        }
      ],
      "source": [
        "# Train set\n",
        "print('.... Train set ....')\n",
        "train_generator = train_image_gen.flow_from_directory(train_data_dir,\n",
        "                                                target_size=target_size,\n",
        "                                                color_mode='rgb',\n",
        "                                                batch_size=batch_size,\n",
        "                                                class_mode='categorical',\n",
        "                                                shuffle=True)\n",
        "\n",
        "# Test set\n",
        "print('.... Test set ....')\n",
        "test_generator = test_image_gen.flow_from_directory(test_data_dir,\n",
        "                                               target_size=target_size,\n",
        "                                               batch_size=batch_size,\n",
        "                                               class_mode='categorical',\n",
        "                                               shuffle=False)\n",
        "\n",
        "# Validation set\n",
        "print('.... Validation set ....')\n",
        "val_generator =  test_image_gen.flow_from_directory(val_data_dir,\n",
        "                                              target_size=target_size,\n",
        "                                              batch_size=batch_size,\n",
        "                                              class_mode='categorical',\n",
        "                                              shuffle=True)"
      ]
    },
    {
      "cell_type": "code",
      "execution_count": null,
      "metadata": {
        "id": "aowflHOuATRc",
        "colab": {
          "base_uri": "https://localhost:8080/"
        },
        "outputId": "6eb3a1fa-ec3b-4e12-babe-4208b3a1d963"
      },
      "outputs": [
        {
          "output_type": "execute_result",
          "data": {
            "text/plain": [
              "{'Fetal abdomen': 0,\n",
              " 'Fetal brain': 1,\n",
              " 'Fetal femur': 2,\n",
              " 'Fetal thorax': 3,\n",
              " 'Maternal cervix': 4,\n",
              " 'Other': 5,\n",
              " 'Unknown': 6}"
            ]
          },
          "metadata": {},
          "execution_count": 13
        }
      ],
      "source": [
        "train_generator.class_indices"
      ]
    },
    {
      "cell_type": "markdown",
      "metadata": {
        "id": "06I6BMciwW5u"
      },
      "source": [
        "## Sweep Configuration"
      ]
    },
    {
      "cell_type": "code",
      "execution_count": null,
      "metadata": {
        "id": "qryFXRS4wFkC"
      },
      "outputs": [],
      "source": [
        "# Import the W&B Python Library and log into W&B\n",
        "import wandb\n",
        "from wandb.keras import WandbCallback\n",
        "wandb.login()"
      ]
    },
    {
      "cell_type": "code",
      "execution_count": null,
      "metadata": {
        "id": "XJxGhWuMEMIS"
      },
      "outputs": [],
      "source": [
        "def train_model(config):\n",
        "\n",
        "  input = Input(shape=input_shape)\n",
        "\n",
        "  conv1  = Conv2D(filters=64, kernel_size=(3,3), padding=\"same\")(input)\n",
        "  bn1 = BatchNormalization()(conv1)\n",
        "  act1 = Activation('relu')(bn1)\n",
        "  conv2  = Conv2D(filters=64, kernel_size=(3,3), padding=\"same\")(act1)\n",
        "  bn2 = BatchNormalization()(conv2)\n",
        "  act2 = Activation('relu')(bn2)\n",
        "  pool1  = MaxPooling2D((2, 2))(act2)\n",
        "\n",
        "  conv3  = Conv2D(filters=128, kernel_size=(3,3), padding=\"same\")(pool1)\n",
        "  bn3 = BatchNormalization()(conv3)\n",
        "  act3 = Activation('relu')(bn3)\n",
        "  conv4  = Conv2D(filters=128, kernel_size=(3,3), padding=\"same\")(act3)\n",
        "  bn4 = BatchNormalization()(conv4)\n",
        "  act4 = Activation('relu')(bn4)\n",
        "  pool2  = MaxPooling2D((2, 2))(act4)\n",
        "\n",
        "  conv5  = Conv2D(filters=256, kernel_size=(3,3), padding=\"same\")(pool2)\n",
        "  bn5 = BatchNormalization()(conv5)\n",
        "  act5 = Activation('relu')(bn5)\n",
        "  conv6  = Conv2D(filters=256, kernel_size=(3,3), padding=\"same\")(act5)\n",
        "  bn6 = BatchNormalization()(conv6)\n",
        "  act6 = Activation('relu')(bn6)\n",
        "  conv7  = Conv2D(filters=256, kernel_size=(3,3), padding=\"same\")(act6)\n",
        "  bn7 = BatchNormalization()(conv7)\n",
        "  act7 = Activation('relu')(bn7)\n",
        "  pool3  = MaxPooling2D((2, 2))(act7)\n",
        "\n",
        "  conv8  = Conv2D(filters=512, kernel_size=(3,3), padding=\"same\")(pool3)\n",
        "  bn8 = BatchNormalization()(conv8)\n",
        "  act8 = Activation('relu')(bn8)\n",
        "  conv9  = Conv2D(filters=512, kernel_size=(3,3), padding=\"same\")(act8)\n",
        "  bn9 = BatchNormalization()(conv9)\n",
        "  act9 = Activation('relu')(bn9)\n",
        "  conv10 = Conv2D(filters=512, kernel_size=(3,3), padding=\"same\")(act9)\n",
        "  bn10 = BatchNormalization()(conv10)\n",
        "  act10 = Activation('relu')(bn10)\n",
        "  pool4  = MaxPooling2D((2, 2))(act10)\n",
        "\n",
        "  conv11 = Conv2D(filters=512, kernel_size=(3,3), padding=\"same\")(pool4)\n",
        "  bn11 = BatchNormalization()(conv11)\n",
        "  act11 = Activation('relu')(bn11)\n",
        "  conv12 = Conv2D(filters=512, kernel_size=(3,3), padding=\"same\")(act11)\n",
        "  bn12 = BatchNormalization()(conv12)\n",
        "  act12 = Activation('relu')(bn12)\n",
        "  conv13 = Conv2D(filters=512, kernel_size=(3,3), padding=\"same\")(act12)\n",
        "  bn13 = BatchNormalization()(conv13)\n",
        "  act13 = Activation('relu')(bn13)\n",
        "  pool5  = MaxPooling2D((2, 2))(act13)\n",
        "\n",
        "  flat   = Flatten()(pool5)\n",
        "  dense1 = Dense(config.first_hidden_layer)(flat)\n",
        "  bn14 = BatchNormalization()(dense1)\n",
        "  act14 = Activation('relu')(bn14)\n",
        "  drop1 = Dropout(config.dropout)(act14)\n",
        "  dense2 = Dense(config.second_hidden_layer)(drop1)\n",
        "  bn15 = BatchNormalization()(dense2)\n",
        "  act15 = Activation('relu')(bn15)\n",
        "  drop2 = Dropout(config.dropout)(act15)\n",
        "  output = Dense(7, activation=\"softmax\")(drop2)\n",
        "\n",
        "\n",
        "  model = Model(inputs=input, outputs=output)\n",
        "\n",
        "  return model"
      ]
    },
    {
      "cell_type": "code",
      "source": [
        "config_defaults = {\n",
        "   'epochs' : 20,\n",
        "   'batch_size' : 16,\n",
        "   'learning_rate' : 0.00001,\n",
        "   'seed' : 4,\n",
        "   'dropout' : 0.2,\n",
        "   'first_hidden_layer' : 4096,\n",
        "   'second_hidden_layer' : 4096\n",
        "                     }"
      ],
      "metadata": {
        "id": "icfs8NGtlRsF"
      },
      "execution_count": null,
      "outputs": []
    },
    {
      "cell_type": "code",
      "source": [
        "def train():\n",
        "  with wandb.init(project='pt-sweep',config=config_defaults) as run:\n",
        "    config = wandb.config\n",
        "    model = train_model(config)\n",
        "    # Compiling model\n",
        "    model.compile(optimizer=Adam(config.learning_rate),loss='categorical_crossentropy',metrics=['accuracy'])\n",
        "    # Model fitting\n",
        "    model.fit(train_generator,validation_data=val_generator,callbacks=[WandbCallback(save_model=(False))],epochs=config.epochs)"
      ],
      "metadata": {
        "id": "o6Hdu8qWlWb_"
      },
      "execution_count": null,
      "outputs": []
    },
    {
      "cell_type": "code",
      "execution_count": null,
      "metadata": {
        "id": "Cf1p2-QUEcUq"
      },
      "outputs": [],
      "source": [
        "# Step 2: Define sweep config\n",
        "sweep_configuration = {\n",
        "    'method': 'random',\n",
        "    'name': 'sweep',\n",
        "    'metric': {'goal': 'minimize', 'name': 'loss'},\n",
        "    'parameters':\n",
        "    {\n",
        "        'batch_size': {'values': [16,32]},\n",
        "        'epochs': {'values': [20]},\n",
        "        'learning_rate': {'max': 0.01, 'min': 0.00001},\n",
        "        'first_hidden_layer': {'values': [512,1024,2048,4096]},\n",
        "        'second_hidden_layer': {'values': [512,1024,2048,4096]},\n",
        "        'dropout' : {'values': [0.1,0.2,0.3,0.4,0.5]},\n",
        "     }\n",
        "}"
      ]
    },
    {
      "cell_type": "code",
      "execution_count": null,
      "metadata": {
        "id": "1s4psgCbEolU"
      },
      "outputs": [],
      "source": [
        "# 3: Start the sweep\n",
        "sweep_id = wandb.sweep(\n",
        "    sweep=sweep_configuration,\n",
        "    project='pt-sweep'\n",
        "    )"
      ]
    },
    {
      "cell_type": "code",
      "execution_count": null,
      "metadata": {
        "id": "bJy5KsjYErfF"
      },
      "outputs": [],
      "source": [
        "# Step 4: Call to `wandb.agent` to start a sweep\n",
        "wandb.agent(sweep_id, function=train, count=1000)"
      ]
    },
    {
      "cell_type": "markdown",
      "metadata": {
        "id": "nOkoHc_0KoaP"
      },
      "source": [
        "## Model training"
      ]
    },
    {
      "cell_type": "code",
      "execution_count": null,
      "metadata": {
        "id": "MWZVzgZ3KtiM"
      },
      "outputs": [],
      "source": [
        "input = Input(shape=input_shape)\n",
        "\n",
        "conv1  = Conv2D(filters=64, kernel_size=(3,3), padding=\"same\")(input)\n",
        "bn1 = BatchNormalization()(conv1)\n",
        "act1 = Activation('relu')(bn1)\n",
        "conv2  = Conv2D(filters=64, kernel_size=(3,3), padding=\"same\")(act1)\n",
        "bn2 = BatchNormalization()(conv2)\n",
        "act2 = Activation('relu')(bn2)\n",
        "pool1  = MaxPooling2D((2, 2))(act2)\n",
        "\n",
        "conv3  = Conv2D(filters=128, kernel_size=(3,3), padding=\"same\")(pool1)\n",
        "bn3 = BatchNormalization()(conv3)\n",
        "act3 = Activation('relu')(bn3)\n",
        "conv4  = Conv2D(filters=128, kernel_size=(3,3), padding=\"same\")(act3)\n",
        "bn4 = BatchNormalization()(conv4)\n",
        "act4 = Activation('relu')(bn4)\n",
        "pool2  = MaxPooling2D((2, 2))(act4)\n",
        "\n",
        "conv5  = Conv2D(filters=256, kernel_size=(3,3), padding=\"same\")(pool2)\n",
        "bn5 = BatchNormalization()(conv5)\n",
        "act5 = Activation('relu')(bn5)\n",
        "conv6  = Conv2D(filters=256, kernel_size=(3,3), padding=\"same\")(act5)\n",
        "bn6 = BatchNormalization()(conv6)\n",
        "act6 = Activation('relu')(bn6)\n",
        "conv7  = Conv2D(filters=256, kernel_size=(3,3), padding=\"same\")(act6)\n",
        "bn7 = BatchNormalization()(conv7)\n",
        "act7 = Activation('relu')(bn7)\n",
        "pool3  = MaxPooling2D((2, 2))(act7)\n",
        "\n",
        "conv8  = Conv2D(filters=512, kernel_size=(3,3), padding=\"same\")(pool3)\n",
        "bn8 = BatchNormalization()(conv8)\n",
        "act8 = Activation('relu')(bn8)\n",
        "conv9  = Conv2D(filters=512, kernel_size=(3,3), padding=\"same\")(act8)\n",
        "bn9 = BatchNormalization()(conv9)\n",
        "act9 = Activation('relu')(bn9)\n",
        "conv10 = Conv2D(filters=512, kernel_size=(3,3), padding=\"same\")(act9)\n",
        "bn10 = BatchNormalization()(conv10)\n",
        "act10 = Activation('relu')(bn10)\n",
        "pool4  = MaxPooling2D((2, 2))(act10)\n",
        "\n",
        "conv11 = Conv2D(filters=512, kernel_size=(3,3), padding=\"same\")(pool4)\n",
        "bn11 = BatchNormalization()(conv11)\n",
        "act11 = Activation('relu')(bn11)\n",
        "conv12 = Conv2D(filters=512, kernel_size=(3,3), padding=\"same\")(act11)\n",
        "bn12 = BatchNormalization()(conv12)\n",
        "act12 = Activation('relu')(bn12)\n",
        "conv13 = Conv2D(filters=512, kernel_size=(3,3), padding=\"same\")(act12)\n",
        "bn13 = BatchNormalization()(conv13)\n",
        "act13 = Activation('relu')(bn13)\n",
        "pool5  = MaxPooling2D((2, 2))(act13)\n",
        "\n",
        "flat   = Flatten()(pool5)\n",
        "dense1 = Dense(4096)(flat)\n",
        "bn14 = BatchNormalization()(dense1)\n",
        "act14 = Activation('relu')(bn14)\n",
        "drop1 = Dropout(dropout)(act14)\n",
        "dense2 = Dense(4096)(drop1)\n",
        "bn15 = BatchNormalization()(dense2)\n",
        "act15 = Activation('relu')(bn15)\n",
        "drop2 = Dropout(dropout)(act15)\n",
        "output = Dense(7, activation=\"softmax\")(drop2)\n",
        "\n",
        "\n",
        "model = Model(inputs=input, outputs=output)"
      ]
    },
    {
      "cell_type": "code",
      "execution_count": null,
      "metadata": {
        "id": "aDiij2d7LoCQ"
      },
      "outputs": [],
      "source": [
        "from keras.utils.vis_utils import plot_model\n",
        "plot_model(model, to_file='model_plot.png', show_shapes=True, show_layer_names=True)"
      ]
    },
    {
      "cell_type": "code",
      "execution_count": null,
      "metadata": {
        "id": "ONBlHeH48jZ6"
      },
      "outputs": [],
      "source": [
        "model = load_model('/content/drive/MyDrive/US Project/US_Plane_v1.h5')"
      ]
    },
    {
      "cell_type": "code",
      "execution_count": null,
      "metadata": {
        "id": "V1d_7yzRKxKc"
      },
      "outputs": [],
      "source": [
        "# Compiling model\n",
        "model.compile(optimizer=Adam(learning_rate),loss='categorical_crossentropy',metrics=['accuracy'])"
      ]
    },
    {
      "cell_type": "code",
      "source": [
        "tracker = EmissionsTracker()\n",
        "tracker.start()"
      ],
      "metadata": {
        "colab": {
          "base_uri": "https://localhost:8080/"
        },
        "id": "Yo9KTh-mFi3P",
        "outputId": "bdd31e27-5f9c-4c25-e3e8-a7870d1d7d59"
      },
      "execution_count": null,
      "outputs": [
        {
          "output_type": "stream",
          "name": "stderr",
          "text": [
            "[codecarbon INFO @ 07:26:34] [setup] RAM Tracking...\n",
            "[codecarbon INFO @ 07:26:34] [setup] GPU Tracking...\n",
            "[codecarbon INFO @ 07:26:34] Tracking Nvidia GPU via pynvml\n",
            "[codecarbon INFO @ 07:26:34] [setup] CPU Tracking...\n",
            "[codecarbon WARNING @ 07:26:34] No CPU tracking mode found. Falling back on CPU constant mode.\n",
            "[codecarbon WARNING @ 07:26:35] We saw that you have a Intel(R) Xeon(R) CPU @ 2.00GHz but we don't know it. Please contact us.\n",
            "[codecarbon INFO @ 07:26:35] CPU Model on constant consumption mode: Intel(R) Xeon(R) CPU @ 2.00GHz\n",
            "[codecarbon INFO @ 07:26:35] >>> Tracker's metadata:\n",
            "[codecarbon INFO @ 07:26:35]   Platform system: Linux-5.15.107+-x86_64-with-glibc2.31\n",
            "[codecarbon INFO @ 07:26:35]   Python version: 3.10.12\n",
            "[codecarbon INFO @ 07:26:35]   CodeCarbon version: 2.2.4\n",
            "[codecarbon INFO @ 07:26:35]   Available RAM : 12.678 GB\n",
            "[codecarbon INFO @ 07:26:35]   CPU count: 2\n",
            "[codecarbon INFO @ 07:26:35]   CPU model: Intel(R) Xeon(R) CPU @ 2.00GHz\n",
            "[codecarbon INFO @ 07:26:35]   GPU count: 1\n",
            "[codecarbon INFO @ 07:26:35]   GPU model: 1 x Tesla T4\n"
          ]
        }
      ]
    },
    {
      "cell_type": "code",
      "execution_count": null,
      "metadata": {
        "colab": {
          "base_uri": "https://localhost:8080/"
        },
        "id": "CxdPRoDkK0VB",
        "outputId": "c1a54c36-01cb-4eb1-bebb-833ea6b6bcdb"
      },
      "outputs": [
        {
          "metadata": {
            "tags": null
          },
          "name": "stdout",
          "output_type": "stream",
          "text": [
            "Epoch 1/20\n"
          ]
        },
        {
          "metadata": {
            "tags": null
          },
          "name": "stderr",
          "output_type": "stream",
          "text": [
            "[codecarbon INFO @ 07:27:05] Energy consumed for RAM : 0.000040 kWh. RAM Power : 4.754399299621582 W\n",
            "[codecarbon INFO @ 07:27:05] Energy consumed for all GPUs : 0.000232 kWh. Total GPU Power : 27.944 W\n",
            "[codecarbon INFO @ 07:27:05] Energy consumed for all CPUs : 0.000354 kWh. Total CPU Power : 42.5 W\n",
            "[codecarbon INFO @ 07:27:05] 0.000626 kWh of electricity used since the beginning.\n",
            "[codecarbon INFO @ 07:27:20] Energy consumed for RAM : 0.000059 kWh. RAM Power : 4.754399299621582 W\n",
            "[codecarbon INFO @ 07:27:20] Energy consumed for all GPUs : 0.000380 kWh. Total GPU Power : 35.522 W\n",
            "[codecarbon INFO @ 07:27:20] Energy consumed for all CPUs : 0.000531 kWh. Total CPU Power : 42.5 W\n",
            "[codecarbon INFO @ 07:27:20] 0.000971 kWh of electricity used since the beginning.\n",
            "[codecarbon INFO @ 07:27:35] Energy consumed for RAM : 0.000079 kWh. RAM Power : 4.754399299621582 W\n",
            "[codecarbon INFO @ 07:27:35] Energy consumed for all GPUs : 0.000565 kWh. Total GPU Power : 44.508 W\n",
            "[codecarbon INFO @ 07:27:35] Energy consumed for all CPUs : 0.000709 kWh. Total CPU Power : 42.5 W\n",
            "[codecarbon INFO @ 07:27:35] 0.001353 kWh of electricity used since the beginning.\n"
          ]
        },
        {
          "metadata": {
            "tags": null
          },
          "name": "stdout",
          "output_type": "stream",
          "text": [
            " 19/721 [..............................] - ETA: 6:01 - loss: 1.8469 - accuracy: 0.3092"
          ]
        },
        {
          "metadata": {
            "tags": null
          },
          "name": "stderr",
          "output_type": "stream",
          "text": [
            "[codecarbon INFO @ 07:27:50] Energy consumed for RAM : 0.000099 kWh. RAM Power : 4.754399299621582 W\n",
            "[codecarbon INFO @ 07:27:50] Energy consumed for all GPUs : 0.000908 kWh. Total GPU Power : 82.424 W\n",
            "[codecarbon INFO @ 07:27:51] Energy consumed for all CPUs : 0.000886 kWh. Total CPU Power : 42.5 W\n",
            "[codecarbon INFO @ 07:27:51] 0.001893 kWh of electricity used since the beginning.\n"
          ]
        },
        {
          "metadata": {
            "tags": null
          },
          "name": "stdout",
          "output_type": "stream",
          "text": [
            " 46/721 [>.............................] - ETA: 6:00 - loss: 1.7084 - accuracy: 0.3533"
          ]
        },
        {
          "metadata": {
            "tags": null
          },
          "name": "stderr",
          "output_type": "stream",
          "text": [
            "[codecarbon INFO @ 07:28:05] Energy consumed for RAM : 0.000119 kWh. RAM Power : 4.754399299621582 W\n",
            "[codecarbon INFO @ 07:28:05] Energy consumed for all GPUs : 0.001066 kWh. Total GPU Power : 38.069 W\n",
            "[codecarbon INFO @ 07:28:05] Energy consumed for all CPUs : 0.001063 kWh. Total CPU Power : 42.5 W\n",
            "[codecarbon INFO @ 07:28:05] 0.002248 kWh of electricity used since the beginning.\n"
          ]
        },
        {
          "metadata": {
            "tags": null
          },
          "name": "stdout",
          "output_type": "stream",
          "text": [
            " 76/721 [==>...........................] - ETA: 5:39 - loss: 1.5594 - accuracy: 0.4293"
          ]
        },
        {
          "metadata": {
            "tags": null
          },
          "name": "stderr",
          "output_type": "stream",
          "text": [
            "[codecarbon INFO @ 07:28:20] Energy consumed for RAM : 0.000138 kWh. RAM Power : 4.754399299621582 W\n",
            "[codecarbon INFO @ 07:28:20] Energy consumed for all GPUs : 0.001272 kWh. Total GPU Power : 49.407000000000004 W\n",
            "[codecarbon INFO @ 07:28:20] Energy consumed for all CPUs : 0.001240 kWh. Total CPU Power : 42.5 W\n",
            "[codecarbon INFO @ 07:28:20] 0.002650 kWh of electricity used since the beginning.\n"
          ]
        },
        {
          "metadata": {
            "tags": null
          },
          "name": "stdout",
          "output_type": "stream",
          "text": [
            "104/721 [===>..........................] - ETA: 5:25 - loss: 1.4449 - accuracy: 0.4760"
          ]
        },
        {
          "metadata": {
            "tags": null
          },
          "name": "stderr",
          "output_type": "stream",
          "text": [
            "[codecarbon INFO @ 07:28:35] Energy consumed for RAM : 0.000158 kWh. RAM Power : 4.754399299621582 W\n",
            "[codecarbon INFO @ 07:28:35] Energy consumed for all GPUs : 0.001436 kWh. Total GPU Power : 39.406 W\n",
            "[codecarbon INFO @ 07:28:35] Energy consumed for all CPUs : 0.001417 kWh. Total CPU Power : 42.5 W\n",
            "[codecarbon INFO @ 07:28:35] 0.003011 kWh of electricity used since the beginning.\n"
          ]
        },
        {
          "metadata": {
            "tags": null
          },
          "name": "stdout",
          "output_type": "stream",
          "text": [
            "133/721 [====>.........................] - ETA: 5:07 - loss: 1.3746 - accuracy: 0.5023"
          ]
        },
        {
          "metadata": {
            "tags": null
          },
          "name": "stderr",
          "output_type": "stream",
          "text": [
            "[codecarbon INFO @ 07:28:50] Energy consumed for RAM : 0.000178 kWh. RAM Power : 4.754399299621582 W\n",
            "[codecarbon INFO @ 07:28:50] Energy consumed for all GPUs : 0.001727 kWh. Total GPU Power : 69.802 W\n",
            "[codecarbon INFO @ 07:28:50] Energy consumed for all CPUs : 0.001594 kWh. Total CPU Power : 42.5 W\n"
          ]
        },
        {
          "metadata": {
            "tags": null
          },
          "name": "stdout",
          "output_type": "stream",
          "text": [
            "\b\b\b\b\b\b\b\b\b\b\b\b\b\b\b\b\b\b\b\b\b\b\b\b\b\b\b\b\b\b\b\b\b\b\b\b\b\b\b\b\b\b\b\b\b\b\b\b\b\b\b\b\b\b\b\b\b\b\b\b\b\b\b\b\b\b\b\b\b\b\b\b\b\b\b\b\b\b\b\b\b\b\b\b\b\b\r134/721 [====>.........................] - ETA: 5:06 - loss: 1.3702 - accuracy: 0.5037"
          ]
        },
        {
          "metadata": {
            "tags": null
          },
          "name": "stderr",
          "output_type": "stream",
          "text": [
            "[codecarbon INFO @ 07:28:51] 0.003499 kWh of electricity used since the beginning.\n"
          ]
        },
        {
          "metadata": {
            "tags": null
          },
          "name": "stdout",
          "output_type": "stream",
          "text": [
            "158/721 [=====>........................] - ETA: 5:00 - loss: 1.3116 - accuracy: 0.5257"
          ]
        },
        {
          "metadata": {
            "tags": null
          },
          "name": "stderr",
          "output_type": "stream",
          "text": [
            "[codecarbon INFO @ 07:29:05] Energy consumed for RAM : 0.000198 kWh. RAM Power : 4.754399299621582 W\n",
            "[codecarbon INFO @ 07:29:05] Energy consumed for all GPUs : 0.002034 kWh. Total GPU Power : 73.726 W\n"
          ]
        },
        {
          "metadata": {
            "tags": null
          },
          "name": "stdout",
          "output_type": "stream",
          "text": [
            "\b\b\b\b\b\b\b\b\b\b\b\b\b\b\b\b\b\b\b\b\b\b\b\b\b\b\b\b\b\b\b\b\b\b\b\b\b\b\b\b\b\b\b\b\b\b\b\b\b\b\b\b\b\b\b\b\b\b\b\b\b\b\b\b\b\b\b\b\b\b\b\b\b\b\b\b\b\b\b\b\b\b\b\b\b\b\r159/721 [=====>........................] - ETA: 5:00 - loss: 1.3076 - accuracy: 0.5271"
          ]
        },
        {
          "metadata": {
            "tags": null
          },
          "name": "stderr",
          "output_type": "stream",
          "text": [
            "[codecarbon INFO @ 07:29:06] Energy consumed for all CPUs : 0.001771 kWh. Total CPU Power : 42.5 W\n",
            "[codecarbon INFO @ 07:29:06] 0.004002 kWh of electricity used since the beginning.\n"
          ]
        },
        {
          "metadata": {
            "tags": null
          },
          "name": "stdout",
          "output_type": "stream",
          "text": [
            "186/721 [======>.......................] - ETA: 4:47 - loss: 1.2756 - accuracy: 0.5403"
          ]
        },
        {
          "metadata": {
            "tags": null
          },
          "name": "stderr",
          "output_type": "stream",
          "text": [
            "[codecarbon INFO @ 07:29:20] Energy consumed for RAM : 0.000218 kWh. RAM Power : 4.754399299621582 W\n",
            "[codecarbon INFO @ 07:29:21] Energy consumed for all GPUs : 0.002219 kWh. Total GPU Power : 44.58 W\n",
            "[codecarbon INFO @ 07:29:21] Energy consumed for all CPUs : 0.001948 kWh. Total CPU Power : 42.5 W\n",
            "[codecarbon INFO @ 07:29:21] 0.004385 kWh of electricity used since the beginning.\n"
          ]
        },
        {
          "metadata": {
            "tags": null
          },
          "name": "stdout",
          "output_type": "stream",
          "text": [
            "214/721 [=======>......................] - ETA: 4:31 - loss: 1.2214 - accuracy: 0.5587"
          ]
        },
        {
          "metadata": {
            "tags": null
          },
          "name": "stderr",
          "output_type": "stream",
          "text": [
            "[codecarbon INFO @ 07:29:35] Energy consumed for RAM : 0.000237 kWh. RAM Power : 4.754399299621582 W\n"
          ]
        },
        {
          "metadata": {
            "tags": null
          },
          "name": "stdout",
          "output_type": "stream",
          "text": [
            "\b\b\b\b\b\b\b\b\b\b\b\b\b\b\b\b\b\b\b\b\b\b\b\b\b\b\b\b\b\b\b\b\b\b\b\b\b\b\b\b\b\b\b\b\b\b\b\b\b\b\b\b\b\b\b\b\b\b\b\b\b\b\b\b\b\b\b\b\b\b\b\b\b\b\b\b\b\b\b\b\b\b\b\b\b\b\r215/721 [=======>......................] - ETA: 4:30 - loss: 1.2194 - accuracy: 0.5590"
          ]
        },
        {
          "metadata": {
            "tags": null
          },
          "name": "stderr",
          "output_type": "stream",
          "text": [
            "[codecarbon INFO @ 07:29:36] Energy consumed for all GPUs : 0.002515 kWh. Total GPU Power : 71.08500000000001 W\n",
            "[codecarbon INFO @ 07:29:36] Energy consumed for all CPUs : 0.002125 kWh. Total CPU Power : 42.5 W\n",
            "[codecarbon INFO @ 07:29:36] 0.004877 kWh of electricity used since the beginning.\n"
          ]
        },
        {
          "metadata": {
            "tags": null
          },
          "name": "stdout",
          "output_type": "stream",
          "text": [
            "243/721 [=========>....................] - ETA: 4:15 - loss: 1.1901 - accuracy: 0.5702"
          ]
        },
        {
          "metadata": {
            "tags": null
          },
          "name": "stderr",
          "output_type": "stream",
          "text": [
            "[codecarbon INFO @ 07:29:51] Energy consumed for RAM : 0.000257 kWh. RAM Power : 4.754399299621582 W\n",
            "[codecarbon INFO @ 07:29:51] Energy consumed for all GPUs : 0.002805 kWh. Total GPU Power : 69.661 W\n",
            "[codecarbon INFO @ 07:29:51] Energy consumed for all CPUs : 0.002302 kWh. Total CPU Power : 42.5 W\n",
            "[codecarbon INFO @ 07:29:51] 0.005364 kWh of electricity used since the beginning.\n"
          ]
        },
        {
          "metadata": {
            "tags": null
          },
          "name": "stdout",
          "output_type": "stream",
          "text": [
            "272/721 [==========>...................] - ETA: 3:58 - loss: 1.1656 - accuracy: 0.5790"
          ]
        },
        {
          "metadata": {
            "tags": null
          },
          "name": "stderr",
          "output_type": "stream",
          "text": [
            "[codecarbon INFO @ 07:30:06] Energy consumed for RAM : 0.000277 kWh. RAM Power : 4.754399299621582 W\n",
            "[codecarbon INFO @ 07:30:06] Energy consumed for all GPUs : 0.003102 kWh. Total GPU Power : 71.423 W\n",
            "[codecarbon INFO @ 07:30:06] Energy consumed for all CPUs : 0.002479 kWh. Total CPU Power : 42.5 W\n",
            "[codecarbon INFO @ 07:30:06] 0.005858 kWh of electricity used since the beginning.\n"
          ]
        },
        {
          "metadata": {
            "tags": null
          },
          "name": "stdout",
          "output_type": "stream",
          "text": [
            "302/721 [===========>..................] - ETA: 3:41 - loss: 1.1322 - accuracy: 0.5898"
          ]
        },
        {
          "metadata": {
            "tags": null
          },
          "name": "stderr",
          "output_type": "stream",
          "text": [
            "[codecarbon INFO @ 07:30:21] Energy consumed for RAM : 0.000297 kWh. RAM Power : 4.754399299621582 W\n",
            "[codecarbon INFO @ 07:30:21] Energy consumed for all GPUs : 0.003401 kWh. Total GPU Power : 71.77 W\n",
            "[codecarbon INFO @ 07:30:21] Energy consumed for all CPUs : 0.002656 kWh. Total CPU Power : 42.5 W\n",
            "[codecarbon INFO @ 07:30:21] 0.006353 kWh of electricity used since the beginning.\n"
          ]
        },
        {
          "metadata": {
            "tags": null
          },
          "name": "stdout",
          "output_type": "stream",
          "text": [
            "333/721 [============>.................] - ETA: 3:23 - loss: 1.1039 - accuracy: 0.6021"
          ]
        },
        {
          "metadata": {
            "tags": null
          },
          "name": "stderr",
          "output_type": "stream",
          "text": [
            "[codecarbon INFO @ 07:30:36] Energy consumed for RAM : 0.000317 kWh. RAM Power : 4.754399299621582 W\n",
            "[codecarbon INFO @ 07:30:36] Energy consumed for all GPUs : 0.003560 kWh. Total GPU Power : 38.343 W\n",
            "[codecarbon INFO @ 07:30:36] Energy consumed for all CPUs : 0.002833 kWh. Total CPU Power : 42.5 W\n",
            "[codecarbon INFO @ 07:30:36] 0.006710 kWh of electricity used since the beginning.\n"
          ]
        },
        {
          "metadata": {
            "tags": null
          },
          "name": "stdout",
          "output_type": "stream",
          "text": [
            "362/721 [==============>...............] - ETA: 3:08 - loss: 1.0799 - accuracy: 0.6114"
          ]
        },
        {
          "metadata": {
            "tags": null
          },
          "name": "stderr",
          "output_type": "stream",
          "text": [
            "[codecarbon INFO @ 07:30:51] Energy consumed for RAM : 0.000336 kWh. RAM Power : 4.754399299621582 W\n",
            "[codecarbon INFO @ 07:30:51] Energy consumed for all GPUs : 0.003871 kWh. Total GPU Power : 74.611 W\n",
            "[codecarbon INFO @ 07:30:51] Energy consumed for all CPUs : 0.003010 kWh. Total CPU Power : 42.5 W\n",
            "[codecarbon INFO @ 07:30:51] 0.007217 kWh of electricity used since the beginning.\n"
          ]
        },
        {
          "metadata": {
            "tags": null
          },
          "name": "stdout",
          "output_type": "stream",
          "text": [
            "390/721 [===============>..............] - ETA: 2:53 - loss: 1.0622 - accuracy: 0.6178"
          ]
        },
        {
          "metadata": {
            "tags": null
          },
          "name": "stderr",
          "output_type": "stream",
          "text": [
            "[codecarbon INFO @ 07:31:06] Energy consumed for RAM : 0.000356 kWh. RAM Power : 4.754399299621582 W\n",
            "[codecarbon INFO @ 07:31:06] Energy consumed for all GPUs : 0.004162 kWh. Total GPU Power : 70.053 W\n",
            "[codecarbon INFO @ 07:31:06] Energy consumed for all CPUs : 0.003187 kWh. Total CPU Power : 42.5 W\n",
            "[codecarbon INFO @ 07:31:06] 0.007705 kWh of electricity used since the beginning.\n"
          ]
        },
        {
          "metadata": {
            "tags": null
          },
          "name": "stdout",
          "output_type": "stream",
          "text": [
            "415/721 [================>.............] - ETA: 2:40 - loss: 1.0432 - accuracy: 0.6248"
          ]
        },
        {
          "metadata": {
            "tags": null
          },
          "name": "stderr",
          "output_type": "stream",
          "text": [
            "[codecarbon INFO @ 07:31:21] Energy consumed for RAM : 0.000376 kWh. RAM Power : 4.754399299621582 W\n",
            "[codecarbon INFO @ 07:31:21] Energy consumed for all GPUs : 0.004468 kWh. Total GPU Power : 73.485 W\n",
            "[codecarbon INFO @ 07:31:21] Energy consumed for all CPUs : 0.003364 kWh. Total CPU Power : 42.5 W\n",
            "[codecarbon INFO @ 07:31:21] 0.008208 kWh of electricity used since the beginning.\n"
          ]
        },
        {
          "metadata": {
            "tags": null
          },
          "name": "stdout",
          "output_type": "stream",
          "text": [
            "440/721 [=================>............] - ETA: 2:30 - loss: 1.0305 - accuracy: 0.6305"
          ]
        },
        {
          "metadata": {
            "tags": null
          },
          "name": "stderr",
          "output_type": "stream",
          "text": [
            "[codecarbon INFO @ 07:31:36] Energy consumed for RAM : 0.000396 kWh. RAM Power : 4.754399299621582 W\n",
            "[codecarbon INFO @ 07:31:36] Energy consumed for all GPUs : 0.004642 kWh. Total GPU Power : 41.872 W\n",
            "[codecarbon INFO @ 07:31:36] Energy consumed for all CPUs : 0.003541 kWh. Total CPU Power : 42.5 W\n",
            "[codecarbon INFO @ 07:31:36] 0.008579 kWh of electricity used since the beginning.\n"
          ]
        },
        {
          "metadata": {
            "tags": null
          },
          "name": "stdout",
          "output_type": "stream",
          "text": [
            "470/721 [==================>...........] - ETA: 2:13 - loss: 1.0124 - accuracy: 0.6374"
          ]
        },
        {
          "metadata": {
            "tags": null
          },
          "name": "stderr",
          "output_type": "stream",
          "text": [
            "[codecarbon INFO @ 07:31:51] Energy consumed for RAM : 0.000415 kWh. RAM Power : 4.754399299621582 W\n",
            "[codecarbon INFO @ 07:31:51] Energy consumed for all GPUs : 0.004822 kWh. Total GPU Power : 43.227000000000004 W\n",
            "[codecarbon INFO @ 07:31:51] Energy consumed for all CPUs : 0.003718 kWh. Total CPU Power : 42.5 W\n",
            "[codecarbon INFO @ 07:31:51] 0.008956 kWh of electricity used since the beginning.\n"
          ]
        },
        {
          "metadata": {
            "tags": null
          },
          "name": "stdout",
          "output_type": "stream",
          "text": [
            "500/721 [===================>..........] - ETA: 1:56 - loss: 0.9955 - accuracy: 0.6438"
          ]
        },
        {
          "metadata": {
            "tags": null
          },
          "name": "stderr",
          "output_type": "stream",
          "text": [
            "[codecarbon INFO @ 07:32:06] Energy consumed for RAM : 0.000435 kWh. RAM Power : 4.754399299621582 W\n",
            "[codecarbon INFO @ 07:32:06] Energy consumed for all GPUs : 0.005120 kWh. Total GPU Power : 71.618 W\n"
          ]
        },
        {
          "metadata": {
            "tags": null
          },
          "name": "stdout",
          "output_type": "stream",
          "text": [
            "\b\b\b\b\b\b\b\b\b\b\b\b\b\b\b\b\b\b\b\b\b\b\b\b\b\b\b\b\b\b\b\b\b\b\b\b\b\b\b\b\b\b\b\b\b\b\b\b\b\b\b\b\b\b\b\b\b\b\b\b\b\b\b\b\b\b\b\b\b\b\b\b\b\b\b\b\b\b\b\b\b\b\b\b\b\b\r501/721 [===================>..........] - ETA: 1:56 - loss: 0.9959 - accuracy: 0.6436"
          ]
        },
        {
          "metadata": {
            "tags": null
          },
          "name": "stderr",
          "output_type": "stream",
          "text": [
            "[codecarbon INFO @ 07:32:06] Energy consumed for all CPUs : 0.003896 kWh. Total CPU Power : 42.5 W\n",
            "[codecarbon INFO @ 07:32:06] 0.009451 kWh of electricity used since the beginning.\n"
          ]
        },
        {
          "metadata": {
            "tags": null
          },
          "name": "stdout",
          "output_type": "stream",
          "text": [
            "528/721 [====================>.........] - ETA: 1:42 - loss: 0.9794 - accuracy: 0.6504"
          ]
        },
        {
          "metadata": {
            "tags": null
          },
          "name": "stderr",
          "output_type": "stream",
          "text": [
            "[codecarbon INFO @ 07:32:21] Energy consumed for RAM : 0.000455 kWh. RAM Power : 4.754399299621582 W\n",
            "[codecarbon INFO @ 07:32:21] Energy consumed for all GPUs : 0.005398 kWh. Total GPU Power : 66.906 W\n",
            "[codecarbon INFO @ 07:32:21] Energy consumed for all CPUs : 0.004072 kWh. Total CPU Power : 42.5 W\n",
            "[codecarbon INFO @ 07:32:21] 0.009925 kWh of electricity used since the beginning.\n"
          ]
        },
        {
          "metadata": {
            "tags": null
          },
          "name": "stdout",
          "output_type": "stream",
          "text": [
            "557/721 [======================>.......] - ETA: 1:26 - loss: 0.9682 - accuracy: 0.6545"
          ]
        },
        {
          "metadata": {
            "tags": null
          },
          "name": "stderr",
          "output_type": "stream",
          "text": [
            "[codecarbon INFO @ 07:32:36] Energy consumed for RAM : 0.000475 kWh. RAM Power : 4.754399299621582 W\n",
            "[codecarbon INFO @ 07:32:36] Energy consumed for all GPUs : 0.005573 kWh. Total GPU Power : 42.069 W\n",
            "[codecarbon INFO @ 07:32:36] Energy consumed for all CPUs : 0.004249 kWh. Total CPU Power : 42.5 W\n",
            "[codecarbon INFO @ 07:32:36] 0.010297 kWh of electricity used since the beginning.\n"
          ]
        },
        {
          "metadata": {
            "tags": null
          },
          "name": "stdout",
          "output_type": "stream",
          "text": [
            "587/721 [=======================>......] - ETA: 1:10 - loss: 0.9491 - accuracy: 0.6621"
          ]
        },
        {
          "metadata": {
            "tags": null
          },
          "name": "stderr",
          "output_type": "stream",
          "text": [
            "[codecarbon INFO @ 07:32:51] Energy consumed for RAM : 0.000495 kWh. RAM Power : 4.754399299621582 W\n",
            "[codecarbon INFO @ 07:32:51] Energy consumed for all GPUs : 0.005818 kWh. Total GPU Power : 58.72 W\n",
            "[codecarbon INFO @ 07:32:51] Energy consumed for all CPUs : 0.004427 kWh. Total CPU Power : 42.5 W\n",
            "[codecarbon INFO @ 07:32:51] 0.010739 kWh of electricity used since the beginning.\n"
          ]
        },
        {
          "metadata": {
            "tags": null
          },
          "name": "stdout",
          "output_type": "stream",
          "text": [
            "618/721 [========================>.....] - ETA: 54s - loss: 0.9346 - accuracy: 0.6671"
          ]
        },
        {
          "metadata": {
            "tags": null
          },
          "name": "stderr",
          "output_type": "stream",
          "text": [
            "[codecarbon INFO @ 07:33:06] Energy consumed for RAM : 0.000514 kWh. RAM Power : 4.754399299621582 W\n",
            "[codecarbon INFO @ 07:33:06] Energy consumed for all GPUs : 0.005980 kWh. Total GPU Power : 38.936 W\n",
            "[codecarbon INFO @ 07:33:06] Energy consumed for all CPUs : 0.004604 kWh. Total CPU Power : 42.5 W\n",
            "[codecarbon INFO @ 07:33:06] 0.011098 kWh of electricity used since the beginning.\n"
          ]
        },
        {
          "metadata": {
            "tags": null
          },
          "name": "stdout",
          "output_type": "stream",
          "text": [
            "649/721 [==========================>...] - ETA: 37s - loss: 0.9208 - accuracy: 0.6721"
          ]
        },
        {
          "metadata": {
            "tags": null
          },
          "name": "stderr",
          "output_type": "stream",
          "text": [
            "[codecarbon INFO @ 07:33:21] Energy consumed for RAM : 0.000534 kWh. RAM Power : 4.754399299621582 W\n",
            "[codecarbon INFO @ 07:33:21] Energy consumed for all GPUs : 0.006291 kWh. Total GPU Power : 74.85300000000002 W\n",
            "[codecarbon INFO @ 07:33:21] Energy consumed for all CPUs : 0.004781 kWh. Total CPU Power : 42.5 W\n",
            "[codecarbon INFO @ 07:33:21] 0.011606 kWh of electricity used since the beginning.\n"
          ]
        },
        {
          "metadata": {
            "tags": null
          },
          "name": "stdout",
          "output_type": "stream",
          "text": [
            "678/721 [===========================>..] - ETA: 22s - loss: 0.9077 - accuracy: 0.6768"
          ]
        },
        {
          "metadata": {
            "tags": null
          },
          "name": "stderr",
          "output_type": "stream",
          "text": [
            "[codecarbon INFO @ 07:33:36] Energy consumed for RAM : 0.000554 kWh. RAM Power : 4.754399299621582 W\n",
            "[codecarbon INFO @ 07:33:36] Energy consumed for all GPUs : 0.006583 kWh. Total GPU Power : 70.151 W\n"
          ]
        },
        {
          "metadata": {
            "tags": null
          },
          "name": "stdout",
          "output_type": "stream",
          "text": [
            "\b\b\b\b\b\b\b\b\b\b\b\b\b\b\b\b\b\b\b\b\b\b\b\b\b\b\b\b\b\b\b\b\b\b\b\b\b\b\b\b\b\b\b\b\b\b\b\b\b\b\b\b\b\b\b\b\b\b\b\b\b\b\b\b\b\b\b\b\b\b\b\b\b\b\b\b\b\b\b\b\b\b\b\b\b\r679/721 [===========================>..] - ETA: 21s - loss: 0.9078 - accuracy: 0.6768"
          ]
        },
        {
          "metadata": {
            "tags": null
          },
          "name": "stderr",
          "output_type": "stream",
          "text": [
            "[codecarbon INFO @ 07:33:36] Energy consumed for all CPUs : 0.004958 kWh. Total CPU Power : 42.5 W\n",
            "[codecarbon INFO @ 07:33:36] 0.012095 kWh of electricity used since the beginning.\n"
          ]
        },
        {
          "metadata": {
            "tags": null
          },
          "name": "stdout",
          "output_type": "stream",
          "text": [
            "709/721 [============================>.] - ETA: 6s - loss: 0.8950 - accuracy: 0.6819"
          ]
        },
        {
          "metadata": {
            "tags": null
          },
          "name": "stderr",
          "output_type": "stream",
          "text": [
            "[codecarbon INFO @ 07:33:51] Energy consumed for RAM : 0.000574 kWh. RAM Power : 4.754399299621582 W\n",
            "[codecarbon INFO @ 07:33:51] Energy consumed for all GPUs : 0.006763 kWh. Total GPU Power : 43.227000000000004 W\n",
            "[codecarbon INFO @ 07:33:51] Energy consumed for all CPUs : 0.005135 kWh. Total CPU Power : 42.5 W\n",
            "[codecarbon INFO @ 07:33:51] 0.012471 kWh of electricity used since the beginning.\n"
          ]
        },
        {
          "metadata": {
            "tags": null
          },
          "name": "stdout",
          "output_type": "stream",
          "text": [
            "721/721 [==============================] - ETA: 0s - loss: 0.8910 - accuracy: 0.6836"
          ]
        },
        {
          "metadata": {
            "tags": null
          },
          "name": "stderr",
          "output_type": "stream",
          "text": [
            "[codecarbon INFO @ 07:34:06] Energy consumed for RAM : 0.000593 kWh. RAM Power : 4.754399299621582 W\n",
            "[codecarbon INFO @ 07:34:06] Energy consumed for all GPUs : 0.006916 kWh. Total GPU Power : 36.786 W\n",
            "[codecarbon INFO @ 07:34:06] Energy consumed for all CPUs : 0.005312 kWh. Total CPU Power : 42.5 W\n",
            "[codecarbon INFO @ 07:34:06] 0.012821 kWh of electricity used since the beginning.\n",
            "[codecarbon INFO @ 07:34:21] Energy consumed for RAM : 0.000613 kWh. RAM Power : 4.754399299621582 W\n",
            "[codecarbon INFO @ 07:34:21] Energy consumed for all GPUs : 0.007222 kWh. Total GPU Power : 73.726 W\n",
            "[codecarbon INFO @ 07:34:21] Energy consumed for all CPUs : 0.005489 kWh. Total CPU Power : 42.5 W\n",
            "[codecarbon INFO @ 07:34:21] 0.013324 kWh of electricity used since the beginning.\n"
          ]
        },
        {
          "metadata": {
            "tags": null
          },
          "name": "stdout",
          "output_type": "stream",
          "text": [
            "721/721 [==============================] - 441s 558ms/step - loss: 0.8910 - accuracy: 0.6836 - val_loss: 0.4776 - val_accuracy: 0.8242\n",
            "Epoch 2/20\n",
            " 26/721 [>.............................] - ETA: 5:39 - loss: 0.6990 - accuracy: 0.7404"
          ]
        },
        {
          "metadata": {
            "tags": null
          },
          "name": "stderr",
          "output_type": "stream",
          "text": [
            "[codecarbon INFO @ 07:34:36] Energy consumed for RAM : 0.000633 kWh. RAM Power : 4.754399299621582 W\n",
            "[codecarbon INFO @ 07:34:36] Energy consumed for all GPUs : 0.007515 kWh. Total GPU Power : 70.444 W\n",
            "[codecarbon INFO @ 07:34:36] Energy consumed for all CPUs : 0.005666 kWh. Total CPU Power : 42.5 W\n",
            "[codecarbon INFO @ 07:34:36] 0.013814 kWh of electricity used since the beginning.\n"
          ]
        },
        {
          "metadata": {
            "tags": null
          },
          "name": "stdout",
          "output_type": "stream",
          "text": [
            " 58/721 [=>............................] - ETA: 5:16 - loss: 0.6440 - accuracy: 0.7705"
          ]
        },
        {
          "metadata": {
            "tags": null
          },
          "name": "stderr",
          "output_type": "stream",
          "text": [
            "[codecarbon INFO @ 07:34:51] Energy consumed for RAM : 0.000653 kWh. RAM Power : 4.754399299621582 W\n",
            "[codecarbon INFO @ 07:34:51] Energy consumed for all GPUs : 0.007728 kWh. Total GPU Power : 51.02 W\n",
            "[codecarbon INFO @ 07:34:51] Energy consumed for all CPUs : 0.005843 kWh. Total CPU Power : 42.5 W\n",
            "[codecarbon INFO @ 07:34:51] 0.014223 kWh of electricity used since the beginning.\n"
          ]
        },
        {
          "metadata": {
            "tags": null
          },
          "name": "stdout",
          "output_type": "stream",
          "text": [
            " 88/721 [==>...........................] - ETA: 5:06 - loss: 0.6127 - accuracy: 0.7820"
          ]
        },
        {
          "metadata": {
            "tags": null
          },
          "name": "stderr",
          "output_type": "stream",
          "text": [
            "[codecarbon INFO @ 07:35:06] Energy consumed for RAM : 0.000672 kWh. RAM Power : 4.754399299621582 W\n",
            "[codecarbon INFO @ 07:35:06] Energy consumed for all GPUs : 0.007908 kWh. Total GPU Power : 43.325 W\n",
            "[codecarbon INFO @ 07:35:06] Energy consumed for all CPUs : 0.006020 kWh. Total CPU Power : 42.5 W\n",
            "[codecarbon INFO @ 07:35:06] 0.014601 kWh of electricity used since the beginning.\n"
          ]
        },
        {
          "metadata": {
            "tags": null
          },
          "name": "stdout",
          "output_type": "stream",
          "text": [
            "119/721 [===>..........................] - ETA: 4:51 - loss: 0.6141 - accuracy: 0.7841"
          ]
        },
        {
          "metadata": {
            "tags": null
          },
          "name": "stderr",
          "output_type": "stream",
          "text": [
            "[codecarbon INFO @ 07:35:21] Energy consumed for RAM : 0.000692 kWh. RAM Power : 4.754399299621582 W\n",
            "[codecarbon INFO @ 07:35:21] Energy consumed for all GPUs : 0.008086 kWh. Total GPU Power : 42.636 W\n",
            "[codecarbon INFO @ 07:35:21] Energy consumed for all CPUs : 0.006197 kWh. Total CPU Power : 42.5 W\n",
            "[codecarbon INFO @ 07:35:21] 0.014975 kWh of electricity used since the beginning.\n"
          ]
        },
        {
          "metadata": {
            "tags": null
          },
          "name": "stdout",
          "output_type": "stream",
          "text": [
            "150/721 [=====>........................] - ETA: 4:36 - loss: 0.6095 - accuracy: 0.7833"
          ]
        },
        {
          "metadata": {
            "tags": null
          },
          "name": "stderr",
          "output_type": "stream",
          "text": [
            "[codecarbon INFO @ 07:35:36] Energy consumed for RAM : 0.000712 kWh. RAM Power : 4.754399299621582 W\n",
            "[codecarbon INFO @ 07:35:36] Energy consumed for all GPUs : 0.008360 kWh. Total GPU Power : 65.828 W\n",
            "[codecarbon INFO @ 07:35:36] Energy consumed for all CPUs : 0.006374 kWh. Total CPU Power : 42.5 W\n",
            "[codecarbon INFO @ 07:35:36] 0.015446 kWh of electricity used since the beginning.\n"
          ]
        },
        {
          "metadata": {
            "tags": null
          },
          "name": "stdout",
          "output_type": "stream",
          "text": [
            "181/721 [======>.......................] - ETA: 4:21 - loss: 0.5981 - accuracy: 0.7856"
          ]
        },
        {
          "metadata": {
            "tags": null
          },
          "name": "stderr",
          "output_type": "stream",
          "text": [
            "[codecarbon INFO @ 07:35:51] Energy consumed for RAM : 0.000732 kWh. RAM Power : 4.754399299621582 W\n",
            "[codecarbon INFO @ 07:35:51] Energy consumed for all GPUs : 0.008594 kWh. Total GPU Power : 56.264 W\n",
            "[codecarbon INFO @ 07:35:51] Energy consumed for all CPUs : 0.006551 kWh. Total CPU Power : 42.5 W\n",
            "[codecarbon INFO @ 07:35:51] 0.015876 kWh of electricity used since the beginning.\n"
          ]
        },
        {
          "metadata": {
            "tags": null
          },
          "name": "stdout",
          "output_type": "stream",
          "text": [
            "211/721 [=======>......................] - ETA: 4:08 - loss: 0.5959 - accuracy: 0.7861"
          ]
        },
        {
          "metadata": {
            "tags": null
          },
          "name": "stderr",
          "output_type": "stream",
          "text": [
            "[codecarbon INFO @ 07:36:06] Energy consumed for RAM : 0.000752 kWh. RAM Power : 4.754399299621582 W\n",
            "[codecarbon INFO @ 07:36:06] Energy consumed for all GPUs : 0.008762 kWh. Total GPU Power : 40.515 W\n",
            "[codecarbon INFO @ 07:36:06] Energy consumed for all CPUs : 0.006728 kWh. Total CPU Power : 42.5 W\n",
            "[codecarbon INFO @ 07:36:06] 0.016242 kWh of electricity used since the beginning.\n"
          ]
        },
        {
          "metadata": {
            "tags": null
          },
          "name": "stdout",
          "output_type": "stream",
          "text": [
            "241/721 [=========>....................] - ETA: 3:54 - loss: 0.5825 - accuracy: 0.7910"
          ]
        },
        {
          "metadata": {
            "tags": null
          },
          "name": "stderr",
          "output_type": "stream",
          "text": [
            "[codecarbon INFO @ 07:36:21] Energy consumed for RAM : 0.000771 kWh. RAM Power : 4.754399299621582 W\n",
            "[codecarbon INFO @ 07:36:21] Energy consumed for all GPUs : 0.008939 kWh. Total GPU Power : 42.365 W\n",
            "[codecarbon INFO @ 07:36:21] Energy consumed for all CPUs : 0.006905 kWh. Total CPU Power : 42.5 W\n",
            "[codecarbon INFO @ 07:36:21] 0.016615 kWh of electricity used since the beginning.\n"
          ]
        },
        {
          "metadata": {
            "tags": null
          },
          "name": "stdout",
          "output_type": "stream",
          "text": [
            "269/721 [==========>...................] - ETA: 3:42 - loss: 0.5810 - accuracy: 0.7918"
          ]
        },
        {
          "metadata": {
            "tags": null
          },
          "name": "stderr",
          "output_type": "stream",
          "text": [
            "[codecarbon INFO @ 07:36:36] Energy consumed for RAM : 0.000791 kWh. RAM Power : 4.754399299621582 W\n",
            "[codecarbon INFO @ 07:36:36] Energy consumed for all GPUs : 0.009122 kWh. Total GPU Power : 44.015 W\n",
            "[codecarbon INFO @ 07:36:36] Energy consumed for all CPUs : 0.007082 kWh. Total CPU Power : 42.5 W\n",
            "[codecarbon INFO @ 07:36:36] 0.016995 kWh of electricity used since the beginning.\n"
          ]
        },
        {
          "metadata": {
            "tags": null
          },
          "name": "stdout",
          "output_type": "stream",
          "text": [
            "299/721 [===========>..................] - ETA: 3:28 - loss: 0.5742 - accuracy: 0.7941"
          ]
        },
        {
          "metadata": {
            "tags": null
          },
          "name": "stderr",
          "output_type": "stream",
          "text": [
            "[codecarbon INFO @ 07:36:51] Energy consumed for RAM : 0.000811 kWh. RAM Power : 4.754399299621582 W\n",
            "[codecarbon INFO @ 07:36:51] Energy consumed for all GPUs : 0.009416 kWh. Total GPU Power : 70.684 W\n",
            "[codecarbon INFO @ 07:36:51] Energy consumed for all CPUs : 0.007259 kWh. Total CPU Power : 42.5 W\n",
            "[codecarbon INFO @ 07:36:51] 0.017486 kWh of electricity used since the beginning.\n"
          ]
        },
        {
          "metadata": {
            "tags": null
          },
          "name": "stdout",
          "output_type": "stream",
          "text": [
            "329/721 [============>.................] - ETA: 3:13 - loss: 0.5710 - accuracy: 0.7964"
          ]
        },
        {
          "metadata": {
            "tags": null
          },
          "name": "stderr",
          "output_type": "stream",
          "text": [
            "[codecarbon INFO @ 07:37:06] Energy consumed for RAM : 0.000831 kWh. RAM Power : 4.754399299621582 W\n",
            "[codecarbon INFO @ 07:37:06] Energy consumed for all GPUs : 0.009796 kWh. Total GPU Power : 91.278 W\n",
            "[codecarbon INFO @ 07:37:06] Energy consumed for all CPUs : 0.007437 kWh. Total CPU Power : 42.5 W\n",
            "[codecarbon INFO @ 07:37:06] 0.018063 kWh of electricity used since the beginning.\n"
          ]
        },
        {
          "metadata": {
            "tags": null
          },
          "name": "stdout",
          "output_type": "stream",
          "text": [
            "361/721 [==============>...............] - ETA: 2:56 - loss: 0.5740 - accuracy: 0.7957"
          ]
        },
        {
          "metadata": {
            "tags": null
          },
          "name": "stderr",
          "output_type": "stream",
          "text": [
            "[codecarbon INFO @ 07:37:21] Energy consumed for RAM : 0.000851 kWh. RAM Power : 4.754399299621582 W\n",
            "[codecarbon INFO @ 07:37:21] Energy consumed for all GPUs : 0.010172 kWh. Total GPU Power : 90.636 W\n",
            "[codecarbon INFO @ 07:37:21] Energy consumed for all CPUs : 0.007613 kWh. Total CPU Power : 42.5 W\n",
            "[codecarbon INFO @ 07:37:21] 0.018636 kWh of electricity used since the beginning.\n"
          ]
        },
        {
          "metadata": {
            "tags": null
          },
          "name": "stdout",
          "output_type": "stream",
          "text": [
            "392/721 [===============>..............] - ETA: 2:41 - loss: 0.5675 - accuracy: 0.7966"
          ]
        },
        {
          "metadata": {
            "tags": null
          },
          "name": "stderr",
          "output_type": "stream",
          "text": [
            "[codecarbon INFO @ 07:37:36] Energy consumed for RAM : 0.000870 kWh. RAM Power : 4.754399299621582 W\n",
            "[codecarbon INFO @ 07:37:36] Energy consumed for all GPUs : 0.010355 kWh. Total GPU Power : 43.818 W\n",
            "[codecarbon INFO @ 07:37:36] Energy consumed for all CPUs : 0.007790 kWh. Total CPU Power : 42.5 W\n",
            "[codecarbon INFO @ 07:37:36] 0.019015 kWh of electricity used since the beginning.\n"
          ]
        },
        {
          "metadata": {
            "tags": null
          },
          "name": "stdout",
          "output_type": "stream",
          "text": [
            "422/721 [================>.............] - ETA: 2:26 - loss: 0.5595 - accuracy: 0.7995"
          ]
        },
        {
          "metadata": {
            "tags": null
          },
          "name": "stderr",
          "output_type": "stream",
          "text": [
            "[codecarbon INFO @ 07:37:51] Energy consumed for RAM : 0.000890 kWh. RAM Power : 4.754399299621582 W\n",
            "[codecarbon INFO @ 07:37:51] Energy consumed for all GPUs : 0.010751 kWh. Total GPU Power : 95.249 W\n",
            "[codecarbon INFO @ 07:37:51] Energy consumed for all CPUs : 0.007967 kWh. Total CPU Power : 42.5 W\n",
            "[codecarbon INFO @ 07:37:51] 0.019608 kWh of electricity used since the beginning.\n"
          ]
        },
        {
          "metadata": {
            "tags": null
          },
          "name": "stdout",
          "output_type": "stream",
          "text": [
            "453/721 [=================>............] - ETA: 2:11 - loss: 0.5618 - accuracy: 0.8015"
          ]
        },
        {
          "metadata": {
            "tags": null
          },
          "name": "stderr",
          "output_type": "stream",
          "text": [
            "[codecarbon INFO @ 07:38:06] Energy consumed for RAM : 0.000910 kWh. RAM Power : 4.754399299621582 W\n",
            "[codecarbon INFO @ 07:38:06] Energy consumed for all GPUs : 0.010904 kWh. Total GPU Power : 36.884 W\n",
            "[codecarbon INFO @ 07:38:06] Energy consumed for all CPUs : 0.008145 kWh. Total CPU Power : 42.5 W\n",
            "[codecarbon INFO @ 07:38:06] 0.019959 kWh of electricity used since the beginning.\n"
          ]
        },
        {
          "metadata": {
            "tags": null
          },
          "name": "stdout",
          "output_type": "stream",
          "text": [
            "484/721 [===================>..........] - ETA: 1:56 - loss: 0.5609 - accuracy: 0.8018"
          ]
        },
        {
          "metadata": {
            "tags": null
          },
          "name": "stderr",
          "output_type": "stream",
          "text": [
            "[codecarbon INFO @ 07:38:21] Energy consumed for RAM : 0.000930 kWh. RAM Power : 4.754399299621582 W\n",
            "[codecarbon INFO @ 07:38:21] Energy consumed for all GPUs : 0.011282 kWh. Total GPU Power : 90.71700000000001 W\n",
            "[codecarbon INFO @ 07:38:21] Energy consumed for all CPUs : 0.008322 kWh. Total CPU Power : 42.5 W\n",
            "[codecarbon INFO @ 07:38:21] 0.020534 kWh of electricity used since the beginning.\n"
          ]
        },
        {
          "metadata": {
            "tags": null
          },
          "name": "stdout",
          "output_type": "stream",
          "text": [
            "515/721 [====================>.........] - ETA: 1:41 - loss: 0.5624 - accuracy: 0.8006"
          ]
        },
        {
          "metadata": {
            "tags": null
          },
          "name": "stderr",
          "output_type": "stream",
          "text": [
            "[codecarbon INFO @ 07:38:36] Energy consumed for RAM : 0.000949 kWh. RAM Power : 4.754399299621582 W\n",
            "[codecarbon INFO @ 07:38:36] Energy consumed for all GPUs : 0.011448 kWh. Total GPU Power : 39.702 W\n",
            "[codecarbon INFO @ 07:38:36] Energy consumed for all CPUs : 0.008499 kWh. Total CPU Power : 42.5 W\n",
            "[codecarbon INFO @ 07:38:36] 0.020896 kWh of electricity used since the beginning.\n"
          ]
        },
        {
          "metadata": {
            "tags": null
          },
          "name": "stdout",
          "output_type": "stream",
          "text": [
            "544/721 [=====================>........] - ETA: 1:27 - loss: 0.5582 - accuracy: 0.8012"
          ]
        },
        {
          "metadata": {
            "tags": null
          },
          "name": "stderr",
          "output_type": "stream",
          "text": [
            "[codecarbon INFO @ 07:38:51] Energy consumed for RAM : 0.000969 kWh. RAM Power : 4.754399299621582 W\n",
            "[codecarbon INFO @ 07:38:51] Energy consumed for all GPUs : 0.011629 kWh. Total GPU Power : 43.621 W\n",
            "[codecarbon INFO @ 07:38:51] Energy consumed for all CPUs : 0.008676 kWh. Total CPU Power : 42.5 W\n",
            "[codecarbon INFO @ 07:38:51] 0.021274 kWh of electricity used since the beginning.\n"
          ]
        },
        {
          "metadata": {
            "tags": null
          },
          "name": "stdout",
          "output_type": "stream",
          "text": [
            "573/721 [======================>.......] - ETA: 1:12 - loss: 0.5576 - accuracy: 0.8015"
          ]
        },
        {
          "metadata": {
            "tags": null
          },
          "name": "stderr",
          "output_type": "stream",
          "text": [
            "[codecarbon INFO @ 07:39:06] Energy consumed for RAM : 0.000989 kWh. RAM Power : 4.754399299621582 W\n",
            "[codecarbon INFO @ 07:39:06] Energy consumed for all GPUs : 0.011952 kWh. Total GPU Power : 77.541 W\n",
            "[codecarbon INFO @ 07:39:06] Energy consumed for all CPUs : 0.008853 kWh. Total CPU Power : 42.5 W\n",
            "[codecarbon INFO @ 07:39:06] 0.021794 kWh of electricity used since the beginning.\n"
          ]
        },
        {
          "metadata": {
            "tags": null
          },
          "name": "stdout",
          "output_type": "stream",
          "text": [
            "602/721 [========================>.....] - ETA: 58s - loss: 0.5556 - accuracy: 0.8019"
          ]
        },
        {
          "metadata": {
            "tags": null
          },
          "name": "stderr",
          "output_type": "stream",
          "text": [
            "[codecarbon INFO @ 07:39:21] Energy consumed for RAM : 0.001009 kWh. RAM Power : 4.754399299621582 W\n",
            "[codecarbon INFO @ 07:39:21] Energy consumed for all GPUs : 0.012256 kWh. Total GPU Power : 73.237 W\n",
            "[codecarbon INFO @ 07:39:21] Energy consumed for all CPUs : 0.009030 kWh. Total CPU Power : 42.5 W\n",
            "[codecarbon INFO @ 07:39:21] 0.022295 kWh of electricity used since the beginning.\n"
          ]
        },
        {
          "metadata": {
            "tags": null
          },
          "name": "stdout",
          "output_type": "stream",
          "text": [
            "631/721 [=========================>....] - ETA: 44s - loss: 0.5523 - accuracy: 0.8029"
          ]
        },
        {
          "metadata": {
            "tags": null
          },
          "name": "stderr",
          "output_type": "stream",
          "text": [
            "[codecarbon INFO @ 07:39:36] Energy consumed for RAM : 0.001029 kWh. RAM Power : 4.754399299621582 W\n",
            "[codecarbon INFO @ 07:39:36] Energy consumed for all GPUs : 0.012440 kWh. Total GPU Power : 44.212 W\n",
            "[codecarbon INFO @ 07:39:36] Energy consumed for all CPUs : 0.009207 kWh. Total CPU Power : 42.5 W\n",
            "[codecarbon INFO @ 07:39:36] 0.022676 kWh of electricity used since the beginning.\n"
          ]
        },
        {
          "metadata": {
            "tags": null
          },
          "name": "stdout",
          "output_type": "stream",
          "text": [
            "661/721 [==========================>...] - ETA: 29s - loss: 0.5528 - accuracy: 0.8024"
          ]
        },
        {
          "metadata": {
            "tags": null
          },
          "name": "stderr",
          "output_type": "stream",
          "text": [
            "[codecarbon INFO @ 07:39:51] Energy consumed for RAM : 0.001048 kWh. RAM Power : 4.754399299621582 W\n",
            "[codecarbon INFO @ 07:39:51] Energy consumed for all GPUs : 0.012600 kWh. Total GPU Power : 38.343 W\n",
            "[codecarbon INFO @ 07:39:51] Energy consumed for all CPUs : 0.009384 kWh. Total CPU Power : 42.5 W\n",
            "[codecarbon INFO @ 07:39:51] 0.023032 kWh of electricity used since the beginning.\n"
          ]
        },
        {
          "metadata": {
            "tags": null
          },
          "name": "stdout",
          "output_type": "stream",
          "text": [
            "691/721 [===========================>..] - ETA: 14s - loss: 0.5482 - accuracy: 0.8041"
          ]
        },
        {
          "metadata": {
            "tags": null
          },
          "name": "stderr",
          "output_type": "stream",
          "text": [
            "[codecarbon INFO @ 07:40:06] Energy consumed for RAM : 0.001068 kWh. RAM Power : 4.754399299621582 W\n",
            "[codecarbon INFO @ 07:40:06] Energy consumed for all GPUs : 0.012946 kWh. Total GPU Power : 83.251 W\n",
            "[codecarbon INFO @ 07:40:06] Energy consumed for all CPUs : 0.009561 kWh. Total CPU Power : 42.5 W\n",
            "[codecarbon INFO @ 07:40:06] 0.023575 kWh of electricity used since the beginning.\n"
          ]
        },
        {
          "metadata": {
            "tags": null
          },
          "name": "stdout",
          "output_type": "stream",
          "text": [
            "721/721 [==============================] - ETA: 0s - loss: 0.5459 - accuracy: 0.8047"
          ]
        },
        {
          "metadata": {
            "tags": null
          },
          "name": "stderr",
          "output_type": "stream",
          "text": [
            "[codecarbon INFO @ 07:40:21] Energy consumed for RAM : 0.001088 kWh. RAM Power : 4.754399299621582 W\n",
            "[codecarbon INFO @ 07:40:21] Energy consumed for all GPUs : 0.013113 kWh. Total GPU Power : 39.922000000000004 W\n",
            "[codecarbon INFO @ 07:40:21] Energy consumed for all CPUs : 0.009738 kWh. Total CPU Power : 42.5 W\n",
            "[codecarbon INFO @ 07:40:21] 0.023938 kWh of electricity used since the beginning.\n",
            "[codecarbon INFO @ 07:40:36] Energy consumed for RAM : 0.001108 kWh. RAM Power : 4.754399299621582 W\n",
            "[codecarbon INFO @ 07:40:36] Energy consumed for all GPUs : 0.013252 kWh. Total GPU Power : 33.466 W\n",
            "[codecarbon INFO @ 07:40:36] Energy consumed for all CPUs : 0.009915 kWh. Total CPU Power : 42.5 W\n",
            "[codecarbon INFO @ 07:40:36] 0.024274 kWh of electricity used since the beginning.\n"
          ]
        },
        {
          "metadata": {
            "tags": null
          },
          "name": "stdout",
          "output_type": "stream",
          "text": [
            "\b\b\b\b\b\b\b\b\b\b\b\b\b\b\b\b\b\b\b\b\b\b\b\b\b\b\b\b\b\b\b\b\b\b\b\b\b\b\b\b\b\b\b\b\b\b\b\b\b\b\b\b\b\b\b\b\b\b\b\b\b\b\b\b\b\b\b\b\b\b\b\b\b\b\b\b\b\b\b\b\b\b\b\b\r721/721 [==============================] - 383s 532ms/step - loss: 0.5459 - accuracy: 0.8047 - val_loss: 0.4405 - val_accuracy: 0.8610\n"
          ]
        },
        {
          "metadata": {
            "tags": null
          },
          "name": "stderr",
          "output_type": "stream",
          "text": [
            "[codecarbon INFO @ 07:40:51] Energy consumed for RAM : 0.001127 kWh. RAM Power : 4.754399299621582 W\n",
            "[codecarbon INFO @ 07:40:51] Energy consumed for all GPUs : 0.013388 kWh. Total GPU Power : 32.873 W\n",
            "[codecarbon INFO @ 07:40:51] Energy consumed for all CPUs : 0.010092 kWh. Total CPU Power : 42.5 W\n",
            "[codecarbon INFO @ 07:40:51] 0.024608 kWh of electricity used since the beginning.\n",
            "[codecarbon INFO @ 07:41:06] Energy consumed for RAM : 0.001147 kWh. RAM Power : 4.754399299621582 W\n",
            "[codecarbon INFO @ 07:41:06] Energy consumed for all GPUs : 0.013525 kWh. Total GPU Power : 32.77400000000001 W\n",
            "[codecarbon INFO @ 07:41:06] Energy consumed for all CPUs : 0.010269 kWh. Total CPU Power : 42.5 W\n",
            "[codecarbon INFO @ 07:41:06] 0.024941 kWh of electricity used since the beginning.\n",
            "[codecarbon INFO @ 07:41:21] Energy consumed for RAM : 0.001167 kWh. RAM Power : 4.754399299621582 W\n",
            "[codecarbon INFO @ 07:41:21] Energy consumed for all GPUs : 0.013661 kWh. Total GPU Power : 32.675 W\n",
            "[codecarbon INFO @ 07:41:21] Energy consumed for all CPUs : 0.010446 kWh. Total CPU Power : 42.5 W\n",
            "[codecarbon INFO @ 07:41:21] 0.025274 kWh of electricity used since the beginning.\n",
            "[codecarbon INFO @ 07:41:36] Energy consumed for RAM : 0.001187 kWh. RAM Power : 4.754399299621582 W\n",
            "[codecarbon INFO @ 07:41:36] Energy consumed for all GPUs : 0.013797 kWh. Total GPU Power : 32.576 W\n",
            "[codecarbon INFO @ 07:41:36] Energy consumed for all CPUs : 0.010623 kWh. Total CPU Power : 42.5 W\n",
            "[codecarbon INFO @ 07:41:36] 0.025606 kWh of electricity used since the beginning.\n"
          ]
        },
        {
          "metadata": {
            "tags": null
          },
          "name": "stdout",
          "output_type": "stream",
          "text": [
            "Epoch 3/20\n",
            " 13/721 [..............................] - ETA: 5:03 - loss: 0.4976 - accuracy: 0.7837"
          ]
        },
        {
          "metadata": {
            "tags": null
          },
          "name": "stderr",
          "output_type": "stream",
          "text": [
            "[codecarbon INFO @ 07:41:51] Energy consumed for RAM : 0.001207 kWh. RAM Power : 4.754399299621582 W\n",
            "[codecarbon INFO @ 07:41:51] Energy consumed for all GPUs : 0.013956 kWh. Total GPU Power : 38.267 W\n",
            "[codecarbon INFO @ 07:41:51] Energy consumed for all CPUs : 0.010800 kWh. Total CPU Power : 42.5 W\n",
            "[codecarbon INFO @ 07:41:51] 0.025962 kWh of electricity used since the beginning.\n"
          ]
        },
        {
          "metadata": {
            "tags": null
          },
          "name": "stdout",
          "output_type": "stream",
          "text": [
            " 43/721 [>.............................] - ETA: 5:25 - loss: 0.4775 - accuracy: 0.8110"
          ]
        },
        {
          "metadata": {
            "tags": null
          },
          "name": "stderr",
          "output_type": "stream",
          "text": [
            "[codecarbon INFO @ 07:42:06] Energy consumed for RAM : 0.001226 kWh. RAM Power : 4.754399299621582 W\n",
            "[codecarbon INFO @ 07:42:06] Energy consumed for all GPUs : 0.014235 kWh. Total GPU Power : 67.004 W\n",
            "[codecarbon INFO @ 07:42:06] Energy consumed for all CPUs : 0.010977 kWh. Total CPU Power : 42.5 W\n",
            "[codecarbon INFO @ 07:42:06] 0.026438 kWh of electricity used since the beginning.\n"
          ]
        },
        {
          "metadata": {
            "tags": null
          },
          "name": "stdout",
          "output_type": "stream",
          "text": [
            " 73/721 [==>...........................] - ETA: 5:13 - loss: 0.4996 - accuracy: 0.8074"
          ]
        },
        {
          "metadata": {
            "tags": null
          },
          "name": "stderr",
          "output_type": "stream",
          "text": [
            "[codecarbon INFO @ 07:42:21] Energy consumed for RAM : 0.001246 kWh. RAM Power : 4.754399299621582 W\n",
            "[codecarbon INFO @ 07:42:21] Energy consumed for all GPUs : 0.014530 kWh. Total GPU Power : 71.031 W\n",
            "[codecarbon INFO @ 07:42:21] Energy consumed for all CPUs : 0.011154 kWh. Total CPU Power : 42.5 W\n",
            "[codecarbon INFO @ 07:42:21] 0.026931 kWh of electricity used since the beginning.\n"
          ]
        },
        {
          "metadata": {
            "tags": null
          },
          "name": "stdout",
          "output_type": "stream",
          "text": [
            "102/721 [===>..........................] - ETA: 5:03 - loss: 0.4912 - accuracy: 0.8131"
          ]
        },
        {
          "metadata": {
            "tags": null
          },
          "name": "stderr",
          "output_type": "stream",
          "text": [
            "[codecarbon INFO @ 07:42:36] Energy consumed for RAM : 0.001266 kWh. RAM Power : 4.754399299621582 W\n",
            "[codecarbon INFO @ 07:42:36] Energy consumed for all GPUs : 0.014904 kWh. Total GPU Power : 90.011 W\n",
            "[codecarbon INFO @ 07:42:36] Energy consumed for all CPUs : 0.011331 kWh. Total CPU Power : 42.5 W\n",
            "[codecarbon INFO @ 07:42:36] 0.027501 kWh of electricity used since the beginning.\n"
          ]
        },
        {
          "metadata": {
            "tags": null
          },
          "name": "stdout",
          "output_type": "stream",
          "text": [
            "132/721 [====>.........................] - ETA: 4:52 - loss: 0.4994 - accuracy: 0.8063"
          ]
        },
        {
          "metadata": {
            "tags": null
          },
          "name": "stderr",
          "output_type": "stream",
          "text": [
            "[codecarbon INFO @ 07:42:51] Energy consumed for RAM : 0.001286 kWh. RAM Power : 4.754399299621582 W\n",
            "[codecarbon INFO @ 07:42:51] Energy consumed for all GPUs : 0.015080 kWh. Total GPU Power : 42.365 W\n",
            "[codecarbon INFO @ 07:42:51] Energy consumed for all CPUs : 0.011508 kWh. Total CPU Power : 42.5 W\n",
            "[codecarbon INFO @ 07:42:51] 0.027874 kWh of electricity used since the beginning.\n"
          ]
        },
        {
          "metadata": {
            "tags": null
          },
          "name": "stdout",
          "output_type": "stream",
          "text": [
            "162/721 [=====>........................] - ETA: 4:38 - loss: 0.5024 - accuracy: 0.8032"
          ]
        },
        {
          "metadata": {
            "tags": null
          },
          "name": "stderr",
          "output_type": "stream",
          "text": [
            "[codecarbon INFO @ 07:43:06] Energy consumed for RAM : 0.001305 kWh. RAM Power : 4.754399299621582 W\n",
            "[codecarbon INFO @ 07:43:06] Energy consumed for all GPUs : 0.015259 kWh. Total GPU Power : 42.858000000000004 W\n",
            "[codecarbon INFO @ 07:43:06] Energy consumed for all CPUs : 0.011685 kWh. Total CPU Power : 42.5 W\n",
            "[codecarbon INFO @ 07:43:06] 0.028249 kWh of electricity used since the beginning.\n"
          ]
        },
        {
          "metadata": {
            "tags": null
          },
          "name": "stdout",
          "output_type": "stream",
          "text": [
            "192/721 [======>.......................] - ETA: 4:22 - loss: 0.4920 - accuracy: 0.8109"
          ]
        },
        {
          "metadata": {
            "tags": null
          },
          "name": "stderr",
          "output_type": "stream",
          "text": [
            "[codecarbon INFO @ 07:43:21] Energy consumed for RAM : 0.001325 kWh. RAM Power : 4.754399299621582 W\n",
            "[codecarbon INFO @ 07:43:21] Energy consumed for all GPUs : 0.015548 kWh. Total GPU Power : 69.46600000000001 W\n",
            "[codecarbon INFO @ 07:43:21] Energy consumed for all CPUs : 0.011862 kWh. Total CPU Power : 42.5 W\n",
            "[codecarbon INFO @ 07:43:21] 0.028735 kWh of electricity used since the beginning.\n"
          ]
        },
        {
          "metadata": {
            "tags": null
          },
          "name": "stdout",
          "output_type": "stream",
          "text": [
            "222/721 [========>.....................] - ETA: 4:08 - loss: 0.4901 - accuracy: 0.8128"
          ]
        },
        {
          "metadata": {
            "tags": null
          },
          "name": "stderr",
          "output_type": "stream",
          "text": [
            "[codecarbon INFO @ 07:43:36] Energy consumed for RAM : 0.001345 kWh. RAM Power : 4.754399299621582 W\n",
            "[codecarbon INFO @ 07:43:36] Energy consumed for all GPUs : 0.015844 kWh. Total GPU Power : 71.325 W\n",
            "[codecarbon INFO @ 07:43:36] Energy consumed for all CPUs : 0.012040 kWh. Total CPU Power : 42.5 W\n",
            "[codecarbon INFO @ 07:43:36] 0.029229 kWh of electricity used since the beginning.\n"
          ]
        },
        {
          "metadata": {
            "tags": null
          },
          "name": "stdout",
          "output_type": "stream",
          "text": [
            "251/721 [=========>....................] - ETA: 3:54 - loss: 0.4897 - accuracy: 0.8132"
          ]
        },
        {
          "metadata": {
            "tags": null
          },
          "name": "stderr",
          "output_type": "stream",
          "text": [
            "[codecarbon INFO @ 07:43:51] Energy consumed for RAM : 0.001365 kWh. RAM Power : 4.754399299621582 W\n",
            "[codecarbon INFO @ 07:43:51] Energy consumed for all GPUs : 0.016153 kWh. Total GPU Power : 74.215 W\n",
            "[codecarbon INFO @ 07:43:51] Energy consumed for all CPUs : 0.012216 kWh. Total CPU Power : 42.5 W\n",
            "[codecarbon INFO @ 07:43:51] 0.029734 kWh of electricity used since the beginning.\n"
          ]
        },
        {
          "metadata": {
            "tags": null
          },
          "name": "stdout",
          "output_type": "stream",
          "text": [
            "281/721 [==========>...................] - ETA: 3:39 - loss: 0.4903 - accuracy: 0.8154"
          ]
        },
        {
          "metadata": {
            "tags": null
          },
          "name": "stderr",
          "output_type": "stream",
          "text": [
            "[codecarbon INFO @ 07:44:06] Energy consumed for RAM : 0.001384 kWh. RAM Power : 4.754399299621582 W\n"
          ]
        },
        {
          "metadata": {
            "tags": null
          },
          "name": "stdout",
          "output_type": "stream",
          "text": [
            "\b\b\b\b\b\b\b\b\b\b\b\b\b\b\b\b\b\b\b\b\b\b\b\b\b\b\b\b\b\b\b\b\b\b\b\b\b\b\b\b\b\b\b\b\b\b\b\b\b\b\b\b\b\b\b\b\b\b\b\b\b\b\b\b\b\b\b\b\b\b\b\b\b\b\b\b\b\b\b\b\b\b\b\b\b\b\r282/721 [==========>...................] - ETA: 3:39 - loss: 0.4902 - accuracy: 0.8156"
          ]
        },
        {
          "metadata": {
            "tags": null
          },
          "name": "stderr",
          "output_type": "stream",
          "text": [
            "[codecarbon INFO @ 07:44:06] Energy consumed for all GPUs : 0.016427 kWh. Total GPU Power : 65.828 W\n",
            "[codecarbon INFO @ 07:44:06] Energy consumed for all CPUs : 0.012393 kWh. Total CPU Power : 42.5 W\n",
            "[codecarbon INFO @ 07:44:06] 0.030205 kWh of electricity used since the beginning.\n"
          ]
        },
        {
          "metadata": {
            "tags": null
          },
          "name": "stdout",
          "output_type": "stream",
          "text": [
            "311/721 [===========>..................] - ETA: 3:24 - loss: 0.4891 - accuracy: 0.8163"
          ]
        },
        {
          "metadata": {
            "tags": null
          },
          "name": "stderr",
          "output_type": "stream",
          "text": [
            "[codecarbon INFO @ 07:44:21] Energy consumed for RAM : 0.001404 kWh. RAM Power : 4.754399299621582 W\n",
            "[codecarbon INFO @ 07:44:21] Energy consumed for all GPUs : 0.016737 kWh. Total GPU Power : 74.462 W\n",
            "[codecarbon INFO @ 07:44:21] Energy consumed for all CPUs : 0.012571 kWh. Total CPU Power : 42.5 W\n",
            "[codecarbon INFO @ 07:44:21] 0.030711 kWh of electricity used since the beginning.\n"
          ]
        },
        {
          "metadata": {
            "tags": null
          },
          "name": "stdout",
          "output_type": "stream",
          "text": [
            "342/721 [=============>................] - ETA: 3:09 - loss: 0.4850 - accuracy: 0.8182"
          ]
        },
        {
          "metadata": {
            "tags": null
          },
          "name": "stderr",
          "output_type": "stream",
          "text": [
            "[codecarbon INFO @ 07:44:36] Energy consumed for RAM : 0.001424 kWh. RAM Power : 4.754399299621582 W\n",
            "[codecarbon INFO @ 07:44:36] Energy consumed for all GPUs : 0.017044 kWh. Total GPU Power : 73.82300000000001 W\n",
            "[codecarbon INFO @ 07:44:36] Energy consumed for all CPUs : 0.012748 kWh. Total CPU Power : 42.5 W\n",
            "[codecarbon INFO @ 07:44:36] 0.031215 kWh of electricity used since the beginning.\n"
          ]
        },
        {
          "metadata": {
            "tags": null
          },
          "name": "stdout",
          "output_type": "stream",
          "text": [
            "372/721 [==============>...............] - ETA: 2:54 - loss: 0.4875 - accuracy: 0.8184"
          ]
        },
        {
          "metadata": {
            "tags": null
          },
          "name": "stderr",
          "output_type": "stream",
          "text": [
            "[codecarbon INFO @ 07:44:51] Energy consumed for RAM : 0.001444 kWh. RAM Power : 4.754399299621582 W\n",
            "[codecarbon INFO @ 07:44:51] Energy consumed for all GPUs : 0.017324 kWh. Total GPU Power : 67.298 W\n",
            "[codecarbon INFO @ 07:44:51] Energy consumed for all CPUs : 0.012925 kWh. Total CPU Power : 42.5 W\n",
            "[codecarbon INFO @ 07:44:51] 0.031692 kWh of electricity used since the beginning.\n"
          ]
        },
        {
          "metadata": {
            "tags": null
          },
          "name": "stdout",
          "output_type": "stream",
          "text": [
            "400/721 [===============>..............] - ETA: 2:40 - loss: 0.4851 - accuracy: 0.8188"
          ]
        },
        {
          "metadata": {
            "tags": null
          },
          "name": "stderr",
          "output_type": "stream",
          "text": [
            "[codecarbon INFO @ 07:45:06] Energy consumed for RAM : 0.001464 kWh. RAM Power : 4.754399299621582 W\n",
            "[codecarbon INFO @ 07:45:06] Energy consumed for all GPUs : 0.017507 kWh. Total GPU Power : 43.943 W\n",
            "[codecarbon INFO @ 07:45:06] Energy consumed for all CPUs : 0.013102 kWh. Total CPU Power : 42.5 W\n",
            "[codecarbon INFO @ 07:45:06] 0.032072 kWh of electricity used since the beginning.\n"
          ]
        },
        {
          "metadata": {
            "tags": null
          },
          "name": "stdout",
          "output_type": "stream",
          "text": [
            "427/721 [================>.............] - ETA: 2:28 - loss: 0.4840 - accuracy: 0.8202"
          ]
        },
        {
          "metadata": {
            "tags": null
          },
          "name": "stderr",
          "output_type": "stream",
          "text": [
            "[codecarbon INFO @ 07:45:21] Energy consumed for RAM : 0.001483 kWh. RAM Power : 4.754399299621582 W\n",
            "[codecarbon INFO @ 07:45:21] Energy consumed for all GPUs : 0.017682 kWh. Total GPU Power : 42.094 W\n",
            "[codecarbon INFO @ 07:45:21] Energy consumed for all CPUs : 0.013279 kWh. Total CPU Power : 42.5 W\n",
            "[codecarbon INFO @ 07:45:21] 0.032444 kWh of electricity used since the beginning.\n"
          ]
        },
        {
          "metadata": {
            "tags": null
          },
          "name": "stdout",
          "output_type": "stream",
          "text": [
            "457/721 [==================>...........] - ETA: 2:13 - loss: 0.4841 - accuracy: 0.8206"
          ]
        },
        {
          "metadata": {
            "tags": null
          },
          "name": "stderr",
          "output_type": "stream",
          "text": [
            "[codecarbon INFO @ 07:45:36] Energy consumed for RAM : 0.001503 kWh. RAM Power : 4.754399299621582 W\n",
            "[codecarbon INFO @ 07:45:36] Energy consumed for all GPUs : 0.018000 kWh. Total GPU Power : 76.514 W\n",
            "[codecarbon INFO @ 07:45:36] Energy consumed for all CPUs : 0.013456 kWh. Total CPU Power : 42.5 W\n",
            "[codecarbon INFO @ 07:45:36] 0.032959 kWh of electricity used since the beginning.\n"
          ]
        },
        {
          "metadata": {
            "tags": null
          },
          "name": "stdout",
          "output_type": "stream",
          "text": [
            "488/721 [===================>..........] - ETA: 1:57 - loss: 0.4812 - accuracy: 0.8219"
          ]
        },
        {
          "metadata": {
            "tags": null
          },
          "name": "stderr",
          "output_type": "stream",
          "text": [
            "[codecarbon INFO @ 07:45:51] Energy consumed for RAM : 0.001523 kWh. RAM Power : 4.754399299621582 W\n",
            "[codecarbon INFO @ 07:45:51] Energy consumed for all GPUs : 0.018302 kWh. Total GPU Power : 72.59700000000001 W\n",
            "[codecarbon INFO @ 07:45:51] Energy consumed for all CPUs : 0.013633 kWh. Total CPU Power : 42.5 W\n",
            "[codecarbon INFO @ 07:45:51] 0.033458 kWh of electricity used since the beginning.\n"
          ]
        },
        {
          "metadata": {
            "tags": null
          },
          "name": "stdout",
          "output_type": "stream",
          "text": [
            "519/721 [====================>.........] - ETA: 1:41 - loss: 0.4792 - accuracy: 0.8227"
          ]
        },
        {
          "metadata": {
            "tags": null
          },
          "name": "stderr",
          "output_type": "stream",
          "text": [
            "[codecarbon INFO @ 07:46:06] Energy consumed for RAM : 0.001543 kWh. RAM Power : 4.754399299621582 W\n",
            "[codecarbon INFO @ 07:46:06] Energy consumed for all GPUs : 0.018470 kWh. Total GPU Power : 40.41600000000001 W\n",
            "[codecarbon INFO @ 07:46:06] Energy consumed for all CPUs : 0.013810 kWh. Total CPU Power : 42.5 W\n",
            "[codecarbon INFO @ 07:46:06] 0.033823 kWh of electricity used since the beginning.\n"
          ]
        },
        {
          "metadata": {
            "tags": null
          },
          "name": "stdout",
          "output_type": "stream",
          "text": [
            "549/721 [=====================>........] - ETA: 1:26 - loss: 0.4758 - accuracy: 0.8243"
          ]
        },
        {
          "metadata": {
            "tags": null
          },
          "name": "stderr",
          "output_type": "stream",
          "text": [
            "[codecarbon INFO @ 07:46:21] Energy consumed for RAM : 0.001563 kWh. RAM Power : 4.754399299621582 W\n",
            "[codecarbon INFO @ 07:46:21] Energy consumed for all GPUs : 0.018751 kWh. Total GPU Power : 67.437 W\n",
            "[codecarbon INFO @ 07:46:21] Energy consumed for all CPUs : 0.013987 kWh. Total CPU Power : 42.5 W\n",
            "[codecarbon INFO @ 07:46:21] 0.034301 kWh of electricity used since the beginning.\n"
          ]
        },
        {
          "metadata": {
            "tags": null
          },
          "name": "stdout",
          "output_type": "stream",
          "text": [
            "580/721 [=======================>......] - ETA: 1:10 - loss: 0.4728 - accuracy: 0.8250"
          ]
        },
        {
          "metadata": {
            "tags": null
          },
          "name": "stderr",
          "output_type": "stream",
          "text": [
            "[codecarbon INFO @ 07:46:36] Energy consumed for RAM : 0.001582 kWh. RAM Power : 4.754399299621582 W\n",
            "[codecarbon INFO @ 07:46:36] Energy consumed for all GPUs : 0.018936 kWh. Total GPU Power : 44.482 W\n",
            "[codecarbon INFO @ 07:46:36] Energy consumed for all CPUs : 0.014165 kWh. Total CPU Power : 42.5 W\n",
            "[codecarbon INFO @ 07:46:36] 0.034683 kWh of electricity used since the beginning.\n"
          ]
        },
        {
          "metadata": {
            "tags": null
          },
          "name": "stdout",
          "output_type": "stream",
          "text": [
            "610/721 [========================>.....] - ETA: 55s - loss: 0.4742 - accuracy: 0.8250"
          ]
        },
        {
          "metadata": {
            "tags": null
          },
          "name": "stderr",
          "output_type": "stream",
          "text": [
            "[codecarbon INFO @ 07:46:51] Energy consumed for RAM : 0.001602 kWh. RAM Power : 4.754399299621582 W\n",
            "[codecarbon INFO @ 07:46:51] Energy consumed for all GPUs : 0.019213 kWh. Total GPU Power : 66.51400000000001 W\n",
            "[codecarbon INFO @ 07:46:51] Energy consumed for all CPUs : 0.014342 kWh. Total CPU Power : 42.5 W\n",
            "[codecarbon INFO @ 07:46:51] 0.035157 kWh of electricity used since the beginning.\n"
          ]
        },
        {
          "metadata": {
            "tags": null
          },
          "name": "stdout",
          "output_type": "stream",
          "text": [
            "640/721 [=========================>....] - ETA: 40s - loss: 0.4719 - accuracy: 0.8262"
          ]
        },
        {
          "metadata": {
            "tags": null
          },
          "name": "stderr",
          "output_type": "stream",
          "text": [
            "[codecarbon INFO @ 07:47:06] Energy consumed for RAM : 0.001622 kWh. RAM Power : 4.754399299621582 W\n"
          ]
        },
        {
          "metadata": {
            "tags": null
          },
          "name": "stdout",
          "output_type": "stream",
          "text": [
            "\b\b\b\b\b\b\b\b\b\b\b\b\b\b\b\b\b\b\b\b\b\b\b\b\b\b\b\b\b\b\b\b\b\b\b\b\b\b\b\b\b\b\b\b\b\b\b\b\b\b\b\b\b\b\b\b\b\b\b\b\b\b\b\b\b\b\b\b\b\b\b\b\b\b\b\b\b\b\b\b\b\b\b\b\b\r641/721 [=========================>....] - ETA: 40s - loss: 0.4721 - accuracy: 0.8262"
          ]
        },
        {
          "metadata": {
            "tags": null
          },
          "name": "stderr",
          "output_type": "stream",
          "text": [
            "[codecarbon INFO @ 07:47:06] Energy consumed for all GPUs : 0.019516 kWh. Total GPU Power : 72.846 W\n",
            "[codecarbon INFO @ 07:47:06] Energy consumed for all CPUs : 0.014519 kWh. Total CPU Power : 42.5 W\n",
            "[codecarbon INFO @ 07:47:06] 0.035657 kWh of electricity used since the beginning.\n"
          ]
        },
        {
          "metadata": {
            "tags": null
          },
          "name": "stdout",
          "output_type": "stream",
          "text": [
            "672/721 [==========================>...] - ETA: 24s - loss: 0.4715 - accuracy: 0.8261"
          ]
        },
        {
          "metadata": {
            "tags": null
          },
          "name": "stderr",
          "output_type": "stream",
          "text": [
            "[codecarbon INFO @ 07:47:21] Energy consumed for RAM : 0.001642 kWh. RAM Power : 4.754399299621582 W\n",
            "[codecarbon INFO @ 07:47:21] Energy consumed for all GPUs : 0.019670 kWh. Total GPU Power : 36.884 W\n",
            "[codecarbon INFO @ 07:47:21] Energy consumed for all CPUs : 0.014696 kWh. Total CPU Power : 42.5 W\n",
            "[codecarbon INFO @ 07:47:21] 0.036007 kWh of electricity used since the beginning.\n"
          ]
        },
        {
          "metadata": {
            "tags": null
          },
          "name": "stdout",
          "output_type": "stream",
          "text": [
            "702/721 [============================>.] - ETA: 9s - loss: 0.4704 - accuracy: 0.8271"
          ]
        },
        {
          "metadata": {
            "tags": null
          },
          "name": "stderr",
          "output_type": "stream",
          "text": [
            "[codecarbon INFO @ 07:47:36] Energy consumed for RAM : 0.001661 kWh. RAM Power : 4.754399299621582 W\n",
            "[codecarbon INFO @ 07:47:36] Energy consumed for all GPUs : 0.019851 kWh. Total GPU Power : 43.621 W\n",
            "[codecarbon INFO @ 07:47:36] Energy consumed for all CPUs : 0.014873 kWh. Total CPU Power : 42.5 W\n",
            "[codecarbon INFO @ 07:47:36] 0.036385 kWh of electricity used since the beginning.\n"
          ]
        },
        {
          "metadata": {
            "tags": null
          },
          "name": "stdout",
          "output_type": "stream",
          "text": [
            "721/721 [==============================] - ETA: 0s - loss: 0.4696 - accuracy: 0.8276"
          ]
        },
        {
          "metadata": {
            "tags": null
          },
          "name": "stderr",
          "output_type": "stream",
          "text": [
            "[codecarbon INFO @ 07:47:51] Energy consumed for RAM : 0.001681 kWh. RAM Power : 4.754399299621582 W\n",
            "[codecarbon INFO @ 07:47:51] Energy consumed for all GPUs : 0.020119 kWh. Total GPU Power : 64.378 W\n",
            "[codecarbon INFO @ 07:47:51] Energy consumed for all CPUs : 0.015050 kWh. Total CPU Power : 42.5 W\n",
            "[codecarbon INFO @ 07:47:51] 0.036850 kWh of electricity used since the beginning.\n"
          ]
        },
        {
          "metadata": {
            "tags": null
          },
          "name": "stdout",
          "output_type": "stream",
          "text": [
            "\b\b\b\b\b\b\b\b\b\b\b\b\b\b\b\b\b\b\b\b\b\b\b\b\b\b\b\b\b\b\b\b\b\b\b\b\b\b\b\b\b\b\b\b\b\b\b\b\b\b\b\b\b\b\b\b\b\b\b\b\b\b\b\b\b\b\b\b\b\b\b\b\b\b\b\b\b\b\b\b\b\b\b\b\r721/721 [==============================] - 381s 527ms/step - loss: 0.4696 - accuracy: 0.8276 - val_loss: 0.4318 - val_accuracy: 0.8555\n",
            "Epoch 4/20\n"
          ]
        },
        {
          "metadata": {
            "tags": null
          },
          "name": "stderr",
          "output_type": "stream",
          "text": [
            "[codecarbon INFO @ 07:48:06] Energy consumed for RAM : 0.001701 kWh. RAM Power : 4.754399299621582 W\n",
            "[codecarbon INFO @ 07:48:06] Energy consumed for all GPUs : 0.020257 kWh. Total GPU Power : 33.151 W\n",
            "[codecarbon INFO @ 07:48:06] Energy consumed for all CPUs : 0.015227 kWh. Total CPU Power : 42.5 W\n",
            "[codecarbon INFO @ 07:48:06] 0.037185 kWh of electricity used since the beginning.\n"
          ]
        },
        {
          "metadata": {
            "tags": null
          },
          "name": "stdout",
          "output_type": "stream",
          "text": [
            " 32/721 [>.............................] - ETA: 5:21 - loss: 0.4576 - accuracy: 0.8320"
          ]
        },
        {
          "metadata": {
            "tags": null
          },
          "name": "stderr",
          "output_type": "stream",
          "text": [
            "[codecarbon INFO @ 07:48:21] Energy consumed for RAM : 0.001721 kWh. RAM Power : 4.754399299621582 W\n",
            "[codecarbon INFO @ 07:48:21] Energy consumed for all GPUs : 0.020641 kWh. Total GPU Power : 92.194 W\n",
            "[codecarbon INFO @ 07:48:21] Energy consumed for all CPUs : 0.015404 kWh. Total CPU Power : 42.5 W\n",
            "[codecarbon INFO @ 07:48:21] 0.037766 kWh of electricity used since the beginning.\n"
          ]
        },
        {
          "metadata": {
            "tags": null
          },
          "name": "stdout",
          "output_type": "stream",
          "text": [
            " 63/721 [=>............................] - ETA: 5:12 - loss: 0.4333 - accuracy: 0.8423"
          ]
        },
        {
          "metadata": {
            "tags": null
          },
          "name": "stderr",
          "output_type": "stream",
          "text": [
            "[codecarbon INFO @ 07:48:36] Energy consumed for RAM : 0.001740 kWh. RAM Power : 4.754399299621582 W\n",
            "[codecarbon INFO @ 07:48:36] Energy consumed for all GPUs : 0.020827 kWh. Total GPU Power : 44.705 W\n",
            "[codecarbon INFO @ 07:48:36] Energy consumed for all CPUs : 0.015581 kWh. Total CPU Power : 42.5 W\n",
            "[codecarbon INFO @ 07:48:36] 0.038148 kWh of electricity used since the beginning.\n"
          ]
        },
        {
          "metadata": {
            "tags": null
          },
          "name": "stdout",
          "output_type": "stream",
          "text": [
            " 94/721 [==>...........................] - ETA: 4:59 - loss: 0.4267 - accuracy: 0.8464"
          ]
        },
        {
          "metadata": {
            "tags": null
          },
          "name": "stderr",
          "output_type": "stream",
          "text": [
            "[codecarbon INFO @ 07:48:51] Energy consumed for RAM : 0.001760 kWh. RAM Power : 4.754399299621582 W\n",
            "[codecarbon INFO @ 07:48:51] Energy consumed for all GPUs : 0.021011 kWh. Total GPU Power : 44.337 W\n",
            "[codecarbon INFO @ 07:48:51] Energy consumed for all CPUs : 0.015758 kWh. Total CPU Power : 42.5 W\n",
            "[codecarbon INFO @ 07:48:51] 0.038530 kWh of electricity used since the beginning.\n"
          ]
        },
        {
          "metadata": {
            "tags": null
          },
          "name": "stdout",
          "output_type": "stream",
          "text": [
            "126/721 [====>.........................] - ETA: 4:43 - loss: 0.4240 - accuracy: 0.8462"
          ]
        },
        {
          "metadata": {
            "tags": null
          },
          "name": "stderr",
          "output_type": "stream",
          "text": [
            "[codecarbon INFO @ 07:49:06] Energy consumed for RAM : 0.001780 kWh. RAM Power : 4.754399299621582 W\n",
            "[codecarbon INFO @ 07:49:06] Energy consumed for all GPUs : 0.021188 kWh. Total GPU Power : 42.488 W\n",
            "[codecarbon INFO @ 07:49:06] Energy consumed for all CPUs : 0.015935 kWh. Total CPU Power : 42.5 W\n",
            "[codecarbon INFO @ 07:49:06] 0.038903 kWh of electricity used since the beginning.\n"
          ]
        },
        {
          "metadata": {
            "tags": null
          },
          "name": "stdout",
          "output_type": "stream",
          "text": [
            "154/721 [=====>........................] - ETA: 4:34 - loss: 0.4225 - accuracy: 0.8462"
          ]
        },
        {
          "metadata": {
            "tags": null
          },
          "name": "stderr",
          "output_type": "stream",
          "text": [
            "[codecarbon INFO @ 07:49:21] Energy consumed for RAM : 0.001800 kWh. RAM Power : 4.754399299621582 W\n",
            "[codecarbon INFO @ 07:49:21] Energy consumed for all GPUs : 0.021484 kWh. Total GPU Power : 71.075 W\n",
            "[codecarbon INFO @ 07:49:21] Energy consumed for all CPUs : 0.016112 kWh. Total CPU Power : 42.5 W\n",
            "[codecarbon INFO @ 07:49:21] 0.039396 kWh of electricity used since the beginning.\n"
          ]
        },
        {
          "metadata": {
            "tags": null
          },
          "name": "stdout",
          "output_type": "stream",
          "text": [
            "185/721 [======>.......................] - ETA: 4:20 - loss: 0.4271 - accuracy: 0.8422"
          ]
        },
        {
          "metadata": {
            "tags": null
          },
          "name": "stderr",
          "output_type": "stream",
          "text": [
            "[codecarbon INFO @ 07:49:36] Energy consumed for RAM : 0.001820 kWh. RAM Power : 4.754399299621582 W\n",
            "[codecarbon INFO @ 07:49:36] Energy consumed for all GPUs : 0.021781 kWh. Total GPU Power : 71.467 W\n",
            "[codecarbon INFO @ 07:49:36] Energy consumed for all CPUs : 0.016289 kWh. Total CPU Power : 42.5 W\n",
            "[codecarbon INFO @ 07:49:36] 0.039889 kWh of electricity used since the beginning.\n"
          ]
        },
        {
          "metadata": {
            "tags": null
          },
          "name": "stdout",
          "output_type": "stream",
          "text": [
            "218/721 [========>.....................] - ETA: 4:02 - loss: 0.4175 - accuracy: 0.8483"
          ]
        },
        {
          "metadata": {
            "tags": null
          },
          "name": "stderr",
          "output_type": "stream",
          "text": [
            "[codecarbon INFO @ 07:49:51] Energy consumed for RAM : 0.001839 kWh. RAM Power : 4.754399299621582 W\n",
            "[codecarbon INFO @ 07:49:51] Energy consumed for all GPUs : 0.022010 kWh. Total GPU Power : 55.02 W\n",
            "[codecarbon INFO @ 07:49:51] Energy consumed for all CPUs : 0.016466 kWh. Total CPU Power : 42.5 W\n",
            "[codecarbon INFO @ 07:49:51] 0.040315 kWh of electricity used since the beginning.\n"
          ]
        },
        {
          "metadata": {
            "tags": null
          },
          "name": "stdout",
          "output_type": "stream",
          "text": [
            "249/721 [=========>....................] - ETA: 3:47 - loss: 0.4249 - accuracy: 0.8466"
          ]
        },
        {
          "metadata": {
            "tags": null
          },
          "name": "stderr",
          "output_type": "stream",
          "text": [
            "[codecarbon INFO @ 07:50:06] Energy consumed for RAM : 0.001859 kWh. RAM Power : 4.754399299621582 W\n",
            "[codecarbon INFO @ 07:50:06] Energy consumed for all GPUs : 0.022315 kWh. Total GPU Power : 73.33500000000001 W\n",
            "[codecarbon INFO @ 07:50:06] Energy consumed for all CPUs : 0.016644 kWh. Total CPU Power : 42.5 W\n",
            "[codecarbon INFO @ 07:50:06] 0.040818 kWh of electricity used since the beginning.\n"
          ]
        },
        {
          "metadata": {
            "tags": null
          },
          "name": "stdout",
          "output_type": "stream",
          "text": [
            "280/721 [==========>...................] - ETA: 3:32 - loss: 0.4235 - accuracy: 0.8478"
          ]
        },
        {
          "metadata": {
            "tags": null
          },
          "name": "stderr",
          "output_type": "stream",
          "text": [
            "[codecarbon INFO @ 07:50:21] Energy consumed for RAM : 0.001879 kWh. RAM Power : 4.754399299621582 W\n",
            "[codecarbon INFO @ 07:50:21] Energy consumed for all GPUs : 0.022612 kWh. Total GPU Power : 71.41300000000001 W\n",
            "[codecarbon INFO @ 07:50:21] Energy consumed for all CPUs : 0.016821 kWh. Total CPU Power : 42.5 W\n",
            "[codecarbon INFO @ 07:50:21] 0.041312 kWh of electricity used since the beginning.\n"
          ]
        },
        {
          "metadata": {
            "tags": null
          },
          "name": "stdout",
          "output_type": "stream",
          "text": [
            "310/721 [===========>..................] - ETA: 3:18 - loss: 0.4213 - accuracy: 0.8490"
          ]
        },
        {
          "metadata": {
            "tags": null
          },
          "name": "stderr",
          "output_type": "stream",
          "text": [
            "[codecarbon INFO @ 07:50:36] Energy consumed for RAM : 0.001899 kWh. RAM Power : 4.754399299621582 W\n",
            "[codecarbon INFO @ 07:50:36] Energy consumed for all GPUs : 0.022795 kWh. Total GPU Power : 43.943 W\n",
            "[codecarbon INFO @ 07:50:36] Energy consumed for all CPUs : 0.016998 kWh. Total CPU Power : 42.5 W\n",
            "[codecarbon INFO @ 07:50:36] 0.041691 kWh of electricity used since the beginning.\n"
          ]
        },
        {
          "metadata": {
            "tags": null
          },
          "name": "stdout",
          "output_type": "stream",
          "text": [
            "342/721 [=============>................] - ETA: 3:03 - loss: 0.4299 - accuracy: 0.8469"
          ]
        },
        {
          "metadata": {
            "tags": null
          },
          "name": "stderr",
          "output_type": "stream",
          "text": [
            "[codecarbon INFO @ 07:50:51] Energy consumed for RAM : 0.001918 kWh. RAM Power : 4.754399299621582 W\n",
            "[codecarbon INFO @ 07:50:51] Energy consumed for all GPUs : 0.023100 kWh. Total GPU Power : 73.282 W\n",
            "[codecarbon INFO @ 07:50:51] Energy consumed for all CPUs : 0.017175 kWh. Total CPU Power : 42.5 W\n",
            "[codecarbon INFO @ 07:50:51] 0.042193 kWh of electricity used since the beginning.\n"
          ]
        },
        {
          "metadata": {
            "tags": null
          },
          "name": "stdout",
          "output_type": "stream",
          "text": [
            "373/721 [==============>...............] - ETA: 2:47 - loss: 0.4275 - accuracy: 0.8477"
          ]
        },
        {
          "metadata": {
            "tags": null
          },
          "name": "stderr",
          "output_type": "stream",
          "text": [
            "[codecarbon INFO @ 07:51:06] Energy consumed for RAM : 0.001938 kWh. RAM Power : 4.754399299621582 W\n",
            "[codecarbon INFO @ 07:51:06] Energy consumed for all GPUs : 0.023283 kWh. Total GPU Power : 44.114000000000004 W\n",
            "[codecarbon INFO @ 07:51:06] Energy consumed for all CPUs : 0.017352 kWh. Total CPU Power : 42.5 W\n",
            "[codecarbon INFO @ 07:51:06] 0.042573 kWh of electricity used since the beginning.\n"
          ]
        },
        {
          "metadata": {
            "tags": null
          },
          "name": "stdout",
          "output_type": "stream",
          "text": [
            "402/721 [===============>..............] - ETA: 2:34 - loss: 0.4227 - accuracy: 0.8503"
          ]
        },
        {
          "metadata": {
            "tags": null
          },
          "name": "stderr",
          "output_type": "stream",
          "text": [
            "[codecarbon INFO @ 07:51:21] Energy consumed for RAM : 0.001958 kWh. RAM Power : 4.754399299621582 W\n",
            "[codecarbon INFO @ 07:51:21] Energy consumed for all GPUs : 0.023587 kWh. Total GPU Power : 73.041 W\n",
            "[codecarbon INFO @ 07:51:21] Energy consumed for all CPUs : 0.017529 kWh. Total CPU Power : 42.5 W\n",
            "[codecarbon INFO @ 07:51:21] 0.043074 kWh of electricity used since the beginning.\n"
          ]
        },
        {
          "metadata": {
            "tags": null
          },
          "name": "stdout",
          "output_type": "stream",
          "text": [
            "432/721 [================>.............] - ETA: 2:20 - loss: 0.4234 - accuracy: 0.8505"
          ]
        },
        {
          "metadata": {
            "tags": null
          },
          "name": "stderr",
          "output_type": "stream",
          "text": [
            "[codecarbon INFO @ 07:51:36] Energy consumed for RAM : 0.001978 kWh. RAM Power : 4.754399299621582 W\n",
            "[codecarbon INFO @ 07:51:36] Energy consumed for all GPUs : 0.023965 kWh. Total GPU Power : 90.73400000000001 W\n",
            "[codecarbon INFO @ 07:51:36] Energy consumed for all CPUs : 0.017706 kWh. Total CPU Power : 42.5 W\n",
            "[codecarbon INFO @ 07:51:36] 0.043649 kWh of electricity used since the beginning.\n"
          ]
        },
        {
          "metadata": {
            "tags": null
          },
          "name": "stdout",
          "output_type": "stream",
          "text": [
            "462/721 [==================>...........] - ETA: 2:06 - loss: 0.4211 - accuracy: 0.8511"
          ]
        },
        {
          "metadata": {
            "tags": null
          },
          "name": "stderr",
          "output_type": "stream",
          "text": [
            "[codecarbon INFO @ 07:51:51] Energy consumed for RAM : 0.001998 kWh. RAM Power : 4.754399299621582 W\n",
            "[codecarbon INFO @ 07:51:51] Energy consumed for all GPUs : 0.024265 kWh. Total GPU Power : 72.108 W\n",
            "[codecarbon INFO @ 07:51:51] Energy consumed for all CPUs : 0.017883 kWh. Total CPU Power : 42.5 W\n",
            "[codecarbon INFO @ 07:51:51] 0.044146 kWh of electricity used since the beginning.\n"
          ]
        },
        {
          "metadata": {
            "tags": null
          },
          "name": "stdout",
          "output_type": "stream",
          "text": [
            "492/721 [===================>..........] - ETA: 1:51 - loss: 0.4232 - accuracy: 0.8504"
          ]
        },
        {
          "metadata": {
            "tags": null
          },
          "name": "stderr",
          "output_type": "stream",
          "text": [
            "[codecarbon INFO @ 07:52:06] Energy consumed for RAM : 0.002017 kWh. RAM Power : 4.754399299621582 W\n",
            "[codecarbon INFO @ 07:52:06] Energy consumed for all GPUs : 0.024650 kWh. Total GPU Power : 92.428 W\n",
            "[codecarbon INFO @ 07:52:06] Energy consumed for all CPUs : 0.018060 kWh. Total CPU Power : 42.5 W\n",
            "[codecarbon INFO @ 07:52:06] 0.044727 kWh of electricity used since the beginning.\n"
          ]
        },
        {
          "metadata": {
            "tags": null
          },
          "name": "stdout",
          "output_type": "stream",
          "text": [
            "523/721 [====================>.........] - ETA: 1:36 - loss: 0.4225 - accuracy: 0.8508"
          ]
        },
        {
          "metadata": {
            "tags": null
          },
          "name": "stderr",
          "output_type": "stream",
          "text": [
            "[codecarbon INFO @ 07:52:21] Energy consumed for RAM : 0.002037 kWh. RAM Power : 4.754399299621582 W\n",
            "[codecarbon INFO @ 07:52:21] Energy consumed for all GPUs : 0.025018 kWh. Total GPU Power : 88.355 W\n",
            "[codecarbon INFO @ 07:52:21] Energy consumed for all CPUs : 0.018237 kWh. Total CPU Power : 42.5 W\n",
            "[codecarbon INFO @ 07:52:21] 0.045292 kWh of electricity used since the beginning.\n"
          ]
        },
        {
          "metadata": {
            "tags": null
          },
          "name": "stdout",
          "output_type": "stream",
          "text": [
            "553/721 [======================>.......] - ETA: 1:22 - loss: 0.4229 - accuracy: 0.8502"
          ]
        },
        {
          "metadata": {
            "tags": null
          },
          "name": "stderr",
          "output_type": "stream",
          "text": [
            "[codecarbon INFO @ 07:52:36] Energy consumed for RAM : 0.002057 kWh. RAM Power : 4.754399299621582 W\n",
            "[codecarbon INFO @ 07:52:36] Energy consumed for all GPUs : 0.025305 kWh. Total GPU Power : 69.019 W\n",
            "[codecarbon INFO @ 07:52:36] Energy consumed for all CPUs : 0.018414 kWh. Total CPU Power : 42.5 W\n",
            "[codecarbon INFO @ 07:52:36] 0.045776 kWh of electricity used since the beginning.\n"
          ]
        },
        {
          "metadata": {
            "tags": null
          },
          "name": "stdout",
          "output_type": "stream",
          "text": [
            "584/721 [=======================>......] - ETA: 1:06 - loss: 0.4198 - accuracy: 0.8515"
          ]
        },
        {
          "metadata": {
            "tags": null
          },
          "name": "stderr",
          "output_type": "stream",
          "text": [
            "[codecarbon INFO @ 07:52:51] Energy consumed for RAM : 0.002077 kWh. RAM Power : 4.754399299621582 W\n",
            "[codecarbon INFO @ 07:52:51] Energy consumed for all GPUs : 0.025587 kWh. Total GPU Power : 67.84400000000002 W\n",
            "[codecarbon INFO @ 07:52:51] Energy consumed for all CPUs : 0.018591 kWh. Total CPU Power : 42.5 W\n",
            "[codecarbon INFO @ 07:52:51] 0.046255 kWh of electricity used since the beginning.\n"
          ]
        },
        {
          "metadata": {
            "tags": null
          },
          "name": "stdout",
          "output_type": "stream",
          "text": [
            "615/721 [========================>.....] - ETA: 51s - loss: 0.4183 - accuracy: 0.8517"
          ]
        },
        {
          "metadata": {
            "tags": null
          },
          "name": "stderr",
          "output_type": "stream",
          "text": [
            "[codecarbon INFO @ 07:53:06] Energy consumed for RAM : 0.002096 kWh. RAM Power : 4.754399299621582 W\n",
            "[codecarbon INFO @ 07:53:06] Energy consumed for all GPUs : 0.025878 kWh. Total GPU Power : 69.955 W\n"
          ]
        },
        {
          "metadata": {
            "tags": null
          },
          "name": "stdout",
          "output_type": "stream",
          "text": [
            "\b\b\b\b\b\b\b\b\b\b\b\b\b\b\b\b\b\b\b\b\b\b\b\b\b\b\b\b\b\b\b\b\b\b\b\b\b\b\b\b\b\b\b\b\b\b\b\b\b\b\b\b\b\b\b\b\b\b\b\b\b\b\b\b\b\b\b\b\b\b\b\b\b\b\b\b\b\b\b\b\b\b\b\b\b\r616/721 [========================>.....] - ETA: 51s - loss: 0.4187 - accuracy: 0.8515"
          ]
        },
        {
          "metadata": {
            "tags": null
          },
          "name": "stderr",
          "output_type": "stream",
          "text": [
            "[codecarbon INFO @ 07:53:06] Energy consumed for all CPUs : 0.018768 kWh. Total CPU Power : 42.5 W\n",
            "[codecarbon INFO @ 07:53:06] 0.046743 kWh of electricity used since the beginning.\n"
          ]
        },
        {
          "metadata": {
            "tags": null
          },
          "name": "stdout",
          "output_type": "stream",
          "text": [
            "646/721 [=========================>....] - ETA: 36s - loss: 0.4190 - accuracy: 0.8513"
          ]
        },
        {
          "metadata": {
            "tags": null
          },
          "name": "stderr",
          "output_type": "stream",
          "text": [
            "[codecarbon INFO @ 07:53:21] Energy consumed for RAM : 0.002116 kWh. RAM Power : 4.754399299621582 W\n",
            "[codecarbon INFO @ 07:53:21] Energy consumed for all GPUs : 0.026044 kWh. Total GPU Power : 39.922000000000004 W\n",
            "[codecarbon INFO @ 07:53:21] Energy consumed for all CPUs : 0.018945 kWh. Total CPU Power : 42.5 W\n",
            "[codecarbon INFO @ 07:53:21] 0.047105 kWh of electricity used since the beginning.\n"
          ]
        },
        {
          "metadata": {
            "tags": null
          },
          "name": "stdout",
          "output_type": "stream",
          "text": [
            "672/721 [==========================>...] - ETA: 24s - loss: 0.4180 - accuracy: 0.8515"
          ]
        },
        {
          "metadata": {
            "tags": null
          },
          "name": "stderr",
          "output_type": "stream",
          "text": [
            "[codecarbon INFO @ 07:53:36] Energy consumed for RAM : 0.002136 kWh. RAM Power : 4.754399299621582 W\n",
            "[codecarbon INFO @ 07:53:36] Energy consumed for all GPUs : 0.026360 kWh. Total GPU Power : 75.83 W\n",
            "[codecarbon INFO @ 07:53:36] Energy consumed for all CPUs : 0.019123 kWh. Total CPU Power : 42.5 W\n",
            "[codecarbon INFO @ 07:53:36] 0.047618 kWh of electricity used since the beginning.\n"
          ]
        },
        {
          "metadata": {
            "tags": null
          },
          "name": "stdout",
          "output_type": "stream",
          "text": [
            "702/721 [============================>.] - ETA: 9s - loss: 0.4173 - accuracy: 0.8520"
          ]
        },
        {
          "metadata": {
            "tags": null
          },
          "name": "stderr",
          "output_type": "stream",
          "text": [
            "[codecarbon INFO @ 07:53:51] Energy consumed for RAM : 0.002156 kWh. RAM Power : 4.754399299621582 W\n",
            "[codecarbon INFO @ 07:53:51] Energy consumed for all GPUs : 0.026661 kWh. Total GPU Power : 72.544 W\n",
            "[codecarbon INFO @ 07:53:51] Energy consumed for all CPUs : 0.019299 kWh. Total CPU Power : 42.5 W\n",
            "[codecarbon INFO @ 07:53:51] 0.048116 kWh of electricity used since the beginning.\n"
          ]
        },
        {
          "metadata": {
            "tags": null
          },
          "name": "stdout",
          "output_type": "stream",
          "text": [
            "721/721 [==============================] - ETA: 0s - loss: 0.4153 - accuracy: 0.8527"
          ]
        },
        {
          "metadata": {
            "tags": null
          },
          "name": "stderr",
          "output_type": "stream",
          "text": [
            "[codecarbon INFO @ 07:54:06] Energy consumed for RAM : 0.002175 kWh. RAM Power : 4.754399299621582 W\n",
            "[codecarbon INFO @ 07:54:06] Energy consumed for all GPUs : 0.026808 kWh. Total GPU Power : 35.325 W\n",
            "[codecarbon INFO @ 07:54:06] Energy consumed for all CPUs : 0.019476 kWh. Total CPU Power : 42.5 W\n",
            "[codecarbon INFO @ 07:54:06] 0.048460 kWh of electricity used since the beginning.\n",
            "[codecarbon INFO @ 07:54:21] Energy consumed for RAM : 0.002195 kWh. RAM Power : 4.754399299621582 W\n",
            "[codecarbon INFO @ 07:54:21] Energy consumed for all GPUs : 0.026967 kWh. Total GPU Power : 38.267 W\n",
            "[codecarbon INFO @ 07:54:21] Energy consumed for all CPUs : 0.019653 kWh. Total CPU Power : 42.5 W\n",
            "[codecarbon INFO @ 07:54:21] 0.048816 kWh of electricity used since the beginning.\n"
          ]
        },
        {
          "metadata": {
            "tags": null
          },
          "name": "stdout",
          "output_type": "stream",
          "text": [
            "721/721 [==============================] - 377s 523ms/step - loss: 0.4153 - accuracy: 0.8527 - val_loss: 0.4746 - val_accuracy: 0.8582\n",
            "Epoch 5/20\n",
            " 18/721 [..............................] - ETA: 5:20 - loss: 0.2918 - accuracy: 0.8958"
          ]
        },
        {
          "metadata": {
            "tags": null
          },
          "name": "stderr",
          "output_type": "stream",
          "text": [
            "[codecarbon INFO @ 07:54:36] Energy consumed for RAM : 0.002215 kWh. RAM Power : 4.754399299621582 W\n",
            "[codecarbon INFO @ 07:54:36] Energy consumed for all GPUs : 0.027254 kWh. Total GPU Power : 68.82300000000001 W\n",
            "[codecarbon INFO @ 07:54:36] Energy consumed for all CPUs : 0.019831 kWh. Total CPU Power : 42.5 W\n",
            "[codecarbon INFO @ 07:54:36] 0.049299 kWh of electricity used since the beginning.\n"
          ]
        },
        {
          "metadata": {
            "tags": null
          },
          "name": "stdout",
          "output_type": "stream",
          "text": [
            " 49/721 [=>............................] - ETA: 5:19 - loss: 0.3440 - accuracy: 0.8865"
          ]
        },
        {
          "metadata": {
            "tags": null
          },
          "name": "stderr",
          "output_type": "stream",
          "text": [
            "[codecarbon INFO @ 07:54:51] Energy consumed for RAM : 0.002235 kWh. RAM Power : 4.754399299621582 W\n",
            "[codecarbon INFO @ 07:54:51] Energy consumed for all GPUs : 0.027440 kWh. Total GPU Power : 44.705 W\n",
            "[codecarbon INFO @ 07:54:51] Energy consumed for all CPUs : 0.020008 kWh. Total CPU Power : 42.5 W\n",
            "[codecarbon INFO @ 07:54:51] 0.049682 kWh of electricity used since the beginning.\n"
          ]
        },
        {
          "metadata": {
            "tags": null
          },
          "name": "stdout",
          "output_type": "stream",
          "text": [
            " 81/721 [==>...........................] - ETA: 5:02 - loss: 0.3633 - accuracy: 0.8781"
          ]
        },
        {
          "metadata": {
            "tags": null
          },
          "name": "stderr",
          "output_type": "stream",
          "text": [
            "[codecarbon INFO @ 07:55:06] Energy consumed for RAM : 0.002255 kWh. RAM Power : 4.754399299621582 W\n",
            "[codecarbon INFO @ 07:55:06] Energy consumed for all GPUs : 0.027823 kWh. Total GPU Power : 92.252 W\n",
            "[codecarbon INFO @ 07:55:06] Energy consumed for all CPUs : 0.020185 kWh. Total CPU Power : 42.5 W\n",
            "[codecarbon INFO @ 07:55:06] 0.050262 kWh of electricity used since the beginning.\n"
          ]
        },
        {
          "metadata": {
            "tags": null
          },
          "name": "stdout",
          "output_type": "stream",
          "text": [
            "112/721 [===>..........................] - ETA: 4:48 - loss: 0.3674 - accuracy: 0.8761"
          ]
        },
        {
          "metadata": {
            "tags": null
          },
          "name": "stderr",
          "output_type": "stream",
          "text": [
            "[codecarbon INFO @ 07:55:21] Energy consumed for RAM : 0.002274 kWh. RAM Power : 4.754399299621582 W\n",
            "[codecarbon INFO @ 07:55:21] Energy consumed for all GPUs : 0.028125 kWh. Total GPU Power : 72.65 W\n",
            "[codecarbon INFO @ 07:55:21] Energy consumed for all CPUs : 0.020362 kWh. Total CPU Power : 42.5 W\n",
            "[codecarbon INFO @ 07:55:21] 0.050761 kWh of electricity used since the beginning.\n"
          ]
        },
        {
          "metadata": {
            "tags": null
          },
          "name": "stdout",
          "output_type": "stream",
          "text": [
            "145/721 [=====>........................] - ETA: 4:32 - loss: 0.3787 - accuracy: 0.8694"
          ]
        },
        {
          "metadata": {
            "tags": null
          },
          "name": "stderr",
          "output_type": "stream",
          "text": [
            "[codecarbon INFO @ 07:55:36] Energy consumed for RAM : 0.002294 kWh. RAM Power : 4.754399299621582 W\n",
            "[codecarbon INFO @ 07:55:36] Energy consumed for all GPUs : 0.028417 kWh. Total GPU Power : 70.194 W\n",
            "[codecarbon INFO @ 07:55:36] Energy consumed for all CPUs : 0.020539 kWh. Total CPU Power : 42.5 W\n",
            "[codecarbon INFO @ 07:55:36] 0.051250 kWh of electricity used since the beginning.\n"
          ]
        },
        {
          "metadata": {
            "tags": null
          },
          "name": "stdout",
          "output_type": "stream",
          "text": [
            "174/721 [======>.......................] - ETA: 4:22 - loss: 0.3810 - accuracy: 0.8689"
          ]
        },
        {
          "metadata": {
            "tags": null
          },
          "name": "stderr",
          "output_type": "stream",
          "text": [
            "[codecarbon INFO @ 07:55:51] Energy consumed for RAM : 0.002314 kWh. RAM Power : 4.754399299621582 W\n",
            "[codecarbon INFO @ 07:55:51] Energy consumed for all GPUs : 0.028590 kWh. Total GPU Power : 41.674 W\n",
            "[codecarbon INFO @ 07:55:51] Energy consumed for all CPUs : 0.020716 kWh. Total CPU Power : 42.5 W\n",
            "[codecarbon INFO @ 07:55:51] 0.051620 kWh of electricity used since the beginning.\n"
          ]
        },
        {
          "metadata": {
            "tags": null
          },
          "name": "stdout",
          "output_type": "stream",
          "text": [
            "206/721 [=======>......................] - ETA: 4:05 - loss: 0.3787 - accuracy: 0.8692"
          ]
        },
        {
          "metadata": {
            "tags": null
          },
          "name": "stderr",
          "output_type": "stream",
          "text": [
            "[codecarbon INFO @ 07:56:06] Energy consumed for RAM : 0.002334 kWh. RAM Power : 4.754399299621582 W\n",
            "[codecarbon INFO @ 07:56:06] Energy consumed for all GPUs : 0.028762 kWh. Total GPU Power : 41.378 W\n",
            "[codecarbon INFO @ 07:56:06] Energy consumed for all CPUs : 0.020892 kWh. Total CPU Power : 42.5 W\n",
            "[codecarbon INFO @ 07:56:06] 0.051988 kWh of electricity used since the beginning.\n"
          ]
        },
        {
          "metadata": {
            "tags": null
          },
          "name": "stdout",
          "output_type": "stream",
          "text": [
            "237/721 [========>.....................] - ETA: 3:51 - loss: 0.3764 - accuracy: 0.8710"
          ]
        },
        {
          "metadata": {
            "tags": null
          },
          "name": "stderr",
          "output_type": "stream",
          "text": [
            "[codecarbon INFO @ 07:56:21] Energy consumed for RAM : 0.002353 kWh. RAM Power : 4.754399299621582 W\n",
            "[codecarbon INFO @ 07:56:21] Energy consumed for all GPUs : 0.029008 kWh. Total GPU Power : 58.88 W\n",
            "[codecarbon INFO @ 07:56:21] Energy consumed for all CPUs : 0.021070 kWh. Total CPU Power : 42.5 W\n",
            "[codecarbon INFO @ 07:56:21] 0.052431 kWh of electricity used since the beginning.\n"
          ]
        },
        {
          "metadata": {
            "tags": null
          },
          "name": "stdout",
          "output_type": "stream",
          "text": [
            "270/721 [==========>...................] - ETA: 3:34 - loss: 0.3796 - accuracy: 0.8706"
          ]
        },
        {
          "metadata": {
            "tags": null
          },
          "name": "stderr",
          "output_type": "stream",
          "text": [
            "[codecarbon INFO @ 07:56:36] Energy consumed for RAM : 0.002373 kWh. RAM Power : 4.754399299621582 W\n",
            "[codecarbon INFO @ 07:56:36] Energy consumed for all GPUs : 0.029184 kWh. Total GPU Power : 42.463 W\n",
            "[codecarbon INFO @ 07:56:36] Energy consumed for all CPUs : 0.021247 kWh. Total CPU Power : 42.5 W\n",
            "[codecarbon INFO @ 07:56:36] 0.052804 kWh of electricity used since the beginning.\n"
          ]
        },
        {
          "metadata": {
            "tags": null
          },
          "name": "stdout",
          "output_type": "stream",
          "text": [
            "301/721 [===========>..................] - ETA: 3:19 - loss: 0.3767 - accuracy: 0.8721"
          ]
        },
        {
          "metadata": {
            "tags": null
          },
          "name": "stderr",
          "output_type": "stream",
          "text": [
            "[codecarbon INFO @ 07:56:51] Energy consumed for RAM : 0.002393 kWh. RAM Power : 4.754399299621582 W\n",
            "[codecarbon INFO @ 07:56:51] Energy consumed for all GPUs : 0.029479 kWh. Total GPU Power : 70.836 W\n",
            "[codecarbon INFO @ 07:56:51] Energy consumed for all CPUs : 0.021424 kWh. Total CPU Power : 42.5 W\n",
            "[codecarbon INFO @ 07:56:51] 0.053296 kWh of electricity used since the beginning.\n"
          ]
        },
        {
          "metadata": {
            "tags": null
          },
          "name": "stdout",
          "output_type": "stream",
          "text": [
            "333/721 [============>.................] - ETA: 3:04 - loss: 0.3767 - accuracy: 0.8703"
          ]
        },
        {
          "metadata": {
            "tags": null
          },
          "name": "stderr",
          "output_type": "stream",
          "text": [
            "[codecarbon INFO @ 07:57:06] Energy consumed for RAM : 0.002413 kWh. RAM Power : 4.754399299621582 W\n",
            "[codecarbon INFO @ 07:57:06] Energy consumed for all GPUs : 0.029767 kWh. Total GPU Power : 69.368 W\n",
            "[codecarbon INFO @ 07:57:06] Energy consumed for all CPUs : 0.021601 kWh. Total CPU Power : 42.5 W\n",
            "[codecarbon INFO @ 07:57:06] 0.053781 kWh of electricity used since the beginning.\n"
          ]
        },
        {
          "metadata": {
            "tags": null
          },
          "name": "stdout",
          "output_type": "stream",
          "text": [
            "366/721 [==============>...............] - ETA: 2:47 - loss: 0.3762 - accuracy: 0.8709"
          ]
        },
        {
          "metadata": {
            "tags": null
          },
          "name": "stderr",
          "output_type": "stream",
          "text": [
            "[codecarbon INFO @ 07:57:21] Energy consumed for RAM : 0.002433 kWh. RAM Power : 4.754399299621582 W\n",
            "[codecarbon INFO @ 07:57:21] Energy consumed for all GPUs : 0.030058 kWh. Total GPU Power : 69.759 W\n",
            "[codecarbon INFO @ 07:57:21] Energy consumed for all CPUs : 0.021778 kWh. Total CPU Power : 42.5 W\n",
            "[codecarbon INFO @ 07:57:21] 0.054268 kWh of electricity used since the beginning.\n"
          ]
        },
        {
          "metadata": {
            "tags": null
          },
          "name": "stdout",
          "output_type": "stream",
          "text": [
            "399/721 [===============>..............] - ETA: 2:31 - loss: 0.3756 - accuracy: 0.8703"
          ]
        },
        {
          "metadata": {
            "tags": null
          },
          "name": "stderr",
          "output_type": "stream",
          "text": [
            "[codecarbon INFO @ 07:57:36] Energy consumed for RAM : 0.002452 kWh. RAM Power : 4.754399299621582 W\n",
            "[codecarbon INFO @ 07:57:36] Energy consumed for all GPUs : 0.030414 kWh. Total GPU Power : 85.82300000000001 W\n",
            "[codecarbon INFO @ 07:57:36] Energy consumed for all CPUs : 0.021955 kWh. Total CPU Power : 42.5 W\n",
            "[codecarbon INFO @ 07:57:36] 0.054822 kWh of electricity used since the beginning.\n"
          ]
        },
        {
          "metadata": {
            "tags": null
          },
          "name": "stdout",
          "output_type": "stream",
          "text": [
            "427/721 [================>.............] - ETA: 2:20 - loss: 0.3729 - accuracy: 0.8724"
          ]
        },
        {
          "metadata": {
            "tags": null
          },
          "name": "stderr",
          "output_type": "stream",
          "text": [
            "[codecarbon INFO @ 07:57:51] Energy consumed for RAM : 0.002472 kWh. RAM Power : 4.754399299621582 W\n",
            "[codecarbon INFO @ 07:57:51] Energy consumed for all GPUs : 0.030594 kWh. Total GPU Power : 43.154 W\n",
            "[codecarbon INFO @ 07:57:51] Energy consumed for all CPUs : 0.022132 kWh. Total CPU Power : 42.5 W\n",
            "[codecarbon INFO @ 07:57:51] 0.055198 kWh of electricity used since the beginning.\n"
          ]
        },
        {
          "metadata": {
            "tags": null
          },
          "name": "stdout",
          "output_type": "stream",
          "text": [
            "459/721 [==================>...........] - ETA: 2:04 - loss: 0.3718 - accuracy: 0.8724"
          ]
        },
        {
          "metadata": {
            "tags": null
          },
          "name": "stderr",
          "output_type": "stream",
          "text": [
            "[codecarbon INFO @ 07:58:06] Energy consumed for RAM : 0.002492 kWh. RAM Power : 4.754399299621582 W\n",
            "[codecarbon INFO @ 07:58:06] Energy consumed for all GPUs : 0.030918 kWh. Total GPU Power : 77.882 W\n",
            "[codecarbon INFO @ 07:58:06] Energy consumed for all CPUs : 0.022309 kWh. Total CPU Power : 42.5 W\n",
            "[codecarbon INFO @ 07:58:06] 0.055719 kWh of electricity used since the beginning.\n"
          ]
        },
        {
          "metadata": {
            "tags": null
          },
          "name": "stdout",
          "output_type": "stream",
          "text": [
            "491/721 [===================>..........] - ETA: 1:49 - loss: 0.3735 - accuracy: 0.8707"
          ]
        },
        {
          "metadata": {
            "tags": null
          },
          "name": "stderr",
          "output_type": "stream",
          "text": [
            "[codecarbon INFO @ 07:58:21] Energy consumed for RAM : 0.002512 kWh. RAM Power : 4.754399299621582 W\n",
            "[codecarbon INFO @ 07:58:21] Energy consumed for all GPUs : 0.031102 kWh. Total GPU Power : 44.114000000000004 W\n",
            "[codecarbon INFO @ 07:58:21] Energy consumed for all CPUs : 0.022486 kWh. Total CPU Power : 42.5 W\n",
            "[codecarbon INFO @ 07:58:21] 0.056099 kWh of electricity used since the beginning.\n"
          ]
        },
        {
          "metadata": {
            "tags": null
          },
          "name": "stdout",
          "output_type": "stream",
          "text": [
            "523/721 [====================>.........] - ETA: 1:34 - loss: 0.3708 - accuracy: 0.8708"
          ]
        },
        {
          "metadata": {
            "tags": null
          },
          "name": "stderr",
          "output_type": "stream",
          "text": [
            "[codecarbon INFO @ 07:58:36] Energy consumed for RAM : 0.002531 kWh. RAM Power : 4.754399299621582 W\n",
            "[codecarbon INFO @ 07:58:36] Energy consumed for all GPUs : 0.031260 kWh. Total GPU Power : 37.971000000000004 W\n",
            "[codecarbon INFO @ 07:58:36] Energy consumed for all CPUs : 0.022663 kWh. Total CPU Power : 42.5 W\n",
            "[codecarbon INFO @ 07:58:36] 0.056455 kWh of electricity used since the beginning.\n"
          ]
        },
        {
          "metadata": {
            "tags": null
          },
          "name": "stdout",
          "output_type": "stream",
          "text": [
            "555/721 [======================>.......] - ETA: 1:18 - loss: 0.3771 - accuracy: 0.8698"
          ]
        },
        {
          "metadata": {
            "tags": null
          },
          "name": "stderr",
          "output_type": "stream",
          "text": [
            "[codecarbon INFO @ 07:58:51] Energy consumed for RAM : 0.002551 kWh. RAM Power : 4.754399299621582 W\n",
            "[codecarbon INFO @ 07:58:51] Energy consumed for all GPUs : 0.031418 kWh. Total GPU Power : 38.069 W\n",
            "[codecarbon INFO @ 07:58:51] Energy consumed for all CPUs : 0.022840 kWh. Total CPU Power : 42.5 W\n",
            "[codecarbon INFO @ 07:58:51] 0.056810 kWh of electricity used since the beginning.\n"
          ]
        },
        {
          "metadata": {
            "tags": null
          },
          "name": "stdout",
          "output_type": "stream",
          "text": [
            "588/721 [=======================>......] - ETA: 1:03 - loss: 0.3775 - accuracy: 0.8700"
          ]
        },
        {
          "metadata": {
            "tags": null
          },
          "name": "stderr",
          "output_type": "stream",
          "text": [
            "[codecarbon INFO @ 07:59:06] Energy consumed for RAM : 0.002571 kWh. RAM Power : 4.754399299621582 W\n",
            "[codecarbon INFO @ 07:59:06] Energy consumed for all GPUs : 0.031692 kWh. Total GPU Power : 65.828 W\n",
            "[codecarbon INFO @ 07:59:06] Energy consumed for all CPUs : 0.023017 kWh. Total CPU Power : 42.5 W\n",
            "[codecarbon INFO @ 07:59:06] 0.057280 kWh of electricity used since the beginning.\n"
          ]
        },
        {
          "metadata": {
            "tags": null
          },
          "name": "stdout",
          "output_type": "stream",
          "text": [
            "619/721 [========================>.....] - ETA: 48s - loss: 0.3772 - accuracy: 0.8699"
          ]
        },
        {
          "metadata": {
            "tags": null
          },
          "name": "stderr",
          "output_type": "stream",
          "text": [
            "[codecarbon INFO @ 07:59:21] Energy consumed for RAM : 0.002591 kWh. RAM Power : 4.754399299621582 W\n",
            "[codecarbon INFO @ 07:59:21] Energy consumed for all GPUs : 0.031982 kWh. Total GPU Power : 69.759 W\n",
            "[codecarbon INFO @ 07:59:21] Energy consumed for all CPUs : 0.023195 kWh. Total CPU Power : 42.5 W\n",
            "[codecarbon INFO @ 07:59:21] 0.057767 kWh of electricity used since the beginning.\n"
          ]
        },
        {
          "metadata": {
            "tags": null
          },
          "name": "stdout",
          "output_type": "stream",
          "text": [
            "650/721 [==========================>...] - ETA: 33s - loss: 0.3771 - accuracy: 0.8696"
          ]
        },
        {
          "metadata": {
            "tags": null
          },
          "name": "stderr",
          "output_type": "stream",
          "text": [
            "[codecarbon INFO @ 07:59:36] Energy consumed for RAM : 0.002610 kWh. RAM Power : 4.754399299621582 W\n",
            "[codecarbon INFO @ 07:59:36] Energy consumed for all GPUs : 0.032162 kWh. Total GPU Power : 43.523 W\n",
            "[codecarbon INFO @ 07:59:36] Energy consumed for all CPUs : 0.023371 kWh. Total CPU Power : 42.5 W\n",
            "[codecarbon INFO @ 07:59:36] 0.058144 kWh of electricity used since the beginning.\n"
          ]
        },
        {
          "metadata": {
            "tags": null
          },
          "name": "stdout",
          "output_type": "stream",
          "text": [
            "683/721 [===========================>..] - ETA: 18s - loss: 0.3746 - accuracy: 0.8706"
          ]
        },
        {
          "metadata": {
            "tags": null
          },
          "name": "stderr",
          "output_type": "stream",
          "text": [
            "[codecarbon INFO @ 07:59:51] Energy consumed for RAM : 0.002630 kWh. RAM Power : 4.754399299621582 W\n",
            "[codecarbon INFO @ 07:59:51] Energy consumed for all GPUs : 0.032436 kWh. Total GPU Power : 65.672 W\n",
            "[codecarbon INFO @ 07:59:51] Energy consumed for all CPUs : 0.023548 kWh. Total CPU Power : 42.5 W\n",
            "[codecarbon INFO @ 07:59:51] 0.058614 kWh of electricity used since the beginning.\n"
          ]
        },
        {
          "metadata": {
            "tags": null
          },
          "name": "stdout",
          "output_type": "stream",
          "text": [
            "714/721 [============================>.] - ETA: 3s - loss: 0.3760 - accuracy: 0.8698"
          ]
        },
        {
          "metadata": {
            "tags": null
          },
          "name": "stderr",
          "output_type": "stream",
          "text": [
            "[codecarbon INFO @ 08:00:06] Energy consumed for RAM : 0.002650 kWh. RAM Power : 4.754399299621582 W\n",
            "[codecarbon INFO @ 08:00:06] Energy consumed for all GPUs : 0.032733 kWh. Total GPU Power : 71.423 W\n",
            "[codecarbon INFO @ 08:00:06] Energy consumed for all CPUs : 0.023725 kWh. Total CPU Power : 42.5 W\n",
            "[codecarbon INFO @ 08:00:06] 0.059108 kWh of electricity used since the beginning.\n"
          ]
        },
        {
          "metadata": {
            "tags": null
          },
          "name": "stdout",
          "output_type": "stream",
          "text": [
            "721/721 [==============================] - ETA: 0s - loss: 0.3750 - accuracy: 0.8701"
          ]
        },
        {
          "metadata": {
            "tags": null
          },
          "name": "stderr",
          "output_type": "stream",
          "text": [
            "[codecarbon INFO @ 08:00:21] Energy consumed for RAM : 0.002670 kWh. RAM Power : 4.754399299621582 W\n",
            "[codecarbon INFO @ 08:00:21] Energy consumed for all GPUs : 0.033102 kWh. Total GPU Power : 88.55 W\n",
            "[codecarbon INFO @ 08:00:21] Energy consumed for all CPUs : 0.023903 kWh. Total CPU Power : 42.5 W\n",
            "[codecarbon INFO @ 08:00:21] 0.059674 kWh of electricity used since the beginning.\n"
          ]
        },
        {
          "metadata": {
            "tags": null
          },
          "name": "stdout",
          "output_type": "stream",
          "text": [
            "721/721 [==============================] - 360s 499ms/step - loss: 0.3750 - accuracy: 0.8701 - val_loss: 0.3158 - val_accuracy: 0.8985\n",
            "Epoch 6/20\n",
            " 16/721 [..............................] - ETA: 6:01 - loss: 0.2957 - accuracy: 0.8984"
          ]
        },
        {
          "metadata": {
            "tags": null
          },
          "name": "stderr",
          "output_type": "stream",
          "text": [
            "[codecarbon INFO @ 08:00:36] Energy consumed for RAM : 0.002690 kWh. RAM Power : 4.754399299621582 W\n",
            "[codecarbon INFO @ 08:00:36] Energy consumed for all GPUs : 0.033410 kWh. Total GPU Power : 74.117 W\n"
          ]
        },
        {
          "metadata": {
            "tags": null
          },
          "name": "stdout",
          "output_type": "stream",
          "text": [
            "\b\b\b\b\b\b\b\b\b\b\b\b\b\b\b\b\b\b\b\b\b\b\b\b\b\b\b\b\b\b\b\b\b\b\b\b\b\b\b\b\b\b\b\b\b\b\b\b\b\b\b\b\b\b\b\b\b\b\b\b\b\b\b\b\b\b\b\b\b\b\b\b\b\b\b\b\b\b\b\b\b\b\b\b\b\b\r 17/721 [..............................] - ETA: 6:00 - loss: 0.2843 - accuracy: 0.9044"
          ]
        },
        {
          "metadata": {
            "tags": null
          },
          "name": "stderr",
          "output_type": "stream",
          "text": [
            "[codecarbon INFO @ 08:00:36] Energy consumed for all CPUs : 0.024080 kWh. Total CPU Power : 42.5 W\n",
            "[codecarbon INFO @ 08:00:36] 0.060179 kWh of electricity used since the beginning.\n"
          ]
        },
        {
          "metadata": {
            "tags": null
          },
          "name": "stdout",
          "output_type": "stream",
          "text": [
            " 51/721 [=>............................] - ETA: 5:08 - loss: 0.3360 - accuracy: 0.8860"
          ]
        },
        {
          "metadata": {
            "tags": null
          },
          "name": "stderr",
          "output_type": "stream",
          "text": [
            "[codecarbon INFO @ 08:00:51] Energy consumed for RAM : 0.002709 kWh. RAM Power : 4.754399299621582 W\n",
            "[codecarbon INFO @ 08:00:51] Energy consumed for all GPUs : 0.033568 kWh. Total GPU Power : 38.146 W\n",
            "[codecarbon INFO @ 08:00:51] Energy consumed for all CPUs : 0.024256 kWh. Total CPU Power : 42.5 W\n",
            "[codecarbon INFO @ 08:00:51] 0.060534 kWh of electricity used since the beginning.\n"
          ]
        },
        {
          "metadata": {
            "tags": null
          },
          "name": "stdout",
          "output_type": "stream",
          "text": [
            " 84/721 [==>...........................] - ETA: 4:51 - loss: 0.3318 - accuracy: 0.8854"
          ]
        },
        {
          "metadata": {
            "tags": null
          },
          "name": "stderr",
          "output_type": "stream",
          "text": [
            "[codecarbon INFO @ 08:01:06] Energy consumed for RAM : 0.002729 kWh. RAM Power : 4.754399299621582 W\n",
            "[codecarbon INFO @ 08:01:06] Energy consumed for all GPUs : 0.033748 kWh. Total GPU Power : 43.154 W\n",
            "[codecarbon INFO @ 08:01:06] Energy consumed for all CPUs : 0.024434 kWh. Total CPU Power : 42.5 W\n",
            "[codecarbon INFO @ 08:01:06] 0.060911 kWh of electricity used since the beginning.\n"
          ]
        },
        {
          "metadata": {
            "tags": null
          },
          "name": "stdout",
          "output_type": "stream",
          "text": [
            "117/721 [===>..........................] - ETA: 4:35 - loss: 0.3406 - accuracy: 0.8793"
          ]
        },
        {
          "metadata": {
            "tags": null
          },
          "name": "stderr",
          "output_type": "stream",
          "text": [
            "[codecarbon INFO @ 08:01:21] Energy consumed for RAM : 0.002749 kWh. RAM Power : 4.754399299621582 W\n",
            "[codecarbon INFO @ 08:01:21] Energy consumed for all GPUs : 0.034108 kWh. Total GPU Power : 86.418 W\n",
            "[codecarbon INFO @ 08:01:21] Energy consumed for all CPUs : 0.024611 kWh. Total CPU Power : 42.5 W\n",
            "[codecarbon INFO @ 08:01:21] 0.061468 kWh of electricity used since the beginning.\n"
          ]
        },
        {
          "metadata": {
            "tags": null
          },
          "name": "stdout",
          "output_type": "stream",
          "text": [
            "150/721 [=====>........................] - ETA: 4:21 - loss: 0.3488 - accuracy: 0.8746"
          ]
        },
        {
          "metadata": {
            "tags": null
          },
          "name": "stderr",
          "output_type": "stream",
          "text": [
            "[codecarbon INFO @ 08:01:36] Energy consumed for RAM : 0.002769 kWh. RAM Power : 4.754399299621582 W\n",
            "[codecarbon INFO @ 08:01:36] Energy consumed for all GPUs : 0.034407 kWh. Total GPU Power : 72.108 W\n",
            "[codecarbon INFO @ 08:01:36] Energy consumed for all CPUs : 0.024788 kWh. Total CPU Power : 42.5 W\n",
            "[codecarbon INFO @ 08:01:36] 0.061963 kWh of electricity used since the beginning.\n"
          ]
        },
        {
          "metadata": {
            "tags": null
          },
          "name": "stdout",
          "output_type": "stream",
          "text": [
            "180/721 [======>.......................] - ETA: 4:09 - loss: 0.3552 - accuracy: 0.8719"
          ]
        },
        {
          "metadata": {
            "tags": null
          },
          "name": "stderr",
          "output_type": "stream",
          "text": [
            "[codecarbon INFO @ 08:01:51] Energy consumed for RAM : 0.002788 kWh. RAM Power : 4.754399299621582 W\n",
            "[codecarbon INFO @ 08:01:51] Energy consumed for all GPUs : 0.034684 kWh. Total GPU Power : 66.555 W\n",
            "[codecarbon INFO @ 08:01:51] Energy consumed for all CPUs : 0.024965 kWh. Total CPU Power : 42.5 W\n",
            "[codecarbon INFO @ 08:01:51] 0.062438 kWh of electricity used since the beginning.\n"
          ]
        },
        {
          "metadata": {
            "tags": null
          },
          "name": "stdout",
          "output_type": "stream",
          "text": [
            "210/721 [=======>......................] - ETA: 3:59 - loss: 0.3540 - accuracy: 0.8726"
          ]
        },
        {
          "metadata": {
            "tags": null
          },
          "name": "stderr",
          "output_type": "stream",
          "text": [
            "[codecarbon INFO @ 08:02:06] Energy consumed for RAM : 0.002808 kWh. RAM Power : 4.754399299621582 W\n",
            "[codecarbon INFO @ 08:02:06] Energy consumed for all GPUs : 0.034962 kWh. Total GPU Power : 66.947 W\n",
            "[codecarbon INFO @ 08:02:06] Energy consumed for all CPUs : 0.025142 kWh. Total CPU Power : 42.5 W\n",
            "[codecarbon INFO @ 08:02:06] 0.062912 kWh of electricity used since the beginning.\n"
          ]
        },
        {
          "metadata": {
            "tags": null
          },
          "name": "stdout",
          "output_type": "stream",
          "text": [
            "244/721 [=========>....................] - ETA: 3:41 - loss: 0.3522 - accuracy: 0.8722"
          ]
        },
        {
          "metadata": {
            "tags": null
          },
          "name": "stderr",
          "output_type": "stream",
          "text": [
            "[codecarbon INFO @ 08:02:21] Energy consumed for RAM : 0.002828 kWh. RAM Power : 4.754399299621582 W\n",
            "[codecarbon INFO @ 08:02:21] Energy consumed for all GPUs : 0.035125 kWh. Total GPU Power : 39.156 W\n",
            "[codecarbon INFO @ 08:02:21] Energy consumed for all CPUs : 0.025319 kWh. Total CPU Power : 42.5 W\n",
            "[codecarbon INFO @ 08:02:21] 0.063272 kWh of electricity used since the beginning.\n"
          ]
        },
        {
          "metadata": {
            "tags": null
          },
          "name": "stdout",
          "output_type": "stream",
          "text": [
            "277/721 [==========>...................] - ETA: 3:25 - loss: 0.3490 - accuracy: 0.8732"
          ]
        },
        {
          "metadata": {
            "tags": null
          },
          "name": "stderr",
          "output_type": "stream",
          "text": [
            "[codecarbon INFO @ 08:02:36] Energy consumed for RAM : 0.002848 kWh. RAM Power : 4.754399299621582 W\n",
            "[codecarbon INFO @ 08:02:36] Energy consumed for all GPUs : 0.035490 kWh. Total GPU Power : 87.631 W\n",
            "[codecarbon INFO @ 08:02:36] Energy consumed for all CPUs : 0.025496 kWh. Total CPU Power : 42.5 W\n",
            "[codecarbon INFO @ 08:02:36] 0.063834 kWh of electricity used since the beginning.\n"
          ]
        },
        {
          "metadata": {
            "tags": null
          },
          "name": "stdout",
          "output_type": "stream",
          "text": [
            "310/721 [===========>..................] - ETA: 3:10 - loss: 0.3535 - accuracy: 0.8724"
          ]
        },
        {
          "metadata": {
            "tags": null
          },
          "name": "stderr",
          "output_type": "stream",
          "text": [
            "[codecarbon INFO @ 08:02:51] Energy consumed for RAM : 0.002867 kWh. RAM Power : 4.754399299621582 W\n",
            "[codecarbon INFO @ 08:02:51] Energy consumed for all GPUs : 0.035713 kWh. Total GPU Power : 53.415 W\n",
            "[codecarbon INFO @ 08:02:51] Energy consumed for all CPUs : 0.025673 kWh. Total CPU Power : 42.5 W\n",
            "[codecarbon INFO @ 08:02:51] 0.064253 kWh of electricity used since the beginning.\n"
          ]
        },
        {
          "metadata": {
            "tags": null
          },
          "name": "stdout",
          "output_type": "stream",
          "text": [
            "342/721 [=============>................] - ETA: 2:55 - loss: 0.3543 - accuracy: 0.8728"
          ]
        },
        {
          "metadata": {
            "tags": null
          },
          "name": "stderr",
          "output_type": "stream",
          "text": [
            "[codecarbon INFO @ 08:03:06] Energy consumed for RAM : 0.002887 kWh. RAM Power : 4.754399299621582 W\n",
            "[codecarbon INFO @ 08:03:06] Energy consumed for all GPUs : 0.036010 kWh. Total GPU Power : 71.565 W\n",
            "[codecarbon INFO @ 08:03:06] Energy consumed for all CPUs : 0.025850 kWh. Total CPU Power : 42.5 W\n",
            "[codecarbon INFO @ 08:03:06] 0.064747 kWh of electricity used since the beginning.\n"
          ]
        },
        {
          "metadata": {
            "tags": null
          },
          "name": "stdout",
          "output_type": "stream",
          "text": [
            "376/721 [==============>...............] - ETA: 2:39 - loss: 0.3526 - accuracy: 0.8743"
          ]
        },
        {
          "metadata": {
            "tags": null
          },
          "name": "stderr",
          "output_type": "stream",
          "text": [
            "[codecarbon INFO @ 08:03:21] Energy consumed for RAM : 0.002907 kWh. RAM Power : 4.754399299621582 W\n",
            "[codecarbon INFO @ 08:03:21] Energy consumed for all GPUs : 0.036186 kWh. Total GPU Power : 42.167 W\n",
            "[codecarbon INFO @ 08:03:21] Energy consumed for all CPUs : 0.026027 kWh. Total CPU Power : 42.5 W\n",
            "[codecarbon INFO @ 08:03:21] 0.065120 kWh of electricity used since the beginning.\n"
          ]
        },
        {
          "metadata": {
            "tags": null
          },
          "name": "stdout",
          "output_type": "stream",
          "text": [
            "409/721 [================>.............] - ETA: 2:23 - loss: 0.3508 - accuracy: 0.8745"
          ]
        },
        {
          "metadata": {
            "tags": null
          },
          "name": "stderr",
          "output_type": "stream",
          "text": [
            "[codecarbon INFO @ 08:03:36] Energy consumed for RAM : 0.002927 kWh. RAM Power : 4.754399299621582 W\n",
            "[codecarbon INFO @ 08:03:36] Energy consumed for all GPUs : 0.036512 kWh. Total GPU Power : 78.273 W\n",
            "[codecarbon INFO @ 08:03:36] Energy consumed for all CPUs : 0.026204 kWh. Total CPU Power : 42.5 W\n",
            "[codecarbon INFO @ 08:03:36] 0.065643 kWh of electricity used since the beginning.\n"
          ]
        },
        {
          "metadata": {
            "tags": null
          },
          "name": "stdout",
          "output_type": "stream",
          "text": [
            "441/721 [=================>............] - ETA: 2:09 - loss: 0.3519 - accuracy: 0.8749"
          ]
        },
        {
          "metadata": {
            "tags": null
          },
          "name": "stderr",
          "output_type": "stream",
          "text": [
            "[codecarbon INFO @ 08:03:51] Energy consumed for RAM : 0.002947 kWh. RAM Power : 4.754399299621582 W\n",
            "[codecarbon INFO @ 08:03:51] Energy consumed for all GPUs : 0.036798 kWh. Total GPU Power : 68.82300000000001 W\n",
            "[codecarbon INFO @ 08:03:51] Energy consumed for all CPUs : 0.026382 kWh. Total CPU Power : 42.5 W\n",
            "[codecarbon INFO @ 08:03:51] 0.066127 kWh of electricity used since the beginning.\n"
          ]
        },
        {
          "metadata": {
            "tags": null
          },
          "name": "stdout",
          "output_type": "stream",
          "text": [
            "475/721 [==================>...........] - ETA: 1:53 - loss: 0.3486 - accuracy: 0.8768"
          ]
        },
        {
          "metadata": {
            "tags": null
          },
          "name": "stderr",
          "output_type": "stream",
          "text": [
            "[codecarbon INFO @ 08:04:06] Energy consumed for RAM : 0.002966 kWh. RAM Power : 4.754399299621582 W\n",
            "[codecarbon INFO @ 08:04:06] Energy consumed for all GPUs : 0.036978 kWh. Total GPU Power : 43.252 W\n",
            "[codecarbon INFO @ 08:04:06] Energy consumed for all CPUs : 0.026559 kWh. Total CPU Power : 42.5 W\n",
            "[codecarbon INFO @ 08:04:06] 0.066503 kWh of electricity used since the beginning.\n"
          ]
        },
        {
          "metadata": {
            "tags": null
          },
          "name": "stdout",
          "output_type": "stream",
          "text": [
            "510/721 [====================>.........] - ETA: 1:36 - loss: 0.3446 - accuracy: 0.8777"
          ]
        },
        {
          "metadata": {
            "tags": null
          },
          "name": "stderr",
          "output_type": "stream",
          "text": [
            "[codecarbon INFO @ 08:04:21] Energy consumed for RAM : 0.002986 kWh. RAM Power : 4.754399299621582 W\n",
            "[codecarbon INFO @ 08:04:21] Energy consumed for all GPUs : 0.037144 kWh. Total GPU Power : 39.824 W\n",
            "[codecarbon INFO @ 08:04:21] Energy consumed for all CPUs : 0.026736 kWh. Total CPU Power : 42.5 W\n",
            "[codecarbon INFO @ 08:04:21] 0.066866 kWh of electricity used since the beginning.\n"
          ]
        },
        {
          "metadata": {
            "tags": null
          },
          "name": "stdout",
          "output_type": "stream",
          "text": [
            "544/721 [=====================>........] - ETA: 1:20 - loss: 0.3447 - accuracy: 0.8775"
          ]
        },
        {
          "metadata": {
            "tags": null
          },
          "name": "stderr",
          "output_type": "stream",
          "text": [
            "[codecarbon INFO @ 08:04:36] Energy consumed for RAM : 0.003006 kWh. RAM Power : 4.754399299621582 W\n",
            "[codecarbon INFO @ 08:04:36] Energy consumed for all GPUs : 0.037322 kWh. Total GPU Power : 42.661 W\n",
            "[codecarbon INFO @ 08:04:36] Energy consumed for all CPUs : 0.026913 kWh. Total CPU Power : 42.5 W\n",
            "[codecarbon INFO @ 08:04:36] 0.067240 kWh of electricity used since the beginning.\n"
          ]
        },
        {
          "metadata": {
            "tags": null
          },
          "name": "stdout",
          "output_type": "stream",
          "text": [
            "578/721 [=======================>......] - ETA: 1:05 - loss: 0.3421 - accuracy: 0.8778"
          ]
        },
        {
          "metadata": {
            "tags": null
          },
          "name": "stderr",
          "output_type": "stream",
          "text": [
            "[codecarbon INFO @ 08:04:51] Energy consumed for RAM : 0.003026 kWh. RAM Power : 4.754399299621582 W\n",
            "[codecarbon INFO @ 08:04:51] Energy consumed for all GPUs : 0.037502 kWh. Total GPU Power : 43.351 W\n",
            "[codecarbon INFO @ 08:04:51] Energy consumed for all CPUs : 0.027090 kWh. Total CPU Power : 42.5 W\n",
            "[codecarbon INFO @ 08:04:51] 0.067618 kWh of electricity used since the beginning.\n"
          ]
        },
        {
          "metadata": {
            "tags": null
          },
          "name": "stdout",
          "output_type": "stream",
          "text": [
            "612/721 [========================>.....] - ETA: 49s - loss: 0.3423 - accuracy: 0.8784"
          ]
        },
        {
          "metadata": {
            "tags": null
          },
          "name": "stderr",
          "output_type": "stream",
          "text": [
            "[codecarbon INFO @ 08:05:06] Energy consumed for RAM : 0.003046 kWh. RAM Power : 4.754399299621582 W\n",
            "[codecarbon INFO @ 08:05:06] Energy consumed for all GPUs : 0.037662 kWh. Total GPU Power : 38.343 W\n",
            "[codecarbon INFO @ 08:05:06] Energy consumed for all CPUs : 0.027267 kWh. Total CPU Power : 42.5 W\n",
            "[codecarbon INFO @ 08:05:06] 0.067974 kWh of electricity used since the beginning.\n"
          ]
        },
        {
          "metadata": {
            "tags": null
          },
          "name": "stdout",
          "output_type": "stream",
          "text": [
            "645/721 [=========================>....] - ETA: 34s - loss: 0.3416 - accuracy: 0.8785"
          ]
        },
        {
          "metadata": {
            "tags": null
          },
          "name": "stderr",
          "output_type": "stream",
          "text": [
            "[codecarbon INFO @ 08:05:21] Energy consumed for RAM : 0.003065 kWh. RAM Power : 4.754399299621582 W\n",
            "[codecarbon INFO @ 08:05:21] Energy consumed for all GPUs : 0.037846 kWh. Total GPU Power : 44.212 W\n",
            "[codecarbon INFO @ 08:05:21] Energy consumed for all CPUs : 0.027444 kWh. Total CPU Power : 42.5 W\n",
            "[codecarbon INFO @ 08:05:21] 0.068355 kWh of electricity used since the beginning.\n"
          ]
        },
        {
          "metadata": {
            "tags": null
          },
          "name": "stdout",
          "output_type": "stream",
          "text": [
            "678/721 [===========================>..] - ETA: 19s - loss: 0.3422 - accuracy: 0.8776"
          ]
        },
        {
          "metadata": {
            "tags": null
          },
          "name": "stderr",
          "output_type": "stream",
          "text": [
            "[codecarbon INFO @ 08:05:36] Energy consumed for RAM : 0.003085 kWh. RAM Power : 4.754399299621582 W\n",
            "[codecarbon INFO @ 08:05:36] Energy consumed for all GPUs : 0.038145 kWh. Total GPU Power : 72.161 W\n",
            "[codecarbon INFO @ 08:05:36] Energy consumed for all CPUs : 0.027621 kWh. Total CPU Power : 42.5 W\n",
            "[codecarbon INFO @ 08:05:36] 0.068851 kWh of electricity used since the beginning.\n"
          ]
        },
        {
          "metadata": {
            "tags": null
          },
          "name": "stdout",
          "output_type": "stream",
          "text": [
            "712/721 [============================>.] - ETA: 4s - loss: 0.3425 - accuracy: 0.8773"
          ]
        },
        {
          "metadata": {
            "tags": null
          },
          "name": "stderr",
          "output_type": "stream",
          "text": [
            "[codecarbon INFO @ 08:05:51] Energy consumed for RAM : 0.003105 kWh. RAM Power : 4.754399299621582 W\n",
            "[codecarbon INFO @ 08:05:51] Energy consumed for all GPUs : 0.038430 kWh. Total GPU Power : 68.333 W\n",
            "[codecarbon INFO @ 08:05:51] Energy consumed for all CPUs : 0.027798 kWh. Total CPU Power : 42.5 W\n",
            "[codecarbon INFO @ 08:05:51] 0.069332 kWh of electricity used since the beginning.\n"
          ]
        },
        {
          "metadata": {
            "tags": null
          },
          "name": "stdout",
          "output_type": "stream",
          "text": [
            "721/721 [==============================] - ETA: 0s - loss: 0.3429 - accuracy: 0.8772"
          ]
        },
        {
          "metadata": {
            "tags": null
          },
          "name": "stderr",
          "output_type": "stream",
          "text": [
            "[codecarbon INFO @ 08:06:06] Energy consumed for RAM : 0.003125 kWh. RAM Power : 4.754399299621582 W\n",
            "[codecarbon INFO @ 08:06:06] Energy consumed for all GPUs : 0.038575 kWh. Total GPU Power : 34.929 W\n",
            "[codecarbon INFO @ 08:06:06] Energy consumed for all CPUs : 0.027975 kWh. Total CPU Power : 42.5 W\n",
            "[codecarbon INFO @ 08:06:06] 0.069675 kWh of electricity used since the beginning.\n"
          ]
        },
        {
          "metadata": {
            "tags": null
          },
          "name": "stdout",
          "output_type": "stream",
          "text": [
            "721/721 [==============================] - 348s 482ms/step - loss: 0.3429 - accuracy: 0.8772 - val_loss: 0.3806 - val_accuracy: 0.8770\n",
            "Epoch 7/20\n",
            " 11/721 [..............................] - ETA: 6:15 - loss: 0.3411 - accuracy: 0.8977"
          ]
        },
        {
          "metadata": {
            "tags": null
          },
          "name": "stderr",
          "output_type": "stream",
          "text": [
            "[codecarbon INFO @ 08:06:21] Energy consumed for RAM : 0.003144 kWh. RAM Power : 4.754399299621582 W\n",
            "[codecarbon INFO @ 08:06:21] Energy consumed for all GPUs : 0.038751 kWh. Total GPU Power : 42.167 W\n",
            "[codecarbon INFO @ 08:06:21] Energy consumed for all CPUs : 0.028152 kWh. Total CPU Power : 42.5 W\n",
            "[codecarbon INFO @ 08:06:21] 0.070047 kWh of electricity used since the beginning.\n"
          ]
        },
        {
          "metadata": {
            "tags": null
          },
          "name": "stdout",
          "output_type": "stream",
          "text": [
            " 44/721 [>.............................] - ETA: 5:17 - loss: 0.3842 - accuracy: 0.8722"
          ]
        },
        {
          "metadata": {
            "tags": null
          },
          "name": "stderr",
          "output_type": "stream",
          "text": [
            "[codecarbon INFO @ 08:06:36] Energy consumed for RAM : 0.003164 kWh. RAM Power : 4.754399299621582 W\n",
            "[codecarbon INFO @ 08:06:36] Energy consumed for all GPUs : 0.039088 kWh. Total GPU Power : 81.202 W\n",
            "[codecarbon INFO @ 08:06:36] Energy consumed for all CPUs : 0.028329 kWh. Total CPU Power : 42.5 W\n",
            "[codecarbon INFO @ 08:06:36] 0.070582 kWh of electricity used since the beginning.\n"
          ]
        },
        {
          "metadata": {
            "tags": null
          },
          "name": "stdout",
          "output_type": "stream",
          "text": [
            " 78/721 [==>...........................] - ETA: 4:53 - loss: 0.3698 - accuracy: 0.8798"
          ]
        },
        {
          "metadata": {
            "tags": null
          },
          "name": "stderr",
          "output_type": "stream",
          "text": [
            "[codecarbon INFO @ 08:06:51] Energy consumed for RAM : 0.003184 kWh. RAM Power : 4.754399299621582 W\n",
            "[codecarbon INFO @ 08:06:51] Energy consumed for all GPUs : 0.039388 kWh. Total GPU Power : 72.01 W\n",
            "[codecarbon INFO @ 08:06:51] Energy consumed for all CPUs : 0.028506 kWh. Total CPU Power : 42.5 W\n",
            "[codecarbon INFO @ 08:06:51] 0.071079 kWh of electricity used since the beginning.\n"
          ]
        },
        {
          "metadata": {
            "tags": null
          },
          "name": "stdout",
          "output_type": "stream",
          "text": [
            "112/721 [===>..........................] - ETA: 4:36 - loss: 0.3797 - accuracy: 0.8728"
          ]
        },
        {
          "metadata": {
            "tags": null
          },
          "name": "stderr",
          "output_type": "stream",
          "text": [
            "[codecarbon INFO @ 08:07:06] Energy consumed for RAM : 0.003204 kWh. RAM Power : 4.754399299621582 W\n",
            "[codecarbon INFO @ 08:07:06] Energy consumed for all GPUs : 0.039556 kWh. Total GPU Power : 40.317 W\n",
            "[codecarbon INFO @ 08:07:06] Energy consumed for all CPUs : 0.028683 kWh. Total CPU Power : 42.5 W\n",
            "[codecarbon INFO @ 08:07:06] 0.071443 kWh of electricity used since the beginning.\n"
          ]
        },
        {
          "metadata": {
            "tags": null
          },
          "name": "stdout",
          "output_type": "stream",
          "text": [
            "144/721 [====>.........................] - ETA: 4:22 - loss: 0.3760 - accuracy: 0.8724"
          ]
        },
        {
          "metadata": {
            "tags": null
          },
          "name": "stderr",
          "output_type": "stream",
          "text": [
            "[codecarbon INFO @ 08:07:21] Energy consumed for RAM : 0.003223 kWh. RAM Power : 4.754399299621582 W\n",
            "[codecarbon INFO @ 08:07:21] Energy consumed for all GPUs : 0.039736 kWh. Total GPU Power : 43.227000000000004 W\n",
            "[codecarbon INFO @ 08:07:21] Energy consumed for all CPUs : 0.028861 kWh. Total CPU Power : 42.5 W\n",
            "[codecarbon INFO @ 08:07:21] 0.071820 kWh of electricity used since the beginning.\n"
          ]
        },
        {
          "metadata": {
            "tags": null
          },
          "name": "stdout",
          "output_type": "stream",
          "text": [
            "179/721 [======>.......................] - ETA: 4:04 - loss: 0.3626 - accuracy: 0.8743"
          ]
        },
        {
          "metadata": {
            "tags": null
          },
          "name": "stderr",
          "output_type": "stream",
          "text": [
            "[codecarbon INFO @ 08:07:36] Energy consumed for RAM : 0.003243 kWh. RAM Power : 4.754399299621582 W\n",
            "[codecarbon INFO @ 08:07:36] Energy consumed for all GPUs : 0.039917 kWh. Total GPU Power : 43.621 W\n",
            "[codecarbon INFO @ 08:07:36] Energy consumed for all CPUs : 0.029037 kWh. Total CPU Power : 42.5 W\n",
            "[codecarbon INFO @ 08:07:36] 0.072197 kWh of electricity used since the beginning.\n"
          ]
        },
        {
          "metadata": {
            "tags": null
          },
          "name": "stdout",
          "output_type": "stream",
          "text": [
            "211/721 [=======>......................] - ETA: 3:51 - loss: 0.3557 - accuracy: 0.8771"
          ]
        },
        {
          "metadata": {
            "tags": null
          },
          "name": "stderr",
          "output_type": "stream",
          "text": [
            "[codecarbon INFO @ 08:07:51] Energy consumed for RAM : 0.003263 kWh. RAM Power : 4.754399299621582 W\n",
            "[codecarbon INFO @ 08:07:51] Energy consumed for all GPUs : 0.040202 kWh. Total GPU Power : 68.333 W\n",
            "[codecarbon INFO @ 08:07:51] Energy consumed for all CPUs : 0.029215 kWh. Total CPU Power : 42.5 W\n",
            "[codecarbon INFO @ 08:07:51] 0.072679 kWh of electricity used since the beginning.\n"
          ]
        },
        {
          "metadata": {
            "tags": null
          },
          "name": "stdout",
          "output_type": "stream",
          "text": [
            "245/721 [=========>....................] - ETA: 3:35 - loss: 0.3544 - accuracy: 0.8776"
          ]
        },
        {
          "metadata": {
            "tags": null
          },
          "name": "stderr",
          "output_type": "stream",
          "text": [
            "[codecarbon INFO @ 08:08:06] Energy consumed for RAM : 0.003283 kWh. RAM Power : 4.754399299621582 W\n",
            "[codecarbon INFO @ 08:08:06] Energy consumed for all GPUs : 0.040562 kWh. Total GPU Power : 86.754 W\n",
            "[codecarbon INFO @ 08:08:06] Energy consumed for all CPUs : 0.029391 kWh. Total CPU Power : 42.5 W\n",
            "[codecarbon INFO @ 08:08:06] 0.073236 kWh of electricity used since the beginning.\n"
          ]
        },
        {
          "metadata": {
            "tags": null
          },
          "name": "stdout",
          "output_type": "stream",
          "text": [
            "279/721 [==========>...................] - ETA: 3:19 - loss: 0.3489 - accuracy: 0.8788"
          ]
        },
        {
          "metadata": {
            "tags": null
          },
          "name": "stderr",
          "output_type": "stream",
          "text": [
            "[codecarbon INFO @ 08:08:21] Energy consumed for RAM : 0.003303 kWh. RAM Power : 4.754399299621582 W\n",
            "[codecarbon INFO @ 08:08:21] Energy consumed for all GPUs : 0.040914 kWh. Total GPU Power : 84.565 W\n",
            "[codecarbon INFO @ 08:08:21] Energy consumed for all CPUs : 0.029568 kWh. Total CPU Power : 42.5 W\n",
            "[codecarbon INFO @ 08:08:21] 0.073785 kWh of electricity used since the beginning.\n"
          ]
        },
        {
          "metadata": {
            "tags": null
          },
          "name": "stdout",
          "output_type": "stream",
          "text": [
            "312/721 [===========>..................] - ETA: 3:04 - loss: 0.3402 - accuracy: 0.8810"
          ]
        },
        {
          "metadata": {
            "tags": null
          },
          "name": "stderr",
          "output_type": "stream",
          "text": [
            "[codecarbon INFO @ 08:08:36] Energy consumed for RAM : 0.003322 kWh. RAM Power : 4.754399299621582 W\n",
            "[codecarbon INFO @ 08:08:36] Energy consumed for all GPUs : 0.041213 kWh. Total GPU Power : 71.912 W\n",
            "[codecarbon INFO @ 08:08:36] Energy consumed for all CPUs : 0.029745 kWh. Total CPU Power : 42.5 W\n"
          ]
        },
        {
          "metadata": {
            "tags": null
          },
          "name": "stdout",
          "output_type": "stream",
          "text": [
            "\b\b\b\b\b\b\b\b\b\b\b\b\b\b\b\b\b\b\b\b\b\b\b\b\b\b\b\b\b\b\b\b\b\b\b\b\b\b\b\b\b\b\b\b\b\b\b\b\b\b\b\b\b\b\b\b\b\b\b\b\b\b\b\b\b\b\b\b\b\b\b\b\b\b\b\b\b\b\b\b\b\b\b\b\b\b\r313/721 [============>.................] - ETA: 3:03 - loss: 0.3408 - accuracy: 0.8808"
          ]
        },
        {
          "metadata": {
            "tags": null
          },
          "name": "stderr",
          "output_type": "stream",
          "text": [
            "[codecarbon INFO @ 08:08:36] 0.074281 kWh of electricity used since the beginning.\n"
          ]
        },
        {
          "metadata": {
            "tags": null
          },
          "name": "stdout",
          "output_type": "stream",
          "text": [
            "346/721 [=============>................] - ETA: 2:48 - loss: 0.3400 - accuracy: 0.8812"
          ]
        },
        {
          "metadata": {
            "tags": null
          },
          "name": "stderr",
          "output_type": "stream",
          "text": [
            "[codecarbon INFO @ 08:08:51] Energy consumed for RAM : 0.003342 kWh. RAM Power : 4.754399299621582 W\n",
            "[codecarbon INFO @ 08:08:51] Energy consumed for all GPUs : 0.041491 kWh. Total GPU Power : 66.612 W\n",
            "[codecarbon INFO @ 08:08:51] Energy consumed for all CPUs : 0.029923 kWh. Total CPU Power : 42.5 W\n",
            "[codecarbon INFO @ 08:08:51] 0.074756 kWh of electricity used since the beginning.\n"
          ]
        },
        {
          "metadata": {
            "tags": null
          },
          "name": "stdout",
          "output_type": "stream",
          "text": [
            "379/721 [==============>...............] - ETA: 2:34 - loss: 0.3358 - accuracy: 0.8816"
          ]
        },
        {
          "metadata": {
            "tags": null
          },
          "name": "stderr",
          "output_type": "stream",
          "text": [
            "[codecarbon INFO @ 08:09:06] Energy consumed for RAM : 0.003362 kWh. RAM Power : 4.754399299621582 W\n",
            "[codecarbon INFO @ 08:09:06] Energy consumed for all GPUs : 0.041762 kWh. Total GPU Power : 65.378 W\n",
            "[codecarbon INFO @ 08:09:06] Energy consumed for all CPUs : 0.030100 kWh. Total CPU Power : 42.5 W\n",
            "[codecarbon INFO @ 08:09:06] 0.075224 kWh of electricity used since the beginning.\n"
          ]
        },
        {
          "metadata": {
            "tags": null
          },
          "name": "stdout",
          "output_type": "stream",
          "text": [
            "414/721 [================>.............] - ETA: 2:17 - loss: 0.3339 - accuracy: 0.8832"
          ]
        },
        {
          "metadata": {
            "tags": null
          },
          "name": "stderr",
          "output_type": "stream",
          "text": [
            "[codecarbon INFO @ 08:09:21] Energy consumed for RAM : 0.003382 kWh. RAM Power : 4.754399299621582 W\n",
            "[codecarbon INFO @ 08:09:21] Energy consumed for all GPUs : 0.042046 kWh. Total GPU Power : 68.333 W\n",
            "[codecarbon INFO @ 08:09:21] Energy consumed for all CPUs : 0.030277 kWh. Total CPU Power : 42.5 W\n",
            "[codecarbon INFO @ 08:09:21] 0.075705 kWh of electricity used since the beginning.\n"
          ]
        },
        {
          "metadata": {
            "tags": null
          },
          "name": "stdout",
          "output_type": "stream",
          "text": [
            "449/721 [=================>............] - ETA: 2:01 - loss: 0.3353 - accuracy: 0.8834"
          ]
        },
        {
          "metadata": {
            "tags": null
          },
          "name": "stderr",
          "output_type": "stream",
          "text": [
            "[codecarbon INFO @ 08:09:36] Energy consumed for RAM : 0.003401 kWh. RAM Power : 4.754399299621582 W\n",
            "[codecarbon INFO @ 08:09:36] Energy consumed for all GPUs : 0.042252 kWh. Total GPU Power : 49.377 W\n",
            "[codecarbon INFO @ 08:09:36] Energy consumed for all CPUs : 0.030453 kWh. Total CPU Power : 42.5 W\n",
            "[codecarbon INFO @ 08:09:36] 0.076106 kWh of electricity used since the beginning.\n"
          ]
        },
        {
          "metadata": {
            "tags": null
          },
          "name": "stdout",
          "output_type": "stream",
          "text": [
            "482/721 [===================>..........] - ETA: 1:46 - loss: 0.3306 - accuracy: 0.8845"
          ]
        },
        {
          "metadata": {
            "tags": null
          },
          "name": "stderr",
          "output_type": "stream",
          "text": [
            "[codecarbon INFO @ 08:09:51] Energy consumed for RAM : 0.003421 kWh. RAM Power : 4.754399299621582 W\n",
            "[codecarbon INFO @ 08:09:51] Energy consumed for all GPUs : 0.042669 kWh. Total GPU Power : 100.278 W\n",
            "[codecarbon INFO @ 08:09:51] Energy consumed for all CPUs : 0.030631 kWh. Total CPU Power : 42.5 W\n",
            "[codecarbon INFO @ 08:09:51] 0.076720 kWh of electricity used since the beginning.\n"
          ]
        },
        {
          "metadata": {
            "tags": null
          },
          "name": "stdout",
          "output_type": "stream",
          "text": [
            "515/721 [====================>.........] - ETA: 1:32 - loss: 0.3308 - accuracy: 0.8841"
          ]
        },
        {
          "metadata": {
            "tags": null
          },
          "name": "stderr",
          "output_type": "stream",
          "text": [
            "[codecarbon INFO @ 08:10:06] Energy consumed for RAM : 0.003441 kWh. RAM Power : 4.754399299621582 W\n",
            "[codecarbon INFO @ 08:10:06] Energy consumed for all GPUs : 0.042945 kWh. Total GPU Power : 66.318 W\n",
            "[codecarbon INFO @ 08:10:06] Energy consumed for all CPUs : 0.030808 kWh. Total CPU Power : 42.5 W\n",
            "[codecarbon INFO @ 08:10:06] 0.077193 kWh of electricity used since the beginning.\n"
          ]
        },
        {
          "metadata": {
            "tags": null
          },
          "name": "stdout",
          "output_type": "stream",
          "text": [
            "549/721 [=====================>........] - ETA: 1:17 - loss: 0.3304 - accuracy: 0.8847"
          ]
        },
        {
          "metadata": {
            "tags": null
          },
          "name": "stderr",
          "output_type": "stream",
          "text": [
            "[codecarbon INFO @ 08:10:21] Energy consumed for RAM : 0.003461 kWh. RAM Power : 4.754399299621582 W\n",
            "[codecarbon INFO @ 08:10:21] Energy consumed for all GPUs : 0.043122 kWh. Total GPU Power : 42.562 W\n",
            "[codecarbon INFO @ 08:10:21] Energy consumed for all CPUs : 0.030985 kWh. Total CPU Power : 42.5 W\n",
            "[codecarbon INFO @ 08:10:21] 0.077567 kWh of electricity used since the beginning.\n"
          ]
        },
        {
          "metadata": {
            "tags": null
          },
          "name": "stdout",
          "output_type": "stream",
          "text": [
            "582/721 [=======================>......] - ETA: 1:02 - loss: 0.3267 - accuracy: 0.8855"
          ]
        },
        {
          "metadata": {
            "tags": null
          },
          "name": "stderr",
          "output_type": "stream",
          "text": [
            "[codecarbon INFO @ 08:10:36] Energy consumed for RAM : 0.003480 kWh. RAM Power : 4.754399299621582 W\n",
            "[codecarbon INFO @ 08:10:36] Energy consumed for all GPUs : 0.043418 kWh. Total GPU Power : 71.129 W\n",
            "[codecarbon INFO @ 08:10:36] Energy consumed for all CPUs : 0.031162 kWh. Total CPU Power : 42.5 W\n",
            "[codecarbon INFO @ 08:10:36] 0.078060 kWh of electricity used since the beginning.\n"
          ]
        },
        {
          "metadata": {
            "tags": null
          },
          "name": "stdout",
          "output_type": "stream",
          "text": [
            "613/721 [========================>.....] - ETA: 48s - loss: 0.3227 - accuracy: 0.8869"
          ]
        },
        {
          "metadata": {
            "tags": null
          },
          "name": "stderr",
          "output_type": "stream",
          "text": [
            "[codecarbon INFO @ 08:10:51] Energy consumed for RAM : 0.003500 kWh. RAM Power : 4.754399299621582 W\n",
            "[codecarbon INFO @ 08:10:51] Energy consumed for all GPUs : 0.043794 kWh. Total GPU Power : 90.385 W\n",
            "[codecarbon INFO @ 08:10:51] Energy consumed for all CPUs : 0.031339 kWh. Total CPU Power : 42.5 W\n",
            "[codecarbon INFO @ 08:10:51] 0.078633 kWh of electricity used since the beginning.\n"
          ]
        },
        {
          "metadata": {
            "tags": null
          },
          "name": "stdout",
          "output_type": "stream",
          "text": [
            "645/721 [=========================>....] - ETA: 34s - loss: 0.3238 - accuracy: 0.8864"
          ]
        },
        {
          "metadata": {
            "tags": null
          },
          "name": "stderr",
          "output_type": "stream",
          "text": [
            "[codecarbon INFO @ 08:11:06] Energy consumed for RAM : 0.003520 kWh. RAM Power : 4.754399299621582 W\n",
            "[codecarbon INFO @ 08:11:06] Energy consumed for all GPUs : 0.044085 kWh. Total GPU Power : 70.096 W\n",
            "[codecarbon INFO @ 08:11:06] Energy consumed for all CPUs : 0.031516 kWh. Total CPU Power : 42.5 W\n",
            "[codecarbon INFO @ 08:11:06] 0.079121 kWh of electricity used since the beginning.\n"
          ]
        },
        {
          "metadata": {
            "tags": null
          },
          "name": "stdout",
          "output_type": "stream",
          "text": [
            "679/721 [===========================>..] - ETA: 18s - loss: 0.3221 - accuracy: 0.8866"
          ]
        },
        {
          "metadata": {
            "tags": null
          },
          "name": "stderr",
          "output_type": "stream",
          "text": [
            "[codecarbon INFO @ 08:11:21] Energy consumed for RAM : 0.003540 kWh. RAM Power : 4.754399299621582 W\n",
            "[codecarbon INFO @ 08:11:21] Energy consumed for all GPUs : 0.044463 kWh. Total GPU Power : 90.636 W\n",
            "[codecarbon INFO @ 08:11:21] Energy consumed for all CPUs : 0.031693 kWh. Total CPU Power : 42.5 W\n",
            "[codecarbon INFO @ 08:11:21] 0.079696 kWh of electricity used since the beginning.\n"
          ]
        },
        {
          "metadata": {
            "tags": null
          },
          "name": "stdout",
          "output_type": "stream",
          "text": [
            "713/721 [============================>.] - ETA: 3s - loss: 0.3225 - accuracy: 0.8865"
          ]
        },
        {
          "metadata": {
            "tags": null
          },
          "name": "stderr",
          "output_type": "stream",
          "text": [
            "[codecarbon INFO @ 08:11:36] Energy consumed for RAM : 0.003560 kWh. RAM Power : 4.754399299621582 W\n",
            "[codecarbon INFO @ 08:11:36] Energy consumed for all GPUs : 0.044805 kWh. Total GPU Power : 82.126 W\n",
            "[codecarbon INFO @ 08:11:36] Energy consumed for all CPUs : 0.031870 kWh. Total CPU Power : 42.5 W\n",
            "[codecarbon INFO @ 08:11:36] 0.080235 kWh of electricity used since the beginning.\n"
          ]
        },
        {
          "metadata": {
            "tags": null
          },
          "name": "stdout",
          "output_type": "stream",
          "text": [
            "721/721 [==============================] - ETA: 0s - loss: 0.3215 - accuracy: 0.8866"
          ]
        },
        {
          "metadata": {
            "tags": null
          },
          "name": "stderr",
          "output_type": "stream",
          "text": [
            "[codecarbon INFO @ 08:11:51] Energy consumed for RAM : 0.003579 kWh. RAM Power : 4.754399299621582 W\n",
            "[codecarbon INFO @ 08:11:51] Energy consumed for all GPUs : 0.044956 kWh. Total GPU Power : 36.313 W\n",
            "[codecarbon INFO @ 08:11:51] Energy consumed for all CPUs : 0.032047 kWh. Total CPU Power : 42.5 W\n",
            "[codecarbon INFO @ 08:11:51] 0.080583 kWh of electricity used since the beginning.\n"
          ]
        },
        {
          "metadata": {
            "tags": null
          },
          "name": "stdout",
          "output_type": "stream",
          "text": [
            "721/721 [==============================] - 344s 476ms/step - loss: 0.3215 - accuracy: 0.8866 - val_loss: 0.2943 - val_accuracy: 0.9062\n",
            "Epoch 8/20\n",
            " 16/721 [..............................] - ETA: 5:20 - loss: 0.2638 - accuracy: 0.8867"
          ]
        },
        {
          "metadata": {
            "tags": null
          },
          "name": "stderr",
          "output_type": "stream",
          "text": [
            "[codecarbon INFO @ 08:12:06] Energy consumed for RAM : 0.003599 kWh. RAM Power : 4.754399299621582 W\n",
            "[codecarbon INFO @ 08:12:06] Energy consumed for all GPUs : 0.045137 kWh. Total GPU Power : 43.548 W\n",
            "[codecarbon INFO @ 08:12:06] Energy consumed for all CPUs : 0.032224 kWh. Total CPU Power : 42.5 W\n",
            "[codecarbon INFO @ 08:12:06] 0.080960 kWh of electricity used since the beginning.\n"
          ]
        },
        {
          "metadata": {
            "tags": null
          },
          "name": "stdout",
          "output_type": "stream",
          "text": [
            " 49/721 [=>............................] - ETA: 5:03 - loss: 0.2688 - accuracy: 0.9018"
          ]
        },
        {
          "metadata": {
            "tags": null
          },
          "name": "stderr",
          "output_type": "stream",
          "text": [
            "[codecarbon INFO @ 08:12:21] Energy consumed for RAM : 0.003619 kWh. RAM Power : 4.754399299621582 W\n",
            "[codecarbon INFO @ 08:12:21] Energy consumed for all GPUs : 0.045287 kWh. Total GPU Power : 36.214 W\n",
            "[codecarbon INFO @ 08:12:21] Energy consumed for all CPUs : 0.032401 kWh. Total CPU Power : 42.5 W\n",
            "[codecarbon INFO @ 08:12:21] 0.081308 kWh of electricity used since the beginning.\n"
          ]
        },
        {
          "metadata": {
            "tags": null
          },
          "name": "stdout",
          "output_type": "stream",
          "text": [
            " 81/721 [==>...........................] - ETA: 4:51 - loss: 0.2832 - accuracy: 0.8958"
          ]
        },
        {
          "metadata": {
            "tags": null
          },
          "name": "stderr",
          "output_type": "stream",
          "text": [
            "[codecarbon INFO @ 08:12:36] Energy consumed for RAM : 0.003639 kWh. RAM Power : 4.754399299621582 W\n",
            "[codecarbon INFO @ 08:12:36] Energy consumed for all GPUs : 0.045624 kWh. Total GPU Power : 80.959 W\n",
            "[codecarbon INFO @ 08:12:36] Energy consumed for all CPUs : 0.032578 kWh. Total CPU Power : 42.5 W\n",
            "[codecarbon INFO @ 08:12:36] 0.081841 kWh of electricity used since the beginning.\n"
          ]
        },
        {
          "metadata": {
            "tags": null
          },
          "name": "stdout",
          "output_type": "stream",
          "text": [
            "115/721 [===>..........................] - ETA: 4:35 - loss: 0.3006 - accuracy: 0.8935"
          ]
        },
        {
          "metadata": {
            "tags": null
          },
          "name": "stderr",
          "output_type": "stream",
          "text": [
            "[codecarbon INFO @ 08:12:51] Energy consumed for RAM : 0.003658 kWh. RAM Power : 4.754399299621582 W\n",
            "[codecarbon INFO @ 08:12:51] Energy consumed for all GPUs : 0.045915 kWh. Total GPU Power : 69.747 W\n",
            "[codecarbon INFO @ 08:12:51] Energy consumed for all CPUs : 0.032755 kWh. Total CPU Power : 42.5 W\n",
            "[codecarbon INFO @ 08:12:51] 0.082328 kWh of electricity used since the beginning.\n"
          ]
        },
        {
          "metadata": {
            "tags": null
          },
          "name": "stdout",
          "output_type": "stream",
          "text": [
            "150/721 [=====>........................] - ETA: 4:15 - loss: 0.3116 - accuracy: 0.8896"
          ]
        },
        {
          "metadata": {
            "tags": null
          },
          "name": "stderr",
          "output_type": "stream",
          "text": [
            "[codecarbon INFO @ 08:13:06] Energy consumed for RAM : 0.003678 kWh. RAM Power : 4.754399299621582 W\n",
            "[codecarbon INFO @ 08:13:06] Energy consumed for all GPUs : 0.046198 kWh. Total GPU Power : 68.138 W\n",
            "[codecarbon INFO @ 08:13:06] Energy consumed for all CPUs : 0.032932 kWh. Total CPU Power : 42.5 W\n",
            "[codecarbon INFO @ 08:13:06] 0.082809 kWh of electricity used since the beginning.\n"
          ]
        },
        {
          "metadata": {
            "tags": null
          },
          "name": "stdout",
          "output_type": "stream",
          "text": [
            "184/721 [======>.......................] - ETA: 4:00 - loss: 0.3073 - accuracy: 0.8896"
          ]
        },
        {
          "metadata": {
            "tags": null
          },
          "name": "stderr",
          "output_type": "stream",
          "text": [
            "[codecarbon INFO @ 08:13:21] Energy consumed for RAM : 0.003698 kWh. RAM Power : 4.754399299621582 W\n",
            "[codecarbon INFO @ 08:13:21] Energy consumed for all GPUs : 0.046478 kWh. Total GPU Power : 67.2 W\n",
            "[codecarbon INFO @ 08:13:21] Energy consumed for all CPUs : 0.033109 kWh. Total CPU Power : 42.5 W\n",
            "[codecarbon INFO @ 08:13:21] 0.083285 kWh of electricity used since the beginning.\n"
          ]
        },
        {
          "metadata": {
            "tags": null
          },
          "name": "stdout",
          "output_type": "stream",
          "text": [
            "218/721 [========>.....................] - ETA: 3:44 - loss: 0.3035 - accuracy: 0.8902"
          ]
        },
        {
          "metadata": {
            "tags": null
          },
          "name": "stderr",
          "output_type": "stream",
          "text": [
            "[codecarbon INFO @ 08:13:36] Energy consumed for RAM : 0.003718 kWh. RAM Power : 4.754399299621582 W\n",
            "[codecarbon INFO @ 08:13:36] Energy consumed for all GPUs : 0.046782 kWh. Total GPU Power : 72.988 W\n",
            "[codecarbon INFO @ 08:13:37] Energy consumed for all CPUs : 0.033287 kWh. Total CPU Power : 42.5 W\n",
            "[codecarbon INFO @ 08:13:37] 0.083787 kWh of electricity used since the beginning.\n"
          ]
        },
        {
          "metadata": {
            "tags": null
          },
          "name": "stdout",
          "output_type": "stream",
          "text": [
            "251/721 [=========>....................] - ETA: 3:29 - loss: 0.2999 - accuracy: 0.8917"
          ]
        },
        {
          "metadata": {
            "tags": null
          },
          "name": "stderr",
          "output_type": "stream",
          "text": [
            "[codecarbon INFO @ 08:13:51] Energy consumed for RAM : 0.003738 kWh. RAM Power : 4.754399299621582 W\n",
            "[codecarbon INFO @ 08:13:51] Energy consumed for all GPUs : 0.047053 kWh. Total GPU Power : 65.378 W\n"
          ]
        },
        {
          "metadata": {
            "tags": null
          },
          "name": "stdout",
          "output_type": "stream",
          "text": [
            "\b\b\b\b\b\b\b\b\b\b\b\b\b\b\b\b\b\b\b\b\b\b\b\b\b\b\b\b\b\b\b\b\b\b\b\b\b\b\b\b\b\b\b\b\b\b\b\b\b\b\b\b\b\b\b\b\b\b\b\b\b\b\b\b\b\b\b\b\b\b\b\b\b\b\b\b\b\b\b\b\b\b\b\b\b\b\r252/721 [=========>....................] - ETA: 3:29 - loss: 0.2997 - accuracy: 0.8917"
          ]
        },
        {
          "metadata": {
            "tags": null
          },
          "name": "stderr",
          "output_type": "stream",
          "text": [
            "[codecarbon INFO @ 08:13:51] Energy consumed for all CPUs : 0.033464 kWh. Total CPU Power : 42.5 W\n",
            "[codecarbon INFO @ 08:13:51] 0.084255 kWh of electricity used since the beginning.\n"
          ]
        },
        {
          "metadata": {
            "tags": null
          },
          "name": "stdout",
          "output_type": "stream",
          "text": [
            "286/721 [==========>...................] - ETA: 3:13 - loss: 0.2969 - accuracy: 0.8919"
          ]
        },
        {
          "metadata": {
            "tags": null
          },
          "name": "stderr",
          "output_type": "stream",
          "text": [
            "[codecarbon INFO @ 08:14:06] Energy consumed for RAM : 0.003757 kWh. RAM Power : 4.754399299621582 W\n",
            "[codecarbon INFO @ 08:14:06] Energy consumed for all GPUs : 0.047333 kWh. Total GPU Power : 67.298 W\n",
            "[codecarbon INFO @ 08:14:07] Energy consumed for all CPUs : 0.033641 kWh. Total CPU Power : 42.5 W\n",
            "[codecarbon INFO @ 08:14:07] 0.084731 kWh of electricity used since the beginning.\n"
          ]
        },
        {
          "metadata": {
            "tags": null
          },
          "name": "stdout",
          "output_type": "stream",
          "text": [
            "320/721 [============>.................] - ETA: 2:58 - loss: 0.3054 - accuracy: 0.8905"
          ]
        },
        {
          "metadata": {
            "tags": null
          },
          "name": "stderr",
          "output_type": "stream",
          "text": [
            "[codecarbon INFO @ 08:14:21] Energy consumed for RAM : 0.003777 kWh. RAM Power : 4.754399299621582 W\n",
            "[codecarbon INFO @ 08:14:21] Energy consumed for all GPUs : 0.047621 kWh. Total GPU Power : 69.411 W\n",
            "[codecarbon INFO @ 08:14:21] Energy consumed for all CPUs : 0.033817 kWh. Total CPU Power : 42.5 W\n",
            "[codecarbon INFO @ 08:14:21] 0.085216 kWh of electricity used since the beginning.\n"
          ]
        },
        {
          "metadata": {
            "tags": null
          },
          "name": "stdout",
          "output_type": "stream",
          "text": [
            "354/721 [=============>................] - ETA: 2:43 - loss: 0.3010 - accuracy: 0.8914"
          ]
        },
        {
          "metadata": {
            "tags": null
          },
          "name": "stderr",
          "output_type": "stream",
          "text": [
            "[codecarbon INFO @ 08:14:36] Energy consumed for RAM : 0.003797 kWh. RAM Power : 4.754399299621582 W\n",
            "[codecarbon INFO @ 08:14:36] Energy consumed for all GPUs : 0.047896 kWh. Total GPU Power : 65.868 W\n",
            "[codecarbon INFO @ 08:14:37] Energy consumed for all CPUs : 0.033995 kWh. Total CPU Power : 42.5 W\n",
            "[codecarbon INFO @ 08:14:37] 0.085688 kWh of electricity used since the beginning.\n"
          ]
        },
        {
          "metadata": {
            "tags": null
          },
          "name": "stdout",
          "output_type": "stream",
          "text": [
            "385/721 [===============>..............] - ETA: 2:30 - loss: 0.3001 - accuracy: 0.8919"
          ]
        },
        {
          "metadata": {
            "tags": null
          },
          "name": "stderr",
          "output_type": "stream",
          "text": [
            "[codecarbon INFO @ 08:14:51] Energy consumed for RAM : 0.003817 kWh. RAM Power : 4.754399299621582 W\n",
            "[codecarbon INFO @ 08:14:52] Energy consumed for all GPUs : 0.048179 kWh. Total GPU Power : 67.886 W\n",
            "[codecarbon INFO @ 08:14:52] Energy consumed for all CPUs : 0.034172 kWh. Total CPU Power : 42.5 W\n",
            "[codecarbon INFO @ 08:14:52] 0.086167 kWh of electricity used since the beginning.\n"
          ]
        },
        {
          "metadata": {
            "tags": null
          },
          "name": "stdout",
          "output_type": "stream",
          "text": [
            "417/721 [================>.............] - ETA: 2:16 - loss: 0.2996 - accuracy: 0.8924"
          ]
        },
        {
          "metadata": {
            "tags": null
          },
          "name": "stderr",
          "output_type": "stream",
          "text": [
            "[codecarbon INFO @ 08:15:06] Energy consumed for RAM : 0.003836 kWh. RAM Power : 4.754399299621582 W\n",
            "[codecarbon INFO @ 08:15:07] Energy consumed for all GPUs : 0.048462 kWh. Total GPU Power : 67.98400000000001 W\n",
            "[codecarbon INFO @ 08:15:07] Energy consumed for all CPUs : 0.034349 kWh. Total CPU Power : 42.5 W\n",
            "[codecarbon INFO @ 08:15:07] 0.086647 kWh of electricity used since the beginning.\n"
          ]
        },
        {
          "metadata": {
            "tags": null
          },
          "name": "stdout",
          "output_type": "stream",
          "text": [
            "451/721 [=================>............] - ETA: 2:01 - loss: 0.2991 - accuracy: 0.8925"
          ]
        },
        {
          "metadata": {
            "tags": null
          },
          "name": "stderr",
          "output_type": "stream",
          "text": [
            "[codecarbon INFO @ 08:15:21] Energy consumed for RAM : 0.003856 kWh. RAM Power : 4.754399299621582 W\n",
            "[codecarbon INFO @ 08:15:22] Energy consumed for all GPUs : 0.048641 kWh. Total GPU Power : 43.055 W\n",
            "[codecarbon INFO @ 08:15:22] Energy consumed for all CPUs : 0.034526 kWh. Total CPU Power : 42.5 W\n",
            "[codecarbon INFO @ 08:15:22] 0.087023 kWh of electricity used since the beginning.\n"
          ]
        },
        {
          "metadata": {
            "tags": null
          },
          "name": "stdout",
          "output_type": "stream",
          "text": [
            "485/721 [===================>..........] - ETA: 1:45 - loss: 0.2992 - accuracy: 0.8927"
          ]
        },
        {
          "metadata": {
            "tags": null
          },
          "name": "stderr",
          "output_type": "stream",
          "text": [
            "[codecarbon INFO @ 08:15:37] Energy consumed for RAM : 0.003876 kWh. RAM Power : 4.754399299621582 W\n",
            "[codecarbon INFO @ 08:15:37] Energy consumed for all GPUs : 0.048804 kWh. Total GPU Power : 39.232000000000006 W\n",
            "[codecarbon INFO @ 08:15:37] Energy consumed for all CPUs : 0.034703 kWh. Total CPU Power : 42.5 W\n",
            "[codecarbon INFO @ 08:15:37] 0.087383 kWh of electricity used since the beginning.\n"
          ]
        },
        {
          "metadata": {
            "tags": null
          },
          "name": "stdout",
          "output_type": "stream",
          "text": [
            "518/721 [====================>.........] - ETA: 1:31 - loss: 0.2993 - accuracy: 0.8929"
          ]
        },
        {
          "metadata": {
            "tags": null
          },
          "name": "stderr",
          "output_type": "stream",
          "text": [
            "[codecarbon INFO @ 08:15:52] Energy consumed for RAM : 0.003896 kWh. RAM Power : 4.754399299621582 W\n",
            "[codecarbon INFO @ 08:15:52] Energy consumed for all GPUs : 0.049078 kWh. Total GPU Power : 66.024 W\n",
            "[codecarbon INFO @ 08:15:52] Energy consumed for all CPUs : 0.034880 kWh. Total CPU Power : 42.5 W\n",
            "[codecarbon INFO @ 08:15:52] 0.087854 kWh of electricity used since the beginning.\n"
          ]
        },
        {
          "metadata": {
            "tags": null
          },
          "name": "stdout",
          "output_type": "stream",
          "text": [
            "553/721 [======================>.......] - ETA: 1:15 - loss: 0.2984 - accuracy: 0.8926"
          ]
        },
        {
          "metadata": {
            "tags": null
          },
          "name": "stderr",
          "output_type": "stream",
          "text": [
            "[codecarbon INFO @ 08:16:07] Energy consumed for RAM : 0.003916 kWh. RAM Power : 4.754399299621582 W\n",
            "[codecarbon INFO @ 08:16:07] Energy consumed for all GPUs : 0.049248 kWh. Total GPU Power : 40.712 W\n",
            "[codecarbon INFO @ 08:16:07] Energy consumed for all CPUs : 0.035057 kWh. Total CPU Power : 42.5 W\n",
            "[codecarbon INFO @ 08:16:07] 0.088220 kWh of electricity used since the beginning.\n"
          ]
        },
        {
          "metadata": {
            "tags": null
          },
          "name": "stdout",
          "output_type": "stream",
          "text": [
            "586/721 [=======================>......] - ETA: 1:00 - loss: 0.2970 - accuracy: 0.8944"
          ]
        },
        {
          "metadata": {
            "tags": null
          },
          "name": "stderr",
          "output_type": "stream",
          "text": [
            "[codecarbon INFO @ 08:16:22] Energy consumed for RAM : 0.003935 kWh. RAM Power : 4.754399299621582 W\n",
            "[codecarbon INFO @ 08:16:22] Energy consumed for all GPUs : 0.049531 kWh. Total GPU Power : 68.138 W\n",
            "[codecarbon INFO @ 08:16:22] Energy consumed for all CPUs : 0.035234 kWh. Total CPU Power : 42.5 W\n",
            "[codecarbon INFO @ 08:16:22] 0.088700 kWh of electricity used since the beginning.\n"
          ]
        },
        {
          "metadata": {
            "tags": null
          },
          "name": "stdout",
          "output_type": "stream",
          "text": [
            "619/721 [========================>.....] - ETA: 45s - loss: 0.2975 - accuracy: 0.8951"
          ]
        },
        {
          "metadata": {
            "tags": null
          },
          "name": "stderr",
          "output_type": "stream",
          "text": [
            "[codecarbon INFO @ 08:16:37] Energy consumed for RAM : 0.003955 kWh. RAM Power : 4.754399299621582 W\n",
            "[codecarbon INFO @ 08:16:37] Energy consumed for all GPUs : 0.049693 kWh. Total GPU Power : 38.936 W\n",
            "[codecarbon INFO @ 08:16:37] Energy consumed for all CPUs : 0.035411 kWh. Total CPU Power : 42.5 W\n",
            "[codecarbon INFO @ 08:16:37] 0.089059 kWh of electricity used since the beginning.\n"
          ]
        },
        {
          "metadata": {
            "tags": null
          },
          "name": "stdout",
          "output_type": "stream",
          "text": [
            "651/721 [==========================>...] - ETA: 31s - loss: 0.2992 - accuracy: 0.8953"
          ]
        },
        {
          "metadata": {
            "tags": null
          },
          "name": "stderr",
          "output_type": "stream",
          "text": [
            "[codecarbon INFO @ 08:16:52] Energy consumed for RAM : 0.003975 kWh. RAM Power : 4.754399299621582 W\n",
            "[codecarbon INFO @ 08:16:52] Energy consumed for all GPUs : 0.049873 kWh. Total GPU Power : 43.227000000000004 W\n",
            "[codecarbon INFO @ 08:16:52] Energy consumed for all CPUs : 0.035588 kWh. Total CPU Power : 42.5 W\n",
            "[codecarbon INFO @ 08:16:52] 0.089436 kWh of electricity used since the beginning.\n"
          ]
        },
        {
          "metadata": {
            "tags": null
          },
          "name": "stdout",
          "output_type": "stream",
          "text": [
            "683/721 [===========================>..] - ETA: 17s - loss: 0.2982 - accuracy: 0.8962"
          ]
        },
        {
          "metadata": {
            "tags": null
          },
          "name": "stderr",
          "output_type": "stream",
          "text": [
            "[codecarbon INFO @ 08:17:07] Energy consumed for RAM : 0.003995 kWh. RAM Power : 4.754399299621582 W\n",
            "[codecarbon INFO @ 08:17:07] Energy consumed for all GPUs : 0.050053 kWh. Total GPU Power : 43.325 W\n",
            "[codecarbon INFO @ 08:17:07] Energy consumed for all CPUs : 0.035765 kWh. Total CPU Power : 42.5 W\n",
            "[codecarbon INFO @ 08:17:07] 0.089813 kWh of electricity used since the beginning.\n"
          ]
        },
        {
          "metadata": {
            "tags": null
          },
          "name": "stdout",
          "output_type": "stream",
          "text": [
            "715/721 [============================>.] - ETA: 2s - loss: 0.2978 - accuracy: 0.8962"
          ]
        },
        {
          "metadata": {
            "tags": null
          },
          "name": "stderr",
          "output_type": "stream",
          "text": [
            "[codecarbon INFO @ 08:17:22] Energy consumed for RAM : 0.004014 kWh. RAM Power : 4.754399299621582 W\n",
            "[codecarbon INFO @ 08:17:22] Energy consumed for all GPUs : 0.050376 kWh. Total GPU Power : 77.589 W\n",
            "[codecarbon INFO @ 08:17:22] Energy consumed for all CPUs : 0.035942 kWh. Total CPU Power : 42.5 W\n",
            "[codecarbon INFO @ 08:17:22] 0.090333 kWh of electricity used since the beginning.\n"
          ]
        },
        {
          "metadata": {
            "tags": null
          },
          "name": "stdout",
          "output_type": "stream",
          "text": [
            "721/721 [==============================] - ETA: 0s - loss: 0.2981 - accuracy: 0.8963"
          ]
        },
        {
          "metadata": {
            "tags": null
          },
          "name": "stderr",
          "output_type": "stream",
          "text": [
            "[codecarbon INFO @ 08:17:37] Energy consumed for RAM : 0.004034 kWh. RAM Power : 4.754399299621582 W\n",
            "[codecarbon INFO @ 08:17:37] Energy consumed for all GPUs : 0.050636 kWh. Total GPU Power : 62.573 W\n",
            "[codecarbon INFO @ 08:17:37] Energy consumed for all CPUs : 0.036119 kWh. Total CPU Power : 42.5 W\n",
            "[codecarbon INFO @ 08:17:37] 0.090790 kWh of electricity used since the beginning.\n"
          ]
        },
        {
          "metadata": {
            "tags": null
          },
          "name": "stdout",
          "output_type": "stream",
          "text": [
            "721/721 [==============================] - 344s 476ms/step - loss: 0.2981 - accuracy: 0.8963 - val_loss: 0.2506 - val_accuracy: 0.9236\n",
            "Epoch 9/20\n",
            " 17/721 [..............................] - ETA: 5:50 - loss: 0.3036 - accuracy: 0.9081"
          ]
        },
        {
          "metadata": {
            "tags": null
          },
          "name": "stderr",
          "output_type": "stream",
          "text": [
            "[codecarbon INFO @ 08:17:52] Energy consumed for RAM : 0.004054 kWh. RAM Power : 4.754399299621582 W\n"
          ]
        },
        {
          "metadata": {
            "tags": null
          },
          "name": "stdout",
          "output_type": "stream",
          "text": [
            "\b\b\b\b\b\b\b\b\b\b\b\b\b\b\b\b\b\b\b\b\b\b\b\b\b\b\b\b\b\b\b\b\b\b\b\b\b\b\b\b\b\b\b\b\b\b\b\b\b\b\b\b\b\b\b\b\b\b\b\b\b\b\b\b\b\b\b\b\b\b\b\b\b\b\b\b\b\b\b\b\b\b\b\b\b\b\r 18/721 [..............................] - ETA: 5:53 - loss: 0.3430 - accuracy: 0.8958"
          ]
        },
        {
          "metadata": {
            "tags": null
          },
          "name": "stderr",
          "output_type": "stream",
          "text": [
            "[codecarbon INFO @ 08:17:52] Energy consumed for all GPUs : 0.050931 kWh. Total GPU Power : 70.934 W\n",
            "[codecarbon INFO @ 08:17:52] Energy consumed for all CPUs : 0.036296 kWh. Total CPU Power : 42.5 W\n",
            "[codecarbon INFO @ 08:17:52] 0.091282 kWh of electricity used since the beginning.\n"
          ]
        },
        {
          "metadata": {
            "tags": null
          },
          "name": "stdout",
          "output_type": "stream",
          "text": [
            " 52/721 [=>............................] - ETA: 5:07 - loss: 0.2698 - accuracy: 0.9147"
          ]
        },
        {
          "metadata": {
            "tags": null
          },
          "name": "stderr",
          "output_type": "stream",
          "text": [
            "[codecarbon INFO @ 08:18:07] Energy consumed for RAM : 0.004074 kWh. RAM Power : 4.754399299621582 W\n",
            "[codecarbon INFO @ 08:18:07] Energy consumed for all GPUs : 0.051108 kWh. Total GPU Power : 42.463 W\n",
            "[codecarbon INFO @ 08:18:07] Energy consumed for all CPUs : 0.036473 kWh. Total CPU Power : 42.5 W\n",
            "[codecarbon INFO @ 08:18:07] 0.091655 kWh of electricity used since the beginning.\n"
          ]
        },
        {
          "metadata": {
            "tags": null
          },
          "name": "stdout",
          "output_type": "stream",
          "text": [
            " 86/721 [==>...........................] - ETA: 4:44 - loss: 0.2781 - accuracy: 0.9108"
          ]
        },
        {
          "metadata": {
            "tags": null
          },
          "name": "stderr",
          "output_type": "stream",
          "text": [
            "[codecarbon INFO @ 08:18:22] Energy consumed for RAM : 0.004093 kWh. RAM Power : 4.754399299621582 W\n",
            "[codecarbon INFO @ 08:18:22] Energy consumed for all GPUs : 0.051417 kWh. Total GPU Power : 74.312 W\n",
            "[codecarbon INFO @ 08:18:22] Energy consumed for all CPUs : 0.036651 kWh. Total CPU Power : 42.5 W\n",
            "[codecarbon INFO @ 08:18:22] 0.092161 kWh of electricity used since the beginning.\n"
          ]
        },
        {
          "metadata": {
            "tags": null
          },
          "name": "stdout",
          "output_type": "stream",
          "text": [
            "120/721 [===>..........................] - ETA: 4:28 - loss: 0.2716 - accuracy: 0.9106"
          ]
        },
        {
          "metadata": {
            "tags": null
          },
          "name": "stderr",
          "output_type": "stream",
          "text": [
            "[codecarbon INFO @ 08:18:37] Energy consumed for RAM : 0.004113 kWh. RAM Power : 4.754399299621582 W\n",
            "[codecarbon INFO @ 08:18:37] Energy consumed for all GPUs : 0.051722 kWh. Total GPU Power : 73.432 W\n",
            "[codecarbon INFO @ 08:18:37] Energy consumed for all CPUs : 0.036828 kWh. Total CPU Power : 42.5 W\n",
            "[codecarbon INFO @ 08:18:37] 0.092663 kWh of electricity used since the beginning.\n"
          ]
        },
        {
          "metadata": {
            "tags": null
          },
          "name": "stdout",
          "output_type": "stream",
          "text": [
            "154/721 [=====>........................] - ETA: 4:13 - loss: 0.2722 - accuracy: 0.9108"
          ]
        },
        {
          "metadata": {
            "tags": null
          },
          "name": "stderr",
          "output_type": "stream",
          "text": [
            "[codecarbon INFO @ 08:18:52] Energy consumed for RAM : 0.004133 kWh. RAM Power : 4.754399299621582 W\n",
            "[codecarbon INFO @ 08:18:52] Energy consumed for all GPUs : 0.051915 kWh. Total GPU Power : 46.35300000000001 W\n",
            "[codecarbon INFO @ 08:18:52] Energy consumed for all CPUs : 0.037005 kWh. Total CPU Power : 42.5 W\n",
            "[codecarbon INFO @ 08:18:52] 0.093053 kWh of electricity used since the beginning.\n"
          ]
        },
        {
          "metadata": {
            "tags": null
          },
          "name": "stdout",
          "output_type": "stream",
          "text": [
            "183/721 [======>.......................] - ETA: 4:05 - loss: 0.2762 - accuracy: 0.9099"
          ]
        },
        {
          "metadata": {
            "tags": null
          },
          "name": "stderr",
          "output_type": "stream",
          "text": [
            "[codecarbon INFO @ 08:19:07] Energy consumed for RAM : 0.004153 kWh. RAM Power : 4.754399299621582 W\n",
            "[codecarbon INFO @ 08:19:07] Energy consumed for all GPUs : 0.052240 kWh. Total GPU Power : 78.17600000000002 W\n",
            "[codecarbon INFO @ 08:19:07] Energy consumed for all CPUs : 0.037182 kWh. Total CPU Power : 42.5 W\n",
            "[codecarbon INFO @ 08:19:07] 0.093575 kWh of electricity used since the beginning.\n"
          ]
        },
        {
          "metadata": {
            "tags": null
          },
          "name": "stdout",
          "output_type": "stream",
          "text": [
            "216/721 [=======>......................] - ETA: 3:51 - loss: 0.2746 - accuracy: 0.9104"
          ]
        },
        {
          "metadata": {
            "tags": null
          },
          "name": "stderr",
          "output_type": "stream",
          "text": [
            "[codecarbon INFO @ 08:19:22] Energy consumed for RAM : 0.004172 kWh. RAM Power : 4.754399299621582 W\n",
            "[codecarbon INFO @ 08:19:22] Energy consumed for all GPUs : 0.052456 kWh. Total GPU Power : 52.071 W\n",
            "[codecarbon INFO @ 08:19:22] Energy consumed for all CPUs : 0.037359 kWh. Total CPU Power : 42.5 W\n",
            "[codecarbon INFO @ 08:19:22] 0.093987 kWh of electricity used since the beginning.\n"
          ]
        },
        {
          "metadata": {
            "tags": null
          },
          "name": "stdout",
          "output_type": "stream",
          "text": [
            "249/721 [=========>....................] - ETA: 3:35 - loss: 0.2744 - accuracy: 0.9110"
          ]
        },
        {
          "metadata": {
            "tags": null
          },
          "name": "stderr",
          "output_type": "stream",
          "text": [
            "[codecarbon INFO @ 08:19:37] Energy consumed for RAM : 0.004192 kWh. RAM Power : 4.754399299621582 W\n",
            "[codecarbon INFO @ 08:19:37] Energy consumed for all GPUs : 0.052744 kWh. Total GPU Power : 69.172 W\n",
            "[codecarbon INFO @ 08:19:37] Energy consumed for all CPUs : 0.037536 kWh. Total CPU Power : 42.5 W\n",
            "[codecarbon INFO @ 08:19:37] 0.094472 kWh of electricity used since the beginning.\n"
          ]
        },
        {
          "metadata": {
            "tags": null
          },
          "name": "stdout",
          "output_type": "stream",
          "text": [
            "282/721 [==========>...................] - ETA: 3:20 - loss: 0.2786 - accuracy: 0.9090"
          ]
        },
        {
          "metadata": {
            "tags": null
          },
          "name": "stderr",
          "output_type": "stream",
          "text": [
            "[codecarbon INFO @ 08:19:52] Energy consumed for RAM : 0.004212 kWh. RAM Power : 4.754399299621582 W\n",
            "[codecarbon INFO @ 08:19:52] Energy consumed for all GPUs : 0.053073 kWh. Total GPU Power : 79.44500000000002 W\n",
            "[codecarbon INFO @ 08:19:52] Energy consumed for all CPUs : 0.037712 kWh. Total CPU Power : 42.5 W\n",
            "[codecarbon INFO @ 08:19:52] 0.094998 kWh of electricity used since the beginning.\n"
          ]
        },
        {
          "metadata": {
            "tags": null
          },
          "name": "stdout",
          "output_type": "stream",
          "text": [
            "315/721 [============>.................] - ETA: 3:05 - loss: 0.2743 - accuracy: 0.9094"
          ]
        },
        {
          "metadata": {
            "tags": null
          },
          "name": "stderr",
          "output_type": "stream",
          "text": [
            "[codecarbon INFO @ 08:20:07] Energy consumed for RAM : 0.004232 kWh. RAM Power : 4.754399299621582 W\n",
            "[codecarbon INFO @ 08:20:07] Energy consumed for all GPUs : 0.053359 kWh. Total GPU Power : 68.72500000000001 W\n",
            "[codecarbon INFO @ 08:20:07] Energy consumed for all CPUs : 0.037889 kWh. Total CPU Power : 42.5 W\n",
            "[codecarbon INFO @ 08:20:07] 0.095480 kWh of electricity used since the beginning.\n"
          ]
        },
        {
          "metadata": {
            "tags": null
          },
          "name": "stdout",
          "output_type": "stream",
          "text": [
            "349/721 [=============>................] - ETA: 2:49 - loss: 0.2700 - accuracy: 0.9102"
          ]
        },
        {
          "metadata": {
            "tags": null
          },
          "name": "stderr",
          "output_type": "stream",
          "text": [
            "[codecarbon INFO @ 08:20:22] Energy consumed for RAM : 0.004251 kWh. RAM Power : 4.754399299621582 W\n",
            "[codecarbon INFO @ 08:20:22] Energy consumed for all GPUs : 0.053659 kWh. Total GPU Power : 72.108 W\n",
            "[codecarbon INFO @ 08:20:22] Energy consumed for all CPUs : 0.038066 kWh. Total CPU Power : 42.5 W\n",
            "[codecarbon INFO @ 08:20:22] 0.095977 kWh of electricity used since the beginning.\n"
          ]
        },
        {
          "metadata": {
            "tags": null
          },
          "name": "stdout",
          "output_type": "stream",
          "text": [
            "383/721 [==============>...............] - ETA: 2:33 - loss: 0.2712 - accuracy: 0.9095"
          ]
        },
        {
          "metadata": {
            "tags": null
          },
          "name": "stderr",
          "output_type": "stream",
          "text": [
            "[codecarbon INFO @ 08:20:37] Energy consumed for RAM : 0.004271 kWh. RAM Power : 4.754399299621582 W\n",
            "[codecarbon INFO @ 08:20:37] Energy consumed for all GPUs : 0.053948 kWh. Total GPU Power : 69.411 W\n",
            "[codecarbon INFO @ 08:20:37] Energy consumed for all CPUs : 0.038243 kWh. Total CPU Power : 42.5 W\n",
            "[codecarbon INFO @ 08:20:37] 0.096463 kWh of electricity used since the beginning.\n"
          ]
        },
        {
          "metadata": {
            "tags": null
          },
          "name": "stdout",
          "output_type": "stream",
          "text": [
            "416/721 [================>.............] - ETA: 2:18 - loss: 0.2718 - accuracy: 0.9079"
          ]
        },
        {
          "metadata": {
            "tags": null
          },
          "name": "stderr",
          "output_type": "stream",
          "text": [
            "[codecarbon INFO @ 08:20:52] Energy consumed for RAM : 0.004291 kWh. RAM Power : 4.754399299621582 W\n",
            "[codecarbon INFO @ 08:20:52] Energy consumed for all GPUs : 0.054273 kWh. Total GPU Power : 78.029 W\n",
            "[codecarbon INFO @ 08:20:52] Energy consumed for all CPUs : 0.038421 kWh. Total CPU Power : 42.5 W\n",
            "[codecarbon INFO @ 08:20:52] 0.096985 kWh of electricity used since the beginning.\n"
          ]
        },
        {
          "metadata": {
            "tags": null
          },
          "name": "stdout",
          "output_type": "stream",
          "text": [
            "450/721 [=================>............] - ETA: 2:02 - loss: 0.2709 - accuracy: 0.9091"
          ]
        },
        {
          "metadata": {
            "tags": null
          },
          "name": "stderr",
          "output_type": "stream",
          "text": [
            "[codecarbon INFO @ 08:21:07] Energy consumed for RAM : 0.004311 kWh. RAM Power : 4.754399299621582 W\n",
            "[codecarbon INFO @ 08:21:07] Energy consumed for all GPUs : 0.054574 kWh. Total GPU Power : 72.499 W\n",
            "[codecarbon INFO @ 08:21:07] Energy consumed for all CPUs : 0.038597 kWh. Total CPU Power : 42.5 W\n",
            "[codecarbon INFO @ 08:21:07] 0.097482 kWh of electricity used since the beginning.\n"
          ]
        },
        {
          "metadata": {
            "tags": null
          },
          "name": "stdout",
          "output_type": "stream",
          "text": [
            "485/721 [===================>..........] - ETA: 1:46 - loss: 0.2731 - accuracy: 0.9088"
          ]
        },
        {
          "metadata": {
            "tags": null
          },
          "name": "stderr",
          "output_type": "stream",
          "text": [
            "[codecarbon INFO @ 08:21:22] Energy consumed for RAM : 0.004331 kWh. RAM Power : 4.754399299621582 W\n",
            "[codecarbon INFO @ 08:21:22] Energy consumed for all GPUs : 0.054746 kWh. Total GPU Power : 41.28 W\n",
            "[codecarbon INFO @ 08:21:22] Energy consumed for all CPUs : 0.038775 kWh. Total CPU Power : 42.5 W\n",
            "[codecarbon INFO @ 08:21:22] 0.097851 kWh of electricity used since the beginning.\n"
          ]
        },
        {
          "metadata": {
            "tags": null
          },
          "name": "stdout",
          "output_type": "stream",
          "text": [
            "518/721 [====================>.........] - ETA: 1:31 - loss: 0.2706 - accuracy: 0.9093"
          ]
        },
        {
          "metadata": {
            "tags": null
          },
          "name": "stderr",
          "output_type": "stream",
          "text": [
            "[codecarbon INFO @ 08:21:37] Energy consumed for RAM : 0.004350 kWh. RAM Power : 4.754399299621582 W\n",
            "[codecarbon INFO @ 08:21:37] Energy consumed for all GPUs : 0.055022 kWh. Total GPU Power : 66.416 W\n",
            "[codecarbon INFO @ 08:21:37] Energy consumed for all CPUs : 0.038952 kWh. Total CPU Power : 42.5 W\n",
            "[codecarbon INFO @ 08:21:37] 0.098324 kWh of electricity used since the beginning.\n"
          ]
        },
        {
          "metadata": {
            "tags": null
          },
          "name": "stdout",
          "output_type": "stream",
          "text": [
            "551/721 [=====================>........] - ETA: 1:16 - loss: 0.2712 - accuracy: 0.9091"
          ]
        },
        {
          "metadata": {
            "tags": null
          },
          "name": "stderr",
          "output_type": "stream",
          "text": [
            "[codecarbon INFO @ 08:21:52] Energy consumed for RAM : 0.004370 kWh. RAM Power : 4.754399299621582 W\n",
            "[codecarbon INFO @ 08:21:52] Energy consumed for all GPUs : 0.055326 kWh. Total GPU Power : 73.041 W\n"
          ]
        },
        {
          "metadata": {
            "tags": null
          },
          "name": "stdout",
          "output_type": "stream",
          "text": [
            "\b\b\b\b\b\b\b\b\b\b\b\b\b\b\b\b\b\b\b\b\b\b\b\b\b\b\b\b\b\b\b\b\b\b\b\b\b\b\b\b\b\b\b\b\b\b\b\b\b\b\b\b\b\b\b\b\b\b\b\b\b\b\b\b\b\b\b\b\b\b\b\b\b\b\b\b\b\b\b\b\b\b\b\b\b\b\r552/721 [=====================>........] - ETA: 1:16 - loss: 0.2717 - accuracy: 0.9089"
          ]
        },
        {
          "metadata": {
            "tags": null
          },
          "name": "stderr",
          "output_type": "stream",
          "text": [
            "[codecarbon INFO @ 08:21:52] Energy consumed for all CPUs : 0.039129 kWh. Total CPU Power : 42.5 W\n",
            "[codecarbon INFO @ 08:21:52] 0.098825 kWh of electricity used since the beginning.\n"
          ]
        },
        {
          "metadata": {
            "tags": null
          },
          "name": "stdout",
          "output_type": "stream",
          "text": [
            "586/721 [=======================>......] - ETA: 1:00 - loss: 0.2713 - accuracy: 0.9091"
          ]
        },
        {
          "metadata": {
            "tags": null
          },
          "name": "stderr",
          "output_type": "stream",
          "text": [
            "[codecarbon INFO @ 08:22:07] Energy consumed for RAM : 0.004390 kWh. RAM Power : 4.754399299621582 W\n",
            "[codecarbon INFO @ 08:22:07] Energy consumed for all GPUs : 0.055615 kWh. Total GPU Power : 69.606 W\n",
            "[codecarbon INFO @ 08:22:07] Energy consumed for all CPUs : 0.039306 kWh. Total CPU Power : 42.5 W\n",
            "[codecarbon INFO @ 08:22:07] 0.099311 kWh of electricity used since the beginning.\n"
          ]
        },
        {
          "metadata": {
            "tags": null
          },
          "name": "stdout",
          "output_type": "stream",
          "text": [
            "619/721 [========================>.....] - ETA: 45s - loss: 0.2700 - accuracy: 0.9088"
          ]
        },
        {
          "metadata": {
            "tags": null
          },
          "name": "stderr",
          "output_type": "stream",
          "text": [
            "[codecarbon INFO @ 08:22:22] Energy consumed for RAM : 0.004410 kWh. RAM Power : 4.754399299621582 W\n",
            "[codecarbon INFO @ 08:22:22] Energy consumed for all GPUs : 0.055918 kWh. Total GPU Power : 72.59700000000001 W\n",
            "[codecarbon INFO @ 08:22:22] Energy consumed for all CPUs : 0.039483 kWh. Total CPU Power : 42.5 W\n",
            "[codecarbon INFO @ 08:22:22] 0.099810 kWh of electricity used since the beginning.\n"
          ]
        },
        {
          "metadata": {
            "tags": null
          },
          "name": "stdout",
          "output_type": "stream",
          "text": [
            "653/721 [==========================>...] - ETA: 30s - loss: 0.2716 - accuracy: 0.9079"
          ]
        },
        {
          "metadata": {
            "tags": null
          },
          "name": "stderr",
          "output_type": "stream",
          "text": [
            "[codecarbon INFO @ 08:22:37] Energy consumed for RAM : 0.004429 kWh. RAM Power : 4.754399299621582 W\n",
            "[codecarbon INFO @ 08:22:37] Energy consumed for all GPUs : 0.056250 kWh. Total GPU Power : 79.787 W\n",
            "[codecarbon INFO @ 08:22:37] Energy consumed for all CPUs : 0.039660 kWh. Total CPU Power : 42.5 W\n",
            "[codecarbon INFO @ 08:22:37] 0.100339 kWh of electricity used since the beginning.\n"
          ]
        },
        {
          "metadata": {
            "tags": null
          },
          "name": "stdout",
          "output_type": "stream",
          "text": [
            "686/721 [===========================>..] - ETA: 15s - loss: 0.2694 - accuracy: 0.9080"
          ]
        },
        {
          "metadata": {
            "tags": null
          },
          "name": "stderr",
          "output_type": "stream",
          "text": [
            "[codecarbon INFO @ 08:22:52] Energy consumed for RAM : 0.004449 kWh. RAM Power : 4.754399299621582 W\n",
            "[codecarbon INFO @ 08:22:52] Energy consumed for all GPUs : 0.056412 kWh. Total GPU Power : 39.057 W\n",
            "[codecarbon INFO @ 08:22:52] Energy consumed for all CPUs : 0.039837 kWh. Total CPU Power : 42.5 W\n",
            "[codecarbon INFO @ 08:22:52] 0.100699 kWh of electricity used since the beginning.\n"
          ]
        },
        {
          "metadata": {
            "tags": null
          },
          "name": "stdout",
          "output_type": "stream",
          "text": [
            "720/721 [============================>.] - ETA: 0s - loss: 0.2698 - accuracy: 0.9077"
          ]
        },
        {
          "metadata": {
            "tags": null
          },
          "name": "stderr",
          "output_type": "stream",
          "text": [
            "[codecarbon INFO @ 08:23:07] Energy consumed for RAM : 0.004469 kWh. RAM Power : 4.754399299621582 W\n",
            "[codecarbon INFO @ 08:23:07] Energy consumed for all GPUs : 0.056589 kWh. Total GPU Power : 42.463 W\n",
            "[codecarbon INFO @ 08:23:07] Energy consumed for all CPUs : 0.040014 kWh. Total CPU Power : 42.5 W\n",
            "[codecarbon INFO @ 08:23:07] 0.101071 kWh of electricity used since the beginning.\n"
          ]
        },
        {
          "metadata": {
            "tags": null
          },
          "name": "stdout",
          "output_type": "stream",
          "text": [
            "\b\b\b\b\b\b\b\b\b\b\b\b\b\b\b\b\b\b\b\b\b\b\b\b\b\b\b\b\b\b\b\b\b\b\b\b\b\b\b\b\b\b\b\b\b\b\b\b\b\b\b\b\b\b\b\b\b\b\b\b\b\b\b\b\b\b\b\b\b\b\b\b\b\b\b\b\b\b\b\b\b\b\b\b\r721/721 [==============================] - ETA: 0s - loss: 0.2696 - accuracy: 0.9079"
          ]
        },
        {
          "metadata": {
            "tags": null
          },
          "name": "stderr",
          "output_type": "stream",
          "text": [
            "[codecarbon INFO @ 08:23:22] Energy consumed for RAM : 0.004489 kWh. RAM Power : 4.754399299621582 W\n",
            "[codecarbon INFO @ 08:23:22] Energy consumed for all GPUs : 0.056731 kWh. Total GPU Power : 34.158 W\n",
            "[codecarbon INFO @ 08:23:22] Energy consumed for all CPUs : 0.040191 kWh. Total CPU Power : 42.5 W\n",
            "[codecarbon INFO @ 08:23:22] 0.101410 kWh of electricity used since the beginning.\n"
          ]
        },
        {
          "metadata": {
            "tags": null
          },
          "name": "stdout",
          "output_type": "stream",
          "text": [
            "721/721 [==============================] - 345s 478ms/step - loss: 0.2696 - accuracy: 0.9079 - val_loss: 0.3041 - val_accuracy: 0.9138\n",
            "Epoch 10/20\n",
            " 20/721 [..............................] - ETA: 5:10 - loss: 0.2222 - accuracy: 0.9125"
          ]
        },
        {
          "metadata": {
            "tags": null
          },
          "name": "stderr",
          "output_type": "stream",
          "text": [
            "[codecarbon INFO @ 08:23:37] Energy consumed for RAM : 0.004509 kWh. RAM Power : 4.754399299621582 W\n",
            "[codecarbon INFO @ 08:23:37] Energy consumed for all GPUs : 0.056919 kWh. Total GPU Power : 45.297000000000004 W\n",
            "[codecarbon INFO @ 08:23:37] Energy consumed for all CPUs : 0.040368 kWh. Total CPU Power : 42.5 W\n",
            "[codecarbon INFO @ 08:23:37] 0.101796 kWh of electricity used since the beginning.\n"
          ]
        },
        {
          "metadata": {
            "tags": null
          },
          "name": "stdout",
          "output_type": "stream",
          "text": [
            " 51/721 [=>............................] - ETA: 5:06 - loss: 0.2323 - accuracy: 0.9191"
          ]
        },
        {
          "metadata": {
            "tags": null
          },
          "name": "stderr",
          "output_type": "stream",
          "text": [
            "[codecarbon INFO @ 08:23:52] Energy consumed for RAM : 0.004528 kWh. RAM Power : 4.754399299621582 W\n",
            "[codecarbon INFO @ 08:23:52] Energy consumed for all GPUs : 0.057200 kWh. Total GPU Power : 67.55 W\n",
            "[codecarbon INFO @ 08:23:52] Energy consumed for all CPUs : 0.040545 kWh. Total CPU Power : 42.5 W\n",
            "[codecarbon INFO @ 08:23:52] 0.102273 kWh of electricity used since the beginning.\n"
          ]
        },
        {
          "metadata": {
            "tags": null
          },
          "name": "stdout",
          "output_type": "stream",
          "text": [
            " 85/721 [==>...........................] - ETA: 4:50 - loss: 0.2279 - accuracy: 0.9206"
          ]
        },
        {
          "metadata": {
            "tags": null
          },
          "name": "stderr",
          "output_type": "stream",
          "text": [
            "[codecarbon INFO @ 08:24:07] Energy consumed for RAM : 0.004548 kWh. RAM Power : 4.754399299621582 W\n",
            "[codecarbon INFO @ 08:24:07] Energy consumed for all GPUs : 0.057360 kWh. Total GPU Power : 38.464 W\n",
            "[codecarbon INFO @ 08:24:07] Energy consumed for all CPUs : 0.040722 kWh. Total CPU Power : 42.5 W\n",
            "[codecarbon INFO @ 08:24:07] 0.102630 kWh of electricity used since the beginning.\n"
          ]
        },
        {
          "metadata": {
            "tags": null
          },
          "name": "stdout",
          "output_type": "stream",
          "text": [
            "117/721 [===>..........................] - ETA: 4:36 - loss: 0.2348 - accuracy: 0.9183"
          ]
        },
        {
          "metadata": {
            "tags": null
          },
          "name": "stderr",
          "output_type": "stream",
          "text": [
            "[codecarbon INFO @ 08:24:22] Energy consumed for RAM : 0.004568 kWh. RAM Power : 4.754399299621582 W\n",
            "[codecarbon INFO @ 08:24:22] Energy consumed for all GPUs : 0.057668 kWh. Total GPU Power : 73.92100000000002 W\n",
            "[codecarbon INFO @ 08:24:22] Energy consumed for all CPUs : 0.040899 kWh. Total CPU Power : 42.5 W\n",
            "[codecarbon INFO @ 08:24:22] 0.103135 kWh of electricity used since the beginning.\n"
          ]
        },
        {
          "metadata": {
            "tags": null
          },
          "name": "stdout",
          "output_type": "stream",
          "text": [
            "150/721 [=====>........................] - ETA: 4:20 - loss: 0.2369 - accuracy: 0.9192"
          ]
        },
        {
          "metadata": {
            "tags": null
          },
          "name": "stderr",
          "output_type": "stream",
          "text": [
            "[codecarbon INFO @ 08:24:37] Energy consumed for RAM : 0.004588 kWh. RAM Power : 4.754399299621582 W\n",
            "[codecarbon INFO @ 08:24:37] Energy consumed for all GPUs : 0.057960 kWh. Total GPU Power : 70.39000000000001 W\n",
            "[codecarbon INFO @ 08:24:37] Energy consumed for all CPUs : 0.041076 kWh. Total CPU Power : 42.5 W\n",
            "[codecarbon INFO @ 08:24:37] 0.103624 kWh of electricity used since the beginning.\n"
          ]
        },
        {
          "metadata": {
            "tags": null
          },
          "name": "stdout",
          "output_type": "stream",
          "text": [
            "184/721 [======>.......................] - ETA: 4:04 - loss: 0.2395 - accuracy: 0.9181"
          ]
        },
        {
          "metadata": {
            "tags": null
          },
          "name": "stderr",
          "output_type": "stream",
          "text": [
            "[codecarbon INFO @ 08:24:52] Energy consumed for RAM : 0.004607 kWh. RAM Power : 4.754399299621582 W\n",
            "[codecarbon INFO @ 08:24:52] Energy consumed for all GPUs : 0.058123 kWh. Total GPU Power : 39.156 W\n",
            "[codecarbon INFO @ 08:24:52] Energy consumed for all CPUs : 0.041253 kWh. Total CPU Power : 42.5 W\n",
            "[codecarbon INFO @ 08:24:52] 0.103983 kWh of electricity used since the beginning.\n"
          ]
        },
        {
          "metadata": {
            "tags": null
          },
          "name": "stdout",
          "output_type": "stream",
          "text": [
            "217/721 [========>.....................] - ETA: 3:49 - loss: 0.2389 - accuracy: 0.9191"
          ]
        },
        {
          "metadata": {
            "tags": null
          },
          "name": "stderr",
          "output_type": "stream",
          "text": [
            "[codecarbon INFO @ 08:25:07] Energy consumed for RAM : 0.004627 kWh. RAM Power : 4.754399299621582 W\n",
            "[codecarbon INFO @ 08:25:07] Energy consumed for all GPUs : 0.058499 kWh. Total GPU Power : 90.206 W\n",
            "[codecarbon INFO @ 08:25:07] Energy consumed for all CPUs : 0.041430 kWh. Total CPU Power : 42.5 W\n",
            "[codecarbon INFO @ 08:25:07] 0.104556 kWh of electricity used since the beginning.\n"
          ]
        },
        {
          "metadata": {
            "tags": null
          },
          "name": "stdout",
          "output_type": "stream",
          "text": [
            "250/721 [=========>....................] - ETA: 3:34 - loss: 0.2395 - accuracy: 0.9170"
          ]
        },
        {
          "metadata": {
            "tags": null
          },
          "name": "stderr",
          "output_type": "stream",
          "text": [
            "[codecarbon INFO @ 08:25:22] Energy consumed for RAM : 0.004647 kWh. RAM Power : 4.754399299621582 W\n",
            "[codecarbon INFO @ 08:25:22] Energy consumed for all GPUs : 0.058794 kWh. Total GPU Power : 70.781 W\n",
            "[codecarbon INFO @ 08:25:22] Energy consumed for all CPUs : 0.041608 kWh. Total CPU Power : 42.5 W\n",
            "[codecarbon INFO @ 08:25:22] 0.105048 kWh of electricity used since the beginning.\n"
          ]
        },
        {
          "metadata": {
            "tags": null
          },
          "name": "stdout",
          "output_type": "stream",
          "text": [
            "284/721 [==========>...................] - ETA: 3:18 - loss: 0.2448 - accuracy: 0.9146"
          ]
        },
        {
          "metadata": {
            "tags": null
          },
          "name": "stderr",
          "output_type": "stream",
          "text": [
            "[codecarbon INFO @ 08:25:37] Energy consumed for RAM : 0.004667 kWh. RAM Power : 4.754399299621582 W\n",
            "[codecarbon INFO @ 08:25:37] Energy consumed for all GPUs : 0.058970 kWh. Total GPU Power : 42.365 W\n",
            "[codecarbon INFO @ 08:25:37] Energy consumed for all CPUs : 0.041784 kWh. Total CPU Power : 42.5 W\n",
            "[codecarbon INFO @ 08:25:37] 0.105421 kWh of electricity used since the beginning.\n"
          ]
        },
        {
          "metadata": {
            "tags": null
          },
          "name": "stdout",
          "output_type": "stream",
          "text": [
            "317/721 [============>.................] - ETA: 3:02 - loss: 0.2434 - accuracy: 0.9146"
          ]
        },
        {
          "metadata": {
            "tags": null
          },
          "name": "stderr",
          "output_type": "stream",
          "text": [
            "[codecarbon INFO @ 08:25:52] Energy consumed for RAM : 0.004686 kWh. RAM Power : 4.754399299621582 W\n",
            "[codecarbon INFO @ 08:25:52] Energy consumed for all GPUs : 0.059251 kWh. Total GPU Power : 67.69 W\n"
          ]
        },
        {
          "metadata": {
            "tags": null
          },
          "name": "stdout",
          "output_type": "stream",
          "text": [
            "\b\b\b\b\b\b\b\b\b\b\b\b\b\b\b\b\b\b\b\b\b\b\b\b\b\b\b\b\b\b\b\b\b\b\b\b\b\b\b\b\b\b\b\b\b\b\b\b\b\b\b\b\b\b\b\b\b\b\b\b\b\b\b\b\b\b\b\b\b\b\b\b\b\b\b\b\b\b\b\b\b\b\b\b\b\b\r318/721 [============>.................] - ETA: 3:02 - loss: 0.2433 - accuracy: 0.9147"
          ]
        },
        {
          "metadata": {
            "tags": null
          },
          "name": "stderr",
          "output_type": "stream",
          "text": [
            "[codecarbon INFO @ 08:25:52] Energy consumed for all CPUs : 0.041962 kWh. Total CPU Power : 42.5 W\n",
            "[codecarbon INFO @ 08:25:52] 0.105900 kWh of electricity used since the beginning.\n"
          ]
        },
        {
          "metadata": {
            "tags": null
          },
          "name": "stdout",
          "output_type": "stream",
          "text": [
            "353/721 [=============>................] - ETA: 2:45 - loss: 0.2439 - accuracy: 0.9138"
          ]
        },
        {
          "metadata": {
            "tags": null
          },
          "name": "stderr",
          "output_type": "stream",
          "text": [
            "[codecarbon INFO @ 08:26:07] Energy consumed for RAM : 0.004706 kWh. RAM Power : 4.754399299621582 W\n",
            "[codecarbon INFO @ 08:26:07] Energy consumed for all GPUs : 0.059568 kWh. Total GPU Power : 76.17 W\n",
            "[codecarbon INFO @ 08:26:07] Energy consumed for all CPUs : 0.042139 kWh. Total CPU Power : 42.5 W\n",
            "[codecarbon INFO @ 08:26:07] 0.106413 kWh of electricity used since the beginning.\n"
          ]
        },
        {
          "metadata": {
            "tags": null
          },
          "name": "stdout",
          "output_type": "stream",
          "text": [
            "387/721 [===============>..............] - ETA: 2:29 - loss: 0.2426 - accuracy: 0.9141"
          ]
        },
        {
          "metadata": {
            "tags": null
          },
          "name": "stderr",
          "output_type": "stream",
          "text": [
            "[codecarbon INFO @ 08:26:22] Energy consumed for RAM : 0.004726 kWh. RAM Power : 4.754399299621582 W\n"
          ]
        },
        {
          "metadata": {
            "tags": null
          },
          "name": "stdout",
          "output_type": "stream",
          "text": [
            "\b\b\b\b\b\b\b\b\b\b\b\b\b\b\b\b\b\b\b\b\b\b\b\b\b\b\b\b\b\b\b\b\b\b\b\b\b\b\b\b\b\b\b\b\b\b\b\b\b\b\b\b\b\b\b\b\b\b\b\b\b\b\b\b\b\b\b\b\b\b\b\b\b\b\b\b\b\b\b\b\b\b\b\b\b\b\r388/721 [===============>..............] - ETA: 2:29 - loss: 0.2430 - accuracy: 0.9140"
          ]
        },
        {
          "metadata": {
            "tags": null
          },
          "name": "stderr",
          "output_type": "stream",
          "text": [
            "[codecarbon INFO @ 08:26:22] Energy consumed for all GPUs : 0.059874 kWh. Total GPU Power : 73.673 W\n",
            "[codecarbon INFO @ 08:26:22] Energy consumed for all CPUs : 0.042316 kWh. Total CPU Power : 42.5 W\n",
            "[codecarbon INFO @ 08:26:22] 0.106916 kWh of electricity used since the beginning.\n"
          ]
        },
        {
          "metadata": {
            "tags": null
          },
          "name": "stdout",
          "output_type": "stream",
          "text": [
            "422/721 [================>.............] - ETA: 2:13 - loss: 0.2520 - accuracy: 0.9118"
          ]
        },
        {
          "metadata": {
            "tags": null
          },
          "name": "stderr",
          "output_type": "stream",
          "text": [
            "[codecarbon INFO @ 08:26:37] Energy consumed for RAM : 0.004746 kWh. RAM Power : 4.754399299621582 W\n",
            "[codecarbon INFO @ 08:26:37] Energy consumed for all GPUs : 0.060098 kWh. Total GPU Power : 53.774 W\n",
            "[codecarbon INFO @ 08:26:37] Energy consumed for all CPUs : 0.042493 kWh. Total CPU Power : 42.5 W\n",
            "[codecarbon INFO @ 08:26:37] 0.107337 kWh of electricity used since the beginning.\n"
          ]
        },
        {
          "metadata": {
            "tags": null
          },
          "name": "stdout",
          "output_type": "stream",
          "text": [
            "454/721 [=================>............] - ETA: 1:59 - loss: 0.2544 - accuracy: 0.9117"
          ]
        },
        {
          "metadata": {
            "tags": null
          },
          "name": "stderr",
          "output_type": "stream",
          "text": [
            "[codecarbon INFO @ 08:26:52] Energy consumed for RAM : 0.004766 kWh. RAM Power : 4.754399299621582 W\n",
            "[codecarbon INFO @ 08:26:52] Energy consumed for all GPUs : 0.060431 kWh. Total GPU Power : 80.03 W\n",
            "[codecarbon INFO @ 08:26:52] Energy consumed for all CPUs : 0.042670 kWh. Total CPU Power : 42.5 W\n",
            "[codecarbon INFO @ 08:26:52] 0.107866 kWh of electricity used since the beginning.\n"
          ]
        },
        {
          "metadata": {
            "tags": null
          },
          "name": "stdout",
          "output_type": "stream",
          "text": [
            "487/721 [===================>..........] - ETA: 1:45 - loss: 0.2552 - accuracy: 0.9114"
          ]
        },
        {
          "metadata": {
            "tags": null
          },
          "name": "stderr",
          "output_type": "stream",
          "text": [
            "[codecarbon INFO @ 08:27:07] Energy consumed for RAM : 0.004785 kWh. RAM Power : 4.754399299621582 W\n",
            "[codecarbon INFO @ 08:27:07] Energy consumed for all GPUs : 0.060604 kWh. Total GPU Power : 41.576 W\n",
            "[codecarbon INFO @ 08:27:07] Energy consumed for all CPUs : 0.042847 kWh. Total CPU Power : 42.5 W\n",
            "[codecarbon INFO @ 08:27:07] 0.108236 kWh of electricity used since the beginning.\n"
          ]
        },
        {
          "metadata": {
            "tags": null
          },
          "name": "stdout",
          "output_type": "stream",
          "text": [
            "521/721 [====================>.........] - ETA: 1:29 - loss: 0.2545 - accuracy: 0.9104"
          ]
        },
        {
          "metadata": {
            "tags": null
          },
          "name": "stderr",
          "output_type": "stream",
          "text": [
            "[codecarbon INFO @ 08:27:22] Energy consumed for RAM : 0.004805 kWh. RAM Power : 4.754399299621582 W\n"
          ]
        },
        {
          "metadata": {
            "tags": null
          },
          "name": "stdout",
          "output_type": "stream",
          "text": [
            "\b\b\b\b\b\b\b\b\b\b\b\b\b\b\b\b\b\b\b\b\b\b\b\b\b\b\b\b\b\b\b\b\b\b\b\b\b\b\b\b\b\b\b\b\b\b\b\b\b\b\b\b\b\b\b\b\b\b\b\b\b\b\b\b\b\b\b\b\b\b\b\b\b\b\b\b\b\b\b\b\b\b\b\b\b\b\r522/721 [====================>.........] - ETA: 1:29 - loss: 0.2545 - accuracy: 0.9105"
          ]
        },
        {
          "metadata": {
            "tags": null
          },
          "name": "stderr",
          "output_type": "stream",
          "text": [
            "[codecarbon INFO @ 08:27:22] Energy consumed for all GPUs : 0.060896 kWh. Total GPU Power : 70.151 W\n",
            "[codecarbon INFO @ 08:27:22] Energy consumed for all CPUs : 0.043024 kWh. Total CPU Power : 42.5 W\n",
            "[codecarbon INFO @ 08:27:22] 0.108725 kWh of electricity used since the beginning.\n"
          ]
        },
        {
          "metadata": {
            "tags": null
          },
          "name": "stdout",
          "output_type": "stream",
          "text": [
            "551/721 [=====================>........] - ETA: 1:16 - loss: 0.2529 - accuracy: 0.9113"
          ]
        },
        {
          "metadata": {
            "tags": null
          },
          "name": "stderr",
          "output_type": "stream",
          "text": [
            "[codecarbon INFO @ 08:27:37] Energy consumed for RAM : 0.004825 kWh. RAM Power : 4.754399299621582 W\n",
            "[codecarbon INFO @ 08:27:37] Energy consumed for all GPUs : 0.061197 kWh. Total GPU Power : 72.401 W\n",
            "[codecarbon INFO @ 08:27:37] Energy consumed for all CPUs : 0.043201 kWh. Total CPU Power : 42.5 W\n",
            "[codecarbon INFO @ 08:27:37] 0.109223 kWh of electricity used since the beginning.\n"
          ]
        },
        {
          "metadata": {
            "tags": null
          },
          "name": "stdout",
          "output_type": "stream",
          "text": [
            "585/721 [=======================>......] - ETA: 1:01 - loss: 0.2518 - accuracy: 0.9116"
          ]
        },
        {
          "metadata": {
            "tags": null
          },
          "name": "stderr",
          "output_type": "stream",
          "text": [
            "[codecarbon INFO @ 08:27:52] Energy consumed for RAM : 0.004845 kWh. RAM Power : 4.754399299621582 W\n",
            "[codecarbon INFO @ 08:27:52] Energy consumed for all GPUs : 0.061489 kWh. Total GPU Power : 70.151 W\n",
            "[codecarbon INFO @ 08:27:52] Energy consumed for all CPUs : 0.043378 kWh. Total CPU Power : 42.5 W\n",
            "[codecarbon INFO @ 08:27:52] 0.109711 kWh of electricity used since the beginning.\n"
          ]
        },
        {
          "metadata": {
            "tags": null
          },
          "name": "stdout",
          "output_type": "stream",
          "text": [
            "619/721 [========================>.....] - ETA: 45s - loss: 0.2577 - accuracy: 0.9096"
          ]
        },
        {
          "metadata": {
            "tags": null
          },
          "name": "stderr",
          "output_type": "stream",
          "text": [
            "[codecarbon INFO @ 08:28:07] Energy consumed for RAM : 0.004864 kWh. RAM Power : 4.754399299621582 W\n",
            "[codecarbon INFO @ 08:28:07] Energy consumed for all GPUs : 0.061660 kWh. Total GPU Power : 41.28 W\n",
            "[codecarbon INFO @ 08:28:07] Energy consumed for all CPUs : 0.043555 kWh. Total CPU Power : 42.5 W\n",
            "[codecarbon INFO @ 08:28:07] 0.110079 kWh of electricity used since the beginning.\n"
          ]
        },
        {
          "metadata": {
            "tags": null
          },
          "name": "stdout",
          "output_type": "stream",
          "text": [
            "652/721 [==========================>...] - ETA: 31s - loss: 0.2589 - accuracy: 0.9091"
          ]
        },
        {
          "metadata": {
            "tags": null
          },
          "name": "stderr",
          "output_type": "stream",
          "text": [
            "[codecarbon INFO @ 08:28:22] Energy consumed for RAM : 0.004884 kWh. RAM Power : 4.754399299621582 W\n",
            "[codecarbon INFO @ 08:28:22] Energy consumed for all GPUs : 0.061842 kWh. Total GPU Power : 43.621 W\n",
            "[codecarbon INFO @ 08:28:22] Energy consumed for all CPUs : 0.043732 kWh. Total CPU Power : 42.5 W\n",
            "[codecarbon INFO @ 08:28:22] 0.110458 kWh of electricity used since the beginning.\n"
          ]
        },
        {
          "metadata": {
            "tags": null
          },
          "name": "stdout",
          "output_type": "stream",
          "text": [
            "685/721 [===========================>..] - ETA: 16s - loss: 0.2606 - accuracy: 0.9094"
          ]
        },
        {
          "metadata": {
            "tags": null
          },
          "name": "stderr",
          "output_type": "stream",
          "text": [
            "[codecarbon INFO @ 08:28:37] Energy consumed for RAM : 0.004904 kWh. RAM Power : 4.754399299621582 W\n",
            "[codecarbon INFO @ 08:28:37] Energy consumed for all GPUs : 0.062024 kWh. Total GPU Power : 43.917 W\n",
            "[codecarbon INFO @ 08:28:37] Energy consumed for all CPUs : 0.043909 kWh. Total CPU Power : 42.5 W\n",
            "[codecarbon INFO @ 08:28:37] 0.110837 kWh of electricity used since the beginning.\n"
          ]
        },
        {
          "metadata": {
            "tags": null
          },
          "name": "stdout",
          "output_type": "stream",
          "text": [
            "718/721 [============================>.] - ETA: 1s - loss: 0.2591 - accuracy: 0.9098"
          ]
        },
        {
          "metadata": {
            "tags": null
          },
          "name": "stderr",
          "output_type": "stream",
          "text": [
            "[codecarbon INFO @ 08:28:52] Energy consumed for RAM : 0.004924 kWh. RAM Power : 4.754399299621582 W\n",
            "[codecarbon INFO @ 08:28:52] Energy consumed for all GPUs : 0.062207 kWh. Total GPU Power : 43.818 W\n",
            "[codecarbon INFO @ 08:28:52] Energy consumed for all CPUs : 0.044086 kWh. Total CPU Power : 42.5 W\n",
            "[codecarbon INFO @ 08:28:52] 0.111216 kWh of electricity used since the beginning.\n"
          ]
        },
        {
          "metadata": {
            "tags": null
          },
          "name": "stdout",
          "output_type": "stream",
          "text": [
            "721/721 [==============================] - ETA: 0s - loss: 0.2590 - accuracy: 0.9100"
          ]
        },
        {
          "metadata": {
            "tags": null
          },
          "name": "stderr",
          "output_type": "stream",
          "text": [
            "[codecarbon INFO @ 08:29:07] Energy consumed for RAM : 0.004943 kWh. RAM Power : 4.754399299621582 W\n",
            "[codecarbon INFO @ 08:29:07] Energy consumed for all GPUs : 0.062346 kWh. Total GPU Power : 33.447 W\n",
            "[codecarbon INFO @ 08:29:07] Energy consumed for all CPUs : 0.044263 kWh. Total CPU Power : 42.5 W\n",
            "[codecarbon INFO @ 08:29:07] 0.111552 kWh of electricity used since the beginning.\n"
          ]
        },
        {
          "metadata": {
            "tags": null
          },
          "name": "stdout",
          "output_type": "stream",
          "text": [
            "721/721 [==============================] - 344s 478ms/step - loss: 0.2590 - accuracy: 0.9100 - val_loss: 0.2536 - val_accuracy: 0.9194\n",
            "Epoch 11/20\n",
            " 21/721 [..............................] - ETA: 5:16 - loss: 0.2398 - accuracy: 0.9137"
          ]
        },
        {
          "metadata": {
            "tags": null
          },
          "name": "stderr",
          "output_type": "stream",
          "text": [
            "[codecarbon INFO @ 08:29:22] Energy consumed for RAM : 0.004963 kWh. RAM Power : 4.754399299621582 W\n",
            "[codecarbon INFO @ 08:29:22] Energy consumed for all GPUs : 0.062516 kWh. Total GPU Power : 40.984 W\n",
            "[codecarbon INFO @ 08:29:22] Energy consumed for all CPUs : 0.044440 kWh. Total CPU Power : 42.5 W\n",
            "[codecarbon INFO @ 08:29:22] 0.111920 kWh of electricity used since the beginning.\n"
          ]
        },
        {
          "metadata": {
            "tags": null
          },
          "name": "stdout",
          "output_type": "stream",
          "text": [
            " 54/721 [=>............................] - ETA: 5:01 - loss: 0.2675 - accuracy: 0.9144"
          ]
        },
        {
          "metadata": {
            "tags": null
          },
          "name": "stderr",
          "output_type": "stream",
          "text": [
            "[codecarbon INFO @ 08:29:37] Energy consumed for RAM : 0.004983 kWh. RAM Power : 4.754399299621582 W\n",
            "[codecarbon INFO @ 08:29:37] Energy consumed for all GPUs : 0.062696 kWh. Total GPU Power : 43.227000000000004 W\n",
            "[codecarbon INFO @ 08:29:37] Energy consumed for all CPUs : 0.044617 kWh. Total CPU Power : 42.5 W\n",
            "[codecarbon INFO @ 08:29:37] 0.112296 kWh of electricity used since the beginning.\n"
          ]
        },
        {
          "metadata": {
            "tags": null
          },
          "name": "stdout",
          "output_type": "stream",
          "text": [
            " 87/721 [==>...........................] - ETA: 4:47 - loss: 0.2536 - accuracy: 0.9174"
          ]
        },
        {
          "metadata": {
            "tags": null
          },
          "name": "stderr",
          "output_type": "stream",
          "text": [
            "[codecarbon INFO @ 08:29:52] Energy consumed for RAM : 0.005003 kWh. RAM Power : 4.754399299621582 W\n",
            "[codecarbon INFO @ 08:29:52] Energy consumed for all GPUs : 0.063020 kWh. Total GPU Power : 77.932 W\n",
            "[codecarbon INFO @ 08:29:52] Energy consumed for all CPUs : 0.044794 kWh. Total CPU Power : 42.5 W\n",
            "[codecarbon INFO @ 08:29:52] 0.112817 kWh of electricity used since the beginning.\n"
          ]
        },
        {
          "metadata": {
            "tags": null
          },
          "name": "stdout",
          "output_type": "stream",
          "text": [
            "121/721 [====>.........................] - ETA: 4:30 - loss: 0.2726 - accuracy: 0.9118"
          ]
        },
        {
          "metadata": {
            "tags": null
          },
          "name": "stderr",
          "output_type": "stream",
          "text": [
            "[codecarbon INFO @ 08:30:07] Energy consumed for RAM : 0.005022 kWh. RAM Power : 4.754399299621582 W\n",
            "[codecarbon INFO @ 08:30:07] Energy consumed for all GPUs : 0.063432 kWh. Total GPU Power : 98.918 W\n",
            "[codecarbon INFO @ 08:30:07] Energy consumed for all CPUs : 0.044971 kWh. Total CPU Power : 42.5 W\n",
            "[codecarbon INFO @ 08:30:07] 0.113426 kWh of electricity used since the beginning.\n"
          ]
        },
        {
          "metadata": {
            "tags": null
          },
          "name": "stdout",
          "output_type": "stream",
          "text": [
            "155/721 [=====>........................] - ETA: 4:13 - loss: 0.2624 - accuracy: 0.9142"
          ]
        },
        {
          "metadata": {
            "tags": null
          },
          "name": "stderr",
          "output_type": "stream",
          "text": [
            "[codecarbon INFO @ 08:30:22] Energy consumed for RAM : 0.005042 kWh. RAM Power : 4.754399299621582 W\n",
            "[codecarbon INFO @ 08:30:22] Energy consumed for all GPUs : 0.063592 kWh. Total GPU Power : 38.541000000000004 W\n",
            "[codecarbon INFO @ 08:30:22] Energy consumed for all CPUs : 0.045148 kWh. Total CPU Power : 42.5 W\n",
            "[codecarbon INFO @ 08:30:22] 0.113783 kWh of electricity used since the beginning.\n"
          ]
        },
        {
          "metadata": {
            "tags": null
          },
          "name": "stdout",
          "output_type": "stream",
          "text": [
            "189/721 [======>.......................] - ETA: 3:57 - loss: 0.2533 - accuracy: 0.9135"
          ]
        },
        {
          "metadata": {
            "tags": null
          },
          "name": "stderr",
          "output_type": "stream",
          "text": [
            "[codecarbon INFO @ 08:30:37] Energy consumed for RAM : 0.005062 kWh. RAM Power : 4.754399299621582 W\n",
            "[codecarbon INFO @ 08:30:37] Energy consumed for all GPUs : 0.063843 kWh. Total GPU Power : 60.353 W\n",
            "[codecarbon INFO @ 08:30:37] Energy consumed for all CPUs : 0.045325 kWh. Total CPU Power : 42.5 W\n",
            "[codecarbon INFO @ 08:30:37] 0.114230 kWh of electricity used since the beginning.\n"
          ]
        },
        {
          "metadata": {
            "tags": null
          },
          "name": "stdout",
          "output_type": "stream",
          "text": [
            "222/721 [========>.....................] - ETA: 3:43 - loss: 0.2497 - accuracy: 0.9153"
          ]
        },
        {
          "metadata": {
            "tags": null
          },
          "name": "stderr",
          "output_type": "stream",
          "text": [
            "[codecarbon INFO @ 08:30:52] Energy consumed for RAM : 0.005082 kWh. RAM Power : 4.754399299621582 W\n",
            "[codecarbon INFO @ 08:30:52] Energy consumed for all GPUs : 0.064145 kWh. Total GPU Power : 72.401 W\n",
            "[codecarbon INFO @ 08:30:52] Energy consumed for all CPUs : 0.045502 kWh. Total CPU Power : 42.5 W\n",
            "[codecarbon INFO @ 08:30:52] 0.114729 kWh of electricity used since the beginning.\n"
          ]
        },
        {
          "metadata": {
            "tags": null
          },
          "name": "stdout",
          "output_type": "stream",
          "text": [
            "257/721 [=========>....................] - ETA: 3:26 - loss: 0.2479 - accuracy: 0.9169"
          ]
        },
        {
          "metadata": {
            "tags": null
          },
          "name": "stderr",
          "output_type": "stream",
          "text": [
            "[codecarbon INFO @ 08:31:07] Energy consumed for RAM : 0.005102 kWh. RAM Power : 4.754399299621582 W\n",
            "[codecarbon INFO @ 08:31:07] Energy consumed for all GPUs : 0.064426 kWh. Total GPU Power : 67.70400000000001 W\n",
            "[codecarbon INFO @ 08:31:07] Energy consumed for all CPUs : 0.045680 kWh. Total CPU Power : 42.5 W\n",
            "[codecarbon INFO @ 08:31:07] 0.115208 kWh of electricity used since the beginning.\n"
          ]
        },
        {
          "metadata": {
            "tags": null
          },
          "name": "stdout",
          "output_type": "stream",
          "text": [
            "291/721 [===========>..................] - ETA: 3:11 - loss: 0.2467 - accuracy: 0.9163"
          ]
        },
        {
          "metadata": {
            "tags": null
          },
          "name": "stderr",
          "output_type": "stream",
          "text": [
            "[codecarbon INFO @ 08:31:22] Energy consumed for RAM : 0.005121 kWh. RAM Power : 4.754399299621582 W\n",
            "[codecarbon INFO @ 08:31:22] Energy consumed for all GPUs : 0.064667 kWh. Total GPU Power : 57.934000000000005 W\n",
            "[codecarbon INFO @ 08:31:22] Energy consumed for all CPUs : 0.045857 kWh. Total CPU Power : 42.5 W\n",
            "[codecarbon INFO @ 08:31:22] 0.115645 kWh of electricity used since the beginning.\n"
          ]
        },
        {
          "metadata": {
            "tags": null
          },
          "name": "stdout",
          "output_type": "stream",
          "text": [
            "325/721 [============>.................] - ETA: 2:56 - loss: 0.2446 - accuracy: 0.9160"
          ]
        },
        {
          "metadata": {
            "tags": null
          },
          "name": "stderr",
          "output_type": "stream",
          "text": [
            "[codecarbon INFO @ 08:31:37] Energy consumed for RAM : 0.005141 kWh. RAM Power : 4.754399299621582 W\n",
            "[codecarbon INFO @ 08:31:37] Energy consumed for all GPUs : 0.064843 kWh. Total GPU Power : 42.167 W\n",
            "[codecarbon INFO @ 08:31:37] Energy consumed for all CPUs : 0.046034 kWh. Total CPU Power : 42.5 W\n",
            "[codecarbon INFO @ 08:31:37] 0.116017 kWh of electricity used since the beginning.\n"
          ]
        },
        {
          "metadata": {
            "tags": null
          },
          "name": "stdout",
          "output_type": "stream",
          "text": [
            "354/721 [=============>................] - ETA: 2:45 - loss: 0.2469 - accuracy: 0.9155"
          ]
        },
        {
          "metadata": {
            "tags": null
          },
          "name": "stderr",
          "output_type": "stream",
          "text": [
            "[codecarbon INFO @ 08:31:52] Energy consumed for RAM : 0.005161 kWh. RAM Power : 4.754399299621582 W\n",
            "[codecarbon INFO @ 08:31:52] Energy consumed for all GPUs : 0.065137 kWh. Total GPU Power : 70.836 W\n",
            "[codecarbon INFO @ 08:31:52] Energy consumed for all CPUs : 0.046211 kWh. Total CPU Power : 42.5 W\n",
            "[codecarbon INFO @ 08:31:52] 0.116508 kWh of electricity used since the beginning.\n"
          ]
        },
        {
          "metadata": {
            "tags": null
          },
          "name": "stdout",
          "output_type": "stream",
          "text": [
            "387/721 [===============>..............] - ETA: 2:30 - loss: 0.2454 - accuracy: 0.9148"
          ]
        },
        {
          "metadata": {
            "tags": null
          },
          "name": "stderr",
          "output_type": "stream",
          "text": [
            "[codecarbon INFO @ 08:32:07] Energy consumed for RAM : 0.005181 kWh. RAM Power : 4.754399299621582 W\n",
            "[codecarbon INFO @ 08:32:07] Energy consumed for all GPUs : 0.065427 kWh. Total GPU Power : 69.759 W\n",
            "[codecarbon INFO @ 08:32:07] Energy consumed for all CPUs : 0.046388 kWh. Total CPU Power : 42.5 W\n",
            "[codecarbon INFO @ 08:32:07] 0.116995 kWh of electricity used since the beginning.\n"
          ]
        },
        {
          "metadata": {
            "tags": null
          },
          "name": "stdout",
          "output_type": "stream",
          "text": [
            "421/721 [================>.............] - ETA: 2:14 - loss: 0.2428 - accuracy: 0.9156"
          ]
        },
        {
          "metadata": {
            "tags": null
          },
          "name": "stderr",
          "output_type": "stream",
          "text": [
            "[codecarbon INFO @ 08:32:22] Energy consumed for RAM : 0.005200 kWh. RAM Power : 4.754399299621582 W\n",
            "[codecarbon INFO @ 08:32:22] Energy consumed for all GPUs : 0.065779 kWh. Total GPU Power : 84.565 W\n",
            "[codecarbon INFO @ 08:32:22] Energy consumed for all CPUs : 0.046565 kWh. Total CPU Power : 42.5 W\n",
            "[codecarbon INFO @ 08:32:22] 0.117544 kWh of electricity used since the beginning.\n"
          ]
        },
        {
          "metadata": {
            "tags": null
          },
          "name": "stdout",
          "output_type": "stream",
          "text": [
            "455/721 [=================>............] - ETA: 1:59 - loss: 0.2419 - accuracy: 0.9158"
          ]
        },
        {
          "metadata": {
            "tags": null
          },
          "name": "stderr",
          "output_type": "stream",
          "text": [
            "[codecarbon INFO @ 08:32:37] Energy consumed for RAM : 0.005220 kWh. RAM Power : 4.754399299621582 W\n",
            "[codecarbon INFO @ 08:32:37] Energy consumed for all GPUs : 0.066115 kWh. Total GPU Power : 80.956 W\n",
            "[codecarbon INFO @ 08:32:37] Energy consumed for all CPUs : 0.046741 kWh. Total CPU Power : 42.5 W\n",
            "[codecarbon INFO @ 08:32:37] 0.118077 kWh of electricity used since the beginning.\n"
          ]
        },
        {
          "metadata": {
            "tags": null
          },
          "name": "stdout",
          "output_type": "stream",
          "text": [
            "489/721 [===================>..........] - ETA: 1:44 - loss: 0.2429 - accuracy: 0.9153"
          ]
        },
        {
          "metadata": {
            "tags": null
          },
          "name": "stderr",
          "output_type": "stream",
          "text": [
            "[codecarbon INFO @ 08:32:52] Energy consumed for RAM : 0.005240 kWh. RAM Power : 4.754399299621582 W\n",
            "[codecarbon INFO @ 08:32:52] Energy consumed for all GPUs : 0.066400 kWh. Total GPU Power : 68.43100000000001 W\n",
            "[codecarbon INFO @ 08:32:52] Energy consumed for all CPUs : 0.046919 kWh. Total CPU Power : 42.5 W\n",
            "[codecarbon INFO @ 08:32:52] 0.118559 kWh of electricity used since the beginning.\n"
          ]
        },
        {
          "metadata": {
            "tags": null
          },
          "name": "stdout",
          "output_type": "stream",
          "text": [
            "520/721 [====================>.........] - ETA: 1:30 - loss: 0.2435 - accuracy: 0.9153"
          ]
        },
        {
          "metadata": {
            "tags": null
          },
          "name": "stderr",
          "output_type": "stream",
          "text": [
            "[codecarbon INFO @ 08:33:07] Energy consumed for RAM : 0.005260 kWh. RAM Power : 4.754399299621582 W\n",
            "[codecarbon INFO @ 08:33:07] Energy consumed for all GPUs : 0.066698 kWh. Total GPU Power : 71.521 W\n",
            "[codecarbon INFO @ 08:33:07] Energy consumed for all CPUs : 0.047096 kWh. Total CPU Power : 42.5 W\n",
            "[codecarbon INFO @ 08:33:07] 0.119053 kWh of electricity used since the beginning.\n"
          ]
        },
        {
          "metadata": {
            "tags": null
          },
          "name": "stdout",
          "output_type": "stream",
          "text": [
            "553/721 [======================>.......] - ETA: 1:15 - loss: 0.2448 - accuracy: 0.9147"
          ]
        },
        {
          "metadata": {
            "tags": null
          },
          "name": "stderr",
          "output_type": "stream",
          "text": [
            "[codecarbon INFO @ 08:33:22] Energy consumed for RAM : 0.005279 kWh. RAM Power : 4.754399299621582 W\n",
            "[codecarbon INFO @ 08:33:22] Energy consumed for all GPUs : 0.066971 kWh. Total GPU Power : 65.73 W\n",
            "[codecarbon INFO @ 08:33:22] Energy consumed for all CPUs : 0.047273 kWh. Total CPU Power : 42.5 W\n",
            "[codecarbon INFO @ 08:33:22] 0.119523 kWh of electricity used since the beginning.\n"
          ]
        },
        {
          "metadata": {
            "tags": null
          },
          "name": "stdout",
          "output_type": "stream",
          "text": [
            "587/721 [=======================>......] - ETA: 1:00 - loss: 0.2454 - accuracy: 0.9139"
          ]
        },
        {
          "metadata": {
            "tags": null
          },
          "name": "stderr",
          "output_type": "stream",
          "text": [
            "[codecarbon INFO @ 08:33:37] Energy consumed for RAM : 0.005299 kWh. RAM Power : 4.754399299621582 W\n",
            "[codecarbon INFO @ 08:33:37] Energy consumed for all GPUs : 0.067141 kWh. Total GPU Power : 40.885 W\n",
            "[codecarbon INFO @ 08:33:37] Energy consumed for all CPUs : 0.047450 kWh. Total CPU Power : 42.5 W\n",
            "[codecarbon INFO @ 08:33:37] 0.119890 kWh of electricity used since the beginning.\n"
          ]
        },
        {
          "metadata": {
            "tags": null
          },
          "name": "stdout",
          "output_type": "stream",
          "text": [
            "621/721 [========================>.....] - ETA: 44s - loss: 0.2420 - accuracy: 0.9153"
          ]
        },
        {
          "metadata": {
            "tags": null
          },
          "name": "stderr",
          "output_type": "stream",
          "text": [
            "[codecarbon INFO @ 08:33:52] Energy consumed for RAM : 0.005319 kWh. RAM Power : 4.754399299621582 W\n",
            "[codecarbon INFO @ 08:33:52] Energy consumed for all GPUs : 0.067483 kWh. Total GPU Power : 81.88500000000002 W\n",
            "[codecarbon INFO @ 08:33:52] Energy consumed for all CPUs : 0.047627 kWh. Total CPU Power : 42.5 W\n",
            "[codecarbon INFO @ 08:33:52] 0.120428 kWh of electricity used since the beginning.\n"
          ]
        },
        {
          "metadata": {
            "tags": null
          },
          "name": "stdout",
          "output_type": "stream",
          "text": [
            "654/721 [==========================>...] - ETA: 30s - loss: 0.2409 - accuracy: 0.9154"
          ]
        },
        {
          "metadata": {
            "tags": null
          },
          "name": "stderr",
          "output_type": "stream",
          "text": [
            "[codecarbon INFO @ 08:34:07] Energy consumed for RAM : 0.005339 kWh. RAM Power : 4.754399299621582 W\n",
            "[codecarbon INFO @ 08:34:07] Energy consumed for all GPUs : 0.067852 kWh. Total GPU Power : 88.745 W\n",
            "[codecarbon INFO @ 08:34:07] Energy consumed for all CPUs : 0.047804 kWh. Total CPU Power : 42.5 W\n",
            "[codecarbon INFO @ 08:34:07] 0.120994 kWh of electricity used since the beginning.\n"
          ]
        },
        {
          "metadata": {
            "tags": null
          },
          "name": "stdout",
          "output_type": "stream",
          "text": [
            "687/721 [===========================>..] - ETA: 15s - loss: 0.2429 - accuracy: 0.9143"
          ]
        },
        {
          "metadata": {
            "tags": null
          },
          "name": "stderr",
          "output_type": "stream",
          "text": [
            "[codecarbon INFO @ 08:34:22] Energy consumed for RAM : 0.005359 kWh. RAM Power : 4.754399299621582 W\n",
            "[codecarbon INFO @ 08:34:22] Energy consumed for all GPUs : 0.068014 kWh. Total GPU Power : 39.057 W\n",
            "[codecarbon INFO @ 08:34:22] Energy consumed for all CPUs : 0.047981 kWh. Total CPU Power : 42.5 W\n",
            "[codecarbon INFO @ 08:34:22] 0.121354 kWh of electricity used since the beginning.\n"
          ]
        },
        {
          "metadata": {
            "tags": null
          },
          "name": "stdout",
          "output_type": "stream",
          "text": [
            "719/721 [============================>.] - ETA: 0s - loss: 0.2418 - accuracy: 0.9148"
          ]
        },
        {
          "metadata": {
            "tags": null
          },
          "name": "stderr",
          "output_type": "stream",
          "text": [
            "[codecarbon INFO @ 08:34:37] Energy consumed for RAM : 0.005378 kWh. RAM Power : 4.754399299621582 W\n",
            "[codecarbon INFO @ 08:34:37] Energy consumed for all GPUs : 0.068289 kWh. Total GPU Power : 65.868 W\n",
            "[codecarbon INFO @ 08:34:37] Energy consumed for all CPUs : 0.048159 kWh. Total CPU Power : 42.5 W\n",
            "[codecarbon INFO @ 08:34:37] 0.121826 kWh of electricity used since the beginning.\n"
          ]
        },
        {
          "metadata": {
            "tags": null
          },
          "name": "stdout",
          "output_type": "stream",
          "text": [
            "721/721 [==============================] - ETA: 0s - loss: 0.2420 - accuracy: 0.9146"
          ]
        },
        {
          "metadata": {
            "tags": null
          },
          "name": "stderr",
          "output_type": "stream",
          "text": [
            "[codecarbon INFO @ 08:34:52] Energy consumed for RAM : 0.005398 kWh. RAM Power : 4.754399299621582 W\n",
            "[codecarbon INFO @ 08:34:52] Energy consumed for all GPUs : 0.068599 kWh. Total GPU Power : 74.652 W\n",
            "[codecarbon INFO @ 08:34:52] Energy consumed for all CPUs : 0.048335 kWh. Total CPU Power : 42.5 W\n",
            "[codecarbon INFO @ 08:34:52] 0.122332 kWh of electricity used since the beginning.\n"
          ]
        },
        {
          "metadata": {
            "tags": null
          },
          "name": "stdout",
          "output_type": "stream",
          "text": [
            "721/721 [==============================] - 344s 477ms/step - loss: 0.2420 - accuracy: 0.9146 - val_loss: 0.2688 - val_accuracy: 0.9110\n",
            "Epoch 12/20\n",
            " 21/721 [..............................] - ETA: 5:25 - loss: 0.2262 - accuracy: 0.9137"
          ]
        },
        {
          "metadata": {
            "tags": null
          },
          "name": "stderr",
          "output_type": "stream",
          "text": [
            "[codecarbon INFO @ 08:35:07] Energy consumed for RAM : 0.005418 kWh. RAM Power : 4.754399299621582 W\n",
            "[codecarbon INFO @ 08:35:07] Energy consumed for all GPUs : 0.068937 kWh. Total GPU Power : 81.44800000000001 W\n",
            "[codecarbon INFO @ 08:35:07] Energy consumed for all CPUs : 0.048512 kWh. Total CPU Power : 42.5 W\n",
            "[codecarbon INFO @ 08:35:07] 0.122867 kWh of electricity used since the beginning.\n"
          ]
        },
        {
          "metadata": {
            "tags": null
          },
          "name": "stdout",
          "output_type": "stream",
          "text": [
            " 56/721 [=>............................] - ETA: 5:01 - loss: 0.1888 - accuracy: 0.9342"
          ]
        },
        {
          "metadata": {
            "tags": null
          },
          "name": "stderr",
          "output_type": "stream",
          "text": [
            "[codecarbon INFO @ 08:35:22] Energy consumed for RAM : 0.005438 kWh. RAM Power : 4.754399299621582 W\n",
            "[codecarbon INFO @ 08:35:22] Energy consumed for all GPUs : 0.069239 kWh. Total GPU Power : 72.59700000000001 W\n",
            "[codecarbon INFO @ 08:35:22] Energy consumed for all CPUs : 0.048689 kWh. Total CPU Power : 42.5 W\n",
            "[codecarbon INFO @ 08:35:22] 0.123366 kWh of electricity used since the beginning.\n"
          ]
        },
        {
          "metadata": {
            "tags": null
          },
          "name": "stdout",
          "output_type": "stream",
          "text": [
            " 89/721 [==>...........................] - ETA: 4:45 - loss: 0.1979 - accuracy: 0.9284"
          ]
        },
        {
          "metadata": {
            "tags": null
          },
          "name": "stderr",
          "output_type": "stream",
          "text": [
            "[codecarbon INFO @ 08:35:37] Energy consumed for RAM : 0.005457 kWh. RAM Power : 4.754399299621582 W\n",
            "[codecarbon INFO @ 08:35:37] Energy consumed for all GPUs : 0.069415 kWh. Total GPU Power : 42.365 W\n",
            "[codecarbon INFO @ 08:35:37] Energy consumed for all CPUs : 0.048866 kWh. Total CPU Power : 42.5 W\n",
            "[codecarbon INFO @ 08:35:37] 0.123739 kWh of electricity used since the beginning.\n"
          ]
        },
        {
          "metadata": {
            "tags": null
          },
          "name": "stdout",
          "output_type": "stream",
          "text": [
            "123/721 [====>.........................] - ETA: 4:28 - loss: 0.2118 - accuracy: 0.9253"
          ]
        },
        {
          "metadata": {
            "tags": null
          },
          "name": "stderr",
          "output_type": "stream",
          "text": [
            "[codecarbon INFO @ 08:35:52] Energy consumed for RAM : 0.005477 kWh. RAM Power : 4.754399299621582 W\n",
            "[codecarbon INFO @ 08:35:52] Energy consumed for all GPUs : 0.069576 kWh. Total GPU Power : 38.761 W\n",
            "[codecarbon INFO @ 08:35:52] Energy consumed for all CPUs : 0.049043 kWh. Total CPU Power : 42.5 W\n",
            "[codecarbon INFO @ 08:35:52] 0.124096 kWh of electricity used since the beginning.\n"
          ]
        },
        {
          "metadata": {
            "tags": null
          },
          "name": "stdout",
          "output_type": "stream",
          "text": [
            "152/721 [=====>........................] - ETA: 4:22 - loss: 0.2080 - accuracy: 0.9268"
          ]
        },
        {
          "metadata": {
            "tags": null
          },
          "name": "stderr",
          "output_type": "stream",
          "text": [
            "[codecarbon INFO @ 08:36:07] Energy consumed for RAM : 0.005497 kWh. RAM Power : 4.754399299621582 W\n",
            "[codecarbon INFO @ 08:36:07] Energy consumed for all GPUs : 0.069945 kWh. Total GPU Power : 88.50800000000001 W\n",
            "[codecarbon INFO @ 08:36:07] Energy consumed for all CPUs : 0.049220 kWh. Total CPU Power : 42.5 W\n",
            "[codecarbon INFO @ 08:36:07] 0.124662 kWh of electricity used since the beginning.\n"
          ]
        },
        {
          "metadata": {
            "tags": null
          },
          "name": "stdout",
          "output_type": "stream",
          "text": [
            "187/721 [======>.......................] - ETA: 4:03 - loss: 0.2102 - accuracy: 0.9268"
          ]
        },
        {
          "metadata": {
            "tags": null
          },
          "name": "stderr",
          "output_type": "stream",
          "text": [
            "[codecarbon INFO @ 08:36:22] Energy consumed for RAM : 0.005517 kWh. RAM Power : 4.754399299621582 W\n",
            "[codecarbon INFO @ 08:36:22] Energy consumed for all GPUs : 0.070116 kWh. Total GPU Power : 41.304 W\n",
            "[codecarbon INFO @ 08:36:22] Energy consumed for all CPUs : 0.049397 kWh. Total CPU Power : 42.5 W\n",
            "[codecarbon INFO @ 08:36:22] 0.125030 kWh of electricity used since the beginning.\n"
          ]
        },
        {
          "metadata": {
            "tags": null
          },
          "name": "stdout",
          "output_type": "stream",
          "text": [
            "221/721 [========>.....................] - ETA: 3:46 - loss: 0.2159 - accuracy: 0.9246"
          ]
        },
        {
          "metadata": {
            "tags": null
          },
          "name": "stderr",
          "output_type": "stream",
          "text": [
            "[codecarbon INFO @ 08:36:37] Energy consumed for RAM : 0.005537 kWh. RAM Power : 4.754399299621582 W\n",
            "[codecarbon INFO @ 08:36:37] Energy consumed for all GPUs : 0.070418 kWh. Total GPU Power : 72.499 W\n"
          ]
        },
        {
          "metadata": {
            "tags": null
          },
          "name": "stdout",
          "output_type": "stream",
          "text": [
            "\b\b\b\b\b\b\b\b\b\b\b\b\b\b\b\b\b\b\b\b\b\b\b\b\b\b\b\b\b\b\b\b\b\b\b\b\b\b\b\b\b\b\b\b\b\b\b\b\b\b\b\b\b\b\b\b\b\b\b\b\b\b\b\b\b\b\b\b\b\b\b\b\b\b\b\b\b\b\b\b\b\b\b\b\b\b\r222/721 [========>.....................] - ETA: 3:45 - loss: 0.2164 - accuracy: 0.9244"
          ]
        },
        {
          "metadata": {
            "tags": null
          },
          "name": "stderr",
          "output_type": "stream",
          "text": [
            "[codecarbon INFO @ 08:36:37] Energy consumed for all CPUs : 0.049574 kWh. Total CPU Power : 42.5 W\n",
            "[codecarbon INFO @ 08:36:37] 0.125529 kWh of electricity used since the beginning.\n"
          ]
        },
        {
          "metadata": {
            "tags": null
          },
          "name": "stdout",
          "output_type": "stream",
          "text": [
            "254/721 [=========>....................] - ETA: 3:31 - loss: 0.2176 - accuracy: 0.9216"
          ]
        },
        {
          "metadata": {
            "tags": null
          },
          "name": "stderr",
          "output_type": "stream",
          "text": [
            "[codecarbon INFO @ 08:36:52] Energy consumed for RAM : 0.005556 kWh. RAM Power : 4.754399299621582 W\n",
            "[codecarbon INFO @ 08:36:52] Energy consumed for all GPUs : 0.070712 kWh. Total GPU Power : 70.781 W\n",
            "[codecarbon INFO @ 08:36:52] Energy consumed for all CPUs : 0.049751 kWh. Total CPU Power : 42.5 W\n",
            "[codecarbon INFO @ 08:36:52] 0.126020 kWh of electricity used since the beginning.\n"
          ]
        },
        {
          "metadata": {
            "tags": null
          },
          "name": "stdout",
          "output_type": "stream",
          "text": [
            "287/721 [==========>...................] - ETA: 3:16 - loss: 0.2217 - accuracy: 0.9212"
          ]
        },
        {
          "metadata": {
            "tags": null
          },
          "name": "stderr",
          "output_type": "stream",
          "text": [
            "[codecarbon INFO @ 08:37:07] Energy consumed for RAM : 0.005576 kWh. RAM Power : 4.754399299621582 W\n",
            "[codecarbon INFO @ 08:37:07] Energy consumed for all GPUs : 0.071097 kWh. Total GPU Power : 92.388 W\n",
            "[codecarbon INFO @ 08:37:07] Energy consumed for all CPUs : 0.049928 kWh. Total CPU Power : 42.5 W\n",
            "[codecarbon INFO @ 08:37:07] 0.126601 kWh of electricity used since the beginning.\n"
          ]
        },
        {
          "metadata": {
            "tags": null
          },
          "name": "stdout",
          "output_type": "stream",
          "text": [
            "321/721 [============>.................] - ETA: 3:00 - loss: 0.2228 - accuracy: 0.9204"
          ]
        },
        {
          "metadata": {
            "tags": null
          },
          "name": "stderr",
          "output_type": "stream",
          "text": [
            "[codecarbon INFO @ 08:37:22] Energy consumed for RAM : 0.005596 kWh. RAM Power : 4.754399299621582 W\n",
            "[codecarbon INFO @ 08:37:22] Energy consumed for all GPUs : 0.071395 kWh. Total GPU Power : 71.565 W\n"
          ]
        },
        {
          "metadata": {
            "tags": null
          },
          "name": "stdout",
          "output_type": "stream",
          "text": [
            "\b\b\b\b\b\b\b\b\b\b\b\b\b\b\b\b\b\b\b\b\b\b\b\b\b\b\b\b\b\b\b\b\b\b\b\b\b\b\b\b\b\b\b\b\b\b\b\b\b\b\b\b\b\b\b\b\b\b\b\b\b\b\b\b\b\b\b\b\b\b\b\b\b\b\b\b\b\b\b\b\b\b\b\b\b\b\r322/721 [============>.................] - ETA: 3:00 - loss: 0.2224 - accuracy: 0.9207"
          ]
        },
        {
          "metadata": {
            "tags": null
          },
          "name": "stderr",
          "output_type": "stream",
          "text": [
            "[codecarbon INFO @ 08:37:22] Energy consumed for all CPUs : 0.050106 kWh. Total CPU Power : 42.5 W\n",
            "[codecarbon INFO @ 08:37:22] 0.127096 kWh of electricity used since the beginning.\n"
          ]
        },
        {
          "metadata": {
            "tags": null
          },
          "name": "stdout",
          "output_type": "stream",
          "text": [
            "356/721 [=============>................] - ETA: 2:44 - loss: 0.2247 - accuracy: 0.9197"
          ]
        },
        {
          "metadata": {
            "tags": null
          },
          "name": "stderr",
          "output_type": "stream",
          "text": [
            "[codecarbon INFO @ 08:37:37] Energy consumed for RAM : 0.005616 kWh. RAM Power : 4.754399299621582 W\n",
            "[codecarbon INFO @ 08:37:37] Energy consumed for all GPUs : 0.071565 kWh. Total GPU Power : 40.909 W\n",
            "[codecarbon INFO @ 08:37:37] Energy consumed for all CPUs : 0.050282 kWh. Total CPU Power : 42.5 W\n",
            "[codecarbon INFO @ 08:37:37] 0.127463 kWh of electricity used since the beginning.\n"
          ]
        },
        {
          "metadata": {
            "tags": null
          },
          "name": "stdout",
          "output_type": "stream",
          "text": [
            "390/721 [===============>..............] - ETA: 2:28 - loss: 0.2269 - accuracy: 0.9201"
          ]
        },
        {
          "metadata": {
            "tags": null
          },
          "name": "stderr",
          "output_type": "stream",
          "text": [
            "[codecarbon INFO @ 08:37:52] Energy consumed for RAM : 0.005635 kWh. RAM Power : 4.754399299621582 W\n",
            "[codecarbon INFO @ 08:37:52] Energy consumed for all GPUs : 0.071844 kWh. Total GPU Power : 67.14300000000001 W\n",
            "[codecarbon INFO @ 08:37:52] Energy consumed for all CPUs : 0.050460 kWh. Total CPU Power : 42.5 W\n",
            "[codecarbon INFO @ 08:37:52] 0.127940 kWh of electricity used since the beginning.\n"
          ]
        },
        {
          "metadata": {
            "tags": null
          },
          "name": "stdout",
          "output_type": "stream",
          "text": [
            "424/721 [================>.............] - ETA: 2:13 - loss: 0.2286 - accuracy: 0.9197"
          ]
        },
        {
          "metadata": {
            "tags": null
          },
          "name": "stderr",
          "output_type": "stream",
          "text": [
            "[codecarbon INFO @ 08:38:07] Energy consumed for RAM : 0.005655 kWh. RAM Power : 4.754399299621582 W\n",
            "[codecarbon INFO @ 08:38:07] Energy consumed for all GPUs : 0.072122 kWh. Total GPU Power : 66.808 W\n"
          ]
        },
        {
          "metadata": {
            "tags": null
          },
          "name": "stdout",
          "output_type": "stream",
          "text": [
            "\b\b\b\b\b\b\b\b\b\b\b\b\b\b\b\b\b\b\b\b\b\b\b\b\b\b\b\b\b\b\b\b\b\b\b\b\b\b\b\b\b\b\b\b\b\b\b\b\b\b\b\b\b\b\b\b\b\b\b\b\b\b\b\b\b\b\b\b\b\b\b\b\b\b\b\b\b\b\b\b\b\b\b\b\b\b\r425/721 [================>.............] - ETA: 2:12 - loss: 0.2282 - accuracy: 0.9198"
          ]
        },
        {
          "metadata": {
            "tags": null
          },
          "name": "stderr",
          "output_type": "stream",
          "text": [
            "[codecarbon INFO @ 08:38:07] Energy consumed for all CPUs : 0.050637 kWh. Total CPU Power : 42.5 W\n",
            "[codecarbon INFO @ 08:38:07] 0.128414 kWh of electricity used since the beginning.\n"
          ]
        },
        {
          "metadata": {
            "tags": null
          },
          "name": "stdout",
          "output_type": "stream",
          "text": [
            "458/721 [==================>...........] - ETA: 1:57 - loss: 0.2267 - accuracy: 0.9197"
          ]
        },
        {
          "metadata": {
            "tags": null
          },
          "name": "stderr",
          "output_type": "stream",
          "text": [
            "[codecarbon INFO @ 08:38:22] Energy consumed for RAM : 0.005675 kWh. RAM Power : 4.754399299621582 W\n",
            "[codecarbon INFO @ 08:38:22] Energy consumed for all GPUs : 0.072427 kWh. Total GPU Power : 73.282 W\n",
            "[codecarbon INFO @ 08:38:22] Energy consumed for all CPUs : 0.050814 kWh. Total CPU Power : 42.5 W\n",
            "[codecarbon INFO @ 08:38:22] 0.128915 kWh of electricity used since the beginning.\n"
          ]
        },
        {
          "metadata": {
            "tags": null
          },
          "name": "stdout",
          "output_type": "stream",
          "text": [
            "492/721 [===================>..........] - ETA: 1:42 - loss: 0.2280 - accuracy: 0.9193"
          ]
        },
        {
          "metadata": {
            "tags": null
          },
          "name": "stderr",
          "output_type": "stream",
          "text": [
            "[codecarbon INFO @ 08:38:37] Energy consumed for RAM : 0.005695 kWh. RAM Power : 4.754399299621582 W\n",
            "[codecarbon INFO @ 08:38:37] Energy consumed for all GPUs : 0.072722 kWh. Total GPU Power : 70.923 W\n",
            "[codecarbon INFO @ 08:38:37] Energy consumed for all CPUs : 0.050991 kWh. Total CPU Power : 42.5 W\n",
            "[codecarbon INFO @ 08:38:37] 0.129407 kWh of electricity used since the beginning.\n"
          ]
        },
        {
          "metadata": {
            "tags": null
          },
          "name": "stdout",
          "output_type": "stream",
          "text": [
            "526/721 [====================>.........] - ETA: 1:27 - loss: 0.2289 - accuracy: 0.9186"
          ]
        },
        {
          "metadata": {
            "tags": null
          },
          "name": "stderr",
          "output_type": "stream",
          "text": [
            "[codecarbon INFO @ 08:38:52] Energy consumed for RAM : 0.005714 kWh. RAM Power : 4.754399299621582 W\n",
            "[codecarbon INFO @ 08:38:52] Energy consumed for all GPUs : 0.073091 kWh. Total GPU Power : 88.94000000000001 W\n",
            "[codecarbon INFO @ 08:38:52] Energy consumed for all CPUs : 0.051168 kWh. Total CPU Power : 42.5 W\n",
            "[codecarbon INFO @ 08:38:52] 0.129973 kWh of electricity used since the beginning.\n"
          ]
        },
        {
          "metadata": {
            "tags": null
          },
          "name": "stdout",
          "output_type": "stream",
          "text": [
            "560/721 [======================>.......] - ETA: 1:11 - loss: 0.2313 - accuracy: 0.9177"
          ]
        },
        {
          "metadata": {
            "tags": null
          },
          "name": "stderr",
          "output_type": "stream",
          "text": [
            "[codecarbon INFO @ 08:39:07] Energy consumed for RAM : 0.005734 kWh. RAM Power : 4.754399299621582 W\n",
            "[codecarbon INFO @ 08:39:07] Energy consumed for all GPUs : 0.073262 kWh. Total GPU Power : 41.107 W\n",
            "[codecarbon INFO @ 08:39:07] Energy consumed for all CPUs : 0.051345 kWh. Total CPU Power : 42.5 W\n",
            "[codecarbon INFO @ 08:39:07] 0.130341 kWh of electricity used since the beginning.\n"
          ]
        },
        {
          "metadata": {
            "tags": null
          },
          "name": "stdout",
          "output_type": "stream",
          "text": [
            "593/721 [=======================>......] - ETA: 57s - loss: 0.2292 - accuracy: 0.9184"
          ]
        },
        {
          "metadata": {
            "tags": null
          },
          "name": "stderr",
          "output_type": "stream",
          "text": [
            "[codecarbon INFO @ 08:39:22] Energy consumed for RAM : 0.005754 kWh. RAM Power : 4.754399299621582 W\n",
            "[codecarbon INFO @ 08:39:22] Energy consumed for all GPUs : 0.073443 kWh. Total GPU Power : 43.45 W\n",
            "[codecarbon INFO @ 08:39:22] Energy consumed for all CPUs : 0.051522 kWh. Total CPU Power : 42.5 W\n",
            "[codecarbon INFO @ 08:39:22] 0.130719 kWh of electricity used since the beginning.\n"
          ]
        },
        {
          "metadata": {
            "tags": null
          },
          "name": "stdout",
          "output_type": "stream",
          "text": [
            "627/721 [=========================>....] - ETA: 42s - loss: 0.2281 - accuracy: 0.9187"
          ]
        },
        {
          "metadata": {
            "tags": null
          },
          "name": "stderr",
          "output_type": "stream",
          "text": [
            "[codecarbon INFO @ 08:39:37] Energy consumed for RAM : 0.005774 kWh. RAM Power : 4.754399299621582 W\n",
            "[codecarbon INFO @ 08:39:37] Energy consumed for all GPUs : 0.073719 kWh. Total GPU Power : 66.416 W\n",
            "[codecarbon INFO @ 08:39:37] Energy consumed for all CPUs : 0.051699 kWh. Total CPU Power : 42.5 W\n",
            "[codecarbon INFO @ 08:39:37] 0.131192 kWh of electricity used since the beginning.\n"
          ]
        },
        {
          "metadata": {
            "tags": null
          },
          "name": "stdout",
          "output_type": "stream",
          "text": [
            "658/721 [==========================>...] - ETA: 28s - loss: 0.2279 - accuracy: 0.9183"
          ]
        },
        {
          "metadata": {
            "tags": null
          },
          "name": "stderr",
          "output_type": "stream",
          "text": [
            "[codecarbon INFO @ 08:39:52] Energy consumed for RAM : 0.005793 kWh. RAM Power : 4.754399299621582 W\n",
            "[codecarbon INFO @ 08:39:52] Energy consumed for all GPUs : 0.074013 kWh. Total GPU Power : 70.629 W\n",
            "[codecarbon INFO @ 08:39:52] Energy consumed for all CPUs : 0.051876 kWh. Total CPU Power : 42.5 W\n",
            "[codecarbon INFO @ 08:39:52] 0.131682 kWh of electricity used since the beginning.\n"
          ]
        },
        {
          "metadata": {
            "tags": null
          },
          "name": "stdout",
          "output_type": "stream",
          "text": [
            "692/721 [===========================>..] - ETA: 13s - loss: 0.2266 - accuracy: 0.9182"
          ]
        },
        {
          "metadata": {
            "tags": null
          },
          "name": "stderr",
          "output_type": "stream",
          "text": [
            "[codecarbon INFO @ 08:40:07] Energy consumed for RAM : 0.005813 kWh. RAM Power : 4.754399299621582 W\n",
            "[codecarbon INFO @ 08:40:07] Energy consumed for all GPUs : 0.074173 kWh. Total GPU Power : 38.267 W\n",
            "[codecarbon INFO @ 08:40:07] Energy consumed for all CPUs : 0.052053 kWh. Total CPU Power : 42.5 W\n",
            "[codecarbon INFO @ 08:40:07] 0.132039 kWh of electricity used since the beginning.\n"
          ]
        },
        {
          "metadata": {
            "tags": null
          },
          "name": "stdout",
          "output_type": "stream",
          "text": [
            "721/721 [==============================] - ETA: 0s - loss: 0.2268 - accuracy: 0.9179"
          ]
        },
        {
          "metadata": {
            "tags": null
          },
          "name": "stderr",
          "output_type": "stream",
          "text": [
            "[codecarbon INFO @ 08:40:22] Energy consumed for RAM : 0.005833 kWh. RAM Power : 4.754399299621582 W\n",
            "[codecarbon INFO @ 08:40:22] Energy consumed for all GPUs : 0.074326 kWh. Total GPU Power : 36.80700000000001 W\n",
            "[codecarbon INFO @ 08:40:22] Energy consumed for all CPUs : 0.052230 kWh. Total CPU Power : 42.5 W\n",
            "[codecarbon INFO @ 08:40:22] 0.132389 kWh of electricity used since the beginning.\n",
            "[codecarbon INFO @ 08:40:37] Energy consumed for RAM : 0.005853 kWh. RAM Power : 4.754399299621582 W\n",
            "[codecarbon INFO @ 08:40:37] Energy consumed for all GPUs : 0.074623 kWh. Total GPU Power : 71.369 W\n",
            "[codecarbon INFO @ 08:40:37] Energy consumed for all CPUs : 0.052407 kWh. Total CPU Power : 42.5 W\n",
            "[codecarbon INFO @ 08:40:37] 0.132883 kWh of electricity used since the beginning.\n"
          ]
        },
        {
          "metadata": {
            "tags": null
          },
          "name": "stdout",
          "output_type": "stream",
          "text": [
            "721/721 [==============================] - 344s 477ms/step - loss: 0.2268 - accuracy: 0.9179 - val_loss: 0.2587 - val_accuracy: 0.9236\n",
            "Epoch 13/20\n",
            " 25/721 [>.............................] - ETA: 5:18 - loss: 0.1703 - accuracy: 0.9450"
          ]
        },
        {
          "metadata": {
            "tags": null
          },
          "name": "stderr",
          "output_type": "stream",
          "text": [
            "[codecarbon INFO @ 08:40:52] Energy consumed for RAM : 0.005873 kWh. RAM Power : 4.754399299621582 W\n",
            "[codecarbon INFO @ 08:40:52] Energy consumed for all GPUs : 0.074805 kWh. Total GPU Power : 43.745 W\n",
            "[codecarbon INFO @ 08:40:52] Energy consumed for all CPUs : 0.052584 kWh. Total CPU Power : 42.5 W\n",
            "[codecarbon INFO @ 08:40:52] 0.133262 kWh of electricity used since the beginning.\n"
          ]
        },
        {
          "metadata": {
            "tags": null
          },
          "name": "stdout",
          "output_type": "stream",
          "text": [
            " 58/721 [=>............................] - ETA: 5:02 - loss: 0.1853 - accuracy: 0.9353"
          ]
        },
        {
          "metadata": {
            "tags": null
          },
          "name": "stderr",
          "output_type": "stream",
          "text": [
            "[codecarbon INFO @ 08:41:07] Energy consumed for RAM : 0.005892 kWh. RAM Power : 4.754399299621582 W\n",
            "[codecarbon INFO @ 08:41:07] Energy consumed for all GPUs : 0.074987 kWh. Total GPU Power : 43.745 W\n",
            "[codecarbon INFO @ 08:41:07] Energy consumed for all CPUs : 0.052761 kWh. Total CPU Power : 42.5 W\n",
            "[codecarbon INFO @ 08:41:07] 0.133640 kWh of electricity used since the beginning.\n"
          ]
        },
        {
          "metadata": {
            "tags": null
          },
          "name": "stdout",
          "output_type": "stream",
          "text": [
            " 92/721 [==>...........................] - ETA: 4:44 - loss: 0.1744 - accuracy: 0.9389"
          ]
        },
        {
          "metadata": {
            "tags": null
          },
          "name": "stderr",
          "output_type": "stream",
          "text": [
            "[codecarbon INFO @ 08:41:22] Energy consumed for RAM : 0.005912 kWh. RAM Power : 4.754399299621582 W\n",
            "[codecarbon INFO @ 08:41:22] Energy consumed for all GPUs : 0.075232 kWh. Total GPU Power : 58.854000000000006 W\n",
            "[codecarbon INFO @ 08:41:22] Energy consumed for all CPUs : 0.052938 kWh. Total CPU Power : 42.5 W\n",
            "[codecarbon INFO @ 08:41:22] 0.134082 kWh of electricity used since the beginning.\n"
          ]
        },
        {
          "metadata": {
            "tags": null
          },
          "name": "stdout",
          "output_type": "stream",
          "text": [
            "124/721 [====>.........................] - ETA: 4:31 - loss: 0.1905 - accuracy: 0.9330"
          ]
        },
        {
          "metadata": {
            "tags": null
          },
          "name": "stderr",
          "output_type": "stream",
          "text": [
            "[codecarbon INFO @ 08:41:37] Energy consumed for RAM : 0.005932 kWh. RAM Power : 4.754399299621582 W\n",
            "[codecarbon INFO @ 08:41:37] Energy consumed for all GPUs : 0.075530 kWh. Total GPU Power : 71.618 W\n",
            "[codecarbon INFO @ 08:41:37] Energy consumed for all CPUs : 0.053115 kWh. Total CPU Power : 42.5 W\n",
            "[codecarbon INFO @ 08:41:37] 0.134577 kWh of electricity used since the beginning.\n"
          ]
        },
        {
          "metadata": {
            "tags": null
          },
          "name": "stdout",
          "output_type": "stream",
          "text": [
            "159/721 [=====>........................] - ETA: 4:13 - loss: 0.1876 - accuracy: 0.9359"
          ]
        },
        {
          "metadata": {
            "tags": null
          },
          "name": "stderr",
          "output_type": "stream",
          "text": [
            "[codecarbon INFO @ 08:41:52] Energy consumed for RAM : 0.005952 kWh. RAM Power : 4.754399299621582 W\n",
            "[codecarbon INFO @ 08:41:52] Energy consumed for all GPUs : 0.075712 kWh. Total GPU Power : 43.844 W\n",
            "[codecarbon INFO @ 08:41:52] Energy consumed for all CPUs : 0.053292 kWh. Total CPU Power : 42.5 W\n",
            "[codecarbon INFO @ 08:41:52] 0.134956 kWh of electricity used since the beginning.\n"
          ]
        },
        {
          "metadata": {
            "tags": null
          },
          "name": "stdout",
          "output_type": "stream",
          "text": [
            "193/721 [=======>......................] - ETA: 3:56 - loss: 0.1942 - accuracy: 0.9313"
          ]
        },
        {
          "metadata": {
            "tags": null
          },
          "name": "stderr",
          "output_type": "stream",
          "text": [
            "[codecarbon INFO @ 08:42:07] Energy consumed for RAM : 0.005971 kWh. RAM Power : 4.754399299621582 W\n",
            "[codecarbon INFO @ 08:42:07] Energy consumed for all GPUs : 0.075896 kWh. Total GPU Power : 44.14 W\n",
            "[codecarbon INFO @ 08:42:07] Energy consumed for all CPUs : 0.053469 kWh. Total CPU Power : 42.5 W\n",
            "[codecarbon INFO @ 08:42:07] 0.135337 kWh of electricity used since the beginning.\n"
          ]
        },
        {
          "metadata": {
            "tags": null
          },
          "name": "stdout",
          "output_type": "stream",
          "text": [
            "225/721 [========>.....................] - ETA: 3:43 - loss: 0.1979 - accuracy: 0.9297"
          ]
        },
        {
          "metadata": {
            "tags": null
          },
          "name": "stderr",
          "output_type": "stream",
          "text": [
            "[codecarbon INFO @ 08:42:22] Energy consumed for RAM : 0.005991 kWh. RAM Power : 4.754399299621582 W\n",
            "[codecarbon INFO @ 08:42:22] Energy consumed for all GPUs : 0.076061 kWh. Total GPU Power : 39.649 W\n",
            "[codecarbon INFO @ 08:42:22] Energy consumed for all CPUs : 0.053647 kWh. Total CPU Power : 42.5 W\n",
            "[codecarbon INFO @ 08:42:22] 0.135699 kWh of electricity used since the beginning.\n"
          ]
        },
        {
          "metadata": {
            "tags": null
          },
          "name": "stdout",
          "output_type": "stream",
          "text": [
            "259/721 [=========>....................] - ETA: 3:27 - loss: 0.1983 - accuracy: 0.9281"
          ]
        },
        {
          "metadata": {
            "tags": null
          },
          "name": "stderr",
          "output_type": "stream",
          "text": [
            "[codecarbon INFO @ 08:42:37] Energy consumed for RAM : 0.006011 kWh. RAM Power : 4.754399299621582 W\n",
            "[codecarbon INFO @ 08:42:37] Energy consumed for all GPUs : 0.076355 kWh. Total GPU Power : 70.684 W\n",
            "[codecarbon INFO @ 08:42:37] Energy consumed for all CPUs : 0.053824 kWh. Total CPU Power : 42.5 W\n",
            "[codecarbon INFO @ 08:42:37] 0.136189 kWh of electricity used since the beginning.\n"
          ]
        },
        {
          "metadata": {
            "tags": null
          },
          "name": "stdout",
          "output_type": "stream",
          "text": [
            "294/721 [===========>..................] - ETA: 3:10 - loss: 0.2004 - accuracy: 0.9274"
          ]
        },
        {
          "metadata": {
            "tags": null
          },
          "name": "stderr",
          "output_type": "stream",
          "text": [
            "[codecarbon INFO @ 08:42:52] Energy consumed for RAM : 0.006031 kWh. RAM Power : 4.754399299621582 W\n",
            "[codecarbon INFO @ 08:42:52] Energy consumed for all GPUs : 0.076645 kWh. Total GPU Power : 69.9 W\n",
            "[codecarbon INFO @ 08:42:52] Energy consumed for all CPUs : 0.054001 kWh. Total CPU Power : 42.5 W\n"
          ]
        },
        {
          "metadata": {
            "tags": null
          },
          "name": "stdout",
          "output_type": "stream",
          "text": [
            "\b\b\b\b\b\b\b\b\b\b\b\b\b\b\b\b\b\b\b\b\b\b\b\b\b\b\b\b\b\b\b\b\b\b\b\b\b\b\b\b\b\b\b\b\b\b\b\b\b\b\b\b\b\b\b\b\b\b\b\b\b\b\b\b\b\b\b\b\b\b\b\b\b\b\b\b\b\b\b\b\b\b\b\b\b\b\r295/721 [===========>..................] - ETA: 3:10 - loss: 0.2000 - accuracy: 0.9276"
          ]
        },
        {
          "metadata": {
            "tags": null
          },
          "name": "stderr",
          "output_type": "stream",
          "text": [
            "[codecarbon INFO @ 08:42:52] 0.136677 kWh of electricity used since the beginning.\n"
          ]
        },
        {
          "metadata": {
            "tags": null
          },
          "name": "stdout",
          "output_type": "stream",
          "text": [
            "329/721 [============>.................] - ETA: 2:54 - loss: 0.1958 - accuracy: 0.9283"
          ]
        },
        {
          "metadata": {
            "tags": null
          },
          "name": "stderr",
          "output_type": "stream",
          "text": [
            "[codecarbon INFO @ 08:43:07] Energy consumed for RAM : 0.006051 kWh. RAM Power : 4.754399299621582 W\n",
            "[codecarbon INFO @ 08:43:07] Energy consumed for all GPUs : 0.076806 kWh. Total GPU Power : 38.761 W\n",
            "[codecarbon INFO @ 08:43:07] Energy consumed for all CPUs : 0.054178 kWh. Total CPU Power : 42.5 W\n",
            "[codecarbon INFO @ 08:43:07] 0.137035 kWh of electricity used since the beginning.\n"
          ]
        },
        {
          "metadata": {
            "tags": null
          },
          "name": "stdout",
          "output_type": "stream",
          "text": [
            "364/721 [==============>...............] - ETA: 2:38 - loss: 0.1978 - accuracy: 0.9276"
          ]
        },
        {
          "metadata": {
            "tags": null
          },
          "name": "stderr",
          "output_type": "stream",
          "text": [
            "[codecarbon INFO @ 08:43:22] Energy consumed for RAM : 0.006070 kWh. RAM Power : 4.754399299621582 W\n",
            "[codecarbon INFO @ 08:43:22] Energy consumed for all GPUs : 0.076964 kWh. Total GPU Power : 38.069 W\n",
            "[codecarbon INFO @ 08:43:22] Energy consumed for all CPUs : 0.054355 kWh. Total CPU Power : 42.5 W\n",
            "[codecarbon INFO @ 08:43:22] 0.137389 kWh of electricity used since the beginning.\n"
          ]
        },
        {
          "metadata": {
            "tags": null
          },
          "name": "stdout",
          "output_type": "stream",
          "text": [
            "398/721 [===============>..............] - ETA: 2:23 - loss: 0.1968 - accuracy: 0.9286"
          ]
        },
        {
          "metadata": {
            "tags": null
          },
          "name": "stderr",
          "output_type": "stream",
          "text": [
            "[codecarbon INFO @ 08:43:37] Energy consumed for RAM : 0.006090 kWh. RAM Power : 4.754399299621582 W\n",
            "[codecarbon INFO @ 08:43:37] Energy consumed for all GPUs : 0.077272 kWh. Total GPU Power : 73.92100000000002 W\n",
            "[codecarbon INFO @ 08:43:37] Energy consumed for all CPUs : 0.054532 kWh. Total CPU Power : 42.5 W\n",
            "[codecarbon INFO @ 08:43:37] 0.137894 kWh of electricity used since the beginning.\n"
          ]
        },
        {
          "metadata": {
            "tags": null
          },
          "name": "stdout",
          "output_type": "stream",
          "text": [
            "433/721 [=================>............] - ETA: 2:07 - loss: 0.2034 - accuracy: 0.9267"
          ]
        },
        {
          "metadata": {
            "tags": null
          },
          "name": "stderr",
          "output_type": "stream",
          "text": [
            "[codecarbon INFO @ 08:43:52] Energy consumed for RAM : 0.006110 kWh. RAM Power : 4.754399299621582 W\n",
            "[codecarbon INFO @ 08:43:52] Energy consumed for all GPUs : 0.077431 kWh. Total GPU Power : 38.267 W\n",
            "[codecarbon INFO @ 08:43:52] Energy consumed for all CPUs : 0.054709 kWh. Total CPU Power : 42.5 W\n",
            "[codecarbon INFO @ 08:43:52] 0.138249 kWh of electricity used since the beginning.\n"
          ]
        },
        {
          "metadata": {
            "tags": null
          },
          "name": "stdout",
          "output_type": "stream",
          "text": [
            "465/721 [==================>...........] - ETA: 1:53 - loss: 0.2043 - accuracy: 0.9265"
          ]
        },
        {
          "metadata": {
            "tags": null
          },
          "name": "stderr",
          "output_type": "stream",
          "text": [
            "[codecarbon INFO @ 08:44:07] Energy consumed for RAM : 0.006130 kWh. RAM Power : 4.754399299621582 W\n",
            "[codecarbon INFO @ 08:44:07] Energy consumed for all GPUs : 0.077717 kWh. Total GPU Power : 68.72500000000001 W\n",
            "[codecarbon INFO @ 08:44:07] Energy consumed for all CPUs : 0.054886 kWh. Total CPU Power : 42.5 W\n",
            "[codecarbon INFO @ 08:44:07] 0.138733 kWh of electricity used since the beginning.\n"
          ]
        },
        {
          "metadata": {
            "tags": null
          },
          "name": "stdout",
          "output_type": "stream",
          "text": [
            "495/721 [===================>..........] - ETA: 1:41 - loss: 0.2034 - accuracy: 0.9268"
          ]
        },
        {
          "metadata": {
            "tags": null
          },
          "name": "stderr",
          "output_type": "stream",
          "text": [
            "[codecarbon INFO @ 08:44:22] Energy consumed for RAM : 0.006149 kWh. RAM Power : 4.754399299621582 W\n",
            "[codecarbon INFO @ 08:44:22] Energy consumed for all GPUs : 0.078003 kWh. Total GPU Power : 68.767 W\n",
            "[codecarbon INFO @ 08:44:22] Energy consumed for all CPUs : 0.055064 kWh. Total CPU Power : 42.5 W\n",
            "[codecarbon INFO @ 08:44:22] 0.139216 kWh of electricity used since the beginning.\n"
          ]
        },
        {
          "metadata": {
            "tags": null
          },
          "name": "stdout",
          "output_type": "stream",
          "text": [
            "529/721 [=====================>........] - ETA: 1:25 - loss: 0.2043 - accuracy: 0.9259"
          ]
        },
        {
          "metadata": {
            "tags": null
          },
          "name": "stderr",
          "output_type": "stream",
          "text": [
            "[codecarbon INFO @ 08:44:37] Energy consumed for RAM : 0.006169 kWh. RAM Power : 4.754399299621582 W\n",
            "[codecarbon INFO @ 08:44:37] Energy consumed for all GPUs : 0.078185 kWh. Total GPU Power : 43.745 W\n",
            "[codecarbon INFO @ 08:44:37] Energy consumed for all CPUs : 0.055240 kWh. Total CPU Power : 42.5 W\n",
            "[codecarbon INFO @ 08:44:37] 0.139594 kWh of electricity used since the beginning.\n"
          ]
        },
        {
          "metadata": {
            "tags": null
          },
          "name": "stdout",
          "output_type": "stream",
          "text": [
            "562/721 [======================>.......] - ETA: 1:11 - loss: 0.2026 - accuracy: 0.9266"
          ]
        },
        {
          "metadata": {
            "tags": null
          },
          "name": "stderr",
          "output_type": "stream",
          "text": [
            "[codecarbon INFO @ 08:44:52] Energy consumed for RAM : 0.006189 kWh. RAM Power : 4.754399299621582 W\n",
            "[codecarbon INFO @ 08:44:52] Energy consumed for all GPUs : 0.078360 kWh. Total GPU Power : 42.069 W\n",
            "[codecarbon INFO @ 08:44:52] Energy consumed for all CPUs : 0.055417 kWh. Total CPU Power : 42.5 W\n",
            "[codecarbon INFO @ 08:44:52] 0.139966 kWh of electricity used since the beginning.\n"
          ]
        },
        {
          "metadata": {
            "tags": null
          },
          "name": "stdout",
          "output_type": "stream",
          "text": [
            "595/721 [=======================>......] - ETA: 56s - loss: 0.2041 - accuracy: 0.9267"
          ]
        },
        {
          "metadata": {
            "tags": null
          },
          "name": "stderr",
          "output_type": "stream",
          "text": [
            "[codecarbon INFO @ 08:45:07] Energy consumed for RAM : 0.006209 kWh. RAM Power : 4.754399299621582 W\n",
            "[codecarbon INFO @ 08:45:07] Energy consumed for all GPUs : 0.078654 kWh. Total GPU Power : 70.586 W\n",
            "[codecarbon INFO @ 08:45:07] Energy consumed for all CPUs : 0.055595 kWh. Total CPU Power : 42.5 W\n",
            "[codecarbon INFO @ 08:45:07] 0.140457 kWh of electricity used since the beginning.\n"
          ]
        },
        {
          "metadata": {
            "tags": null
          },
          "name": "stdout",
          "output_type": "stream",
          "text": [
            "628/721 [=========================>....] - ETA: 41s - loss: 0.2029 - accuracy: 0.9271"
          ]
        },
        {
          "metadata": {
            "tags": null
          },
          "name": "stderr",
          "output_type": "stream",
          "text": [
            "[codecarbon INFO @ 08:45:22] Energy consumed for RAM : 0.006228 kWh. RAM Power : 4.754399299621582 W\n",
            "[codecarbon INFO @ 08:45:22] Energy consumed for all GPUs : 0.078956 kWh. Total GPU Power : 72.499 W\n",
            "[codecarbon INFO @ 08:45:22] Energy consumed for all CPUs : 0.055772 kWh. Total CPU Power : 42.5 W\n",
            "[codecarbon INFO @ 08:45:22] 0.140957 kWh of electricity used since the beginning.\n"
          ]
        },
        {
          "metadata": {
            "tags": null
          },
          "name": "stdout",
          "output_type": "stream",
          "text": [
            "661/721 [==========================>...] - ETA: 26s - loss: 0.2020 - accuracy: 0.9271"
          ]
        },
        {
          "metadata": {
            "tags": null
          },
          "name": "stderr",
          "output_type": "stream",
          "text": [
            "[codecarbon INFO @ 08:45:37] Energy consumed for RAM : 0.006248 kWh. RAM Power : 4.754399299621582 W\n",
            "[codecarbon INFO @ 08:45:37] Energy consumed for all GPUs : 0.079111 kWh. Total GPU Power : 37.103 W\n",
            "[codecarbon INFO @ 08:45:37] Energy consumed for all CPUs : 0.055949 kWh. Total CPU Power : 42.5 W\n",
            "[codecarbon INFO @ 08:45:37] 0.141308 kWh of electricity used since the beginning.\n"
          ]
        },
        {
          "metadata": {
            "tags": null
          },
          "name": "stdout",
          "output_type": "stream",
          "text": [
            "695/721 [===========================>..] - ETA: 11s - loss: 0.2040 - accuracy: 0.9266"
          ]
        },
        {
          "metadata": {
            "tags": null
          },
          "name": "stderr",
          "output_type": "stream",
          "text": [
            "[codecarbon INFO @ 08:45:52] Energy consumed for RAM : 0.006268 kWh. RAM Power : 4.754399299621582 W\n",
            "[codecarbon INFO @ 08:45:52] Energy consumed for all GPUs : 0.079283 kWh. Total GPU Power : 41.403000000000006 W\n",
            "[codecarbon INFO @ 08:45:52] Energy consumed for all CPUs : 0.056126 kWh. Total CPU Power : 42.5 W\n",
            "[codecarbon INFO @ 08:45:52] 0.141677 kWh of electricity used since the beginning.\n"
          ]
        },
        {
          "metadata": {
            "tags": null
          },
          "name": "stdout",
          "output_type": "stream",
          "text": [
            "721/721 [==============================] - ETA: 0s - loss: 0.2032 - accuracy: 0.9270"
          ]
        },
        {
          "metadata": {
            "tags": null
          },
          "name": "stderr",
          "output_type": "stream",
          "text": [
            "[codecarbon INFO @ 08:46:07] Energy consumed for RAM : 0.006288 kWh. RAM Power : 4.754399299621582 W\n",
            "[codecarbon INFO @ 08:46:07] Energy consumed for all GPUs : 0.079601 kWh. Total GPU Power : 76.464 W\n",
            "[codecarbon INFO @ 08:46:07] Energy consumed for all CPUs : 0.056303 kWh. Total CPU Power : 42.5 W\n",
            "[codecarbon INFO @ 08:46:07] 0.142193 kWh of electricity used since the beginning.\n",
            "[codecarbon INFO @ 08:46:22] Energy consumed for RAM : 0.006308 kWh. RAM Power : 4.754399299621582 W\n",
            "[codecarbon INFO @ 08:46:22] Energy consumed for all GPUs : 0.079907 kWh. Total GPU Power : 73.57600000000001 W\n",
            "[codecarbon INFO @ 08:46:22] Energy consumed for all CPUs : 0.056480 kWh. Total CPU Power : 42.5 W\n",
            "[codecarbon INFO @ 08:46:22] 0.142695 kWh of electricity used since the beginning.\n"
          ]
        },
        {
          "metadata": {
            "tags": null
          },
          "name": "stdout",
          "output_type": "stream",
          "text": [
            "721/721 [==============================] - 342s 475ms/step - loss: 0.2032 - accuracy: 0.9270 - val_loss: 0.2542 - val_accuracy: 0.9194\n",
            "Epoch 14/20\n",
            " 32/721 [>.............................] - ETA: 5:04 - loss: 0.1704 - accuracy: 0.9316"
          ]
        },
        {
          "metadata": {
            "tags": null
          },
          "name": "stderr",
          "output_type": "stream",
          "text": [
            "[codecarbon INFO @ 08:46:37] Energy consumed for RAM : 0.006327 kWh. RAM Power : 4.754399299621582 W\n",
            "[codecarbon INFO @ 08:46:37] Energy consumed for all GPUs : 0.080208 kWh. Total GPU Power : 72.206 W\n",
            "[codecarbon INFO @ 08:46:37] Energy consumed for all CPUs : 0.056658 kWh. Total CPU Power : 42.5 W\n",
            "[codecarbon INFO @ 08:46:37] 0.143193 kWh of electricity used since the beginning.\n"
          ]
        },
        {
          "metadata": {
            "tags": null
          },
          "name": "stdout",
          "output_type": "stream",
          "text": [
            " 67/721 [=>............................] - ETA: 4:45 - loss: 0.1920 - accuracy: 0.9310"
          ]
        },
        {
          "metadata": {
            "tags": null
          },
          "name": "stderr",
          "output_type": "stream",
          "text": [
            "[codecarbon INFO @ 08:46:52] Energy consumed for RAM : 0.006347 kWh. RAM Power : 4.754399299621582 W\n",
            "[codecarbon INFO @ 08:46:52] Energy consumed for all GPUs : 0.080524 kWh. Total GPU Power : 76.17 W\n",
            "[codecarbon INFO @ 08:46:52] Energy consumed for all CPUs : 0.056834 kWh. Total CPU Power : 42.5 W\n",
            "[codecarbon INFO @ 08:46:52] 0.143706 kWh of electricity used since the beginning.\n"
          ]
        },
        {
          "metadata": {
            "tags": null
          },
          "name": "stdout",
          "output_type": "stream",
          "text": [
            "101/721 [===>..........................] - ETA: 4:31 - loss: 0.1926 - accuracy: 0.9319"
          ]
        },
        {
          "metadata": {
            "tags": null
          },
          "name": "stderr",
          "output_type": "stream",
          "text": [
            "[codecarbon INFO @ 08:47:07] Energy consumed for RAM : 0.006367 kWh. RAM Power : 4.754399299621582 W\n",
            "[codecarbon INFO @ 08:47:07] Energy consumed for all GPUs : 0.080823 kWh. Total GPU Power : 71.66300000000001 W\n",
            "[codecarbon INFO @ 08:47:07] Energy consumed for all CPUs : 0.057011 kWh. Total CPU Power : 42.5 W\n",
            "[codecarbon INFO @ 08:47:07] 0.144201 kWh of electricity used since the beginning.\n"
          ]
        },
        {
          "metadata": {
            "tags": null
          },
          "name": "stdout",
          "output_type": "stream",
          "text": [
            "135/721 [====>.........................] - ETA: 4:16 - loss: 0.1956 - accuracy: 0.9301"
          ]
        },
        {
          "metadata": {
            "tags": null
          },
          "name": "stderr",
          "output_type": "stream",
          "text": [
            "[codecarbon INFO @ 08:47:22] Energy consumed for RAM : 0.006387 kWh. RAM Power : 4.754399299621582 W\n",
            "[codecarbon INFO @ 08:47:22] Energy consumed for all GPUs : 0.081134 kWh. Total GPU Power : 74.75 W\n",
            "[codecarbon INFO @ 08:47:22] Energy consumed for all CPUs : 0.057189 kWh. Total CPU Power : 42.5 W\n",
            "[codecarbon INFO @ 08:47:22] 0.144709 kWh of electricity used since the beginning.\n"
          ]
        },
        {
          "metadata": {
            "tags": null
          },
          "name": "stdout",
          "output_type": "stream",
          "text": [
            "169/721 [======>.......................] - ETA: 4:02 - loss: 0.1997 - accuracy: 0.9297"
          ]
        },
        {
          "metadata": {
            "tags": null
          },
          "name": "stderr",
          "output_type": "stream",
          "text": [
            "[codecarbon INFO @ 08:47:37] Energy consumed for RAM : 0.006406 kWh. RAM Power : 4.754399299621582 W\n",
            "[codecarbon INFO @ 08:47:37] Energy consumed for all GPUs : 0.081433 kWh. Total GPU Power : 71.761 W\n",
            "[codecarbon INFO @ 08:47:37] Energy consumed for all CPUs : 0.057366 kWh. Total CPU Power : 42.5 W\n",
            "[codecarbon INFO @ 08:47:37] 0.145205 kWh of electricity used since the beginning.\n"
          ]
        },
        {
          "metadata": {
            "tags": null
          },
          "name": "stdout",
          "output_type": "stream",
          "text": [
            "200/721 [=======>......................] - ETA: 3:53 - loss: 0.1971 - accuracy: 0.9306"
          ]
        },
        {
          "metadata": {
            "tags": null
          },
          "name": "stderr",
          "output_type": "stream",
          "text": [
            "[codecarbon INFO @ 08:47:52] Energy consumed for RAM : 0.006426 kWh. RAM Power : 4.754399299621582 W\n",
            "[codecarbon INFO @ 08:47:52] Energy consumed for all GPUs : 0.081711 kWh. Total GPU Power : 67.102 W\n",
            "[codecarbon INFO @ 08:47:52] Energy consumed for all CPUs : 0.057543 kWh. Total CPU Power : 42.5 W\n",
            "[codecarbon INFO @ 08:47:52] 0.145680 kWh of electricity used since the beginning.\n"
          ]
        },
        {
          "metadata": {
            "tags": null
          },
          "name": "stdout",
          "output_type": "stream",
          "text": [
            "232/721 [========>.....................] - ETA: 3:39 - loss: 0.1967 - accuracy: 0.9310"
          ]
        },
        {
          "metadata": {
            "tags": null
          },
          "name": "stderr",
          "output_type": "stream",
          "text": [
            "[codecarbon INFO @ 08:48:07] Energy consumed for RAM : 0.006446 kWh. RAM Power : 4.754399299621582 W\n",
            "[codecarbon INFO @ 08:48:07] Energy consumed for all GPUs : 0.081879 kWh. Total GPU Power : 40.218 W\n",
            "[codecarbon INFO @ 08:48:07] Energy consumed for all CPUs : 0.057720 kWh. Total CPU Power : 42.5 W\n",
            "[codecarbon INFO @ 08:48:07] 0.146044 kWh of electricity used since the beginning.\n"
          ]
        },
        {
          "metadata": {
            "tags": null
          },
          "name": "stdout",
          "output_type": "stream",
          "text": [
            "264/721 [=========>....................] - ETA: 3:26 - loss: 0.1949 - accuracy: 0.9321"
          ]
        },
        {
          "metadata": {
            "tags": null
          },
          "name": "stderr",
          "output_type": "stream",
          "text": [
            "[codecarbon INFO @ 08:48:22] Energy consumed for RAM : 0.006466 kWh. RAM Power : 4.754399299621582 W\n",
            "[codecarbon INFO @ 08:48:22] Energy consumed for all GPUs : 0.082167 kWh. Total GPU Power : 69.313 W\n",
            "[codecarbon INFO @ 08:48:22] Energy consumed for all CPUs : 0.057897 kWh. Total CPU Power : 42.5 W\n",
            "[codecarbon INFO @ 08:48:22] 0.146529 kWh of electricity used since the beginning.\n"
          ]
        },
        {
          "metadata": {
            "tags": null
          },
          "name": "stdout",
          "output_type": "stream",
          "text": [
            "293/721 [===========>..................] - ETA: 3:16 - loss: 0.1949 - accuracy: 0.9326"
          ]
        },
        {
          "metadata": {
            "tags": null
          },
          "name": "stderr",
          "output_type": "stream",
          "text": [
            "[codecarbon INFO @ 08:48:37] Energy consumed for RAM : 0.006486 kWh. RAM Power : 4.754399299621582 W\n",
            "[codecarbon INFO @ 08:48:37] Energy consumed for all GPUs : 0.082534 kWh. Total GPU Power : 88.25800000000001 W\n",
            "[codecarbon INFO @ 08:48:37] Energy consumed for all CPUs : 0.058074 kWh. Total CPU Power : 42.5 W\n",
            "[codecarbon INFO @ 08:48:37] 0.147093 kWh of electricity used since the beginning.\n"
          ]
        },
        {
          "metadata": {
            "tags": null
          },
          "name": "stdout",
          "output_type": "stream",
          "text": [
            "326/721 [============>.................] - ETA: 3:00 - loss: 0.1902 - accuracy: 0.9347"
          ]
        },
        {
          "metadata": {
            "tags": null
          },
          "name": "stderr",
          "output_type": "stream",
          "text": [
            "[codecarbon INFO @ 08:48:52] Energy consumed for RAM : 0.006505 kWh. RAM Power : 4.754399299621582 W\n",
            "[codecarbon INFO @ 08:48:52] Energy consumed for all GPUs : 0.082834 kWh. Total GPU Power : 72.161 W\n",
            "[codecarbon INFO @ 08:48:52] Energy consumed for all CPUs : 0.058251 kWh. Total CPU Power : 42.5 W\n",
            "[codecarbon INFO @ 08:48:52] 0.147590 kWh of electricity used since the beginning.\n"
          ]
        },
        {
          "metadata": {
            "tags": null
          },
          "name": "stdout",
          "output_type": "stream",
          "text": [
            "358/721 [=============>................] - ETA: 2:46 - loss: 0.1885 - accuracy: 0.9355"
          ]
        },
        {
          "metadata": {
            "tags": null
          },
          "name": "stderr",
          "output_type": "stream",
          "text": [
            "[codecarbon INFO @ 08:49:07] Energy consumed for RAM : 0.006525 kWh. RAM Power : 4.754399299621582 W\n",
            "[codecarbon INFO @ 08:49:07] Energy consumed for all GPUs : 0.083206 kWh. Total GPU Power : 89.427 W\n",
            "[codecarbon INFO @ 08:49:07] Energy consumed for all CPUs : 0.058428 kWh. Total CPU Power : 42.5 W\n",
            "[codecarbon INFO @ 08:49:07] 0.148159 kWh of electricity used since the beginning.\n"
          ]
        },
        {
          "metadata": {
            "tags": null
          },
          "name": "stdout",
          "output_type": "stream",
          "text": [
            "391/721 [===============>..............] - ETA: 2:31 - loss: 0.1890 - accuracy: 0.9350"
          ]
        },
        {
          "metadata": {
            "tags": null
          },
          "name": "stderr",
          "output_type": "stream",
          "text": [
            "[codecarbon INFO @ 08:49:22] Energy consumed for RAM : 0.006545 kWh. RAM Power : 4.754399299621582 W\n",
            "[codecarbon INFO @ 08:49:22] Energy consumed for all GPUs : 0.083383 kWh. Total GPU Power : 42.488 W\n",
            "[codecarbon INFO @ 08:49:22] Energy consumed for all CPUs : 0.058605 kWh. Total CPU Power : 42.5 W\n",
            "[codecarbon INFO @ 08:49:22] 0.148533 kWh of electricity used since the beginning.\n"
          ]
        },
        {
          "metadata": {
            "tags": null
          },
          "name": "stdout",
          "output_type": "stream",
          "text": [
            "426/721 [================>.............] - ETA: 2:14 - loss: 0.1902 - accuracy: 0.9346"
          ]
        },
        {
          "metadata": {
            "tags": null
          },
          "name": "stderr",
          "output_type": "stream",
          "text": [
            "[codecarbon INFO @ 08:49:37] Energy consumed for RAM : 0.006565 kWh. RAM Power : 4.754399299621582 W\n",
            "[codecarbon INFO @ 08:49:37] Energy consumed for all GPUs : 0.083681 kWh. Total GPU Power : 71.618 W\n",
            "[codecarbon INFO @ 08:49:37] Energy consumed for all CPUs : 0.058782 kWh. Total CPU Power : 42.5 W\n",
            "[codecarbon INFO @ 08:49:37] 0.149027 kWh of electricity used since the beginning.\n"
          ]
        },
        {
          "metadata": {
            "tags": null
          },
          "name": "stdout",
          "output_type": "stream",
          "text": [
            "460/721 [==================>...........] - ETA: 1:58 - loss: 0.1895 - accuracy: 0.9346"
          ]
        },
        {
          "metadata": {
            "tags": null
          },
          "name": "stderr",
          "output_type": "stream",
          "text": [
            "[codecarbon INFO @ 08:49:52] Energy consumed for RAM : 0.006584 kWh. RAM Power : 4.754399299621582 W\n",
            "[codecarbon INFO @ 08:49:52] Energy consumed for all GPUs : 0.083843 kWh. Total GPU Power : 38.859 W\n",
            "[codecarbon INFO @ 08:49:52] Energy consumed for all CPUs : 0.058959 kWh. Total CPU Power : 42.5 W\n",
            "[codecarbon INFO @ 08:49:52] 0.149386 kWh of electricity used since the beginning.\n"
          ]
        },
        {
          "metadata": {
            "tags": null
          },
          "name": "stdout",
          "output_type": "stream",
          "text": [
            "494/721 [===================>..........] - ETA: 1:43 - loss: 0.1893 - accuracy: 0.9343"
          ]
        },
        {
          "metadata": {
            "tags": null
          },
          "name": "stderr",
          "output_type": "stream",
          "text": [
            "[codecarbon INFO @ 08:50:07] Energy consumed for RAM : 0.006604 kWh. RAM Power : 4.754399299621582 W\n",
            "[codecarbon INFO @ 08:50:07] Energy consumed for all GPUs : 0.084137 kWh. Total GPU Power : 70.738 W\n",
            "[codecarbon INFO @ 08:50:07] Energy consumed for all CPUs : 0.059136 kWh. Total CPU Power : 42.5 W\n",
            "[codecarbon INFO @ 08:50:07] 0.149877 kWh of electricity used since the beginning.\n"
          ]
        },
        {
          "metadata": {
            "tags": null
          },
          "name": "stdout",
          "output_type": "stream",
          "text": [
            "527/721 [====================>.........] - ETA: 1:28 - loss: 0.1904 - accuracy: 0.9336"
          ]
        },
        {
          "metadata": {
            "tags": null
          },
          "name": "stderr",
          "output_type": "stream",
          "text": [
            "[codecarbon INFO @ 08:50:22] Energy consumed for RAM : 0.006624 kWh. RAM Power : 4.754399299621582 W\n",
            "[codecarbon INFO @ 08:50:22] Energy consumed for all GPUs : 0.084422 kWh. Total GPU Power : 68.47300000000001 W\n",
            "[codecarbon INFO @ 08:50:22] Energy consumed for all CPUs : 0.059313 kWh. Total CPU Power : 42.5 W\n",
            "[codecarbon INFO @ 08:50:22] 0.150359 kWh of electricity used since the beginning.\n"
          ]
        },
        {
          "metadata": {
            "tags": null
          },
          "name": "stdout",
          "output_type": "stream",
          "text": [
            "561/721 [======================>.......] - ETA: 1:12 - loss: 0.1899 - accuracy: 0.9339"
          ]
        },
        {
          "metadata": {
            "tags": null
          },
          "name": "stderr",
          "output_type": "stream",
          "text": [
            "[codecarbon INFO @ 08:50:37] Energy consumed for RAM : 0.006644 kWh. RAM Power : 4.754399299621582 W\n",
            "[codecarbon INFO @ 08:50:37] Energy consumed for all GPUs : 0.084697 kWh. Total GPU Power : 66.122 W\n",
            "[codecarbon INFO @ 08:50:37] Energy consumed for all CPUs : 0.059490 kWh. Total CPU Power : 42.5 W\n",
            "[codecarbon INFO @ 08:50:37] 0.150831 kWh of electricity used since the beginning.\n"
          ]
        },
        {
          "metadata": {
            "tags": null
          },
          "name": "stdout",
          "output_type": "stream",
          "text": [
            "592/721 [=======================>......] - ETA: 58s - loss: 0.1888 - accuracy: 0.9340"
          ]
        },
        {
          "metadata": {
            "tags": null
          },
          "name": "stderr",
          "output_type": "stream",
          "text": [
            "[codecarbon INFO @ 08:50:52] Energy consumed for RAM : 0.006664 kWh. RAM Power : 4.754399299621582 W\n",
            "[codecarbon INFO @ 08:50:52] Energy consumed for all GPUs : 0.085003 kWh. Total GPU Power : 73.47800000000001 W\n"
          ]
        },
        {
          "metadata": {
            "tags": null
          },
          "name": "stdout",
          "output_type": "stream",
          "text": [
            "\b\b\b\b\b\b\b\b\b\b\b\b\b\b\b\b\b\b\b\b\b\b\b\b\b\b\b\b\b\b\b\b\b\b\b\b\b\b\b\b\b\b\b\b\b\b\b\b\b\b\b\b\b\b\b\b\b\b\b\b\b\b\b\b\b\b\b\b\b\b\b\b\b\b\b\b\b\b\b\b\b\b\b\b\b\r593/721 [=======================>......] - ETA: 58s - loss: 0.1886 - accuracy: 0.9341"
          ]
        },
        {
          "metadata": {
            "tags": null
          },
          "name": "stderr",
          "output_type": "stream",
          "text": [
            "[codecarbon INFO @ 08:50:52] Energy consumed for all CPUs : 0.059667 kWh. Total CPU Power : 42.5 W\n",
            "[codecarbon INFO @ 08:50:52] 0.151334 kWh of electricity used since the beginning.\n"
          ]
        },
        {
          "metadata": {
            "tags": null
          },
          "name": "stdout",
          "output_type": "stream",
          "text": [
            "624/721 [========================>.....] - ETA: 44s - loss: 0.1889 - accuracy: 0.9341"
          ]
        },
        {
          "metadata": {
            "tags": null
          },
          "name": "stderr",
          "output_type": "stream",
          "text": [
            "[codecarbon INFO @ 08:51:07] Energy consumed for RAM : 0.006683 kWh. RAM Power : 4.754399299621582 W\n",
            "[codecarbon INFO @ 08:51:07] Energy consumed for all GPUs : 0.085312 kWh. Total GPU Power : 74.358 W\n",
            "[codecarbon INFO @ 08:51:07] Energy consumed for all CPUs : 0.059844 kWh. Total CPU Power : 42.5 W\n"
          ]
        },
        {
          "metadata": {
            "tags": null
          },
          "name": "stdout",
          "output_type": "stream",
          "text": [
            "\b\b\b\b\b\b\b\b\b\b\b\b\b\b\b\b\b\b\b\b\b\b\b\b\b\b\b\b\b\b\b\b\b\b\b\b\b\b\b\b\b\b\b\b\b\b\b\b\b\b\b\b\b\b\b\b\b\b\b\b\b\b\b\b\b\b\b\b\b\b\b\b\b\b\b\b\b\b\b\b\b\b\b\b\b\r625/721 [=========================>....] - ETA: 43s - loss: 0.1886 - accuracy: 0.9342"
          ]
        },
        {
          "metadata": {
            "tags": null
          },
          "name": "stderr",
          "output_type": "stream",
          "text": [
            "[codecarbon INFO @ 08:51:07] 0.151840 kWh of electricity used since the beginning.\n"
          ]
        },
        {
          "metadata": {
            "tags": null
          },
          "name": "stdout",
          "output_type": "stream",
          "text": [
            "656/721 [==========================>...] - ETA: 29s - loss: 0.1901 - accuracy: 0.9334"
          ]
        },
        {
          "metadata": {
            "tags": null
          },
          "name": "stderr",
          "output_type": "stream",
          "text": [
            "[codecarbon INFO @ 08:51:22] Energy consumed for RAM : 0.006703 kWh. RAM Power : 4.754399299621582 W\n",
            "[codecarbon INFO @ 08:51:22] Energy consumed for all GPUs : 0.085689 kWh. Total GPU Power : 90.848 W\n",
            "[codecarbon INFO @ 08:51:22] Energy consumed for all CPUs : 0.060021 kWh. Total CPU Power : 42.5 W\n",
            "[codecarbon INFO @ 08:51:22] 0.152413 kWh of electricity used since the beginning.\n"
          ]
        },
        {
          "metadata": {
            "tags": null
          },
          "name": "stdout",
          "output_type": "stream",
          "text": [
            "689/721 [===========================>..] - ETA: 14s - loss: 0.1917 - accuracy: 0.9331"
          ]
        },
        {
          "metadata": {
            "tags": null
          },
          "name": "stderr",
          "output_type": "stream",
          "text": [
            "[codecarbon INFO @ 08:51:37] Energy consumed for RAM : 0.006723 kWh. RAM Power : 4.754399299621582 W\n",
            "[codecarbon INFO @ 08:51:37] Energy consumed for all GPUs : 0.085860 kWh. Total GPU Power : 41.107 W\n",
            "[codecarbon INFO @ 08:51:37] Energy consumed for all CPUs : 0.060198 kWh. Total CPU Power : 42.5 W\n",
            "[codecarbon INFO @ 08:51:37] 0.152781 kWh of electricity used since the beginning.\n"
          ]
        },
        {
          "metadata": {
            "tags": null
          },
          "name": "stdout",
          "output_type": "stream",
          "text": [
            "721/721 [==============================] - ETA: 0s - loss: 0.1947 - accuracy: 0.9317"
          ]
        },
        {
          "metadata": {
            "tags": null
          },
          "name": "stderr",
          "output_type": "stream",
          "text": [
            "[codecarbon INFO @ 08:51:52] Energy consumed for RAM : 0.006743 kWh. RAM Power : 4.754399299621582 W\n",
            "[codecarbon INFO @ 08:51:52] Energy consumed for all GPUs : 0.086037 kWh. Total GPU Power : 42.686 W\n",
            "[codecarbon INFO @ 08:51:52] Energy consumed for all CPUs : 0.060375 kWh. Total CPU Power : 42.5 W\n",
            "[codecarbon INFO @ 08:51:52] 0.153155 kWh of electricity used since the beginning.\n",
            "[codecarbon INFO @ 08:52:07] Energy consumed for RAM : 0.006762 kWh. RAM Power : 4.754399299621582 W\n",
            "[codecarbon INFO @ 08:52:07] Energy consumed for all GPUs : 0.086179 kWh. Total GPU Power : 34.06 W\n",
            "[codecarbon INFO @ 08:52:07] Energy consumed for all CPUs : 0.060552 kWh. Total CPU Power : 42.5 W\n",
            "[codecarbon INFO @ 08:52:07] 0.153493 kWh of electricity used since the beginning.\n"
          ]
        },
        {
          "metadata": {
            "tags": null
          },
          "name": "stdout",
          "output_type": "stream",
          "text": [
            "721/721 [==============================] - 348s 482ms/step - loss: 0.1947 - accuracy: 0.9317 - val_loss: 0.2956 - val_accuracy: 0.9131\n",
            "Epoch 15/20\n",
            " 26/721 [>.............................] - ETA: 5:11 - loss: 0.1840 - accuracy: 0.9399"
          ]
        },
        {
          "metadata": {
            "tags": null
          },
          "name": "stderr",
          "output_type": "stream",
          "text": [
            "[codecarbon INFO @ 08:52:22] Energy consumed for RAM : 0.006782 kWh. RAM Power : 4.754399299621582 W\n",
            "[codecarbon INFO @ 08:52:22] Energy consumed for all GPUs : 0.086338 kWh. Total GPU Power : 38.366 W\n",
            "[codecarbon INFO @ 08:52:22] Energy consumed for all CPUs : 0.060729 kWh. Total CPU Power : 42.5 W\n",
            "[codecarbon INFO @ 08:52:22] 0.153849 kWh of electricity used since the beginning.\n"
          ]
        },
        {
          "metadata": {
            "tags": null
          },
          "name": "stdout",
          "output_type": "stream",
          "text": [
            " 59/721 [=>............................] - ETA: 4:54 - loss: 0.1679 - accuracy: 0.9386"
          ]
        },
        {
          "metadata": {
            "tags": null
          },
          "name": "stderr",
          "output_type": "stream",
          "text": [
            "[codecarbon INFO @ 08:52:37] Energy consumed for RAM : 0.006802 kWh. RAM Power : 4.754399299621582 W\n",
            "[codecarbon INFO @ 08:52:37] Energy consumed for all GPUs : 0.086604 kWh. Total GPU Power : 63.848 W\n",
            "[codecarbon INFO @ 08:52:37] Energy consumed for all CPUs : 0.060906 kWh. Total CPU Power : 42.5 W\n",
            "[codecarbon INFO @ 08:52:37] 0.154311 kWh of electricity used since the beginning.\n"
          ]
        },
        {
          "metadata": {
            "tags": null
          },
          "name": "stdout",
          "output_type": "stream",
          "text": [
            " 90/721 [==>...........................] - ETA: 4:50 - loss: 0.1895 - accuracy: 0.9326"
          ]
        },
        {
          "metadata": {
            "tags": null
          },
          "name": "stderr",
          "output_type": "stream",
          "text": [
            "[codecarbon INFO @ 08:52:52] Energy consumed for RAM : 0.006822 kWh. RAM Power : 4.754399299621582 W\n",
            "[codecarbon INFO @ 08:52:52] Energy consumed for all GPUs : 0.086899 kWh. Total GPU Power : 70.879 W\n"
          ]
        },
        {
          "metadata": {
            "tags": null
          },
          "name": "stdout",
          "output_type": "stream",
          "text": [
            "\b\b\b\b\b\b\b\b\b\b\b\b\b\b\b\b\b\b\b\b\b\b\b\b\b\b\b\b\b\b\b\b\b\b\b\b\b\b\b\b\b\b\b\b\b\b\b\b\b\b\b\b\b\b\b\b\b\b\b\b\b\b\b\b\b\b\b\b\b\b\b\b\b\b\b\b\b\b\b\b\b\b\b\b\b\b\r 91/721 [==>...........................] - ETA: 4:49 - loss: 0.1883 - accuracy: 0.9327"
          ]
        },
        {
          "metadata": {
            "tags": null
          },
          "name": "stderr",
          "output_type": "stream",
          "text": [
            "[codecarbon INFO @ 08:52:52] Energy consumed for all CPUs : 0.061083 kWh. Total CPU Power : 42.5 W\n",
            "[codecarbon INFO @ 08:52:52] 0.154804 kWh of electricity used since the beginning.\n"
          ]
        },
        {
          "metadata": {
            "tags": null
          },
          "name": "stdout",
          "output_type": "stream",
          "text": [
            "125/721 [====>.........................] - ETA: 4:30 - loss: 0.1824 - accuracy: 0.9340"
          ]
        },
        {
          "metadata": {
            "tags": null
          },
          "name": "stderr",
          "output_type": "stream",
          "text": [
            "[codecarbon INFO @ 08:53:07] Energy consumed for RAM : 0.006841 kWh. RAM Power : 4.754399299621582 W\n",
            "[codecarbon INFO @ 08:53:07] Energy consumed for all GPUs : 0.087185 kWh. Total GPU Power : 68.571 W\n",
            "[codecarbon INFO @ 08:53:07] Energy consumed for all CPUs : 0.061260 kWh. Total CPU Power : 42.5 W\n",
            "[codecarbon INFO @ 08:53:07] 0.155286 kWh of electricity used since the beginning.\n"
          ]
        },
        {
          "metadata": {
            "tags": null
          },
          "name": "stdout",
          "output_type": "stream",
          "text": [
            "158/721 [=====>........................] - ETA: 4:14 - loss: 0.1783 - accuracy: 0.9375"
          ]
        },
        {
          "metadata": {
            "tags": null
          },
          "name": "stderr",
          "output_type": "stream",
          "text": [
            "[codecarbon INFO @ 08:53:22] Energy consumed for RAM : 0.006861 kWh. RAM Power : 4.754399299621582 W\n",
            "[codecarbon INFO @ 08:53:22] Energy consumed for all GPUs : 0.087473 kWh. Total GPU Power : 69.355 W\n",
            "[codecarbon INFO @ 08:53:22] Energy consumed for all CPUs : 0.061437 kWh. Total CPU Power : 42.5 W\n",
            "[codecarbon INFO @ 08:53:22] 0.155772 kWh of electricity used since the beginning.\n"
          ]
        },
        {
          "metadata": {
            "tags": null
          },
          "name": "stdout",
          "output_type": "stream",
          "text": [
            "193/721 [=======>......................] - ETA: 3:57 - loss: 0.1720 - accuracy: 0.9391"
          ]
        },
        {
          "metadata": {
            "tags": null
          },
          "name": "stderr",
          "output_type": "stream",
          "text": [
            "[codecarbon INFO @ 08:53:37] Energy consumed for RAM : 0.006881 kWh. RAM Power : 4.754399299621582 W\n",
            "[codecarbon INFO @ 08:53:37] Energy consumed for all GPUs : 0.087653 kWh. Total GPU Power : 43.300000000000004 W\n",
            "[codecarbon INFO @ 08:53:37] Energy consumed for all CPUs : 0.061614 kWh. Total CPU Power : 42.5 W\n",
            "[codecarbon INFO @ 08:53:37] 0.156149 kWh of electricity used since the beginning.\n"
          ]
        },
        {
          "metadata": {
            "tags": null
          },
          "name": "stdout",
          "output_type": "stream",
          "text": [
            "225/721 [========>.....................] - ETA: 3:44 - loss: 0.1767 - accuracy: 0.9369"
          ]
        },
        {
          "metadata": {
            "tags": null
          },
          "name": "stderr",
          "output_type": "stream",
          "text": [
            "[codecarbon INFO @ 08:53:52] Energy consumed for RAM : 0.006901 kWh. RAM Power : 4.754399299621582 W\n",
            "[codecarbon INFO @ 08:53:52] Energy consumed for all GPUs : 0.087915 kWh. Total GPU Power : 62.96500000000001 W\n",
            "[codecarbon INFO @ 08:53:52] Energy consumed for all CPUs : 0.061791 kWh. Total CPU Power : 42.5 W\n",
            "[codecarbon INFO @ 08:53:52] 0.156607 kWh of electricity used since the beginning.\n"
          ]
        },
        {
          "metadata": {
            "tags": null
          },
          "name": "stdout",
          "output_type": "stream",
          "text": [
            "258/721 [=========>....................] - ETA: 3:29 - loss: 0.1808 - accuracy: 0.9353"
          ]
        },
        {
          "metadata": {
            "tags": null
          },
          "name": "stderr",
          "output_type": "stream",
          "text": [
            "[codecarbon INFO @ 08:54:07] Energy consumed for RAM : 0.006920 kWh. RAM Power : 4.754399299621582 W\n",
            "[codecarbon INFO @ 08:54:07] Energy consumed for all GPUs : 0.088198 kWh. Total GPU Power : 67.98400000000001 W\n",
            "[codecarbon INFO @ 08:54:07] Energy consumed for all CPUs : 0.061968 kWh. Total CPU Power : 42.5 W\n",
            "[codecarbon INFO @ 08:54:07] 0.157086 kWh of electricity used since the beginning.\n"
          ]
        },
        {
          "metadata": {
            "tags": null
          },
          "name": "stdout",
          "output_type": "stream",
          "text": [
            "292/721 [===========>..................] - ETA: 3:13 - loss: 0.1804 - accuracy: 0.9364"
          ]
        },
        {
          "metadata": {
            "tags": null
          },
          "name": "stderr",
          "output_type": "stream",
          "text": [
            "[codecarbon INFO @ 08:54:22] Energy consumed for RAM : 0.006940 kWh. RAM Power : 4.754399299621582 W\n",
            "[codecarbon INFO @ 08:54:22] Energy consumed for all GPUs : 0.088376 kWh. Total GPU Power : 42.784000000000006 W\n",
            "[codecarbon INFO @ 08:54:22] Energy consumed for all CPUs : 0.062146 kWh. Total CPU Power : 42.5 W\n",
            "[codecarbon INFO @ 08:54:22] 0.157462 kWh of electricity used since the beginning.\n"
          ]
        },
        {
          "metadata": {
            "tags": null
          },
          "name": "stdout",
          "output_type": "stream",
          "text": [
            "325/721 [============>.................] - ETA: 2:58 - loss: 0.1833 - accuracy: 0.9337"
          ]
        },
        {
          "metadata": {
            "tags": null
          },
          "name": "stderr",
          "output_type": "stream",
          "text": [
            "[codecarbon INFO @ 08:54:37] Energy consumed for RAM : 0.006960 kWh. RAM Power : 4.754399299621582 W\n",
            "[codecarbon INFO @ 08:54:37] Energy consumed for all GPUs : 0.088548 kWh. Total GPU Power : 41.403000000000006 W\n",
            "[codecarbon INFO @ 08:54:37] Energy consumed for all CPUs : 0.062322 kWh. Total CPU Power : 42.5 W\n",
            "[codecarbon INFO @ 08:54:37] 0.157830 kWh of electricity used since the beginning.\n"
          ]
        },
        {
          "output_type": "stream",
          "name": "stdout",
          "text": [
            "359/721 [=============>................] - ETA: 2:43 - loss: 0.1800 - accuracy: 0.9352"
          ]
        },
        {
          "output_type": "stream",
          "name": "stderr",
          "text": [
            "[codecarbon INFO @ 08:54:52] Energy consumed for RAM : 0.006980 kWh. RAM Power : 4.754399299621582 W\n",
            "[codecarbon INFO @ 08:54:52] Energy consumed for all GPUs : 0.088720 kWh. Total GPU Power : 41.501 W\n",
            "[codecarbon INFO @ 08:54:52] Energy consumed for all CPUs : 0.062499 kWh. Total CPU Power : 42.5 W\n",
            "[codecarbon INFO @ 08:54:52] 0.158199 kWh of electricity used since the beginning.\n"
          ]
        },
        {
          "output_type": "stream",
          "name": "stdout",
          "text": [
            "392/721 [===============>..............] - ETA: 2:28 - loss: 0.1791 - accuracy: 0.9359"
          ]
        },
        {
          "output_type": "stream",
          "name": "stderr",
          "text": [
            "[codecarbon INFO @ 08:55:07] Energy consumed for RAM : 0.007000 kWh. RAM Power : 4.754399299621582 W\n",
            "[codecarbon INFO @ 08:55:07] Energy consumed for all GPUs : 0.089027 kWh. Total GPU Power : 73.673 W\n",
            "[codecarbon INFO @ 08:55:07] Energy consumed for all CPUs : 0.062676 kWh. Total CPU Power : 42.5 W\n",
            "[codecarbon INFO @ 08:55:07] 0.158703 kWh of electricity used since the beginning.\n"
          ]
        },
        {
          "output_type": "stream",
          "name": "stdout",
          "text": [
            "426/721 [================>.............] - ETA: 2:12 - loss: 0.1779 - accuracy: 0.9362"
          ]
        },
        {
          "output_type": "stream",
          "name": "stderr",
          "text": [
            "[codecarbon INFO @ 08:55:22] Energy consumed for RAM : 0.007019 kWh. RAM Power : 4.754399299621582 W\n",
            "[codecarbon INFO @ 08:55:22] Energy consumed for all GPUs : 0.089318 kWh. Total GPU Power : 70.096 W\n",
            "[codecarbon INFO @ 08:55:22] Energy consumed for all CPUs : 0.062854 kWh. Total CPU Power : 42.5 W\n",
            "[codecarbon INFO @ 08:55:22] 0.159191 kWh of electricity used since the beginning.\n"
          ]
        },
        {
          "output_type": "stream",
          "name": "stdout",
          "text": [
            "460/721 [==================>...........] - ETA: 1:57 - loss: 0.1783 - accuracy: 0.9363"
          ]
        },
        {
          "output_type": "stream",
          "name": "stderr",
          "text": [
            "[codecarbon INFO @ 08:55:37] Energy consumed for RAM : 0.007039 kWh. RAM Power : 4.754399299621582 W\n",
            "[codecarbon INFO @ 08:55:37] Energy consumed for all GPUs : 0.089615 kWh. Total GPU Power : 71.467 W\n",
            "[codecarbon INFO @ 08:55:37] Energy consumed for all CPUs : 0.063031 kWh. Total CPU Power : 42.5 W\n",
            "[codecarbon INFO @ 08:55:37] 0.159685 kWh of electricity used since the beginning.\n"
          ]
        },
        {
          "output_type": "stream",
          "name": "stdout",
          "text": [
            "493/721 [===================>..........] - ETA: 1:42 - loss: 0.1817 - accuracy: 0.9355"
          ]
        },
        {
          "output_type": "stream",
          "name": "stderr",
          "text": [
            "[codecarbon INFO @ 08:55:52] Energy consumed for RAM : 0.007059 kWh. RAM Power : 4.754399299621582 W\n",
            "[codecarbon INFO @ 08:55:52] Energy consumed for all GPUs : 0.089917 kWh. Total GPU Power : 72.499 W\n",
            "[codecarbon INFO @ 08:55:52] Energy consumed for all CPUs : 0.063208 kWh. Total CPU Power : 42.5 W\n",
            "[codecarbon INFO @ 08:55:52] 0.160183 kWh of electricity used since the beginning.\n"
          ]
        },
        {
          "output_type": "stream",
          "name": "stdout",
          "text": [
            "528/721 [====================>.........] - ETA: 1:26 - loss: 0.1832 - accuracy: 0.9353"
          ]
        },
        {
          "output_type": "stream",
          "name": "stderr",
          "text": [
            "[codecarbon INFO @ 08:56:07] Energy consumed for RAM : 0.007079 kWh. RAM Power : 4.754399299621582 W\n",
            "[codecarbon INFO @ 08:56:07] Energy consumed for all GPUs : 0.090080 kWh. Total GPU Power : 39.353 W\n",
            "[codecarbon INFO @ 08:56:07] Energy consumed for all CPUs : 0.063385 kWh. Total CPU Power : 42.5 W\n",
            "[codecarbon INFO @ 08:56:07] 0.160544 kWh of electricity used since the beginning.\n"
          ]
        },
        {
          "output_type": "stream",
          "name": "stdout",
          "text": [
            "562/721 [======================>.......] - ETA: 1:11 - loss: 0.1826 - accuracy: 0.9358"
          ]
        },
        {
          "output_type": "stream",
          "name": "stderr",
          "text": [
            "[codecarbon INFO @ 08:56:22] Energy consumed for RAM : 0.007098 kWh. RAM Power : 4.754399299621582 W\n",
            "[codecarbon INFO @ 08:56:22] Energy consumed for all GPUs : 0.090356 kWh. Total GPU Power : 66.301 W\n",
            "[codecarbon INFO @ 08:56:22] Energy consumed for all CPUs : 0.063561 kWh. Total CPU Power : 42.5 W\n",
            "[codecarbon INFO @ 08:56:22] 0.161016 kWh of electricity used since the beginning.\n"
          ]
        },
        {
          "output_type": "stream",
          "name": "stdout",
          "text": [
            "597/721 [=======================>......] - ETA: 55s - loss: 0.1856 - accuracy: 0.9352"
          ]
        },
        {
          "output_type": "stream",
          "name": "stderr",
          "text": [
            "[codecarbon INFO @ 08:56:37] Energy consumed for RAM : 0.007118 kWh. RAM Power : 4.754399299621582 W\n",
            "[codecarbon INFO @ 08:56:37] Energy consumed for all GPUs : 0.090531 kWh. Total GPU Power : 41.896 W\n",
            "[codecarbon INFO @ 08:56:37] Energy consumed for all CPUs : 0.063739 kWh. Total CPU Power : 42.5 W\n",
            "[codecarbon INFO @ 08:56:37] 0.161388 kWh of electricity used since the beginning.\n"
          ]
        },
        {
          "output_type": "stream",
          "name": "stdout",
          "text": [
            "627/721 [=========================>....] - ETA: 42s - loss: 0.1844 - accuracy: 0.9353"
          ]
        },
        {
          "output_type": "stream",
          "name": "stderr",
          "text": [
            "[codecarbon INFO @ 08:56:52] Energy consumed for RAM : 0.007138 kWh. RAM Power : 4.754399299621582 W\n",
            "[codecarbon INFO @ 08:56:52] Energy consumed for all GPUs : 0.090689 kWh. Total GPU Power : 38.069 W\n",
            "[codecarbon INFO @ 08:56:52] Energy consumed for all CPUs : 0.063916 kWh. Total CPU Power : 42.5 W\n",
            "[codecarbon INFO @ 08:56:52] 0.161743 kWh of electricity used since the beginning.\n"
          ]
        },
        {
          "output_type": "stream",
          "name": "stdout",
          "text": [
            "659/721 [==========================>...] - ETA: 27s - loss: 0.1855 - accuracy: 0.9356"
          ]
        },
        {
          "output_type": "stream",
          "name": "stderr",
          "text": [
            "[codecarbon INFO @ 08:57:07] Energy consumed for RAM : 0.007158 kWh. RAM Power : 4.754399299621582 W\n",
            "[codecarbon INFO @ 08:57:07] Energy consumed for all GPUs : 0.090859 kWh. Total GPU Power : 40.909 W\n",
            "[codecarbon INFO @ 08:57:07] Energy consumed for all CPUs : 0.064093 kWh. Total CPU Power : 42.5 W\n",
            "[codecarbon INFO @ 08:57:07] 0.162110 kWh of electricity used since the beginning.\n"
          ]
        },
        {
          "output_type": "stream",
          "name": "stdout",
          "text": [
            "693/721 [===========================>..] - ETA: 12s - loss: 0.1842 - accuracy: 0.9360"
          ]
        },
        {
          "output_type": "stream",
          "name": "stderr",
          "text": [
            "[codecarbon INFO @ 08:57:22] Energy consumed for RAM : 0.007177 kWh. RAM Power : 4.754399299621582 W\n",
            "[codecarbon INFO @ 08:57:22] Energy consumed for all GPUs : 0.091157 kWh. Total GPU Power : 71.369 W\n",
            "[codecarbon INFO @ 08:57:22] Energy consumed for all CPUs : 0.064270 kWh. Total CPU Power : 42.5 W\n",
            "[codecarbon INFO @ 08:57:23] 0.162605 kWh of electricity used since the beginning.\n"
          ]
        },
        {
          "output_type": "stream",
          "name": "stdout",
          "text": [
            "721/721 [==============================] - ETA: 0s - loss: 0.1846 - accuracy: 0.9355"
          ]
        },
        {
          "output_type": "stream",
          "name": "stderr",
          "text": [
            "[codecarbon INFO @ 08:57:37] Energy consumed for RAM : 0.007197 kWh. RAM Power : 4.754399299621582 W\n",
            "[codecarbon INFO @ 08:57:37] Energy consumed for all GPUs : 0.091305 kWh. Total GPU Power : 35.819 W\n",
            "[codecarbon INFO @ 08:57:37] Energy consumed for all CPUs : 0.064447 kWh. Total CPU Power : 42.5 W\n",
            "[codecarbon INFO @ 08:57:37] 0.162949 kWh of electricity used since the beginning.\n",
            "[codecarbon INFO @ 08:57:52] Energy consumed for RAM : 0.007217 kWh. RAM Power : 4.754399299621582 W\n",
            "[codecarbon INFO @ 08:57:52] Energy consumed for all GPUs : 0.091610 kWh. Total GPU Power : 73.229 W\n",
            "[codecarbon INFO @ 08:57:52] Energy consumed for all CPUs : 0.064624 kWh. Total CPU Power : 42.5 W\n",
            "[codecarbon INFO @ 08:57:52] 0.163451 kWh of electricity used since the beginning.\n"
          ]
        },
        {
          "output_type": "stream",
          "name": "stdout",
          "text": [
            "\b\b\b\b\b\b\b\b\b\b\b\b\b\b\b\b\b\b\b\b\b\b\b\b\b\b\b\b\b\b\b\b\b\b\b\b\b\b\b\b\b\b\b\b\b\b\b\b\b\b\b\b\b\b\b\b\b\b\b\b\b\b\b\b\b\b\b\b\b\b\b\b\b\b\b\b\b\b\b\b\b\b\b\b\r721/721 [==============================] - 343s 475ms/step - loss: 0.1846 - accuracy: 0.9355 - val_loss: 0.2922 - val_accuracy: 0.9104\n",
            "Epoch 16/20\n",
            " 32/721 [>.............................] - ETA: 5:02 - loss: 0.1988 - accuracy: 0.9355"
          ]
        },
        {
          "output_type": "stream",
          "name": "stderr",
          "text": [
            "[codecarbon INFO @ 08:58:07] Energy consumed for RAM : 0.007237 kWh. RAM Power : 4.754399299621582 W\n",
            "[codecarbon INFO @ 08:58:07] Energy consumed for all GPUs : 0.091957 kWh. Total GPU Power : 83.44600000000001 W\n",
            "[codecarbon INFO @ 08:58:07] Energy consumed for all CPUs : 0.064801 kWh. Total CPU Power : 42.5 W\n",
            "[codecarbon INFO @ 08:58:08] 0.163996 kWh of electricity used since the beginning.\n"
          ]
        },
        {
          "output_type": "stream",
          "name": "stdout",
          "text": [
            " 66/721 [=>............................] - ETA: 4:49 - loss: 0.1886 - accuracy: 0.9375"
          ]
        },
        {
          "output_type": "stream",
          "name": "stderr",
          "text": [
            "[codecarbon INFO @ 08:58:22] Energy consumed for RAM : 0.007256 kWh. RAM Power : 4.754399299621582 W\n",
            "[codecarbon INFO @ 08:58:22] Energy consumed for all GPUs : 0.092115 kWh. Total GPU Power : 37.971000000000004 W\n",
            "[codecarbon INFO @ 08:58:22] Energy consumed for all CPUs : 0.064978 kWh. Total CPU Power : 42.5 W\n",
            "[codecarbon INFO @ 08:58:22] 0.164349 kWh of electricity used since the beginning.\n"
          ]
        },
        {
          "output_type": "stream",
          "name": "stdout",
          "text": [
            " 99/721 [===>..........................] - ETA: 4:36 - loss: 0.1975 - accuracy: 0.9343"
          ]
        },
        {
          "output_type": "stream",
          "name": "stderr",
          "text": [
            "[codecarbon INFO @ 08:58:37] Energy consumed for RAM : 0.007276 kWh. RAM Power : 4.754399299621582 W\n",
            "[codecarbon INFO @ 08:58:37] Energy consumed for all GPUs : 0.092444 kWh. Total GPU Power : 79.153 W\n",
            "[codecarbon INFO @ 08:58:37] Energy consumed for all CPUs : 0.065155 kWh. Total CPU Power : 42.5 W\n",
            "[codecarbon INFO @ 08:58:37] 0.164875 kWh of electricity used since the beginning.\n"
          ]
        },
        {
          "output_type": "stream",
          "name": "stdout",
          "text": [
            "133/721 [====>.........................] - ETA: 4:21 - loss: 0.1976 - accuracy: 0.9309"
          ]
        },
        {
          "output_type": "stream",
          "name": "stderr",
          "text": [
            "[codecarbon INFO @ 08:58:52] Energy consumed for RAM : 0.007296 kWh. RAM Power : 4.754399299621582 W\n",
            "[codecarbon INFO @ 08:58:52] Energy consumed for all GPUs : 0.092621 kWh. Total GPU Power : 42.39 W\n",
            "[codecarbon INFO @ 08:58:52] Energy consumed for all CPUs : 0.065332 kWh. Total CPU Power : 42.5 W\n",
            "[codecarbon INFO @ 08:58:52] 0.165249 kWh of electricity used since the beginning.\n"
          ]
        },
        {
          "output_type": "stream",
          "name": "stdout",
          "text": [
            "167/721 [=====>........................] - ETA: 4:05 - loss: 0.2022 - accuracy: 0.9285"
          ]
        },
        {
          "output_type": "stream",
          "name": "stderr",
          "text": [
            "[codecarbon INFO @ 08:59:07] Energy consumed for RAM : 0.007316 kWh. RAM Power : 4.754399299621582 W\n",
            "[codecarbon INFO @ 08:59:07] Energy consumed for all GPUs : 0.092787 kWh. Total GPU Power : 39.946 W\n",
            "[codecarbon INFO @ 08:59:07] Energy consumed for all CPUs : 0.065509 kWh. Total CPU Power : 42.5 W\n",
            "[codecarbon INFO @ 08:59:07] 0.165611 kWh of electricity used since the beginning.\n"
          ]
        },
        {
          "output_type": "stream",
          "name": "stdout",
          "text": [
            "201/721 [=======>......................] - ETA: 3:50 - loss: 0.1909 - accuracy: 0.9335"
          ]
        },
        {
          "output_type": "stream",
          "name": "stderr",
          "text": [
            "[codecarbon INFO @ 08:59:22] Energy consumed for RAM : 0.007336 kWh. RAM Power : 4.754399299621582 W\n",
            "[codecarbon INFO @ 08:59:22] Energy consumed for all GPUs : 0.093062 kWh. Total GPU Power : 66.203 W\n",
            "[codecarbon INFO @ 08:59:22] Energy consumed for all CPUs : 0.065686 kWh. Total CPU Power : 42.5 W\n",
            "[codecarbon INFO @ 08:59:22] 0.166084 kWh of electricity used since the beginning.\n"
          ]
        },
        {
          "output_type": "stream",
          "name": "stdout",
          "text": [
            "235/721 [========>.....................] - ETA: 3:35 - loss: 0.1885 - accuracy: 0.9340"
          ]
        },
        {
          "output_type": "stream",
          "name": "stderr",
          "text": [
            "[codecarbon INFO @ 08:59:37] Energy consumed for RAM : 0.007355 kWh. RAM Power : 4.754399299621582 W\n",
            "[codecarbon INFO @ 08:59:37] Energy consumed for all GPUs : 0.093240 kWh. Total GPU Power : 42.686 W\n",
            "[codecarbon INFO @ 08:59:37] Energy consumed for all CPUs : 0.065863 kWh. Total CPU Power : 42.5 W\n",
            "[codecarbon INFO @ 08:59:37] 0.166458 kWh of electricity used since the beginning.\n"
          ]
        },
        {
          "output_type": "stream",
          "name": "stdout",
          "text": [
            "269/721 [==========>...................] - ETA: 3:19 - loss: 0.1850 - accuracy: 0.9370"
          ]
        },
        {
          "output_type": "stream",
          "name": "stderr",
          "text": [
            "[codecarbon INFO @ 08:59:52] Energy consumed for RAM : 0.007375 kWh. RAM Power : 4.754399299621582 W\n",
            "[codecarbon INFO @ 08:59:52] Energy consumed for all GPUs : 0.093524 kWh. Total GPU Power : 68.278 W\n",
            "[codecarbon INFO @ 08:59:52] Energy consumed for all CPUs : 0.066040 kWh. Total CPU Power : 42.5 W\n",
            "[codecarbon INFO @ 08:59:52] 0.166939 kWh of electricity used since the beginning.\n"
          ]
        },
        {
          "output_type": "stream",
          "name": "stdout",
          "text": [
            "304/721 [===========>..................] - ETA: 3:04 - loss: 0.1891 - accuracy: 0.9352"
          ]
        },
        {
          "output_type": "stream",
          "name": "stderr",
          "text": [
            "[codecarbon INFO @ 09:00:07] Energy consumed for RAM : 0.007395 kWh. RAM Power : 4.754399299621582 W\n",
            "[codecarbon INFO @ 09:00:07] Energy consumed for all GPUs : 0.093685 kWh. Total GPU Power : 38.761 W\n",
            "[codecarbon INFO @ 09:00:07] Energy consumed for all CPUs : 0.066217 kWh. Total CPU Power : 42.5 W\n",
            "[codecarbon INFO @ 09:00:07] 0.167296 kWh of electricity used since the beginning.\n"
          ]
        },
        {
          "output_type": "stream",
          "name": "stdout",
          "text": [
            "337/721 [=============>................] - ETA: 2:49 - loss: 0.1869 - accuracy: 0.9369"
          ]
        },
        {
          "output_type": "stream",
          "name": "stderr",
          "text": [
            "[codecarbon INFO @ 09:00:22] Energy consumed for RAM : 0.007415 kWh. RAM Power : 4.754399299621582 W\n",
            "[codecarbon INFO @ 09:00:22] Energy consumed for all GPUs : 0.093984 kWh. Total GPU Power : 72.01 W\n",
            "[codecarbon INFO @ 09:00:22] Energy consumed for all CPUs : 0.066394 kWh. Total CPU Power : 42.5 W\n",
            "[codecarbon INFO @ 09:00:22] 0.167793 kWh of electricity used since the beginning.\n"
          ]
        },
        {
          "output_type": "stream",
          "name": "stdout",
          "text": [
            "371/721 [==============>...............] - ETA: 2:34 - loss: 0.1885 - accuracy: 0.9363"
          ]
        },
        {
          "output_type": "stream",
          "name": "stderr",
          "text": [
            "[codecarbon INFO @ 09:00:37] Energy consumed for RAM : 0.007434 kWh. RAM Power : 4.754399299621582 W\n",
            "[codecarbon INFO @ 09:00:38] Energy consumed for all GPUs : 0.094261 kWh. Total GPU Power : 66.45700000000002 W\n",
            "[codecarbon INFO @ 09:00:38] Energy consumed for all CPUs : 0.066571 kWh. Total CPU Power : 42.5 W\n",
            "[codecarbon INFO @ 09:00:38] 0.168266 kWh of electricity used since the beginning.\n"
          ]
        },
        {
          "output_type": "stream",
          "name": "stdout",
          "text": [
            "404/721 [===============>..............] - ETA: 2:20 - loss: 0.1884 - accuracy: 0.9347"
          ]
        },
        {
          "output_type": "stream",
          "name": "stderr",
          "text": [
            "[codecarbon INFO @ 09:00:52] Energy consumed for RAM : 0.007454 kWh. RAM Power : 4.754399299621582 W\n",
            "[codecarbon INFO @ 09:00:52] Energy consumed for all GPUs : 0.094568 kWh. Total GPU Power : 73.967 W\n",
            "[codecarbon INFO @ 09:00:53] Energy consumed for all CPUs : 0.066748 kWh. Total CPU Power : 42.5 W\n",
            "[codecarbon INFO @ 09:00:53] 0.168770 kWh of electricity used since the beginning.\n"
          ]
        },
        {
          "output_type": "stream",
          "name": "stdout",
          "text": [
            "433/721 [=================>............] - ETA: 2:09 - loss: 0.1873 - accuracy: 0.9352"
          ]
        },
        {
          "output_type": "stream",
          "name": "stderr",
          "text": [
            "[codecarbon INFO @ 09:01:07] Energy consumed for RAM : 0.007474 kWh. RAM Power : 4.754399299621582 W\n",
            "[codecarbon INFO @ 09:01:07] Energy consumed for all GPUs : 0.094898 kWh. Total GPU Power : 79.446 W\n",
            "[codecarbon INFO @ 09:01:08] Energy consumed for all CPUs : 0.066925 kWh. Total CPU Power : 42.5 W\n",
            "[codecarbon INFO @ 09:01:08] 0.169297 kWh of electricity used since the beginning.\n"
          ]
        },
        {
          "output_type": "stream",
          "name": "stdout",
          "text": [
            "466/721 [==================>...........] - ETA: 1:54 - loss: 0.1844 - accuracy: 0.9358"
          ]
        },
        {
          "output_type": "stream",
          "name": "stderr",
          "text": [
            "[codecarbon INFO @ 09:01:22] Energy consumed for RAM : 0.007494 kWh. RAM Power : 4.754399299621582 W\n",
            "[codecarbon INFO @ 09:01:23] Energy consumed for all GPUs : 0.095266 kWh. Total GPU Power : 88.411 W\n",
            "[codecarbon INFO @ 09:01:23] Energy consumed for all CPUs : 0.067102 kWh. Total CPU Power : 42.5 W\n",
            "[codecarbon INFO @ 09:01:23] 0.169861 kWh of electricity used since the beginning.\n"
          ]
        },
        {
          "output_type": "stream",
          "name": "stdout",
          "text": [
            "501/721 [===================>..........] - ETA: 1:38 - loss: 0.1833 - accuracy: 0.9358"
          ]
        },
        {
          "output_type": "stream",
          "name": "stderr",
          "text": [
            "[codecarbon INFO @ 09:01:37] Energy consumed for RAM : 0.007513 kWh. RAM Power : 4.754399299621582 W\n",
            "[codecarbon INFO @ 09:01:38] Energy consumed for all GPUs : 0.095567 kWh. Total GPU Power : 72.69500000000001 W\n",
            "[codecarbon INFO @ 09:01:38] Energy consumed for all CPUs : 0.067279 kWh. Total CPU Power : 42.5 W\n",
            "[codecarbon INFO @ 09:01:38] 0.170360 kWh of electricity used since the beginning.\n"
          ]
        },
        {
          "output_type": "stream",
          "name": "stdout",
          "text": [
            "534/721 [=====================>........] - ETA: 1:23 - loss: 0.1883 - accuracy: 0.9346"
          ]
        },
        {
          "output_type": "stream",
          "name": "stderr",
          "text": [
            "[codecarbon INFO @ 09:01:52] Energy consumed for RAM : 0.007533 kWh. RAM Power : 4.754399299621582 W\n"
          ]
        },
        {
          "output_type": "stream",
          "name": "stdout",
          "text": [
            "\b\b\b\b\b\b\b\b\b\b\b\b\b\b\b\b\b\b\b\b\b\b\b\b\b\b\b\b\b\b\b\b\b\b\b\b\b\b\b\b\b\b\b\b\b\b\b\b\b\b\b\b\b\b\b\b\b\b\b\b\b\b\b\b\b\b\b\b\b\b\b\b\b\b\b\b\b\b\b\b\b\b\b\b\b\b\r535/721 [=====================>........] - ETA: 1:23 - loss: 0.1882 - accuracy: 0.9347"
          ]
        },
        {
          "output_type": "stream",
          "name": "stderr",
          "text": [
            "[codecarbon INFO @ 09:01:53] Energy consumed for all GPUs : 0.095838 kWh. Total GPU Power : 65.084 W\n",
            "[codecarbon INFO @ 09:01:53] Energy consumed for all CPUs : 0.067456 kWh. Total CPU Power : 42.5 W\n",
            "[codecarbon INFO @ 09:01:53] 0.170827 kWh of electricity used since the beginning.\n"
          ]
        },
        {
          "output_type": "stream",
          "name": "stdout",
          "text": [
            "567/721 [======================>.......] - ETA: 1:08 - loss: 0.1885 - accuracy: 0.9346"
          ]
        },
        {
          "output_type": "stream",
          "name": "stderr",
          "text": [
            "[codecarbon INFO @ 09:02:08] Energy consumed for RAM : 0.007553 kWh. RAM Power : 4.754399299621582 W\n",
            "[codecarbon INFO @ 09:02:08] Energy consumed for all GPUs : 0.096139 kWh. Total GPU Power : 72.348 W\n",
            "[codecarbon INFO @ 09:02:08] Energy consumed for all CPUs : 0.067633 kWh. Total CPU Power : 42.5 W\n",
            "[codecarbon INFO @ 09:02:08] 0.171325 kWh of electricity used since the beginning.\n"
          ]
        },
        {
          "output_type": "stream",
          "name": "stdout",
          "text": [
            "602/721 [========================>.....] - ETA: 53s - loss: 0.1910 - accuracy: 0.9331"
          ]
        },
        {
          "output_type": "stream",
          "name": "stderr",
          "text": [
            "[codecarbon INFO @ 09:02:23] Energy consumed for RAM : 0.007573 kWh. RAM Power : 4.754399299621582 W\n",
            "[codecarbon INFO @ 09:02:23] Energy consumed for all GPUs : 0.096415 kWh. Total GPU Power : 66.45700000000002 W\n",
            "[codecarbon INFO @ 09:02:23] Energy consumed for all CPUs : 0.067810 kWh. Total CPU Power : 42.5 W\n",
            "[codecarbon INFO @ 09:02:23] 0.171798 kWh of electricity used since the beginning.\n"
          ]
        },
        {
          "output_type": "stream",
          "name": "stdout",
          "text": [
            "636/721 [=========================>....] - ETA: 37s - loss: 0.1899 - accuracy: 0.9334"
          ]
        },
        {
          "output_type": "stream",
          "name": "stderr",
          "text": [
            "[codecarbon INFO @ 09:02:38] Energy consumed for RAM : 0.007592 kWh. RAM Power : 4.754399299621582 W\n",
            "[codecarbon INFO @ 09:02:38] Energy consumed for all GPUs : 0.096671 kWh. Total GPU Power : 61.494 W\n",
            "[codecarbon INFO @ 09:02:38] Energy consumed for all CPUs : 0.067987 kWh. Total CPU Power : 42.5 W\n",
            "[codecarbon INFO @ 09:02:38] 0.172251 kWh of electricity used since the beginning.\n"
          ]
        },
        {
          "output_type": "stream",
          "name": "stdout",
          "text": [
            "668/721 [==========================>...] - ETA: 23s - loss: 0.1895 - accuracy: 0.9335"
          ]
        },
        {
          "output_type": "stream",
          "name": "stderr",
          "text": [
            "[codecarbon INFO @ 09:02:53] Energy consumed for RAM : 0.007612 kWh. RAM Power : 4.754399299621582 W\n",
            "[codecarbon INFO @ 09:02:53] Energy consumed for all GPUs : 0.096961 kWh. Total GPU Power : 69.649 W\n"
          ]
        },
        {
          "output_type": "stream",
          "name": "stdout",
          "text": [
            "\b\b\b\b\b\b\b\b\b\b\b\b\b\b\b\b\b\b\b\b\b\b\b\b\b\b\b\b\b\b\b\b\b\b\b\b\b\b\b\b\b\b\b\b\b\b\b\b\b\b\b\b\b\b\b\b\b\b\b\b\b\b\b\b\b\b\b\b\b\b\b\b\b\b\b\b\b\b\b\b\b\b\b\b\b\r669/721 [==========================>...] - ETA: 23s - loss: 0.1893 - accuracy: 0.9336"
          ]
        },
        {
          "output_type": "stream",
          "name": "stderr",
          "text": [
            "[codecarbon INFO @ 09:02:53] Energy consumed for all CPUs : 0.068164 kWh. Total CPU Power : 42.5 W\n",
            "[codecarbon INFO @ 09:02:53] 0.172738 kWh of electricity used since the beginning.\n"
          ]
        },
        {
          "output_type": "stream",
          "name": "stdout",
          "text": [
            "702/721 [============================>.] - ETA: 8s - loss: 0.1873 - accuracy: 0.9344"
          ]
        },
        {
          "output_type": "stream",
          "name": "stderr",
          "text": [
            "[codecarbon INFO @ 09:03:08] Energy consumed for RAM : 0.007632 kWh. RAM Power : 4.754399299621582 W\n",
            "[codecarbon INFO @ 09:03:08] Energy consumed for all GPUs : 0.097143 kWh. Total GPU Power : 43.844 W\n",
            "[codecarbon INFO @ 09:03:08] Energy consumed for all CPUs : 0.068341 kWh. Total CPU Power : 42.5 W\n",
            "[codecarbon INFO @ 09:03:08] 0.173117 kWh of electricity used since the beginning.\n"
          ]
        },
        {
          "output_type": "stream",
          "name": "stdout",
          "text": [
            "721/721 [==============================] - ETA: 0s - loss: 0.1866 - accuracy: 0.9342"
          ]
        },
        {
          "output_type": "stream",
          "name": "stderr",
          "text": [
            "[codecarbon INFO @ 09:03:23] Energy consumed for RAM : 0.007652 kWh. RAM Power : 4.754399299621582 W\n",
            "[codecarbon INFO @ 09:03:23] Energy consumed for all GPUs : 0.097411 kWh. Total GPU Power : 64.28 W\n",
            "[codecarbon INFO @ 09:03:23] Energy consumed for all CPUs : 0.068518 kWh. Total CPU Power : 42.5 W\n",
            "[codecarbon INFO @ 09:03:23] 0.173581 kWh of electricity used since the beginning.\n"
          ]
        },
        {
          "output_type": "stream",
          "name": "stdout",
          "text": [
            "\b\b\b\b\b\b\b\b\b\b\b\b\b\b\b\b\b\b\b\b\b\b\b\b\b\b\b\b\b\b\b\b\b\b\b\b\b\b\b\b\b\b\b\b\b\b\b\b\b\b\b\b\b\b\b\b\b\b\b\b\b\b\b\b\b\b\b\b\b\b\b\b\b\b\b\b\b\b\b\b\b\b\b\b\r721/721 [==============================] - 343s 476ms/step - loss: 0.1866 - accuracy: 0.9342 - val_loss: 0.2173 - val_accuracy: 0.9319\n",
            "Epoch 17/20\n",
            "  1/721 [..............................] - ETA: 9:23 - loss: 0.0249 - accuracy: 1.0000"
          ]
        },
        {
          "output_type": "stream",
          "name": "stderr",
          "text": [
            "[codecarbon INFO @ 09:03:38] Energy consumed for RAM : 0.007672 kWh. RAM Power : 4.754399299621582 W\n",
            "[codecarbon INFO @ 09:03:38] Energy consumed for all GPUs : 0.097590 kWh. Total GPU Power : 42.982 W\n",
            "[codecarbon INFO @ 09:03:38] Energy consumed for all CPUs : 0.068695 kWh. Total CPU Power : 42.5 W\n",
            "[codecarbon INFO @ 09:03:38] 0.173956 kWh of electricity used since the beginning.\n"
          ]
        },
        {
          "output_type": "stream",
          "name": "stdout",
          "text": [
            " 35/721 [>.............................] - ETA: 5:01 - loss: 0.1166 - accuracy: 0.9589"
          ]
        },
        {
          "output_type": "stream",
          "name": "stderr",
          "text": [
            "[codecarbon INFO @ 09:03:53] Energy consumed for RAM : 0.007691 kWh. RAM Power : 4.754399299621582 W\n",
            "[codecarbon INFO @ 09:03:53] Energy consumed for all GPUs : 0.097871 kWh. Total GPU Power : 67.633 W\n",
            "[codecarbon INFO @ 09:03:53] Energy consumed for all CPUs : 0.068872 kWh. Total CPU Power : 42.5 W\n",
            "[codecarbon INFO @ 09:03:53] 0.174435 kWh of electricity used since the beginning.\n"
          ]
        },
        {
          "output_type": "stream",
          "name": "stdout",
          "text": [
            " 70/721 [=>............................] - ETA: 4:44 - loss: 0.1392 - accuracy: 0.9545"
          ]
        },
        {
          "output_type": "stream",
          "name": "stderr",
          "text": [
            "[codecarbon INFO @ 09:04:08] Energy consumed for RAM : 0.007711 kWh. RAM Power : 4.754399299621582 W\n",
            "[codecarbon INFO @ 09:04:08] Energy consumed for all GPUs : 0.098171 kWh. Total GPU Power : 72.25 W\n",
            "[codecarbon INFO @ 09:04:08] Energy consumed for all CPUs : 0.069049 kWh. Total CPU Power : 42.5 W\n",
            "[codecarbon INFO @ 09:04:08] 0.174932 kWh of electricity used since the beginning.\n"
          ]
        },
        {
          "output_type": "stream",
          "name": "stdout",
          "text": [
            "104/721 [===>..........................] - ETA: 4:30 - loss: 0.1444 - accuracy: 0.9501"
          ]
        },
        {
          "output_type": "stream",
          "name": "stderr",
          "text": [
            "[codecarbon INFO @ 09:04:23] Energy consumed for RAM : 0.007731 kWh. RAM Power : 4.754399299621582 W\n",
            "[codecarbon INFO @ 09:04:23] Energy consumed for all GPUs : 0.098332 kWh. Total GPU Power : 38.662 W\n",
            "[codecarbon INFO @ 09:04:23] Energy consumed for all CPUs : 0.069226 kWh. Total CPU Power : 42.5 W\n",
            "[codecarbon INFO @ 09:04:23] 0.175289 kWh of electricity used since the beginning.\n"
          ]
        },
        {
          "output_type": "stream",
          "name": "stdout",
          "text": [
            "136/721 [====>.........................] - ETA: 4:19 - loss: 0.1481 - accuracy: 0.9476"
          ]
        },
        {
          "output_type": "stream",
          "name": "stderr",
          "text": [
            "[codecarbon INFO @ 09:04:38] Energy consumed for RAM : 0.007751 kWh. RAM Power : 4.754399299621582 W\n",
            "[codecarbon INFO @ 09:04:38] Energy consumed for all GPUs : 0.098634 kWh. Total GPU Power : 72.544 W\n",
            "[codecarbon INFO @ 09:04:38] Energy consumed for all CPUs : 0.069403 kWh. Total CPU Power : 42.5 W\n",
            "[codecarbon INFO @ 09:04:38] 0.175788 kWh of electricity used since the beginning.\n"
          ]
        },
        {
          "output_type": "stream",
          "name": "stdout",
          "text": [
            "171/721 [======>.......................] - ETA: 4:03 - loss: 0.1520 - accuracy: 0.9459"
          ]
        },
        {
          "output_type": "stream",
          "name": "stderr",
          "text": [
            "[codecarbon INFO @ 09:04:53] Energy consumed for RAM : 0.007770 kWh. RAM Power : 4.754399299621582 W\n",
            "[codecarbon INFO @ 09:04:53] Energy consumed for all GPUs : 0.098910 kWh. Total GPU Power : 66.45700000000002 W\n",
            "[codecarbon INFO @ 09:04:53] Energy consumed for all CPUs : 0.069580 kWh. Total CPU Power : 42.5 W\n",
            "[codecarbon INFO @ 09:04:53] 0.176261 kWh of electricity used since the beginning.\n"
          ]
        },
        {
          "output_type": "stream",
          "name": "stdout",
          "text": [
            "201/721 [=======>......................] - ETA: 3:53 - loss: 0.1522 - accuracy: 0.9453"
          ]
        },
        {
          "output_type": "stream",
          "name": "stderr",
          "text": [
            "[codecarbon INFO @ 09:05:08] Energy consumed for RAM : 0.007790 kWh. RAM Power : 4.754399299621582 W\n",
            "[codecarbon INFO @ 09:05:08] Energy consumed for all GPUs : 0.099198 kWh. Total GPU Power : 69.159 W\n",
            "[codecarbon INFO @ 09:05:08] Energy consumed for all CPUs : 0.069757 kWh. Total CPU Power : 42.5 W\n",
            "[codecarbon INFO @ 09:05:08] 0.176746 kWh of electricity used since the beginning.\n"
          ]
        },
        {
          "output_type": "stream",
          "name": "stdout",
          "text": [
            "236/721 [========>.....................] - ETA: 3:36 - loss: 0.1549 - accuracy: 0.9449"
          ]
        },
        {
          "output_type": "stream",
          "name": "stderr",
          "text": [
            "[codecarbon INFO @ 09:05:23] Energy consumed for RAM : 0.007810 kWh. RAM Power : 4.754399299621582 W\n",
            "[codecarbon INFO @ 09:05:23] Energy consumed for all GPUs : 0.099486 kWh. Total GPU Power : 69.25700000000002 W\n",
            "[codecarbon INFO @ 09:05:23] Energy consumed for all CPUs : 0.069934 kWh. Total CPU Power : 42.5 W\n",
            "[codecarbon INFO @ 09:05:23] 0.177230 kWh of electricity used since the beginning.\n"
          ]
        },
        {
          "output_type": "stream",
          "name": "stdout",
          "text": [
            "267/721 [==========>...................] - ETA: 3:25 - loss: 0.1591 - accuracy: 0.9434"
          ]
        },
        {
          "output_type": "stream",
          "name": "stderr",
          "text": [
            "[codecarbon INFO @ 09:05:38] Energy consumed for RAM : 0.007830 kWh. RAM Power : 4.754399299621582 W\n",
            "[codecarbon INFO @ 09:05:38] Energy consumed for all GPUs : 0.099647 kWh. Total GPU Power : 38.761 W\n",
            "[codecarbon INFO @ 09:05:38] Energy consumed for all CPUs : 0.070111 kWh. Total CPU Power : 42.5 W\n",
            "[codecarbon INFO @ 09:05:38] 0.177588 kWh of electricity used since the beginning.\n"
          ]
        },
        {
          "output_type": "stream",
          "name": "stdout",
          "text": [
            "298/721 [===========>..................] - ETA: 3:11 - loss: 0.1648 - accuracy: 0.9430"
          ]
        },
        {
          "output_type": "stream",
          "name": "stderr",
          "text": [
            "[codecarbon INFO @ 09:05:53] Energy consumed for RAM : 0.007849 kWh. RAM Power : 4.754399299621582 W\n",
            "[codecarbon INFO @ 09:05:53] Energy consumed for all GPUs : 0.099926 kWh. Total GPU Power : 66.947 W\n",
            "[codecarbon INFO @ 09:05:53] Energy consumed for all CPUs : 0.070289 kWh. Total CPU Power : 42.5 W\n",
            "[codecarbon INFO @ 09:05:53] 0.178064 kWh of electricity used since the beginning.\n"
          ]
        },
        {
          "output_type": "stream",
          "name": "stdout",
          "text": [
            "332/721 [============>.................] - ETA: 2:56 - loss: 0.1661 - accuracy: 0.9424"
          ]
        },
        {
          "output_type": "stream",
          "name": "stderr",
          "text": [
            "[codecarbon INFO @ 09:06:08] Energy consumed for RAM : 0.007869 kWh. RAM Power : 4.754399299621582 W\n",
            "[codecarbon INFO @ 09:06:08] Energy consumed for all GPUs : 0.100208 kWh. Total GPU Power : 67.731 W\n",
            "[codecarbon INFO @ 09:06:08] Energy consumed for all CPUs : 0.070466 kWh. Total CPU Power : 42.5 W\n",
            "[codecarbon INFO @ 09:06:08] 0.178543 kWh of electricity used since the beginning.\n"
          ]
        },
        {
          "output_type": "stream",
          "name": "stdout",
          "text": [
            "366/721 [==============>...............] - ETA: 2:40 - loss: 0.1628 - accuracy: 0.9428"
          ]
        },
        {
          "output_type": "stream",
          "name": "stderr",
          "text": [
            "[codecarbon INFO @ 09:06:23] Energy consumed for RAM : 0.007889 kWh. RAM Power : 4.754399299621582 W\n",
            "[codecarbon INFO @ 09:06:23] Energy consumed for all GPUs : 0.100373 kWh. Total GPU Power : 39.551 W\n",
            "[codecarbon INFO @ 09:06:23] Energy consumed for all CPUs : 0.070643 kWh. Total CPU Power : 42.5 W\n",
            "[codecarbon INFO @ 09:06:23] 0.178904 kWh of electricity used since the beginning.\n"
          ]
        },
        {
          "output_type": "stream",
          "name": "stdout",
          "text": [
            "399/721 [===============>..............] - ETA: 2:25 - loss: 0.1620 - accuracy: 0.9433"
          ]
        },
        {
          "output_type": "stream",
          "name": "stderr",
          "text": [
            "[codecarbon INFO @ 09:06:38] Energy consumed for RAM : 0.007909 kWh. RAM Power : 4.754399299621582 W\n",
            "[codecarbon INFO @ 09:06:38] Energy consumed for all GPUs : 0.100542 kWh. Total GPU Power : 40.61300000000001 W\n",
            "[codecarbon INFO @ 09:06:38] Energy consumed for all CPUs : 0.070820 kWh. Total CPU Power : 42.5 W\n",
            "[codecarbon INFO @ 09:06:38] 0.179270 kWh of electricity used since the beginning.\n"
          ]
        },
        {
          "output_type": "stream",
          "name": "stdout",
          "text": [
            "432/721 [================>.............] - ETA: 2:10 - loss: 0.1629 - accuracy: 0.9431"
          ]
        },
        {
          "output_type": "stream",
          "name": "stderr",
          "text": [
            "[codecarbon INFO @ 09:06:53] Energy consumed for RAM : 0.007929 kWh. RAM Power : 4.754399299621582 W\n",
            "[codecarbon INFO @ 09:06:53] Energy consumed for all GPUs : 0.100924 kWh. Total GPU Power : 91.80400000000002 W\n",
            "[codecarbon INFO @ 09:06:53] Energy consumed for all CPUs : 0.070997 kWh. Total CPU Power : 42.5 W\n",
            "[codecarbon INFO @ 09:06:53] 0.179849 kWh of electricity used since the beginning.\n"
          ]
        },
        {
          "output_type": "stream",
          "name": "stdout",
          "text": [
            "466/721 [==================>...........] - ETA: 1:55 - loss: 0.1667 - accuracy: 0.9427"
          ]
        },
        {
          "output_type": "stream",
          "name": "stderr",
          "text": [
            "[codecarbon INFO @ 09:07:08] Energy consumed for RAM : 0.007948 kWh. RAM Power : 4.754399299621582 W\n",
            "[codecarbon INFO @ 09:07:08] Energy consumed for all GPUs : 0.101092 kWh. Total GPU Power : 40.439 W\n",
            "[codecarbon INFO @ 09:07:08] Energy consumed for all CPUs : 0.071174 kWh. Total CPU Power : 42.5 W\n",
            "[codecarbon INFO @ 09:07:08] 0.180214 kWh of electricity used since the beginning.\n"
          ]
        },
        {
          "output_type": "stream",
          "name": "stdout",
          "text": [
            "499/721 [===================>..........] - ETA: 1:40 - loss: 0.1674 - accuracy: 0.9428"
          ]
        },
        {
          "output_type": "stream",
          "name": "stderr",
          "text": [
            "[codecarbon INFO @ 09:07:23] Energy consumed for RAM : 0.007968 kWh. RAM Power : 4.754399299621582 W\n",
            "[codecarbon INFO @ 09:07:23] Energy consumed for all GPUs : 0.101367 kWh. Total GPU Power : 66.06400000000001 W\n",
            "[codecarbon INFO @ 09:07:23] Energy consumed for all CPUs : 0.071351 kWh. Total CPU Power : 42.5 W\n",
            "[codecarbon INFO @ 09:07:23] 0.180686 kWh of electricity used since the beginning.\n"
          ]
        },
        {
          "output_type": "stream",
          "name": "stdout",
          "text": [
            "531/721 [=====================>........] - ETA: 1:26 - loss: 0.1703 - accuracy: 0.9414"
          ]
        },
        {
          "output_type": "stream",
          "name": "stderr",
          "text": [
            "[codecarbon INFO @ 09:07:38] Energy consumed for RAM : 0.007988 kWh. RAM Power : 4.754399299621582 W\n",
            "[codecarbon INFO @ 09:07:38] Energy consumed for all GPUs : 0.101657 kWh. Total GPU Power : 69.649 W\n"
          ]
        },
        {
          "output_type": "stream",
          "name": "stdout",
          "text": [
            "\b\b\b\b\b\b\b\b\b\b\b\b\b\b\b\b\b\b\b\b\b\b\b\b\b\b\b\b\b\b\b\b\b\b\b\b\b\b\b\b\b\b\b\b\b\b\b\b\b\b\b\b\b\b\b\b\b\b\b\b\b\b\b\b\b\b\b\b\b\b\b\b\b\b\b\b\b\b\b\b\b\b\b\b\b\b\r532/721 [=====================>........] - ETA: 1:25 - loss: 0.1700 - accuracy: 0.9416"
          ]
        },
        {
          "output_type": "stream",
          "name": "stderr",
          "text": [
            "[codecarbon INFO @ 09:07:38] Energy consumed for all CPUs : 0.071528 kWh. Total CPU Power : 42.5 W\n",
            "[codecarbon INFO @ 09:07:38] 0.181173 kWh of electricity used since the beginning.\n"
          ]
        },
        {
          "output_type": "stream",
          "name": "stdout",
          "text": [
            "566/721 [======================>.......] - ETA: 1:10 - loss: 0.1693 - accuracy: 0.9416"
          ]
        },
        {
          "output_type": "stream",
          "name": "stderr",
          "text": [
            "[codecarbon INFO @ 09:07:53] Energy consumed for RAM : 0.008008 kWh. RAM Power : 4.754399299621582 W\n",
            "[codecarbon INFO @ 09:07:53] Energy consumed for all GPUs : 0.101852 kWh. Total GPU Power : 46.972 W\n",
            "[codecarbon INFO @ 09:07:53] Energy consumed for all CPUs : 0.071705 kWh. Total CPU Power : 42.5 W\n",
            "[codecarbon INFO @ 09:07:53] 0.181565 kWh of electricity used since the beginning.\n"
          ]
        },
        {
          "output_type": "stream",
          "name": "stdout",
          "text": [
            "599/721 [=======================>......] - ETA: 55s - loss: 0.1680 - accuracy: 0.9425"
          ]
        },
        {
          "output_type": "stream",
          "name": "stderr",
          "text": [
            "[codecarbon INFO @ 09:08:08] Energy consumed for RAM : 0.008027 kWh. RAM Power : 4.754399299621582 W\n",
            "[codecarbon INFO @ 09:08:08] Energy consumed for all GPUs : 0.102131 kWh. Total GPU Power : 66.906 W\n",
            "[codecarbon INFO @ 09:08:08] Energy consumed for all CPUs : 0.071883 kWh. Total CPU Power : 42.5 W\n",
            "[codecarbon INFO @ 09:08:08] 0.182041 kWh of electricity used since the beginning.\n"
          ]
        },
        {
          "output_type": "stream",
          "name": "stdout",
          "text": [
            "634/721 [=========================>....] - ETA: 39s - loss: 0.1680 - accuracy: 0.9427"
          ]
        },
        {
          "output_type": "stream",
          "name": "stderr",
          "text": [
            "[codecarbon INFO @ 09:08:23] Energy consumed for RAM : 0.008047 kWh. RAM Power : 4.754399299621582 W\n",
            "[codecarbon INFO @ 09:08:23] Energy consumed for all GPUs : 0.102289 kWh. Total GPU Power : 38.069 W\n",
            "[codecarbon INFO @ 09:08:23] Energy consumed for all CPUs : 0.072060 kWh. Total CPU Power : 42.5 W\n",
            "[codecarbon INFO @ 09:08:23] 0.182396 kWh of electricity used since the beginning.\n"
          ]
        },
        {
          "output_type": "stream",
          "name": "stdout",
          "text": [
            "667/721 [==========================>...] - ETA: 24s - loss: 0.1669 - accuracy: 0.9428"
          ]
        },
        {
          "output_type": "stream",
          "name": "stderr",
          "text": [
            "[codecarbon INFO @ 09:08:38] Energy consumed for RAM : 0.008067 kWh. RAM Power : 4.754399299621582 W\n",
            "[codecarbon INFO @ 09:08:38] Energy consumed for all GPUs : 0.102454 kWh. Total GPU Power : 39.551 W\n",
            "[codecarbon INFO @ 09:08:38] Energy consumed for all CPUs : 0.072237 kWh. Total CPU Power : 42.5 W\n",
            "[codecarbon INFO @ 09:08:38] 0.182757 kWh of electricity used since the beginning.\n"
          ]
        },
        {
          "output_type": "stream",
          "name": "stdout",
          "text": [
            "699/721 [============================>.] - ETA: 9s - loss: 0.1658 - accuracy: 0.9431 "
          ]
        },
        {
          "output_type": "stream",
          "name": "stderr",
          "text": [
            "[codecarbon INFO @ 09:08:53] Energy consumed for RAM : 0.008087 kWh. RAM Power : 4.754399299621582 W\n",
            "[codecarbon INFO @ 09:08:53] Energy consumed for all GPUs : 0.102753 kWh. Total GPU Power : 72.152 W\n",
            "[codecarbon INFO @ 09:08:53] Energy consumed for all CPUs : 0.072414 kWh. Total CPU Power : 42.5 W\n",
            "[codecarbon INFO @ 09:08:53] 0.183253 kWh of electricity used since the beginning.\n"
          ]
        },
        {
          "output_type": "stream",
          "name": "stdout",
          "text": [
            "721/721 [==============================] - ETA: 0s - loss: 0.1663 - accuracy: 0.9433"
          ]
        },
        {
          "output_type": "stream",
          "name": "stderr",
          "text": [
            "[codecarbon INFO @ 09:09:08] Energy consumed for RAM : 0.008107 kWh. RAM Power : 4.754399299621582 W\n",
            "[codecarbon INFO @ 09:09:08] Energy consumed for all GPUs : 0.103016 kWh. Total GPU Power : 63.162 W\n",
            "[codecarbon INFO @ 09:09:08] Energy consumed for all CPUs : 0.072591 kWh. Total CPU Power : 42.5 W\n",
            "[codecarbon INFO @ 09:09:08] 0.183714 kWh of electricity used since the beginning.\n",
            "[codecarbon INFO @ 09:09:23] Energy consumed for RAM : 0.008126 kWh. RAM Power : 4.754399299621582 W\n",
            "[codecarbon INFO @ 09:09:23] Energy consumed for all GPUs : 0.103234 kWh. Total GPU Power : 52.429 W\n",
            "[codecarbon INFO @ 09:09:23] Energy consumed for all CPUs : 0.072768 kWh. Total CPU Power : 42.5 W\n",
            "[codecarbon INFO @ 09:09:23] 0.184128 kWh of electricity used since the beginning.\n"
          ]
        },
        {
          "output_type": "stream",
          "name": "stdout",
          "text": [
            "\b\b\b\b\b\b\b\b\b\b\b\b\b\b\b\b\b\b\b\b\b\b\b\b\b\b\b\b\b\b\b\b\b\b\b\b\b\b\b\b\b\b\b\b\b\b\b\b\b\b\b\b\b\b\b\b\b\b\b\b\b\b\b\b\b\b\b\b\b\b\b\b\b\b\b\b\b\b\b\b\b\b\b\b\r721/721 [==============================] - 346s 480ms/step - loss: 0.1663 - accuracy: 0.9433 - val_loss: 0.2360 - val_accuracy: 0.9312\n"
          ]
        },
        {
          "output_type": "stream",
          "name": "stderr",
          "text": [
            "[codecarbon INFO @ 09:09:38] Energy consumed for RAM : 0.008146 kWh. RAM Power : 4.754399299621582 W\n",
            "[codecarbon INFO @ 09:09:38] Energy consumed for all GPUs : 0.103370 kWh. Total GPU Power : 32.675 W\n",
            "[codecarbon INFO @ 09:09:38] Energy consumed for all CPUs : 0.072944 kWh. Total CPU Power : 42.5 W\n",
            "[codecarbon INFO @ 09:09:38] 0.184460 kWh of electricity used since the beginning.\n",
            "[codecarbon INFO @ 09:09:53] Energy consumed for RAM : 0.008166 kWh. RAM Power : 4.754399299621582 W\n",
            "[codecarbon INFO @ 09:09:53] Energy consumed for all GPUs : 0.103505 kWh. Total GPU Power : 32.576 W\n",
            "[codecarbon INFO @ 09:09:53] Energy consumed for all CPUs : 0.073121 kWh. Total CPU Power : 42.5 W\n",
            "[codecarbon INFO @ 09:09:53] 0.184793 kWh of electricity used since the beginning.\n"
          ]
        },
        {
          "output_type": "stream",
          "name": "stdout",
          "text": [
            "Epoch 18/20\n",
            " 18/721 [..............................] - ETA: 5:51 - loss: 0.1349 - accuracy: 0.9549"
          ]
        },
        {
          "output_type": "stream",
          "name": "stderr",
          "text": [
            "[codecarbon INFO @ 09:10:08] Energy consumed for RAM : 0.008186 kWh. RAM Power : 4.754399299621582 W\n",
            "[codecarbon INFO @ 09:10:08] Energy consumed for all GPUs : 0.103788 kWh. Total GPU Power : 67.788 W\n",
            "[codecarbon INFO @ 09:10:08] Energy consumed for all CPUs : 0.073299 kWh. Total CPU Power : 42.5 W\n",
            "[codecarbon INFO @ 09:10:08] 0.185272 kWh of electricity used since the beginning.\n"
          ]
        },
        {
          "output_type": "stream",
          "name": "stdout",
          "text": [
            " 51/721 [=>............................] - ETA: 5:10 - loss: 0.1565 - accuracy: 0.9473"
          ]
        },
        {
          "output_type": "stream",
          "name": "stderr",
          "text": [
            "[codecarbon INFO @ 09:10:23] Energy consumed for RAM : 0.008205 kWh. RAM Power : 4.754399299621582 W\n",
            "[codecarbon INFO @ 09:10:23] Energy consumed for all GPUs : 0.104087 kWh. Total GPU Power : 71.868 W\n",
            "[codecarbon INFO @ 09:10:23] Energy consumed for all CPUs : 0.073476 kWh. Total CPU Power : 42.5 W\n",
            "[codecarbon INFO @ 09:10:23] 0.185768 kWh of electricity used since the beginning.\n"
          ]
        },
        {
          "output_type": "stream",
          "name": "stdout",
          "text": [
            " 84/721 [==>...........................] - ETA: 4:54 - loss: 0.1524 - accuracy: 0.9516"
          ]
        },
        {
          "output_type": "stream",
          "name": "stderr",
          "text": [
            "[codecarbon INFO @ 09:10:38] Energy consumed for RAM : 0.008225 kWh. RAM Power : 4.754399299621582 W\n",
            "[codecarbon INFO @ 09:10:38] Energy consumed for all GPUs : 0.104271 kWh. Total GPU Power : 44.239000000000004 W\n",
            "[codecarbon INFO @ 09:10:38] Energy consumed for all CPUs : 0.073653 kWh. Total CPU Power : 42.5 W\n",
            "[codecarbon INFO @ 09:10:38] 0.186149 kWh of electricity used since the beginning.\n"
          ]
        },
        {
          "output_type": "stream",
          "name": "stdout",
          "text": [
            "117/721 [===>..........................] - ETA: 4:38 - loss: 0.1595 - accuracy: 0.9487"
          ]
        },
        {
          "output_type": "stream",
          "name": "stderr",
          "text": [
            "[codecarbon INFO @ 09:10:53] Energy consumed for RAM : 0.008245 kWh. RAM Power : 4.754399299621582 W\n",
            "[codecarbon INFO @ 09:10:53] Energy consumed for all GPUs : 0.104554 kWh. Total GPU Power : 67.98400000000001 W\n",
            "[codecarbon INFO @ 09:10:53] Energy consumed for all CPUs : 0.073830 kWh. Total CPU Power : 42.5 W\n",
            "[codecarbon INFO @ 09:10:53] 0.186629 kWh of electricity used since the beginning.\n"
          ]
        },
        {
          "output_type": "stream",
          "name": "stdout",
          "text": [
            "148/721 [=====>........................] - ETA: 4:25 - loss: 0.1642 - accuracy: 0.9468"
          ]
        },
        {
          "output_type": "stream",
          "name": "stderr",
          "text": [
            "[codecarbon INFO @ 09:11:08] Energy consumed for RAM : 0.008265 kWh. RAM Power : 4.754399299621582 W\n",
            "[codecarbon INFO @ 09:11:08] Energy consumed for all GPUs : 0.104827 kWh. Total GPU Power : 65.69 W\n",
            "[codecarbon INFO @ 09:11:08] Energy consumed for all CPUs : 0.074007 kWh. Total CPU Power : 42.5 W\n",
            "[codecarbon INFO @ 09:11:08] 0.187098 kWh of electricity used since the beginning.\n"
          ]
        },
        {
          "output_type": "stream",
          "name": "stdout",
          "text": [
            "181/721 [======>.......................] - ETA: 4:09 - loss: 0.1645 - accuracy: 0.9454"
          ]
        },
        {
          "output_type": "stream",
          "name": "stderr",
          "text": [
            "[codecarbon INFO @ 09:11:23] Energy consumed for RAM : 0.008284 kWh. RAM Power : 4.754399299621582 W\n",
            "[codecarbon INFO @ 09:11:23] Energy consumed for all GPUs : 0.105130 kWh. Total GPU Power : 72.793 W\n",
            "[codecarbon INFO @ 09:11:23] Energy consumed for all CPUs : 0.074184 kWh. Total CPU Power : 42.5 W\n",
            "[codecarbon INFO @ 09:11:23] 0.187598 kWh of electricity used since the beginning.\n"
          ]
        },
        {
          "output_type": "stream",
          "name": "stdout",
          "text": [
            "215/721 [=======>......................] - ETA: 3:52 - loss: 0.1630 - accuracy: 0.9474"
          ]
        },
        {
          "output_type": "stream",
          "name": "stderr",
          "text": [
            "[codecarbon INFO @ 09:11:38] Energy consumed for RAM : 0.008304 kWh. RAM Power : 4.754399299621582 W\n",
            "[codecarbon INFO @ 09:11:38] Energy consumed for all GPUs : 0.105409 kWh. Total GPU Power : 67.2 W\n",
            "[codecarbon INFO @ 09:11:38] Energy consumed for all CPUs : 0.074361 kWh. Total CPU Power : 42.5 W\n",
            "[codecarbon INFO @ 09:11:38] 0.188074 kWh of electricity used since the beginning.\n"
          ]
        },
        {
          "output_type": "stream",
          "name": "stdout",
          "text": [
            "248/721 [=========>....................] - ETA: 3:37 - loss: 0.1608 - accuracy: 0.9476"
          ]
        },
        {
          "output_type": "stream",
          "name": "stderr",
          "text": [
            "[codecarbon INFO @ 09:11:53] Energy consumed for RAM : 0.008324 kWh. RAM Power : 4.754399299621582 W\n",
            "[codecarbon INFO @ 09:11:53] Energy consumed for all GPUs : 0.105584 kWh. Total GPU Power : 42.167 W\n",
            "[codecarbon INFO @ 09:11:53] Energy consumed for all CPUs : 0.074538 kWh. Total CPU Power : 42.5 W\n",
            "[codecarbon INFO @ 09:11:53] 0.188447 kWh of electricity used since the beginning.\n"
          ]
        },
        {
          "output_type": "stream",
          "name": "stdout",
          "text": [
            "281/721 [==========>...................] - ETA: 3:22 - loss: 0.1615 - accuracy: 0.9471"
          ]
        },
        {
          "output_type": "stream",
          "name": "stderr",
          "text": [
            "[codecarbon INFO @ 09:12:08] Energy consumed for RAM : 0.008344 kWh. RAM Power : 4.754399299621582 W\n",
            "[codecarbon INFO @ 09:12:08] Energy consumed for all GPUs : 0.105763 kWh. Total GPU Power : 42.858000000000004 W\n",
            "[codecarbon INFO @ 09:12:08] Energy consumed for all CPUs : 0.074715 kWh. Total CPU Power : 42.5 W\n",
            "[codecarbon INFO @ 09:12:08] 0.188821 kWh of electricity used since the beginning.\n"
          ]
        },
        {
          "output_type": "stream",
          "name": "stdout",
          "text": [
            "313/721 [============>.................] - ETA: 3:07 - loss: 0.1609 - accuracy: 0.9479"
          ]
        },
        {
          "output_type": "stream",
          "name": "stderr",
          "text": [
            "[codecarbon INFO @ 09:12:23] Energy consumed for RAM : 0.008364 kWh. RAM Power : 4.754399299621582 W\n",
            "[codecarbon INFO @ 09:12:23] Energy consumed for all GPUs : 0.105943 kWh. Total GPU Power : 43.252 W\n",
            "[codecarbon INFO @ 09:12:23] Energy consumed for all CPUs : 0.074892 kWh. Total CPU Power : 42.5 W\n",
            "[codecarbon INFO @ 09:12:23] 0.189198 kWh of electricity used since the beginning.\n"
          ]
        },
        {
          "output_type": "stream",
          "name": "stdout",
          "text": [
            "345/721 [=============>................] - ETA: 2:53 - loss: 0.1621 - accuracy: 0.9482"
          ]
        },
        {
          "output_type": "stream",
          "name": "stderr",
          "text": [
            "[codecarbon INFO @ 09:12:38] Energy consumed for RAM : 0.008383 kWh. RAM Power : 4.754399299621582 W\n",
            "[codecarbon INFO @ 09:12:38] Energy consumed for all GPUs : 0.106316 kWh. Total GPU Power : 89.857 W\n",
            "[codecarbon INFO @ 09:12:38] Energy consumed for all CPUs : 0.075069 kWh. Total CPU Power : 42.5 W\n",
            "[codecarbon INFO @ 09:12:38] 0.189769 kWh of electricity used since the beginning.\n"
          ]
        },
        {
          "output_type": "stream",
          "name": "stdout",
          "text": [
            "377/721 [==============>...............] - ETA: 2:38 - loss: 0.1641 - accuracy: 0.9468"
          ]
        },
        {
          "output_type": "stream",
          "name": "stderr",
          "text": [
            "[codecarbon INFO @ 09:12:53] Energy consumed for RAM : 0.008403 kWh. RAM Power : 4.754399299621582 W\n",
            "[codecarbon INFO @ 09:12:53] Energy consumed for all GPUs : 0.106532 kWh. Total GPU Power : 51.74 W\n",
            "[codecarbon INFO @ 09:12:53] Energy consumed for all CPUs : 0.075247 kWh. Total CPU Power : 42.5 W\n",
            "[codecarbon INFO @ 09:12:53] 0.190182 kWh of electricity used since the beginning.\n"
          ]
        },
        {
          "output_type": "stream",
          "name": "stdout",
          "text": [
            "407/721 [===============>..............] - ETA: 2:25 - loss: 0.1635 - accuracy: 0.9470"
          ]
        },
        {
          "output_type": "stream",
          "name": "stderr",
          "text": [
            "[codecarbon INFO @ 09:13:08] Energy consumed for RAM : 0.008423 kWh. RAM Power : 4.754399299621582 W\n",
            "[codecarbon INFO @ 09:13:08] Energy consumed for all GPUs : 0.106825 kWh. Total GPU Power : 70.738 W\n"
          ]
        },
        {
          "output_type": "stream",
          "name": "stdout",
          "text": [
            "\b\b\b\b\b\b\b\b\b\b\b\b\b\b\b\b\b\b\b\b\b\b\b\b\b\b\b\b\b\b\b\b\b\b\b\b\b\b\b\b\b\b\b\b\b\b\b\b\b\b\b\b\b\b\b\b\b\b\b\b\b\b\b\b\b\b\b\b\b\b\b\b\b\b\b\b\b\b\b\b\b\b\b\b\b\b\r408/721 [===============>..............] - ETA: 2:25 - loss: 0.1634 - accuracy: 0.9470"
          ]
        },
        {
          "output_type": "stream",
          "name": "stderr",
          "text": [
            "[codecarbon INFO @ 09:13:08] Energy consumed for all CPUs : 0.075423 kWh. Total CPU Power : 42.5 W\n",
            "[codecarbon INFO @ 09:13:08] 0.190671 kWh of electricity used since the beginning.\n"
          ]
        },
        {
          "output_type": "stream",
          "name": "stdout",
          "text": [
            "439/721 [=================>............] - ETA: 2:10 - loss: 0.1684 - accuracy: 0.9453"
          ]
        },
        {
          "output_type": "stream",
          "name": "stderr",
          "text": [
            "[codecarbon INFO @ 09:13:23] Energy consumed for RAM : 0.008443 kWh. RAM Power : 4.754399299621582 W\n",
            "[codecarbon INFO @ 09:13:23] Energy consumed for all GPUs : 0.107007 kWh. Total GPU Power : 43.844 W\n",
            "[codecarbon INFO @ 09:13:23] Energy consumed for all CPUs : 0.075600 kWh. Total CPU Power : 42.5 W\n",
            "[codecarbon INFO @ 09:13:23] 0.191050 kWh of electricity used since the beginning.\n"
          ]
        },
        {
          "output_type": "stream",
          "name": "stdout",
          "text": [
            "470/721 [==================>...........] - ETA: 1:56 - loss: 0.1668 - accuracy: 0.9456"
          ]
        },
        {
          "output_type": "stream",
          "name": "stderr",
          "text": [
            "[codecarbon INFO @ 09:13:38] Energy consumed for RAM : 0.008462 kWh. RAM Power : 4.754399299621582 W\n",
            "[codecarbon INFO @ 09:13:38] Energy consumed for all GPUs : 0.107336 kWh. Total GPU Power : 78.86 W\n",
            "[codecarbon INFO @ 09:13:38] Energy consumed for all CPUs : 0.075778 kWh. Total CPU Power : 42.5 W\n",
            "[codecarbon INFO @ 09:13:38] 0.191576 kWh of electricity used since the beginning.\n"
          ]
        },
        {
          "output_type": "stream",
          "name": "stdout",
          "text": [
            "501/721 [===================>..........] - ETA: 1:42 - loss: 0.1662 - accuracy: 0.9459"
          ]
        },
        {
          "output_type": "stream",
          "name": "stderr",
          "text": [
            "[codecarbon INFO @ 09:13:53] Energy consumed for RAM : 0.008482 kWh. RAM Power : 4.754399299621582 W\n",
            "[codecarbon INFO @ 09:13:53] Energy consumed for all GPUs : 0.107490 kWh. Total GPU Power : 37.103 W\n",
            "[codecarbon INFO @ 09:13:53] Energy consumed for all CPUs : 0.075954 kWh. Total CPU Power : 42.5 W\n",
            "[codecarbon INFO @ 09:13:53] 0.191926 kWh of electricity used since the beginning.\n"
          ]
        },
        {
          "output_type": "stream",
          "name": "stdout",
          "text": [
            "533/721 [=====================>........] - ETA: 1:27 - loss: 0.1643 - accuracy: 0.9463"
          ]
        },
        {
          "output_type": "stream",
          "name": "stderr",
          "text": [
            "[codecarbon INFO @ 09:14:08] Energy consumed for RAM : 0.008502 kWh. RAM Power : 4.754399299621582 W\n",
            "[codecarbon INFO @ 09:14:08] Energy consumed for all GPUs : 0.107768 kWh. Total GPU Power : 66.808 W\n",
            "[codecarbon INFO @ 09:14:08] Energy consumed for all CPUs : 0.076131 kWh. Total CPU Power : 42.5 W\n",
            "[codecarbon INFO @ 09:14:08] 0.192401 kWh of electricity used since the beginning.\n"
          ]
        },
        {
          "output_type": "stream",
          "name": "stdout",
          "text": [
            "567/721 [======================>.......] - ETA: 1:11 - loss: 0.1617 - accuracy: 0.9466"
          ]
        },
        {
          "output_type": "stream",
          "name": "stderr",
          "text": [
            "[codecarbon INFO @ 09:14:23] Energy consumed for RAM : 0.008522 kWh. RAM Power : 4.754399299621582 W\n",
            "[codecarbon INFO @ 09:14:23] Energy consumed for all GPUs : 0.107947 kWh. Total GPU Power : 43.08 W\n",
            "[codecarbon INFO @ 09:14:23] Energy consumed for all CPUs : 0.076308 kWh. Total CPU Power : 42.5 W\n",
            "[codecarbon INFO @ 09:14:23] 0.192776 kWh of electricity used since the beginning.\n"
          ]
        },
        {
          "output_type": "stream",
          "name": "stdout",
          "text": [
            "600/721 [=======================>......] - ETA: 56s - loss: 0.1638 - accuracy: 0.9457"
          ]
        },
        {
          "output_type": "stream",
          "name": "stderr",
          "text": [
            "[codecarbon INFO @ 09:14:38] Energy consumed for RAM : 0.008541 kWh. RAM Power : 4.754399299621582 W\n",
            "[codecarbon INFO @ 09:14:38] Energy consumed for all GPUs : 0.108231 kWh. Total GPU Power : 68.375 W\n",
            "[codecarbon INFO @ 09:14:38] Energy consumed for all CPUs : 0.076485 kWh. Total CPU Power : 42.5 W\n",
            "[codecarbon INFO @ 09:14:38] 0.193258 kWh of electricity used since the beginning.\n"
          ]
        },
        {
          "output_type": "stream",
          "name": "stdout",
          "text": [
            "633/721 [=========================>....] - ETA: 40s - loss: 0.1626 - accuracy: 0.9456"
          ]
        },
        {
          "output_type": "stream",
          "name": "stderr",
          "text": [
            "[codecarbon INFO @ 09:14:53] Energy consumed for RAM : 0.008561 kWh. RAM Power : 4.754399299621582 W\n",
            "[codecarbon INFO @ 09:14:53] Energy consumed for all GPUs : 0.108507 kWh. Total GPU Power : 66.26000000000002 W\n",
            "[codecarbon INFO @ 09:14:53] Energy consumed for all CPUs : 0.076663 kWh. Total CPU Power : 42.5 W\n",
            "[codecarbon INFO @ 09:14:53] 0.193731 kWh of electricity used since the beginning.\n"
          ]
        },
        {
          "output_type": "stream",
          "name": "stdout",
          "text": [
            "666/721 [==========================>...] - ETA: 25s - loss: 0.1624 - accuracy: 0.9458"
          ]
        },
        {
          "output_type": "stream",
          "name": "stderr",
          "text": [
            "[codecarbon INFO @ 09:15:08] Energy consumed for RAM : 0.008581 kWh. RAM Power : 4.754399299621582 W\n",
            "[codecarbon INFO @ 09:15:08] Energy consumed for all GPUs : 0.108687 kWh. Total GPU Power : 43.179 W\n",
            "[codecarbon INFO @ 09:15:08] Energy consumed for all CPUs : 0.076839 kWh. Total CPU Power : 42.5 W\n",
            "[codecarbon INFO @ 09:15:08] 0.194107 kWh of electricity used since the beginning.\n"
          ]
        },
        {
          "output_type": "stream",
          "name": "stdout",
          "text": [
            "697/721 [============================>.] - ETA: 11s - loss: 0.1626 - accuracy: 0.9452"
          ]
        },
        {
          "output_type": "stream",
          "name": "stderr",
          "text": [
            "[codecarbon INFO @ 09:15:23] Energy consumed for RAM : 0.008601 kWh. RAM Power : 4.754399299621582 W\n",
            "[codecarbon INFO @ 09:15:23] Energy consumed for all GPUs : 0.108992 kWh. Total GPU Power : 73.229 W\n"
          ]
        },
        {
          "output_type": "stream",
          "name": "stdout",
          "text": [
            "\b\b\b\b\b\b\b\b\b\b\b\b\b\b\b\b\b\b\b\b\b\b\b\b\b\b\b\b\b\b\b\b\b\b\b\b\b\b\b\b\b\b\b\b\b\b\b\b\b\b\b\b\b\b\b\b\b\b\b\b\b\b\b\b\b\b\b\b\b\b\b\b\b\b\b\b\b\b\b\b\b\b\b\b\b\r698/721 [============================>.] - ETA: 10s - loss: 0.1628 - accuracy: 0.9450"
          ]
        },
        {
          "output_type": "stream",
          "name": "stderr",
          "text": [
            "[codecarbon INFO @ 09:15:23] Energy consumed for all CPUs : 0.077017 kWh. Total CPU Power : 42.5 W\n",
            "[codecarbon INFO @ 09:15:23] 0.194609 kWh of electricity used since the beginning.\n"
          ]
        },
        {
          "output_type": "stream",
          "name": "stdout",
          "text": [
            "721/721 [==============================] - ETA: 0s - loss: 0.1623 - accuracy: 0.9449"
          ]
        },
        {
          "output_type": "stream",
          "name": "stderr",
          "text": [
            "[codecarbon INFO @ 09:15:38] Energy consumed for RAM : 0.008620 kWh. RAM Power : 4.754399299621582 W\n",
            "[codecarbon INFO @ 09:15:38] Energy consumed for all GPUs : 0.109212 kWh. Total GPU Power : 52.98700000000001 W\n",
            "[codecarbon INFO @ 09:15:38] Energy consumed for all CPUs : 0.077194 kWh. Total CPU Power : 42.5 W\n",
            "[codecarbon INFO @ 09:15:38] 0.195026 kWh of electricity used since the beginning.\n"
          ]
        },
        {
          "output_type": "stream",
          "name": "stdout",
          "text": [
            "\b\b\b\b\b\b\b\b\b\b\b\b\b\b\b\b\b\b\b\b\b\b\b\b\b\b\b\b\b\b\b\b\b\b\b\b\b\b\b\b\b\b\b\b\b\b\b\b\b\b\b\b\b\b\b\b\b\b\b\b\b\b\b\b\b\b\b\b\b\b\b\b\b\b\b\b\b\b\b\b\b\b\b\b\r721/721 [==============================] - 353s 489ms/step - loss: 0.1623 - accuracy: 0.9449 - val_loss: 0.2046 - val_accuracy: 0.9388\n"
          ]
        },
        {
          "output_type": "stream",
          "name": "stderr",
          "text": [
            "[codecarbon INFO @ 09:15:53] Energy consumed for RAM : 0.008640 kWh. RAM Power : 4.754399299621582 W\n",
            "[codecarbon INFO @ 09:15:53] Energy consumed for all GPUs : 0.109357 kWh. Total GPU Power : 34.949 W\n",
            "[codecarbon INFO @ 09:15:53] Energy consumed for all CPUs : 0.077370 kWh. Total CPU Power : 42.5 W\n",
            "[codecarbon INFO @ 09:15:53] 0.195367 kWh of electricity used since the beginning.\n",
            "[codecarbon INFO @ 09:16:08] Energy consumed for RAM : 0.008660 kWh. RAM Power : 4.754399299621582 W\n",
            "[codecarbon INFO @ 09:16:08] Energy consumed for all GPUs : 0.109493 kWh. Total GPU Power : 32.694 W\n",
            "[codecarbon INFO @ 09:16:08] Energy consumed for all CPUs : 0.077547 kWh. Total CPU Power : 42.5 W\n",
            "[codecarbon INFO @ 09:16:08] 0.195700 kWh of electricity used since the beginning.\n"
          ]
        },
        {
          "output_type": "stream",
          "name": "stdout",
          "text": [
            "Epoch 19/20\n",
            "  5/721 [..............................] - ETA: 4:38 - loss: 0.1783 - accuracy: 0.9250"
          ]
        },
        {
          "output_type": "stream",
          "name": "stderr",
          "text": [
            "[codecarbon INFO @ 09:16:23] Energy consumed for RAM : 0.008680 kWh. RAM Power : 4.754399299621582 W\n",
            "[codecarbon INFO @ 09:16:23] Energy consumed for all GPUs : 0.109803 kWh. Total GPU Power : 74.404 W\n",
            "[codecarbon INFO @ 09:16:23] Energy consumed for all CPUs : 0.077725 kWh. Total CPU Power : 42.5 W\n",
            "[codecarbon INFO @ 09:16:23] 0.196207 kWh of electricity used since the beginning.\n"
          ]
        },
        {
          "output_type": "stream",
          "name": "stdout",
          "text": [
            " 38/721 [>.............................] - ETA: 5:05 - loss: 0.1202 - accuracy: 0.9490"
          ]
        },
        {
          "output_type": "stream",
          "name": "stderr",
          "text": [
            "[codecarbon INFO @ 09:16:38] Energy consumed for RAM : 0.008700 kWh. RAM Power : 4.754399299621582 W\n",
            "[codecarbon INFO @ 09:16:38] Energy consumed for all GPUs : 0.110147 kWh. Total GPU Power : 82.666 W\n",
            "[codecarbon INFO @ 09:16:38] Energy consumed for all CPUs : 0.077901 kWh. Total CPU Power : 42.5 W\n",
            "[codecarbon INFO @ 09:16:38] 0.196748 kWh of electricity used since the beginning.\n"
          ]
        },
        {
          "output_type": "stream",
          "name": "stdout",
          "text": [
            " 70/721 [=>............................] - ETA: 4:59 - loss: 0.1248 - accuracy: 0.9545"
          ]
        },
        {
          "output_type": "stream",
          "name": "stderr",
          "text": [
            "[codecarbon INFO @ 09:16:53] Energy consumed for RAM : 0.008719 kWh. RAM Power : 4.754399299621582 W\n",
            "[codecarbon INFO @ 09:16:53] Energy consumed for all GPUs : 0.110326 kWh. Total GPU Power : 42.982 W\n",
            "[codecarbon INFO @ 09:16:53] Energy consumed for all CPUs : 0.078079 kWh. Total CPU Power : 42.5 W\n",
            "[codecarbon INFO @ 09:16:53] 0.197123 kWh of electricity used since the beginning.\n"
          ]
        },
        {
          "output_type": "stream",
          "name": "stdout",
          "text": [
            "103/721 [===>..........................] - ETA: 4:42 - loss: 0.1356 - accuracy: 0.9521"
          ]
        },
        {
          "output_type": "stream",
          "name": "stderr",
          "text": [
            "[codecarbon INFO @ 09:17:08] Energy consumed for RAM : 0.008739 kWh. RAM Power : 4.754399299621582 W\n",
            "[codecarbon INFO @ 09:17:08] Energy consumed for all GPUs : 0.110500 kWh. Total GPU Power : 41.995 W\n",
            "[codecarbon INFO @ 09:17:08] Energy consumed for all CPUs : 0.078256 kWh. Total CPU Power : 42.5 W\n",
            "[codecarbon INFO @ 09:17:08] 0.197495 kWh of electricity used since the beginning.\n"
          ]
        },
        {
          "output_type": "stream",
          "name": "stdout",
          "text": [
            "135/721 [====>.........................] - ETA: 4:28 - loss: 0.1340 - accuracy: 0.9514"
          ]
        },
        {
          "output_type": "stream",
          "name": "stderr",
          "text": [
            "[codecarbon INFO @ 09:17:23] Energy consumed for RAM : 0.008759 kWh. RAM Power : 4.754399299621582 W\n",
            "[codecarbon INFO @ 09:17:23] Energy consumed for all GPUs : 0.110798 kWh. Total GPU Power : 71.66300000000001 W\n",
            "[codecarbon INFO @ 09:17:23] Energy consumed for all CPUs : 0.078433 kWh. Total CPU Power : 42.5 W\n",
            "[codecarbon INFO @ 09:17:23] 0.197990 kWh of electricity used since the beginning.\n"
          ]
        },
        {
          "output_type": "stream",
          "name": "stdout",
          "text": [
            "165/721 [=====>........................] - ETA: 4:19 - loss: 0.1334 - accuracy: 0.9523"
          ]
        },
        {
          "output_type": "stream",
          "name": "stderr",
          "text": [
            "[codecarbon INFO @ 09:17:38] Energy consumed for RAM : 0.008779 kWh. RAM Power : 4.754399299621582 W\n",
            "[codecarbon INFO @ 09:17:38] Energy consumed for all GPUs : 0.111097 kWh. Total GPU Power : 71.66300000000001 W\n",
            "[codecarbon INFO @ 09:17:38] Energy consumed for all CPUs : 0.078610 kWh. Total CPU Power : 42.5 W\n",
            "[codecarbon INFO @ 09:17:38] 0.198485 kWh of electricity used since the beginning.\n"
          ]
        },
        {
          "output_type": "stream",
          "name": "stdout",
          "text": [
            "196/721 [=======>......................] - ETA: 4:07 - loss: 0.1276 - accuracy: 0.9547"
          ]
        },
        {
          "output_type": "stream",
          "name": "stderr",
          "text": [
            "[codecarbon INFO @ 09:17:53] Energy consumed for RAM : 0.008798 kWh. RAM Power : 4.754399299621582 W\n",
            "[codecarbon INFO @ 09:17:53] Energy consumed for all GPUs : 0.111374 kWh. Total GPU Power : 66.555 W\n",
            "[codecarbon INFO @ 09:17:53] Energy consumed for all CPUs : 0.078787 kWh. Total CPU Power : 42.5 W\n",
            "[codecarbon INFO @ 09:17:53] 0.198960 kWh of electricity used since the beginning.\n"
          ]
        },
        {
          "output_type": "stream",
          "name": "stdout",
          "text": [
            "226/721 [========>.....................] - ETA: 3:54 - loss: 0.1293 - accuracy: 0.9546"
          ]
        },
        {
          "output_type": "stream",
          "name": "stderr",
          "text": [
            "[codecarbon INFO @ 09:18:08] Energy consumed for RAM : 0.008818 kWh. RAM Power : 4.754399299621582 W\n",
            "[codecarbon INFO @ 09:18:08] Energy consumed for all GPUs : 0.111720 kWh. Total GPU Power : 82.958 W\n",
            "[codecarbon INFO @ 09:18:08] Energy consumed for all CPUs : 0.078965 kWh. Total CPU Power : 42.5 W\n",
            "[codecarbon INFO @ 09:18:08] 0.199502 kWh of electricity used since the beginning.\n"
          ]
        },
        {
          "output_type": "stream",
          "name": "stdout",
          "text": [
            "259/721 [=========>....................] - ETA: 3:37 - loss: 0.1329 - accuracy: 0.9534"
          ]
        },
        {
          "output_type": "stream",
          "name": "stderr",
          "text": [
            "[codecarbon INFO @ 09:18:23] Energy consumed for RAM : 0.008838 kWh. RAM Power : 4.754399299621582 W\n",
            "[codecarbon INFO @ 09:18:23] Energy consumed for all GPUs : 0.111905 kWh. Total GPU Power : 44.633 W\n",
            "[codecarbon INFO @ 09:18:23] Energy consumed for all CPUs : 0.079141 kWh. Total CPU Power : 42.5 W\n",
            "[codecarbon INFO @ 09:18:23] 0.199884 kWh of electricity used since the beginning.\n"
          ]
        },
        {
          "output_type": "stream",
          "name": "stdout",
          "text": [
            "293/721 [===========>..................] - ETA: 3:20 - loss: 0.1336 - accuracy: 0.9520"
          ]
        },
        {
          "output_type": "stream",
          "name": "stderr",
          "text": [
            "[codecarbon INFO @ 09:18:38] Energy consumed for RAM : 0.008858 kWh. RAM Power : 4.754399299621582 W\n",
            "[codecarbon INFO @ 09:18:38] Energy consumed for all GPUs : 0.112086 kWh. Total GPU Power : 43.377 W\n",
            "[codecarbon INFO @ 09:18:38] Energy consumed for all CPUs : 0.079318 kWh. Total CPU Power : 42.5 W\n",
            "[codecarbon INFO @ 09:18:38] 0.200262 kWh of electricity used since the beginning.\n"
          ]
        },
        {
          "output_type": "stream",
          "name": "stdout",
          "text": [
            "326/721 [============>.................] - ETA: 3:04 - loss: 0.1372 - accuracy: 0.9507"
          ]
        },
        {
          "output_type": "stream",
          "name": "stderr",
          "text": [
            "[codecarbon INFO @ 09:18:53] Energy consumed for RAM : 0.008878 kWh. RAM Power : 4.754399299621582 W\n",
            "[codecarbon INFO @ 09:18:53] Energy consumed for all GPUs : 0.112360 kWh. Total GPU Power : 66.007 W\n",
            "[codecarbon INFO @ 09:18:53] Energy consumed for all CPUs : 0.079496 kWh. Total CPU Power : 42.5 W\n",
            "[codecarbon INFO @ 09:18:53] 0.200733 kWh of electricity used since the beginning.\n"
          ]
        },
        {
          "output_type": "stream",
          "name": "stdout",
          "text": [
            "359/721 [=============>................] - ETA: 2:48 - loss: 0.1403 - accuracy: 0.9493"
          ]
        },
        {
          "output_type": "stream",
          "name": "stderr",
          "text": [
            "[codecarbon INFO @ 09:19:08] Energy consumed for RAM : 0.008897 kWh. RAM Power : 4.754399299621582 W\n",
            "[codecarbon INFO @ 09:19:08] Energy consumed for all GPUs : 0.112699 kWh. Total GPU Power : 81.401 W\n",
            "[codecarbon INFO @ 09:19:08] Energy consumed for all CPUs : 0.079673 kWh. Total CPU Power : 42.5 W\n",
            "[codecarbon INFO @ 09:19:08] 0.201269 kWh of electricity used since the beginning.\n"
          ]
        },
        {
          "output_type": "stream",
          "name": "stdout",
          "text": [
            "393/721 [===============>..............] - ETA: 2:32 - loss: 0.1436 - accuracy: 0.9484"
          ]
        },
        {
          "output_type": "stream",
          "name": "stderr",
          "text": [
            "[codecarbon INFO @ 09:19:23] Energy consumed for RAM : 0.008917 kWh. RAM Power : 4.754399299621582 W\n",
            "[codecarbon INFO @ 09:19:23] Energy consumed for all GPUs : 0.112878 kWh. Total GPU Power : 43.252 W\n",
            "[codecarbon INFO @ 09:19:23] Energy consumed for all CPUs : 0.079850 kWh. Total CPU Power : 42.5 W\n",
            "[codecarbon INFO @ 09:19:23] 0.201645 kWh of electricity used since the beginning.\n"
          ]
        },
        {
          "output_type": "stream",
          "name": "stdout",
          "text": [
            "425/721 [================>.............] - ETA: 2:17 - loss: 0.1415 - accuracy: 0.9495"
          ]
        },
        {
          "output_type": "stream",
          "name": "stderr",
          "text": [
            "[codecarbon INFO @ 09:19:38] Energy consumed for RAM : 0.008937 kWh. RAM Power : 4.754399299621582 W\n",
            "[codecarbon INFO @ 09:19:38] Energy consumed for all GPUs : 0.113320 kWh. Total GPU Power : 106.322 W\n",
            "[codecarbon INFO @ 09:19:38] Energy consumed for all CPUs : 0.080027 kWh. Total CPU Power : 42.5 W\n",
            "[codecarbon INFO @ 09:19:38] 0.202284 kWh of electricity used since the beginning.\n"
          ]
        },
        {
          "output_type": "stream",
          "name": "stdout",
          "text": [
            "458/721 [==================>...........] - ETA: 2:01 - loss: 0.1413 - accuracy: 0.9493"
          ]
        },
        {
          "output_type": "stream",
          "name": "stderr",
          "text": [
            "[codecarbon INFO @ 09:19:53] Energy consumed for RAM : 0.008957 kWh. RAM Power : 4.754399299621582 W\n",
            "[codecarbon INFO @ 09:19:53] Energy consumed for all GPUs : 0.113603 kWh. Total GPU Power : 67.98400000000001 W\n",
            "[codecarbon INFO @ 09:19:53] Energy consumed for all CPUs : 0.080204 kWh. Total CPU Power : 42.5 W\n",
            "[codecarbon INFO @ 09:19:53] 0.202764 kWh of electricity used since the beginning.\n"
          ]
        },
        {
          "output_type": "stream",
          "name": "stdout",
          "text": [
            "492/721 [===================>..........] - ETA: 1:45 - loss: 0.1436 - accuracy: 0.9486"
          ]
        },
        {
          "output_type": "stream",
          "name": "stderr",
          "text": [
            "[codecarbon INFO @ 09:20:08] Energy consumed for RAM : 0.008976 kWh. RAM Power : 4.754399299621582 W\n",
            "[codecarbon INFO @ 09:20:08] Energy consumed for all GPUs : 0.113904 kWh. Total GPU Power : 72.45400000000001 W\n",
            "[codecarbon INFO @ 09:20:08] Energy consumed for all CPUs : 0.080381 kWh. Total CPU Power : 42.5 W\n",
            "[codecarbon INFO @ 09:20:08] 0.203261 kWh of electricity used since the beginning.\n"
          ]
        },
        {
          "output_type": "stream",
          "name": "stdout",
          "text": [
            "525/721 [====================>.........] - ETA: 1:30 - loss: 0.1430 - accuracy: 0.9492"
          ]
        },
        {
          "output_type": "stream",
          "name": "stderr",
          "text": [
            "[codecarbon INFO @ 09:20:23] Energy consumed for RAM : 0.008996 kWh. RAM Power : 4.754399299621582 W\n",
            "[codecarbon INFO @ 09:20:23] Energy consumed for all GPUs : 0.114201 kWh. Total GPU Power : 71.325 W\n",
            "[codecarbon INFO @ 09:20:23] Energy consumed for all CPUs : 0.080558 kWh. Total CPU Power : 42.5 W\n",
            "[codecarbon INFO @ 09:20:23] 0.203755 kWh of electricity used since the beginning.\n"
          ]
        },
        {
          "output_type": "stream",
          "name": "stdout",
          "text": [
            "560/721 [======================>.......] - ETA: 1:13 - loss: 0.1415 - accuracy: 0.9495"
          ]
        },
        {
          "output_type": "stream",
          "name": "stderr",
          "text": [
            "[codecarbon INFO @ 09:20:38] Energy consumed for RAM : 0.009016 kWh. RAM Power : 4.754399299621582 W\n",
            "[codecarbon INFO @ 09:20:38] Energy consumed for all GPUs : 0.114475 kWh. Total GPU Power : 65.828 W\n",
            "[codecarbon INFO @ 09:20:38] Energy consumed for all CPUs : 0.080735 kWh. Total CPU Power : 42.5 W\n",
            "[codecarbon INFO @ 09:20:38] 0.204225 kWh of electricity used since the beginning.\n"
          ]
        },
        {
          "output_type": "stream",
          "name": "stdout",
          "text": [
            "592/721 [=======================>......] - ETA: 59s - loss: 0.1414 - accuracy: 0.9498"
          ]
        },
        {
          "output_type": "stream",
          "name": "stderr",
          "text": [
            "[codecarbon INFO @ 09:20:53] Energy consumed for RAM : 0.009036 kWh. RAM Power : 4.754399299621582 W\n",
            "[codecarbon INFO @ 09:20:53] Energy consumed for all GPUs : 0.114645 kWh. Total GPU Power : 41.083 W\n",
            "[codecarbon INFO @ 09:20:53] Energy consumed for all CPUs : 0.080912 kWh. Total CPU Power : 42.5 W\n",
            "[codecarbon INFO @ 09:20:53] 0.204593 kWh of electricity used since the beginning.\n"
          ]
        },
        {
          "output_type": "stream",
          "name": "stdout",
          "text": [
            "624/721 [========================>.....] - ETA: 44s - loss: 0.1438 - accuracy: 0.9491"
          ]
        },
        {
          "output_type": "stream",
          "name": "stderr",
          "text": [
            "[codecarbon INFO @ 09:21:08] Energy consumed for RAM : 0.009055 kWh. RAM Power : 4.754399299621582 W\n",
            "[codecarbon INFO @ 09:21:08] Energy consumed for all GPUs : 0.114941 kWh. Total GPU Power : 71.227 W\n",
            "[codecarbon INFO @ 09:21:08] Energy consumed for all CPUs : 0.081089 kWh. Total CPU Power : 42.5 W\n",
            "[codecarbon INFO @ 09:21:08] 0.205085 kWh of electricity used since the beginning.\n"
          ]
        },
        {
          "output_type": "stream",
          "name": "stdout",
          "text": [
            "658/721 [==========================>...] - ETA: 28s - loss: 0.1436 - accuracy: 0.9493"
          ]
        },
        {
          "output_type": "stream",
          "name": "stderr",
          "text": [
            "[codecarbon INFO @ 09:21:23] Energy consumed for RAM : 0.009075 kWh. RAM Power : 4.754399299621582 W\n",
            "[codecarbon INFO @ 09:21:23] Energy consumed for all GPUs : 0.115226 kWh. Total GPU Power : 68.333 W\n",
            "[codecarbon INFO @ 09:21:23] Energy consumed for all CPUs : 0.081266 kWh. Total CPU Power : 42.5 W\n",
            "[codecarbon INFO @ 09:21:23] 0.205566 kWh of electricity used since the beginning.\n"
          ]
        },
        {
          "output_type": "stream",
          "name": "stdout",
          "text": [
            "691/721 [===========================>..] - ETA: 13s - loss: 0.1436 - accuracy: 0.9491"
          ]
        },
        {
          "output_type": "stream",
          "name": "stderr",
          "text": [
            "[codecarbon INFO @ 09:21:38] Energy consumed for RAM : 0.009095 kWh. RAM Power : 4.754399299621582 W\n"
          ]
        },
        {
          "output_type": "stream",
          "name": "stdout",
          "text": [
            "\b\b\b\b\b\b\b\b\b\b\b\b\b\b\b\b\b\b\b\b\b\b\b\b\b\b\b\b\b\b\b\b\b\b\b\b\b\b\b\b\b\b\b\b\b\b\b\b\b\b\b\b\b\b\b\b\b\b\b\b\b\b\b\b\b\b\b\b\b\b\b\b\b\b\b\b\b\b\b\b\b\b\b\b\b\r692/721 [===========================>..] - ETA: 13s - loss: 0.1436 - accuracy: 0.9490"
          ]
        },
        {
          "output_type": "stream",
          "name": "stderr",
          "text": [
            "[codecarbon INFO @ 09:21:38] Energy consumed for all GPUs : 0.115528 kWh. Total GPU Power : 72.45400000000001 W\n",
            "[codecarbon INFO @ 09:21:38] Energy consumed for all CPUs : 0.081443 kWh. Total CPU Power : 42.5 W\n",
            "[codecarbon INFO @ 09:21:38] 0.206066 kWh of electricity used since the beginning.\n"
          ]
        },
        {
          "output_type": "stream",
          "name": "stdout",
          "text": [
            "721/721 [==============================] - ETA: 0s - loss: 0.1461 - accuracy: 0.9484"
          ]
        },
        {
          "output_type": "stream",
          "name": "stderr",
          "text": [
            "[codecarbon INFO @ 09:21:53] Energy consumed for RAM : 0.009115 kWh. RAM Power : 4.754399299621582 W\n",
            "[codecarbon INFO @ 09:21:53] Energy consumed for all GPUs : 0.115856 kWh. Total GPU Power : 79.20100000000001 W\n",
            "[codecarbon INFO @ 09:21:53] Energy consumed for all CPUs : 0.081620 kWh. Total CPU Power : 42.5 W\n",
            "[codecarbon INFO @ 09:21:53] 0.206591 kWh of electricity used since the beginning.\n",
            "[codecarbon INFO @ 09:22:08] Energy consumed for RAM : 0.009134 kWh. RAM Power : 4.754399299621582 W\n",
            "[codecarbon INFO @ 09:22:08] Energy consumed for all GPUs : 0.116014 kWh. Total GPU Power : 37.949 W\n",
            "[codecarbon INFO @ 09:22:08] Energy consumed for all CPUs : 0.081797 kWh. Total CPU Power : 42.5 W\n",
            "[codecarbon INFO @ 09:22:08] 0.206946 kWh of electricity used since the beginning.\n"
          ]
        },
        {
          "output_type": "stream",
          "name": "stdout",
          "text": [
            "\b\b\b\b\b\b\b\b\b\b\b\b\b\b\b\b\b\b\b\b\b\b\b\b\b\b\b\b\b\b\b\b\b\b\b\b\b\b\b\b\b\b\b\b\b\b\b\b\b\b\b\b\b\b\b\b\b\b\b\b\b\b\b\b\b\b\b\b\b\b\b\b\b\b\b\b\b\b\b\b\b\b\b\b\r721/721 [==============================] - 351s 486ms/step - loss: 0.1461 - accuracy: 0.9484 - val_loss: 0.2516 - val_accuracy: 0.9256\n"
          ]
        },
        {
          "output_type": "stream",
          "name": "stderr",
          "text": [
            "[codecarbon INFO @ 09:22:23] Energy consumed for RAM : 0.009154 kWh. RAM Power : 4.754399299621582 W\n",
            "[codecarbon INFO @ 09:22:23] Energy consumed for all GPUs : 0.116151 kWh. Total GPU Power : 32.854 W\n",
            "[codecarbon INFO @ 09:22:23] Energy consumed for all CPUs : 0.081974 kWh. Total CPU Power : 42.5 W\n",
            "[codecarbon INFO @ 09:22:23] 0.207279 kWh of electricity used since the beginning.\n",
            "[codecarbon INFO @ 09:22:38] Energy consumed for RAM : 0.009174 kWh. RAM Power : 4.754399299621582 W\n",
            "[codecarbon INFO @ 09:22:38] Energy consumed for all GPUs : 0.116287 kWh. Total GPU Power : 32.576 W\n",
            "[codecarbon INFO @ 09:22:38] Energy consumed for all CPUs : 0.082151 kWh. Total CPU Power : 42.5 W\n",
            "[codecarbon INFO @ 09:22:38] 0.207611 kWh of electricity used since the beginning.\n"
          ]
        },
        {
          "output_type": "stream",
          "name": "stdout",
          "text": [
            "Epoch 20/20\n",
            " 22/721 [..............................] - ETA: 5:23 - loss: 0.0945 - accuracy: 0.9631"
          ]
        },
        {
          "output_type": "stream",
          "name": "stderr",
          "text": [
            "[codecarbon INFO @ 09:22:53] Energy consumed for RAM : 0.009194 kWh. RAM Power : 4.754399299621582 W\n",
            "[codecarbon INFO @ 09:22:53] Energy consumed for all GPUs : 0.116466 kWh. Total GPU Power : 43.03 W\n",
            "[codecarbon INFO @ 09:22:53] Energy consumed for all CPUs : 0.082328 kWh. Total CPU Power : 42.5 W\n",
            "[codecarbon INFO @ 09:22:53] 0.207988 kWh of electricity used since the beginning.\n"
          ]
        },
        {
          "output_type": "stream",
          "name": "stdout",
          "text": [
            " 56/721 [=>............................] - ETA: 5:01 - loss: 0.1382 - accuracy: 0.9509"
          ]
        },
        {
          "output_type": "stream",
          "name": "stderr",
          "text": [
            "[codecarbon INFO @ 09:23:08] Energy consumed for RAM : 0.009214 kWh. RAM Power : 4.754399299621582 W\n",
            "[codecarbon INFO @ 09:23:08] Energy consumed for all GPUs : 0.116742 kWh. Total GPU Power : 66.416 W\n",
            "[codecarbon INFO @ 09:23:08] Energy consumed for all CPUs : 0.082505 kWh. Total CPU Power : 42.5 W\n",
            "[codecarbon INFO @ 09:23:08] 0.208461 kWh of electricity used since the beginning.\n"
          ]
        },
        {
          "output_type": "stream",
          "name": "stdout",
          "text": [
            " 90/721 [==>...........................] - ETA: 4:42 - loss: 0.1586 - accuracy: 0.9431"
          ]
        },
        {
          "output_type": "stream",
          "name": "stderr",
          "text": [
            "[codecarbon INFO @ 09:23:23] Energy consumed for RAM : 0.009233 kWh. RAM Power : 4.754399299621582 W\n",
            "[codecarbon INFO @ 09:23:23] Energy consumed for all GPUs : 0.116919 kWh. Total GPU Power : 42.537 W\n",
            "[codecarbon INFO @ 09:23:23] Energy consumed for all CPUs : 0.082682 kWh. Total CPU Power : 42.5 W\n",
            "[codecarbon INFO @ 09:23:23] 0.208835 kWh of electricity used since the beginning.\n"
          ]
        },
        {
          "output_type": "stream",
          "name": "stdout",
          "text": [
            "123/721 [====>.........................] - ETA: 4:27 - loss: 0.1540 - accuracy: 0.9446"
          ]
        },
        {
          "output_type": "stream",
          "name": "stderr",
          "text": [
            "[codecarbon INFO @ 09:23:38] Energy consumed for RAM : 0.009253 kWh. RAM Power : 4.754399299621582 W\n",
            "[codecarbon INFO @ 09:23:38] Energy consumed for all GPUs : 0.117219 kWh. Total GPU Power : 72.01 W\n"
          ]
        },
        {
          "output_type": "stream",
          "name": "stdout",
          "text": [
            "\b\b\b\b\b\b\b\b\b\b\b\b\b\b\b\b\b\b\b\b\b\b\b\b\b\b\b\b\b\b\b\b\b\b\b\b\b\b\b\b\b\b\b\b\b\b\b\b\b\b\b\b\b\b\b\b\b\b\b\b\b\b\b\b\b\b\b\b\b\b\b\b\b\b\b\b\b\b\b\b\b\b\b\b\b\b\r124/721 [====>.........................] - ETA: 4:27 - loss: 0.1576 - accuracy: 0.9446"
          ]
        },
        {
          "output_type": "stream",
          "name": "stderr",
          "text": [
            "[codecarbon INFO @ 09:23:38] Energy consumed for all CPUs : 0.082859 kWh. Total CPU Power : 42.5 W\n",
            "[codecarbon INFO @ 09:23:38] 0.209331 kWh of electricity used since the beginning.\n"
          ]
        },
        {
          "output_type": "stream",
          "name": "stdout",
          "text": [
            "158/721 [=====>........................] - ETA: 4:10 - loss: 0.1507 - accuracy: 0.9490"
          ]
        },
        {
          "output_type": "stream",
          "name": "stderr",
          "text": [
            "[codecarbon INFO @ 09:23:53] Energy consumed for RAM : 0.009273 kWh. RAM Power : 4.754399299621582 W\n",
            "[codecarbon INFO @ 09:23:53] Energy consumed for all GPUs : 0.117491 kWh. Total GPU Power : 65.574 W\n",
            "[codecarbon INFO @ 09:23:53] Energy consumed for all CPUs : 0.083036 kWh. Total CPU Power : 42.5 W\n",
            "[codecarbon INFO @ 09:23:53] 0.209800 kWh of electricity used since the beginning.\n"
          ]
        },
        {
          "output_type": "stream",
          "name": "stdout",
          "text": [
            "192/721 [======>.......................] - ETA: 3:54 - loss: 0.1482 - accuracy: 0.9489"
          ]
        },
        {
          "output_type": "stream",
          "name": "stderr",
          "text": [
            "[codecarbon INFO @ 09:24:08] Energy consumed for RAM : 0.009293 kWh. RAM Power : 4.754399299621582 W\n",
            "[codecarbon INFO @ 09:24:08] Energy consumed for all GPUs : 0.117783 kWh. Total GPU Power : 69.94300000000001 W\n",
            "[codecarbon INFO @ 09:24:08] Energy consumed for all CPUs : 0.083214 kWh. Total CPU Power : 42.5 W\n",
            "[codecarbon INFO @ 09:24:08] 0.210289 kWh of electricity used since the beginning.\n"
          ]
        },
        {
          "output_type": "stream",
          "name": "stdout",
          "text": [
            "227/721 [========>.....................] - ETA: 3:38 - loss: 0.1557 - accuracy: 0.9460"
          ]
        },
        {
          "output_type": "stream",
          "name": "stderr",
          "text": [
            "[codecarbon INFO @ 09:24:23] Energy consumed for RAM : 0.009312 kWh. RAM Power : 4.754399299621582 W\n",
            "[codecarbon INFO @ 09:24:23] Energy consumed for all GPUs : 0.118057 kWh. Total GPU Power : 66.024 W\n",
            "[codecarbon INFO @ 09:24:23] Energy consumed for all CPUs : 0.083390 kWh. Total CPU Power : 42.5 W\n",
            "[codecarbon INFO @ 09:24:23] 0.210760 kWh of electricity used since the beginning.\n"
          ]
        },
        {
          "output_type": "stream",
          "name": "stdout",
          "text": [
            "261/721 [=========>....................] - ETA: 3:23 - loss: 0.1519 - accuracy: 0.9476"
          ]
        },
        {
          "output_type": "stream",
          "name": "stderr",
          "text": [
            "[codecarbon INFO @ 09:24:38] Energy consumed for RAM : 0.009332 kWh. RAM Power : 4.754399299621582 W\n",
            "[codecarbon INFO @ 09:24:38] Energy consumed for all GPUs : 0.118379 kWh. Total GPU Power : 77.443 W\n",
            "[codecarbon INFO @ 09:24:38] Energy consumed for all CPUs : 0.083567 kWh. Total CPU Power : 42.5 W\n",
            "[codecarbon INFO @ 09:24:38] 0.211278 kWh of electricity used since the beginning.\n"
          ]
        },
        {
          "output_type": "stream",
          "name": "stdout",
          "text": [
            "296/721 [===========>..................] - ETA: 3:07 - loss: 0.1520 - accuracy: 0.9474"
          ]
        },
        {
          "output_type": "stream",
          "name": "stderr",
          "text": [
            "[codecarbon INFO @ 09:24:53] Energy consumed for RAM : 0.009352 kWh. RAM Power : 4.754399299621582 W\n",
            "[codecarbon INFO @ 09:24:53] Energy consumed for all GPUs : 0.118593 kWh. Total GPU Power : 51.444 W\n",
            "[codecarbon INFO @ 09:24:53] Energy consumed for all CPUs : 0.083744 kWh. Total CPU Power : 42.5 W\n",
            "[codecarbon INFO @ 09:24:53] 0.211689 kWh of electricity used since the beginning.\n"
          ]
        },
        {
          "output_type": "stream",
          "name": "stdout",
          "text": [
            "330/721 [============>.................] - ETA: 2:52 - loss: 0.1520 - accuracy: 0.9481"
          ]
        },
        {
          "output_type": "stream",
          "name": "stderr",
          "text": [
            "[codecarbon INFO @ 09:25:08] Energy consumed for RAM : 0.009372 kWh. RAM Power : 4.754399299621582 W\n",
            "[codecarbon INFO @ 09:25:08] Energy consumed for all GPUs : 0.118868 kWh. Total GPU Power : 66.06400000000001 W\n",
            "[codecarbon INFO @ 09:25:08] Energy consumed for all CPUs : 0.083922 kWh. Total CPU Power : 42.5 W\n",
            "[codecarbon INFO @ 09:25:08] 0.212161 kWh of electricity used since the beginning.\n"
          ]
        },
        {
          "output_type": "stream",
          "name": "stdout",
          "text": [
            "363/721 [==============>...............] - ETA: 2:38 - loss: 0.1487 - accuracy: 0.9490"
          ]
        },
        {
          "output_type": "stream",
          "name": "stderr",
          "text": [
            "[codecarbon INFO @ 09:25:23] Energy consumed for RAM : 0.009392 kWh. RAM Power : 4.754399299621582 W\n",
            "[codecarbon INFO @ 09:25:23] Energy consumed for all GPUs : 0.119176 kWh. Total GPU Power : 74.117 W\n",
            "[codecarbon INFO @ 09:25:23] Energy consumed for all CPUs : 0.084099 kWh. Total CPU Power : 42.5 W\n",
            "[codecarbon INFO @ 09:25:23] 0.212666 kWh of electricity used since the beginning.\n"
          ]
        },
        {
          "output_type": "stream",
          "name": "stdout",
          "text": [
            "396/721 [===============>..............] - ETA: 2:23 - loss: 0.1448 - accuracy: 0.9503"
          ]
        },
        {
          "output_type": "stream",
          "name": "stderr",
          "text": [
            "[codecarbon INFO @ 09:25:38] Energy consumed for RAM : 0.009411 kWh. RAM Power : 4.754399299621582 W\n",
            "[codecarbon INFO @ 09:25:38] Energy consumed for all GPUs : 0.119581 kWh. Total GPU Power : 97.266 W\n",
            "[codecarbon INFO @ 09:25:38] Energy consumed for all CPUs : 0.084276 kWh. Total CPU Power : 42.5 W\n",
            "[codecarbon INFO @ 09:25:38] 0.213268 kWh of electricity used since the beginning.\n"
          ]
        },
        {
          "output_type": "stream",
          "name": "stdout",
          "text": [
            "430/721 [================>.............] - ETA: 2:08 - loss: 0.1439 - accuracy: 0.9500"
          ]
        },
        {
          "output_type": "stream",
          "name": "stderr",
          "text": [
            "[codecarbon INFO @ 09:25:53] Energy consumed for RAM : 0.009431 kWh. RAM Power : 4.754399299621582 W\n",
            "[codecarbon INFO @ 09:25:53] Energy consumed for all GPUs : 0.119765 kWh. Total GPU Power : 44.212 W\n",
            "[codecarbon INFO @ 09:25:53] Energy consumed for all CPUs : 0.084453 kWh. Total CPU Power : 42.5 W\n",
            "[codecarbon INFO @ 09:25:53] 0.213649 kWh of electricity used since the beginning.\n"
          ]
        },
        {
          "output_type": "stream",
          "name": "stdout",
          "text": [
            "461/721 [==================>...........] - ETA: 1:55 - loss: 0.1501 - accuracy: 0.9481"
          ]
        },
        {
          "output_type": "stream",
          "name": "stderr",
          "text": [
            "[codecarbon INFO @ 09:26:08] Energy consumed for RAM : 0.009451 kWh. RAM Power : 4.754399299621582 W\n",
            "[codecarbon INFO @ 09:26:08] Energy consumed for all GPUs : 0.119928 kWh. Total GPU Power : 39.133 W\n",
            "[codecarbon INFO @ 09:26:08] Energy consumed for all CPUs : 0.084630 kWh. Total CPU Power : 42.5 W\n",
            "[codecarbon INFO @ 09:26:08] 0.214009 kWh of electricity used since the beginning.\n"
          ]
        },
        {
          "output_type": "stream",
          "name": "stdout",
          "text": [
            "494/721 [===================>..........] - ETA: 1:41 - loss: 0.1498 - accuracy: 0.9486"
          ]
        },
        {
          "output_type": "stream",
          "name": "stderr",
          "text": [
            "[codecarbon INFO @ 09:26:23] Energy consumed for RAM : 0.009471 kWh. RAM Power : 4.754399299621582 W\n",
            "[codecarbon INFO @ 09:26:23] Energy consumed for all GPUs : 0.120229 kWh. Total GPU Power : 72.303 W\n",
            "[codecarbon INFO @ 09:26:23] Energy consumed for all CPUs : 0.084807 kWh. Total CPU Power : 42.5 W\n",
            "[codecarbon INFO @ 09:26:23] 0.214507 kWh of electricity used since the beginning.\n"
          ]
        },
        {
          "output_type": "stream",
          "name": "stdout",
          "text": [
            "528/721 [====================>.........] - ETA: 1:26 - loss: 0.1492 - accuracy: 0.9487"
          ]
        },
        {
          "output_type": "stream",
          "name": "stderr",
          "text": [
            "[codecarbon INFO @ 09:26:38] Energy consumed for RAM : 0.009490 kWh. RAM Power : 4.754399299621582 W\n",
            "[codecarbon INFO @ 09:26:38] Energy consumed for all GPUs : 0.120555 kWh. Total GPU Power : 78.371 W\n",
            "[codecarbon INFO @ 09:26:38] Energy consumed for all CPUs : 0.084984 kWh. Total CPU Power : 42.5 W\n",
            "[codecarbon INFO @ 09:26:38] 0.215030 kWh of electricity used since the beginning.\n"
          ]
        },
        {
          "output_type": "stream",
          "name": "stdout",
          "text": [
            "562/721 [======================>.......] - ETA: 1:10 - loss: 0.1493 - accuracy: 0.9485"
          ]
        },
        {
          "output_type": "stream",
          "name": "stderr",
          "text": [
            "[codecarbon INFO @ 09:26:53] Energy consumed for RAM : 0.009510 kWh. RAM Power : 4.754399299621582 W\n",
            "[codecarbon INFO @ 09:26:53] Energy consumed for all GPUs : 0.120735 kWh. Total GPU Power : 43.154 W\n",
            "[codecarbon INFO @ 09:26:53] Energy consumed for all CPUs : 0.085161 kWh. Total CPU Power : 42.5 W\n",
            "[codecarbon INFO @ 09:26:53] 0.215407 kWh of electricity used since the beginning.\n"
          ]
        },
        {
          "output_type": "stream",
          "name": "stdout",
          "text": [
            "595/721 [=======================>......] - ETA: 56s - loss: 0.1499 - accuracy: 0.9486"
          ]
        },
        {
          "output_type": "stream",
          "name": "stderr",
          "text": [
            "[codecarbon INFO @ 09:27:08] Energy consumed for RAM : 0.009530 kWh. RAM Power : 4.754399299621582 W\n",
            "[codecarbon INFO @ 09:27:08] Energy consumed for all GPUs : 0.120912 kWh. Total GPU Power : 42.661 W\n",
            "[codecarbon INFO @ 09:27:08] Energy consumed for all CPUs : 0.085339 kWh. Total CPU Power : 42.5 W\n",
            "[codecarbon INFO @ 09:27:08] 0.215781 kWh of electricity used since the beginning.\n"
          ]
        },
        {
          "output_type": "stream",
          "name": "stdout",
          "text": [
            "629/721 [=========================>....] - ETA: 40s - loss: 0.1489 - accuracy: 0.9492"
          ]
        },
        {
          "output_type": "stream",
          "name": "stderr",
          "text": [
            "[codecarbon INFO @ 09:27:23] Energy consumed for RAM : 0.009550 kWh. RAM Power : 4.754399299621582 W\n",
            "[codecarbon INFO @ 09:27:23] Energy consumed for all GPUs : 0.121260 kWh. Total GPU Power : 83.492 W\n",
            "[codecarbon INFO @ 09:27:23] Energy consumed for all CPUs : 0.085516 kWh. Total CPU Power : 42.5 W\n",
            "[codecarbon INFO @ 09:27:23] 0.216325 kWh of electricity used since the beginning.\n"
          ]
        },
        {
          "output_type": "stream",
          "name": "stdout",
          "text": [
            "662/721 [==========================>...] - ETA: 26s - loss: 0.1474 - accuracy: 0.9496"
          ]
        },
        {
          "output_type": "stream",
          "name": "stderr",
          "text": [
            "[codecarbon INFO @ 09:27:38] Energy consumed for RAM : 0.009570 kWh. RAM Power : 4.754399299621582 W\n",
            "[codecarbon INFO @ 09:27:38] Energy consumed for all GPUs : 0.121422 kWh. Total GPU Power : 39.133 W\n",
            "[codecarbon INFO @ 09:27:38] Energy consumed for all CPUs : 0.085692 kWh. Total CPU Power : 42.5 W\n",
            "[codecarbon INFO @ 09:27:38] 0.216684 kWh of electricity used since the beginning.\n"
          ]
        },
        {
          "output_type": "stream",
          "name": "stdout",
          "text": [
            "694/721 [===========================>..] - ETA: 12s - loss: 0.1469 - accuracy: 0.9503"
          ]
        },
        {
          "output_type": "stream",
          "name": "stderr",
          "text": [
            "[codecarbon INFO @ 09:27:53] Energy consumed for RAM : 0.009589 kWh. RAM Power : 4.754399299621582 W\n",
            "[codecarbon INFO @ 09:27:53] Energy consumed for all GPUs : 0.121713 kWh. Total GPU Power : 69.802 W\n",
            "[codecarbon INFO @ 09:27:53] Energy consumed for all CPUs : 0.085869 kWh. Total CPU Power : 42.5 W\n",
            "[codecarbon INFO @ 09:27:53] 0.217171 kWh of electricity used since the beginning.\n"
          ]
        },
        {
          "output_type": "stream",
          "name": "stdout",
          "text": [
            "721/721 [==============================] - ETA: 0s - loss: 0.1475 - accuracy: 0.9502"
          ]
        },
        {
          "output_type": "stream",
          "name": "stderr",
          "text": [
            "[codecarbon INFO @ 09:28:08] Energy consumed for RAM : 0.009609 kWh. RAM Power : 4.754399299621582 W\n",
            "[codecarbon INFO @ 09:28:08] Energy consumed for all GPUs : 0.122021 kWh. Total GPU Power : 74.261 W\n",
            "[codecarbon INFO @ 09:28:08] Energy consumed for all CPUs : 0.086046 kWh. Total CPU Power : 42.5 W\n",
            "[codecarbon INFO @ 09:28:08] 0.217677 kWh of electricity used since the beginning.\n",
            "[codecarbon INFO @ 09:28:23] Energy consumed for RAM : 0.009629 kWh. RAM Power : 4.754399299621582 W\n",
            "[codecarbon INFO @ 09:28:23] Energy consumed for all GPUs : 0.122178 kWh. Total GPU Power : 37.653 W\n",
            "[codecarbon INFO @ 09:28:23] Energy consumed for all CPUs : 0.086223 kWh. Total CPU Power : 42.5 W\n",
            "[codecarbon INFO @ 09:28:23] 0.218030 kWh of electricity used since the beginning.\n"
          ]
        },
        {
          "output_type": "stream",
          "name": "stdout",
          "text": [
            "\b\b\b\b\b\b\b\b\b\b\b\b\b\b\b\b\b\b\b\b\b\b\b\b\b\b\b\b\b\b\b\b\b\b\b\b\b\b\b\b\b\b\b\b\b\b\b\b\b\b\b\b\b\b\b\b\b\b\b\b\b\b\b\b\b\b\b\b\b\b\b\b\b\b\b\b\b\b\b\b\b\b\b\b\r721/721 [==============================] - 341s 473ms/step - loss: 0.1475 - accuracy: 0.9502 - val_loss: 0.2098 - val_accuracy: 0.9409\n"
          ]
        },
        {
          "output_type": "execute_result",
          "data": {
            "text/plain": [
              "<keras.callbacks.History at 0x7fe99ac7d9c0>"
            ]
          },
          "metadata": {},
          "execution_count": 17
        }
      ],
      "source": [
        "# Model fitting\n",
        "model.fit(train_generator,validation_data=val_generator,epochs=epochs)"
      ]
    },
    {
      "cell_type": "code",
      "source": [
        "emissions: float = tracker.stop()"
      ],
      "metadata": {
        "colab": {
          "base_uri": "https://localhost:8080/"
        },
        "id": "jPaAOsFwF3aJ",
        "outputId": "eb895574-0b7d-4f57-a18c-e598d25f4e0c"
      },
      "execution_count": null,
      "outputs": [
        {
          "output_type": "stream",
          "name": "stderr",
          "text": [
            "[codecarbon INFO @ 09:28:41] Energy consumed for RAM : 0.009653 kWh. RAM Power : 4.754399299621582 W\n",
            "[codecarbon INFO @ 09:28:41] Energy consumed for all GPUs : 0.122342 kWh. Total GPU Power : 32.477000000000004 W\n",
            "[codecarbon INFO @ 09:28:41] Energy consumed for all CPUs : 0.086439 kWh. Total CPU Power : 42.5 W\n",
            "[codecarbon INFO @ 09:28:41] 0.218434 kWh of electricity used since the beginning.\n"
          ]
        }
      ]
    },
    {
      "cell_type": "code",
      "source": [
        "print(f\"Emissions: {emissions} kg\")"
      ],
      "metadata": {
        "colab": {
          "base_uri": "https://localhost:8080/"
        },
        "id": "PXntV1G3GBtM",
        "outputId": "233dacb2-e5f3-4fd9-bf60-34fc7807a34a"
      },
      "execution_count": null,
      "outputs": [
        {
          "output_type": "stream",
          "name": "stdout",
          "text": [
            "Emissions: 0.07233508386665505 kg\n"
          ]
        }
      ]
    },
    {
      "cell_type": "code",
      "execution_count": null,
      "metadata": {
        "id": "uP4MkR3dLr1N"
      },
      "outputs": [],
      "source": [
        "model.save('/content/drive/MyDrive/US Project/US_Plane_v2.h5')"
      ]
    },
    {
      "cell_type": "markdown",
      "metadata": {
        "id": "ktOm5PprLhiW"
      },
      "source": [
        "## Training curves"
      ]
    },
    {
      "cell_type": "code",
      "execution_count": null,
      "metadata": {
        "id": "k6k-CKV4Ldp_"
      },
      "outputs": [],
      "source": [
        "# Storing model history of performance within variable 'metrics'\n",
        "metrics = pd.DataFrame(model.history.history)"
      ]
    },
    {
      "cell_type": "code",
      "execution_count": null,
      "metadata": {
        "colab": {
          "base_uri": "https://localhost:8080/",
          "height": 472
        },
        "id": "wYO9dRXjLwTW",
        "outputId": "5d6a724a-5a95-40a4-926b-b7a9887ece7c"
      },
      "outputs": [
        {
          "output_type": "display_data",
          "data": {
            "text/plain": [
              "<Figure size 640x480 with 1 Axes>"
            ],
            "image/png": "[encoded data removed]"
          },
          "metadata": {}
        }
      ],
      "source": [
        "# Plot of train set loss and validation set loss\n",
        "metrics[['loss','val_loss']].plot()\n",
        "# Labelling Graph\n",
        "plt.grid()\n",
        "plt.title('Model Loss')\n",
        "plt.ylabel('Loss')\n",
        "plt.xlabel('Epochs')\n",
        "plt.legend(['train','validation'])\n",
        "plt.show()"
      ]
    },
    {
      "cell_type": "code",
      "execution_count": null,
      "metadata": {
        "colab": {
          "base_uri": "https://localhost:8080/",
          "height": 472
        },
        "id": "8cWN1VKLLwoC",
        "outputId": "860eca81-807d-4c49-f795-3a0508718444"
      },
      "outputs": [
        {
          "output_type": "display_data",
          "data": {
            "text/plain": [
              "<Figure size 640x480 with 1 Axes>"
            ],
            "image/png": "[encoded data removed]"
          },
          "metadata": {}
        }
      ],
      "source": [
        "# Plot of train set accuracy and validation set accuracy\n",
        "metrics[['accuracy','val_accuracy']].plot()\n",
        "# Labelling Graph\n",
        "plt.grid()\n",
        "plt.title('Model Accuracy')\n",
        "plt.ylabel('Accuracy')\n",
        "plt.xlabel('Epochs')\n",
        "plt.legend(['train','validation'])\n",
        "plt.show()"
      ]
    },
    {
      "cell_type": "markdown",
      "metadata": {
        "id": "15gK3NcML6DP"
      },
      "source": [
        "## Model Performance Evaluation"
      ]
    },
    {
      "cell_type": "code",
      "execution_count": null,
      "metadata": {
        "colab": {
          "base_uri": "https://localhost:8080/"
        },
        "id": "wFhMge_NL4a4",
        "outputId": "018746a0-6f4c-4b2e-9927-c9224c6de613"
      },
      "outputs": [
        {
          "output_type": "stream",
          "name": "stdout",
          "text": [
            "91/91 [==============================] - 28s 306ms/step\n"
          ]
        }
      ],
      "source": [
        "# Predictions on test set\n",
        "pred = model.predict(test_generator)\n",
        "predictions = np.argmax(pred, axis=1)"
      ]
    },
    {
      "cell_type": "code",
      "source": [
        "print(predictions[1000:])"
      ],
      "metadata": {
        "colab": {
          "base_uri": "https://localhost:8080/"
        },
        "id": "aanLFHzriwsq",
        "outputId": "cedd8b9a-d5de-4189-da39-c5a7c57509ef"
      },
      "execution_count": null,
      "outputs": [
        {
          "output_type": "stream",
          "name": "stdout",
          "text": [
            "[5 5 5 5 5 5 2 5 5 5 5 5 5 5 1 5 5 0 5 5 5 5 5 5 5 5 3 0 5 3 5 3 5 5 5 5 5\n",
            " 5 5 5 5 5 5 5 5 5 2 3 5 5 2 3 5 5 0 5 0 5 0 5 5 5 5 5 5 5 5 5 5 5 5 5 1 5\n",
            " 5 5 5 5 3 5 5 5 5 5 5 5 2 5 5 5 5 5 5 5 5 0 5 5 5 5 5 5 5 5 5 5 5 4 5 5 5\n",
            " 5 2 5 5 5 5 5 2 5 5 5 5 5 5 5 5 5 5 5 5 5 5 5 5 5 5 3 5 5 5 5 5 0 5 0 0 5\n",
            " 5 5 5 5 5 5 5 5 5 5 5 5 5 5 2 0 5 5 5 5 5 5 5 5 5 5 5 5 5 5 5 5 3 5 5 5 5\n",
            " 5 5 5 0 5 5 5 5 5 5 5 5 5 5 5 5 1 1 2 5 5 5 5 5 5 5 5 5 5 5 5 5 5 5 1 5 2\n",
            " 5 5 5 0 2 5 2 2 5 5 5 5 5 5 0 5 5 5 5 5 2 1 5 6 6 6 6 6 6 6 6 6 6 6 6 6 6\n",
            " 6 6 6 6 6 6 6 6 6 6 6 6 6 6 6 6 6 6 6 6 6 6 6 6 6 6 6 6 6 6 6 6 6 6 6 6 6\n",
            " 6 6 6 6 6 6 6 6 6 6 6 6 6 6 6 6 6 6 6 6 6 6 6 6 6 6 6 6 6 6 6 6 6 6 6 6 6\n",
            " 6 6 6 6 6 6 6 6 6 6 6 6 6 6 6 6 6 6 6 6 5 6 6 6 6 6 6 6 6 6 6 6 6 6 6 6 6\n",
            " 6 6 6 6 6 6 6 6 6 6 6 6 6 6 6 6 6 6 6 6 6 6 6 6 6 6 6 6 6 6 6 6 6 6 6 6 6\n",
            " 6 6 6 6 6 6 6 6 6 6 6 6 6 6 6 6 6 6 6 6 6 6 6 6 6 6 6 6 6 6 6 6 6 6 6 6 6\n",
            " 6 6 6]\n"
          ]
        }
      ]
    },
    {
      "cell_type": "code",
      "execution_count": null,
      "metadata": {
        "colab": {
          "base_uri": "https://localhost:8080/"
        },
        "id": "d9Ok7fYTLxHS",
        "outputId": "8f2bda03-6937-41e3-bdb2-ddca25ae115e"
      },
      "outputs": [
        {
          "output_type": "stream",
          "name": "stdout",
          "text": [
            "                 precision    recall  f1-score   support\n",
            "\n",
            "  Fetal abdomen       0.82      0.82      0.82        72\n",
            "    Fetal brain       0.98      0.99      0.99       310\n",
            "    Fetal femur       0.78      0.93      0.85       104\n",
            "   Fetal thorax       0.91      0.97      0.94       173\n",
            "Maternal cervix       0.99      1.00      0.99       164\n",
            "          Other       0.95      0.87      0.91       422\n",
            "        Unknown       1.00      1.00      1.00       202\n",
            "\n",
            "       accuracy                           0.94      1447\n",
            "      macro avg       0.92      0.94      0.93      1447\n",
            "   weighted avg       0.94      0.94      0.94      1447\n",
            "\n"
          ]
        }
      ],
      "source": [
        "# Classification report\n",
        "target_names = ['Fetal abdomen','Fetal brain','Fetal femur','Fetal thorax','Maternal cervix','Other','Unknown']\n",
        "print(classification_report(test_generator.classes,predictions,target_names=target_names))"
      ]
    },
    {
      "cell_type": "code",
      "execution_count": null,
      "metadata": {
        "id": "8hwXIGqCMIz1"
      },
      "outputs": [],
      "source": [
        "# Creating dataframe for confusion matrix\n",
        "cm = confusion_matrix(test_generator.classes,predictions)\n",
        "cm_df = pd.DataFrame(cm,\n",
        "                     index = target_names,\n",
        "                     columns = target_names)"
      ]
    },
    {
      "cell_type": "code",
      "execution_count": null,
      "metadata": {
        "colab": {
          "base_uri": "https://localhost:8080/",
          "height": 574
        },
        "id": "Qvpj2MIqMSrI",
        "outputId": "d7e4db9b-8244-4b66-83de-761daf86f5dc"
      },
      "outputs": [
        {
          "output_type": "display_data",
          "data": {
            "text/plain": [
              "<Figure size 1000x800 with 2 Axes>"
            ],
            "image/png": "[encoded data removed]"
          },
          "metadata": {}
        }
      ],
      "source": [
        "# Plotting the confusion matrix\n",
        "plt.figure(figsize=(10,8))\n",
        "sns.heatmap(cm_df, annot=True)\n",
        "#plt.title('Confusion Matrix')\n",
        "plt.ylabel('Actual Values')\n",
        "plt.xlabel('Predicted Values')\n",
        "plt.show()"
      ]
    },
    {
      "cell_type": "markdown",
      "metadata": {
        "id": "RajWHiHC61bd"
      },
      "source": [
        "## XAI"
      ]
    },
    {
      "cell_type": "markdown",
      "metadata": {
        "id": "SjNCHzgf64CW"
      },
      "source": [
        "###GradCAM"
      ]
    },
    {
      "cell_type": "code",
      "execution_count": null,
      "metadata": {
        "id": "pTGLnSkh6vJ6"
      },
      "outputs": [],
      "source": [
        "import tensorflow as tf\n",
        "# Model Explainability\n",
        "def get_img_array(img_path, size):\n",
        "    img = tf.keras.preprocessing.image.load_img(img_path, target_size=size)\n",
        "    array = tf.keras.preprocessing.image.img_to_array(img)\n",
        "    array = preprocess_input(array)\n",
        "    array = np.expand_dims(array, axis=0)\n",
        "    return array\n",
        "\n",
        "def make_gradcam_heatmap(img_array, model, pred_index=None):\n",
        "\n",
        "      grad_model = tf.keras.models.Model(\n",
        "                                  [model.get_layer('input_1').input],\n",
        "                                  [model.get_layer(\"conv2d_12\").output,\n",
        "                                  model.output]\n",
        "                                        )\n",
        "      print(grad_model.outputs)\n",
        "      with tf.GradientTape() as tape:\n",
        "          last_conv_layer_output, preds = grad_model(img_array)\n",
        "          print(\"preds:\",preds[0])\n",
        "          if pred_index is None:\n",
        "              pred_index = tf.argmax(preds[0])\n",
        "          print(\"pred_index:\",pred_index)\n",
        "          class_channel = preds[:, pred_index]\n",
        "          print(\"class_channel:\",class_channel)\n",
        "\n",
        "\n",
        "      grads = tape.gradient(class_channel, last_conv_layer_output)\n",
        "\n",
        "\n",
        "      pooled_grads = tf.reduce_mean(grads, axis=(0, 1, 2))\n",
        "\n",
        "      last_conv_layer_output = last_conv_layer_output[0]\n",
        "      heatmap = last_conv_layer_output @ pooled_grads[..., tf.newaxis]\n",
        "      heatmap = tf.squeeze(heatmap)\n",
        "\n",
        "    #For visualization purpose,we will also normalize the heatmap between 0 & 1\n",
        "      heatmap = tf.maximum(heatmap, 0) / tf.math.reduce_max(heatmap)\n",
        "      return heatmap.numpy()\n",
        "\n",
        "def save_and_display_gradcam(img_path, heatmap, cam_path=\"cam.jpg\", alpha=5):\n",
        "    # Load the original image\n",
        "    img = tf.keras.preprocessing.image.load_img(img_path)\n",
        "    img = tf.keras.preprocessing.image.img_to_array(img)\n",
        "\n",
        "    # Rescale heatmap to a range 0-255\n",
        "    heatmap = np.uint8(255 * heatmap)\n",
        "\n",
        "    # Use jet colormap to colorize heatmap\n",
        "    jet = cm.get_cmap(\"jet\")\n",
        "\n",
        "    # Use RGB values of the colormap\n",
        "    jet_colors = jet(np.arange(256))[:, :3]\n",
        "    jet_heatmap = jet_colors[heatmap]\n",
        "\n",
        "    # Create an image with RGB colorized heatmap\n",
        "    jet_heatmap = tf.keras.preprocessing.image.array_to_img(jet_heatmap)\n",
        "    jet_heatmap = jet_heatmap.resize((img.shape[1], img.shape[0]))\n",
        "    jet_heatmap = tf.keras.preprocessing.image.img_to_array(jet_heatmap)\n",
        "\n",
        "    # Superimpose the heatmap on original image\n",
        "    superimposed_img = jet_heatmap * alpha + img\n",
        "    superimposed_img = tf.keras.preprocessing.image.array_to_img(superimposed_img)\n",
        "\n",
        "    # Save the superimposed image\n",
        "    superimposed_img.save(cam_path)\n",
        "\n",
        "    # Save the heatmap\n",
        "    jet_heatmap = tf.keras.preprocessing.image.array_to_img(jet_heatmap * alpha)\n",
        "    jet_heatmap.save('heatmap.jpg')\n",
        "\n",
        "    # Display Grad CAM\n",
        "    display(Image(cam_path))\n"
      ]
    },
    {
      "cell_type": "code",
      "execution_count": null,
      "metadata": {
        "id": "SIOkVmk66vbr"
      },
      "outputs": [],
      "source": [
        "# Loading image folder path\n",
        "gen_dir = test_data_dir + '/Fetal brain/'\n",
        "\n",
        "# Obtaining random image name from image folder\n",
        "img_name = random.choice(os.listdir(gen_dir))\n",
        "\n",
        "# Joining image folder path and image name\n",
        "img_path = os.path.join(gen_dir, img_name)\n",
        "\n",
        "# Load image using path\n",
        "img = tf.keras.preprocessing.image.load_img(img_path)\n",
        "\n",
        "# Save original image\n",
        "img.save('original.jpg')\n",
        "\n",
        "# Prepare image\n",
        "img_array = get_img_array(img_path, size=(224, 224))\n",
        "\n",
        "# Remove last layer's softmax\n",
        "model.layers[-1].activation = None\n",
        "\n",
        "# Print what the top predicted class is\n",
        "preds = model.predict(img_array)\n",
        "prediction = np.argmax(preds)\n",
        "print(prediction)\n",
        "\n",
        "# Generate class activation heatmap\n",
        "heatmap = make_gradcam_heatmap(img_array, model)\n",
        "\n",
        "# Display heatmap\n",
        "plt.matshow(heatmap,cmap='OrRd')\n",
        "plt.colorbar()\n",
        "plt.show()"
      ]
    },
    {
      "cell_type": "code",
      "execution_count": null,
      "metadata": {
        "id": "QiOjzH1M6v70"
      },
      "outputs": [],
      "source": [
        "import matplotlib.cm as cm\n",
        "save_and_display_gradcam(img_path, heatmap)"
      ]
    },
    {
      "cell_type": "code",
      "execution_count": null,
      "metadata": {
        "id": "qzGnsLgI7FXm"
      },
      "outputs": [],
      "source": [
        "plt.figure(figsize=(20,20),facecolor='black')\n",
        "\n",
        "plt.subplot(1,2,1)\n",
        "img = plt.imread(img_path)\n",
        "plt.imshow(img,cmap='gray')\n",
        "plt.grid(False)\n",
        "plt.axis('off')\n",
        "\n",
        "plt.subplot(1,2,2)\n",
        "im = plt.imread(\"cam.jpg\")\n",
        "plt.imshow(im,cmap='gray')\n",
        "plt.grid(False)\n",
        "plt.axis('off')\n",
        "\n",
        "plt.show()"
      ]
    },
    {
      "cell_type": "markdown",
      "metadata": {
        "id": "JRvU8HXI7Hda"
      },
      "source": [
        "### LIME"
      ]
    },
    {
      "cell_type": "code",
      "execution_count": null,
      "metadata": {
        "id": "i43aVDSG7J0C"
      },
      "outputs": [],
      "source": [
        "!pip install lime"
      ]
    },
    {
      "cell_type": "code",
      "execution_count": null,
      "metadata": {
        "id": "H3xXwCSq7MQB"
      },
      "outputs": [],
      "source": [
        "from lime import lime_image\n",
        "\n",
        "explainer = lime_image.LimeImageExplainer()\n",
        "\n",
        "# Define the segmentation function\n",
        "def segment_fn(image):\n",
        "    segments = slic(image, n_segments=100, compactness=10)\n",
        "    return segments"
      ]
    },
    {
      "cell_type": "code",
      "execution_count": null,
      "metadata": {
        "id": "HDOnRNhNSmN3"
      },
      "outputs": [],
      "source": [
        "# Load image using path\n",
        "img = tf.keras.preprocessing.image.load_img(img_path,target_size=target_size)"
      ]
    },
    {
      "cell_type": "code",
      "execution_count": null,
      "metadata": {
        "id": "MAMHF0-77MsQ"
      },
      "outputs": [],
      "source": [
        "image = tf.keras.preprocessing.image.img_to_array(img)"
      ]
    },
    {
      "cell_type": "code",
      "execution_count": null,
      "metadata": {
        "id": "TZLAqs-IUOLj"
      },
      "outputs": [],
      "source": [
        "image.shape"
      ]
    },
    {
      "cell_type": "code",
      "execution_count": null,
      "metadata": {
        "colab": {
          "background_save": true
        },
        "id": "hNIpQfQf7NHt"
      },
      "outputs": [],
      "source": [
        "from skimage.segmentation import slic\n",
        "# Explain the prediction using LimeImageExplainer with the custom segmentation function\n",
        "explanation = explainer.explain_instance(image.astype('double'), model.predict,\n",
        "                                          top_labels=3, hide_color=0, num_samples=1000,\n",
        "                                          segmentation_fn=segment_fn)"
      ]
    },
    {
      "cell_type": "code",
      "execution_count": null,
      "metadata": {
        "id": "CuDFb-jO7eD_"
      },
      "outputs": [],
      "source": [
        "explanation.top_labels[0]"
      ]
    },
    {
      "cell_type": "code",
      "execution_count": null,
      "metadata": {
        "id": "Oap-ZdLt7eYv"
      },
      "outputs": [],
      "source": [
        "# Visualize the explanations\n",
        "explanation_image, mask = explanation.get_image_and_mask(explanation.top_labels[0],\n",
        "                                                         positive_only=True,\n",
        "                                                         negative_only= False,\n",
        "                                                         num_features=1, hide_rest=False)"
      ]
    },
    {
      "cell_type": "code",
      "execution_count": null,
      "metadata": {
        "id": "h6FAIuDI7fAS"
      },
      "outputs": [],
      "source": [
        "# Plot the input image and the explanation image with mask\n",
        "fig, axs = plt.subplots(ncols=2, figsize=(8, 4))\n",
        "axs[0].imshow(image/255)\n",
        "axs[0].set_title('Input Image')\n",
        "axs[0].axis('off')\n",
        "axs[1].imshow(explanation_image/255)\n",
        "axs[1].imshow(mask, cmap='jet', alpha=0.5)\n",
        "axs[1].set_title('Explanation Image with Mask')\n",
        "axs[1].axis('off')\n",
        "plt.show()"
      ]
    },
    {
      "cell_type": "code",
      "execution_count": null,
      "metadata": {
        "id": "VTVpTowx7fYW"
      },
      "outputs": [],
      "source": [
        "from skimage.segmentation import mark_boundaries\n",
        "\n",
        "# Visualize the explanations\n",
        "explanation_image_1, mask_1 = explanation.get_image_and_mask(explanation.top_labels[0],\n",
        "                                                         positive_only=True,\n",
        "                                                         negative_only=False,\n",
        "                                                         num_features=10,\n",
        "                                                         hide_rest=True)\n",
        "# Visualize the explanations\n",
        "explanation_image_2, mask_2 = explanation.get_image_and_mask(explanation.top_labels[0],\n",
        "                                                         positive_only=False,\n",
        "                                                         negative_only=False,\n",
        "                                                         num_features=10,\n",
        "                                                         hide_rest=False)\n",
        "\n",
        "fig, (ax1,ax2,ax3) = plt.subplots(1,3,figsize=(15,15))\n",
        "ax1.imshow(mark_boundaries(explanation_image_1/255,mask_1))\n",
        "ax2.imshow(mark_boundaries(explanation_image_2/255,mask_2))\n",
        "ax3.imshow(img)\n",
        "ax1.axis('off')\n",
        "ax2.axis('off')\n",
        "ax3.axis('off')"
      ]
    },
    {
      "cell_type": "markdown",
      "source": [
        "### SHAP"
      ],
      "metadata": {
        "id": "TTzApuCWHf0a"
      }
    },
    {
      "cell_type": "code",
      "source": [
        "!pip install shap"
      ],
      "metadata": {
        "id": "JORWrYZKHiix"
      },
      "execution_count": null,
      "outputs": []
    },
    {
      "cell_type": "code",
      "source": [
        "import shap"
      ],
      "metadata": {
        "id": "264exU5cHxIJ"
      },
      "execution_count": null,
      "outputs": []
    },
    {
      "cell_type": "markdown",
      "source": [
        "#### A quick run with a few evaluations"
      ],
      "metadata": {
        "id": "hYbIQIRxJG8_"
      }
    },
    {
      "cell_type": "code",
      "source": [
        "# Python function to get model output\n",
        "def f(x):\n",
        "    tmp = x.copy()\n",
        "    preprocess_input(tmp)\n",
        "    return model(tmp)"
      ],
      "metadata": {
        "id": "CfqtD_PfHzXd"
      },
      "execution_count": null,
      "outputs": []
    },
    {
      "cell_type": "code",
      "source": [
        "batch = next(test_generator)[0]"
      ],
      "metadata": {
        "id": "LplWR_wFH843"
      },
      "execution_count": null,
      "outputs": []
    },
    {
      "cell_type": "code",
      "source": [
        "batch[0].shape"
      ],
      "metadata": {
        "id": "8A7LfGXlHzlX"
      },
      "execution_count": null,
      "outputs": []
    },
    {
      "cell_type": "code",
      "source": [
        "# define a masker that is used to mask out partitions of the input image.\n",
        "masker = shap.maskers.Image(\"inpaint_telea\", batch[0].shape)"
      ],
      "metadata": {
        "id": "7fX_lsW8IGLX"
      },
      "execution_count": null,
      "outputs": []
    },
    {
      "cell_type": "code",
      "source": [
        "class_names = ['Fetal abdomen','Fetal brain','Fetal femur','Fetal thorax','Maternal cervix','Other','Unknown']"
      ],
      "metadata": {
        "id": "NTxprFCTIGQI"
      },
      "execution_count": null,
      "outputs": []
    },
    {
      "cell_type": "code",
      "source": [
        "# create an explainer with model and image masker\n",
        "explainer = shap.Explainer(f, masker, output_names=class_names)"
      ],
      "metadata": {
        "id": "xOhASZT9IQ_A"
      },
      "execution_count": null,
      "outputs": []
    },
    {
      "cell_type": "code",
      "source": [
        "# here we explain two images using 500 evaluations of the underlying model to estimate the SHAP values\n",
        "shap_values = explainer(batch[1:3], max_evals=100, batch_size=50, outputs=shap.Explanation.argsort.flip[:4])"
      ],
      "metadata": {
        "id": "FnLiPvyyInz6"
      },
      "execution_count": null,
      "outputs": []
    },
    {
      "cell_type": "code",
      "source": [
        "# output with shap values\n",
        "shap.image_plot(shap_values[1])"
      ],
      "metadata": {
        "id": "zeYqdj2ZIqQO"
      },
      "execution_count": null,
      "outputs": []
    },
    {
      "cell_type": "markdown",
      "source": [
        "#### A longer run with many evaluations"
      ],
      "metadata": {
        "id": "tdajxLl0I7sN"
      }
    },
    {
      "cell_type": "code",
      "source": [
        "# Python function to get model output\n",
        "def f(x):\n",
        "    tmp = x.copy()\n",
        "    preprocess_input(tmp)\n",
        "    return model(tmp)"
      ],
      "metadata": {
        "id": "I3XiITRZI_Ks"
      },
      "execution_count": null,
      "outputs": []
    },
    {
      "cell_type": "code",
      "source": [
        "batch = next(test_generator)[0]"
      ],
      "metadata": {
        "id": "3bDky46oJOqP"
      },
      "execution_count": null,
      "outputs": []
    },
    {
      "cell_type": "code",
      "source": [
        "batch[0].shape"
      ],
      "metadata": {
        "id": "BEL0kM4ZJOt9"
      },
      "execution_count": null,
      "outputs": []
    },
    {
      "cell_type": "code",
      "source": [
        "# define a masker that is used to mask out partitions of the input image.\n",
        "masker_blur = shap.maskers.Image(\"blur(128,128)\", batch[0].shape)"
      ],
      "metadata": {
        "id": "M_UtPmh4JOxF"
      },
      "execution_count": null,
      "outputs": []
    },
    {
      "cell_type": "code",
      "source": [
        "class_names = ['Fetal abdomen','Fetal brain','Fetal femur','Fetal thorax','Maternal cervix','Other','Unknown']"
      ],
      "metadata": {
        "id": "M6a4FBlLJTyM"
      },
      "execution_count": null,
      "outputs": []
    },
    {
      "cell_type": "code",
      "source": [
        "# create an explainer with model and image masker\n",
        "explainer_blur = shap.Explainer(f, masker_blur, output_names=class_names)"
      ],
      "metadata": {
        "id": "cHJsa9jTJcbH"
      },
      "execution_count": null,
      "outputs": []
    },
    {
      "cell_type": "code",
      "source": [
        "# here we explain two images using 500 evaluations of the underlying model to estimate the SHAP values\n",
        "shap_values_fine = explainer_blur(batch[1:3], max_evals=5000, batch_size=50, outputs=shap.Explanation.argsort.flip[:4])"
      ],
      "metadata": {
        "id": "YloAp2RDJgiw"
      },
      "execution_count": null,
      "outputs": []
    },
    {
      "cell_type": "code",
      "source": [
        "# output with shap values\n",
        "shap.image_plot(shap_values_fine)"
      ],
      "metadata": {
        "id": "wz0rlZcVJnjX"
      },
      "execution_count": null,
      "outputs": []
    },
    {
      "cell_type": "markdown",
      "source": [
        "### Saliency Maps"
      ],
      "metadata": {
        "id": "NRQFhwU2kXwP"
      }
    },
    {
      "cell_type": "code",
      "source": [
        "def input_img(path):\n",
        "    image = tf.image.decode_png(tf.io.read_file(path))\n",
        "    image = tf.expand_dims(image, axis=0)\n",
        "    image = tf.cast(image, tf.float32)\n",
        "    image = tf.image.resize(image, [512,512])\n",
        "    return image\n",
        "def normalize_image(img):\n",
        "    grads_norm = img[:,:,0]+img[:,:,1]+img[:,:,2]\n",
        "    grads_norm = (grads_norm - tf.reduce_min(grads_norm))/ (tf.reduce_max(grads_norm)- tf.reduce_min(grads_norm))\n",
        "    return grads_norm\n",
        "\n",
        "def plot_maps(img1,img2,vmin=0.3,vmax=0.7,mix_val=2):\n",
        "    f = plt.figure(figsize=(15,45))\n",
        "    plt.subplot(1,3,1)\n",
        "    plt.imshow(img1,vmin=vmin, vmax=vmax, cmap='jet')\n",
        "    plt.axis(\"off\")\n",
        "    plt.subplot(1,3,2)\n",
        "    plt.imshow(img2, cmap = \"gray\")\n",
        "    plt.axis(\"off\")\n",
        "    plt.subplot(1,3,3)\n",
        "    plt.imshow(img1*mix_val+img2/mix_val, cmap='jet' )\n",
        "    plt.axis(\"off\")"
      ],
      "metadata": {
        "id": "3yZTzLamkcAV"
      },
      "execution_count": null,
      "outputs": []
    },
    {
      "cell_type": "code",
      "source": [
        "# Loading image folder path\n",
        "gen_dir = test_data_dir + '/Fetal abdomen/'\n",
        "\n",
        "# Obtaining random image name from image folder\n",
        "img_name = random.choice(os.listdir(gen_dir))\n",
        "\n",
        "# Joining image folder path and image name\n",
        "img_path = os.path.join(gen_dir, img_name)"
      ],
      "metadata": {
        "id": "sz6ok3F4koo4"
      },
      "execution_count": null,
      "outputs": []
    },
    {
      "cell_type": "code",
      "source": [
        "img = input_img(img_path)\n",
        "image = tf.keras.applications.vgg16.preprocess_input(img)"
      ],
      "metadata": {
        "id": "FJrtBDoZlAPK"
      },
      "execution_count": null,
      "outputs": []
    },
    {
      "cell_type": "code",
      "source": [
        "plt.imshow(normalize_image(image[0]), cmap = \"gray\")"
      ],
      "metadata": {
        "id": "Ga2MhS_plT5E"
      },
      "execution_count": null,
      "outputs": []
    },
    {
      "cell_type": "code",
      "source": [
        "result = model(image)\n",
        "max_idx = tf.argmax(result,axis = 1)\n",
        "print(max_idx)"
      ],
      "metadata": {
        "id": "BCXeuS8NljSe"
      },
      "execution_count": null,
      "outputs": []
    },
    {
      "cell_type": "code",
      "source": [
        "with tf.GradientTape() as tape:\n",
        "    tape.watch(image)\n",
        "    result = model(image)\n",
        "    max_score = result[0,max_idx[0]]\n",
        "grads = tape.gradient(max_score, image)"
      ],
      "metadata": {
        "id": "NTwVP6EQlqv9"
      },
      "execution_count": null,
      "outputs": []
    },
    {
      "cell_type": "code",
      "source": [
        "grads.shape"
      ],
      "metadata": {
        "id": "0Cv02qyqmFsR"
      },
      "execution_count": null,
      "outputs": []
    },
    {
      "cell_type": "code",
      "source": [
        "plot_maps(normalize_image(grads[0]), normalize_image(image[0]))"
      ],
      "metadata": {
        "id": "TprH1AxTmH7r"
      },
      "execution_count": null,
      "outputs": []
    }
  ],
  "metadata": {
    "accelerator": "GPU",
    "colab": {
      "provenance": [],
      "collapsed_sections": [
        "-GUxjHBlIBYV",
        "06I6BMciwW5u",
        "nOkoHc_0KoaP",
        "ktOm5PprLhiW",
        "15gK3NcML6DP",
        "SjNCHzgf64CW",
        "JRvU8HXI7Hda",
        "TTzApuCWHf0a",
        "hYbIQIRxJG8_",
        "tdajxLl0I7sN"
      ]
    },
    "gpuClass": "standard",
    "kernelspec": {
      "display_name": "Python 3",
      "name": "python3"
    },
    "language_info": {
      "name": "python"
    }
  },
  "nbformat": 4,
  "nbformat_minor": 0
}